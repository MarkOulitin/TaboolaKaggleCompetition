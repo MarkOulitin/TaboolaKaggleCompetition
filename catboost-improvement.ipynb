{
 "cells": [
  {
   "cell_type": "code",
   "execution_count": 1,
   "metadata": {},
   "outputs": [],
   "source": [
    "import os\n",
    "import json\n",
    "import pandas as pd\n",
    "import scipy as sp\n",
    "from sklearn.preprocessing import LabelEncoder \n",
    "from matplotlib import pyplot as plt\n",
    "from tqdm.auto import tqdm\n",
    "import numpy as np\n",
    "import datetime\n",
    "import pickle"
   ]
  },
  {
   "cell_type": "code",
   "execution_count": 2,
   "metadata": {},
   "outputs": [],
   "source": [
    "def temp():\n",
    "    paths = []\n",
    "    dirs = os.listdir('train_data')\n",
    "    for dir in dirs:\n",
    "        filenames = os.listdir(f'train_data/{dir}')\n",
    "        paths += [f'train_data/{dir}/{filename}' for filename in filenames]\n",
    "    paths = sorted(paths)\n",
    "    return paths\n",
    "data_filepaths = temp()"
   ]
  },
  {
   "cell_type": "markdown",
   "metadata": {},
   "source": [
    "# String data encoding"
   ]
  },
  {
   "cell_type": "code",
   "execution_count": null,
   "metadata": {},
   "outputs": [],
   "source": [
    "if not os.path.exists('./normalized_data'):\n",
    "    os.mkdir('./normalized_data')\n",
    "if not os.path.exists('./label_encoders'):\n",
    "    os.mkdir('./label_encoders')"
   ]
  },
  {
   "cell_type": "code",
   "execution_count": 46,
   "metadata": {},
   "outputs": [
    {
     "data": {
      "application/vnd.jupyter.widget-view+json": {
       "model_id": "86e746ec3cb246f6acae1b92d2058ab8",
       "version_major": 2,
       "version_minor": 0
      },
      "text/plain": [
       "Country code:   0%|          | 0/69 [00:00<?, ?it/s]"
      ]
     },
     "metadata": {},
     "output_type": "display_data"
    },
    {
     "data": {
      "application/vnd.jupyter.widget-view+json": {
       "model_id": "85aa64ef484040dd8bd3a19fb760bf6c",
       "version_major": 2,
       "version_minor": 0
      },
      "text/plain": [
       "Region:   0%|          | 0/69 [00:00<?, ?it/s]"
      ]
     },
     "metadata": {},
     "output_type": "display_data"
    }
   ],
   "source": [
    "def encode_categoric_string_feature(feature_name):\n",
    "    unique_ids = []\n",
    "    for filepath in tqdm(data_filepaths, desc=feature_name.replace('_', ' ').capitalize()):\n",
    "        df = pd.read_csv(filepath, usecols=[feature_name])\n",
    "        df_unique_ids = df[feature_name].unique()\n",
    "        del df\n",
    "        unique_ids = np.unique(np.concatenate([unique_ids, df_unique_ids]))\n",
    "        del df_unique_ids\n",
    "    unique_ids_df = pd.DataFrame({\n",
    "        feature_name: unique_ids\n",
    "    })\n",
    "    unique_ids_df.to_csv(f'./normalized_data/{feature_name}.csv', index=False)\n",
    "    label_encoder = LabelEncoder()\n",
    "    label_encoder.fit(unique_ids)\n",
    "    with open(f'./label_encoders/{feature_name}.pickle', 'wb') as handle:\n",
    "        pickle.dump(label_encoder, handle, protocol=pickle.HIGHEST_PROTOCOL)\n",
    "\n",
    "def encode_categoric_string_feature_pandas(feature_name):\n",
    "    unique_ids = None\n",
    "    for filepath in tqdm(data_filepaths, desc=feature_name.replace('_', ' ').capitalize()):\n",
    "        df = pd.read_csv(filepath, usecols=[feature_name])\n",
    "        df_unique_ids = pd.Series(df[feature_name].unique())\n",
    "        del df\n",
    "        if unique_ids is None:\n",
    "            unique_ids = df_unique_ids\n",
    "        else:\n",
    "            unique_ids = pd.Series(pd.concat([unique_ids, df_unique_ids]).unique())\n",
    "        del df_unique_ids\n",
    "    unique_ids_df = pd.DataFrame({\n",
    "        feature_name: unique_ids\n",
    "    })\n",
    "    unique_ids_df.to_csv(f'./normalized_data/{feature_name}.csv', index=False)\n",
    "    label_encoder = LabelEncoder()\n",
    "    label_encoder.fit(unique_ids)\n",
    "    with open(f'./label_encoders/{feature_name}.pickle', 'wb') as handle:\n",
    "        pickle.dump(label_encoder, handle, protocol=pickle.HIGHEST_PROTOCOL)\n",
    "\n",
    "features_string_categories = [\n",
    "    'user_id_hash',\n",
    "    'target_id_hash',\n",
    "    'syndicator_id_hash',\n",
    "    'campaign_id_hash',\n",
    "    'target_item_taxonomy',\n",
    "    'placement_id_hash',\n",
    "    'publisher_id_hash',\n",
    "    'source_id_hash',\n",
    "    'source_item_type',\n",
    "    'browser_platform',\n",
    "]\n",
    "for feature in features_string_categories:\n",
    "    encode_categoric_string_feature(feature)\n",
    "\n",
    "encode_categoric_string_feature_pandas('country_code')\n",
    "encode_categoric_string_feature_pandas('region')"
   ]
  },
  {
   "cell_type": "code",
   "execution_count": 63,
   "metadata": {},
   "outputs": [
    {
     "data": {
      "application/vnd.jupyter.widget-view+json": {
       "model_id": "971207a22a2d47629ecb73b53902cbfe",
       "version_major": 2,
       "version_minor": 0
      },
      "text/plain": [
       "train_data/train1/part-00010.csv:   0%|          | 0/12 [00:00<?, ?it/s]"
      ]
     },
     "metadata": {},
     "output_type": "display_data"
    },
    {
     "data": {
      "application/vnd.jupyter.widget-view+json": {
       "model_id": "4f79af4879194e1fab0132b41f843769",
       "version_major": 2,
       "version_minor": 0
      },
      "text/plain": [
       "train_data/train2/part-00011.csv:   0%|          | 0/12 [00:00<?, ?it/s]"
      ]
     },
     "metadata": {},
     "output_type": "display_data"
    },
    {
     "data": {
      "application/vnd.jupyter.widget-view+json": {
       "model_id": "627f4d57f0254cfa8706b7cb75e0068d",
       "version_major": 2,
       "version_minor": 0
      },
      "text/plain": [
       "train_data/train2/part-00012.csv:   0%|          | 0/12 [00:00<?, ?it/s]"
      ]
     },
     "metadata": {},
     "output_type": "display_data"
    },
    {
     "data": {
      "application/vnd.jupyter.widget-view+json": {
       "model_id": "966b4c6e691b4b2e86bad8dd97298ada",
       "version_major": 2,
       "version_minor": 0
      },
      "text/plain": [
       "train_data/train2/part-00013.csv:   0%|          | 0/12 [00:00<?, ?it/s]"
      ]
     },
     "metadata": {},
     "output_type": "display_data"
    },
    {
     "data": {
      "application/vnd.jupyter.widget-view+json": {
       "model_id": "a3c59935de57473db94a1f919af3eb26",
       "version_major": 2,
       "version_minor": 0
      },
      "text/plain": [
       "train_data/train2/part-00014.csv:   0%|          | 0/12 [00:00<?, ?it/s]"
      ]
     },
     "metadata": {},
     "output_type": "display_data"
    },
    {
     "data": {
      "application/vnd.jupyter.widget-view+json": {
       "model_id": "2376e381e04944568f6874bfc0b6437c",
       "version_major": 2,
       "version_minor": 0
      },
      "text/plain": [
       "train_data/train2/part-00015.csv:   0%|          | 0/12 [00:00<?, ?it/s]"
      ]
     },
     "metadata": {},
     "output_type": "display_data"
    },
    {
     "data": {
      "application/vnd.jupyter.widget-view+json": {
       "model_id": "82b3a22e8d664c258e707734f013c221",
       "version_major": 2,
       "version_minor": 0
      },
      "text/plain": [
       "train_data/train2/part-00016.csv:   0%|          | 0/12 [00:00<?, ?it/s]"
      ]
     },
     "metadata": {},
     "output_type": "display_data"
    },
    {
     "data": {
      "application/vnd.jupyter.widget-view+json": {
       "model_id": "b831e658fd3e4fd8b6f5251d26f8b4e2",
       "version_major": 2,
       "version_minor": 0
      },
      "text/plain": [
       "train_data/train2/part-00017.csv:   0%|          | 0/12 [00:00<?, ?it/s]"
      ]
     },
     "metadata": {},
     "output_type": "display_data"
    },
    {
     "data": {
      "application/vnd.jupyter.widget-view+json": {
       "model_id": "77e839ef24cf464cab96344f909c0287",
       "version_major": 2,
       "version_minor": 0
      },
      "text/plain": [
       "train_data/train2/part-00018.csv:   0%|          | 0/12 [00:00<?, ?it/s]"
      ]
     },
     "metadata": {},
     "output_type": "display_data"
    },
    {
     "data": {
      "application/vnd.jupyter.widget-view+json": {
       "model_id": "ba8ce996b18348e890195c06266a8fc1",
       "version_major": 2,
       "version_minor": 0
      },
      "text/plain": [
       "train_data/train2/part-00019.csv:   0%|          | 0/12 [00:00<?, ?it/s]"
      ]
     },
     "metadata": {},
     "output_type": "display_data"
    },
    {
     "data": {
      "application/vnd.jupyter.widget-view+json": {
       "model_id": "915163e3084f46238c6402397e9cb683",
       "version_major": 2,
       "version_minor": 0
      },
      "text/plain": [
       "train_data/train2/part-00020.csv:   0%|          | 0/12 [00:00<?, ?it/s]"
      ]
     },
     "metadata": {},
     "output_type": "display_data"
    },
    {
     "data": {
      "application/vnd.jupyter.widget-view+json": {
       "model_id": "37662028e7b544e18706549d8043b48f",
       "version_major": 2,
       "version_minor": 0
      },
      "text/plain": [
       "train_data/train3/part-00021.csv:   0%|          | 0/12 [00:00<?, ?it/s]"
      ]
     },
     "metadata": {},
     "output_type": "display_data"
    },
    {
     "data": {
      "application/vnd.jupyter.widget-view+json": {
       "model_id": "5aa4ff67cbfb4a3798eb5c6d764ee447",
       "version_major": 2,
       "version_minor": 0
      },
      "text/plain": [
       "train_data/train3/part-00022.csv:   0%|          | 0/12 [00:00<?, ?it/s]"
      ]
     },
     "metadata": {},
     "output_type": "display_data"
    },
    {
     "data": {
      "application/vnd.jupyter.widget-view+json": {
       "model_id": "97789dac93d941cfa7345f5f2b71ca11",
       "version_major": 2,
       "version_minor": 0
      },
      "text/plain": [
       "train_data/train3/part-00023.csv:   0%|          | 0/12 [00:00<?, ?it/s]"
      ]
     },
     "metadata": {},
     "output_type": "display_data"
    },
    {
     "data": {
      "application/vnd.jupyter.widget-view+json": {
       "model_id": "aca8cfb7b8dc4b24a32bc69c7ca1a9d0",
       "version_major": 2,
       "version_minor": 0
      },
      "text/plain": [
       "train_data/train3/part-00024.csv:   0%|          | 0/12 [00:00<?, ?it/s]"
      ]
     },
     "metadata": {},
     "output_type": "display_data"
    },
    {
     "data": {
      "application/vnd.jupyter.widget-view+json": {
       "model_id": "902806bd11b34c42a6cb0d30f59c968c",
       "version_major": 2,
       "version_minor": 0
      },
      "text/plain": [
       "train_data/train3/part-00025.csv:   0%|          | 0/12 [00:00<?, ?it/s]"
      ]
     },
     "metadata": {},
     "output_type": "display_data"
    },
    {
     "data": {
      "application/vnd.jupyter.widget-view+json": {
       "model_id": "ae5e82a2909d4ff98772c6693c8a3f10",
       "version_major": 2,
       "version_minor": 0
      },
      "text/plain": [
       "train_data/train3/part-00026.csv:   0%|          | 0/12 [00:00<?, ?it/s]"
      ]
     },
     "metadata": {},
     "output_type": "display_data"
    },
    {
     "data": {
      "application/vnd.jupyter.widget-view+json": {
       "model_id": "e3198e55566449e98a75b29f589f611c",
       "version_major": 2,
       "version_minor": 0
      },
      "text/plain": [
       "train_data/train3/part-00027.csv:   0%|          | 0/12 [00:00<?, ?it/s]"
      ]
     },
     "metadata": {},
     "output_type": "display_data"
    },
    {
     "data": {
      "application/vnd.jupyter.widget-view+json": {
       "model_id": "08ce4787e59449caa75bb7f5da32e4a6",
       "version_major": 2,
       "version_minor": 0
      },
      "text/plain": [
       "train_data/train3/part-00028.csv:   0%|          | 0/12 [00:00<?, ?it/s]"
      ]
     },
     "metadata": {},
     "output_type": "display_data"
    },
    {
     "data": {
      "application/vnd.jupyter.widget-view+json": {
       "model_id": "d33e1941200842a2b710a3fb07e2ea86",
       "version_major": 2,
       "version_minor": 0
      },
      "text/plain": [
       "train_data/train3/part-00029.csv:   0%|          | 0/12 [00:00<?, ?it/s]"
      ]
     },
     "metadata": {},
     "output_type": "display_data"
    },
    {
     "data": {
      "application/vnd.jupyter.widget-view+json": {
       "model_id": "e48268b6ef4141b598f178a36b919da0",
       "version_major": 2,
       "version_minor": 0
      },
      "text/plain": [
       "train_data/train3/part-00030.csv:   0%|          | 0/12 [00:00<?, ?it/s]"
      ]
     },
     "metadata": {},
     "output_type": "display_data"
    },
    {
     "data": {
      "application/vnd.jupyter.widget-view+json": {
       "model_id": "8043f54ab48544318c0d661a9b26b344",
       "version_major": 2,
       "version_minor": 0
      },
      "text/plain": [
       "train_data/train4/part-00031.csv:   0%|          | 0/12 [00:00<?, ?it/s]"
      ]
     },
     "metadata": {},
     "output_type": "display_data"
    },
    {
     "data": {
      "application/vnd.jupyter.widget-view+json": {
       "model_id": "ff6ecae220e4439596c16299da2bea59",
       "version_major": 2,
       "version_minor": 0
      },
      "text/plain": [
       "train_data/train4/part-00032.csv:   0%|          | 0/12 [00:00<?, ?it/s]"
      ]
     },
     "metadata": {},
     "output_type": "display_data"
    },
    {
     "data": {
      "application/vnd.jupyter.widget-view+json": {
       "model_id": "db8adb95879e4ac099f8ecac80b2bb3b",
       "version_major": 2,
       "version_minor": 0
      },
      "text/plain": [
       "train_data/train4/part-00033.csv:   0%|          | 0/12 [00:00<?, ?it/s]"
      ]
     },
     "metadata": {},
     "output_type": "display_data"
    },
    {
     "data": {
      "application/vnd.jupyter.widget-view+json": {
       "model_id": "3b5c1d7d1f5a408ead9bf0c1cce752c1",
       "version_major": 2,
       "version_minor": 0
      },
      "text/plain": [
       "train_data/train4/part-00034.csv:   0%|          | 0/12 [00:00<?, ?it/s]"
      ]
     },
     "metadata": {},
     "output_type": "display_data"
    },
    {
     "data": {
      "application/vnd.jupyter.widget-view+json": {
       "model_id": "37a4ba7e522b4e3887d726835569bc61",
       "version_major": 2,
       "version_minor": 0
      },
      "text/plain": [
       "train_data/train4/part-00035.csv:   0%|          | 0/12 [00:00<?, ?it/s]"
      ]
     },
     "metadata": {},
     "output_type": "display_data"
    },
    {
     "data": {
      "application/vnd.jupyter.widget-view+json": {
       "model_id": "f3526f0e451f4e2e8ca32c523eb719c9",
       "version_major": 2,
       "version_minor": 0
      },
      "text/plain": [
       "train_data/train4/part-00036.csv:   0%|          | 0/12 [00:00<?, ?it/s]"
      ]
     },
     "metadata": {},
     "output_type": "display_data"
    },
    {
     "data": {
      "application/vnd.jupyter.widget-view+json": {
       "model_id": "4b86c752ae9f478d92de3fb700a92117",
       "version_major": 2,
       "version_minor": 0
      },
      "text/plain": [
       "train_data/train4/part-00037.csv:   0%|          | 0/12 [00:00<?, ?it/s]"
      ]
     },
     "metadata": {},
     "output_type": "display_data"
    },
    {
     "data": {
      "application/vnd.jupyter.widget-view+json": {
       "model_id": "7ea197c36f884bf7bf9b774adae87577",
       "version_major": 2,
       "version_minor": 0
      },
      "text/plain": [
       "train_data/train4/part-00038.csv:   0%|          | 0/12 [00:00<?, ?it/s]"
      ]
     },
     "metadata": {},
     "output_type": "display_data"
    },
    {
     "data": {
      "application/vnd.jupyter.widget-view+json": {
       "model_id": "35a0315c56f84e0792e7611b156b992d",
       "version_major": 2,
       "version_minor": 0
      },
      "text/plain": [
       "train_data/train4/part-00039.csv:   0%|          | 0/12 [00:00<?, ?it/s]"
      ]
     },
     "metadata": {},
     "output_type": "display_data"
    },
    {
     "data": {
      "application/vnd.jupyter.widget-view+json": {
       "model_id": "9308dd4ceac54243aab84e42274603cd",
       "version_major": 2,
       "version_minor": 0
      },
      "text/plain": [
       "train_data/train4/part-00040.csv:   0%|          | 0/12 [00:00<?, ?it/s]"
      ]
     },
     "metadata": {},
     "output_type": "display_data"
    },
    {
     "data": {
      "application/vnd.jupyter.widget-view+json": {
       "model_id": "a83d24c3c72c424c8a0d1f7769139a06",
       "version_major": 2,
       "version_minor": 0
      },
      "text/plain": [
       "train_data/train5/part-00041.csv:   0%|          | 0/12 [00:00<?, ?it/s]"
      ]
     },
     "metadata": {},
     "output_type": "display_data"
    },
    {
     "data": {
      "application/vnd.jupyter.widget-view+json": {
       "model_id": "6792328355ba48fe99ab9a630867ccb6",
       "version_major": 2,
       "version_minor": 0
      },
      "text/plain": [
       "train_data/train5/part-00042.csv:   0%|          | 0/12 [00:00<?, ?it/s]"
      ]
     },
     "metadata": {},
     "output_type": "display_data"
    },
    {
     "data": {
      "application/vnd.jupyter.widget-view+json": {
       "model_id": "0585117e24c9476b88f61dbd6e11c297",
       "version_major": 2,
       "version_minor": 0
      },
      "text/plain": [
       "train_data/train5/part-00043.csv:   0%|          | 0/12 [00:00<?, ?it/s]"
      ]
     },
     "metadata": {},
     "output_type": "display_data"
    },
    {
     "data": {
      "application/vnd.jupyter.widget-view+json": {
       "model_id": "07aa8d81f5374b6894d48847509ea51b",
       "version_major": 2,
       "version_minor": 0
      },
      "text/plain": [
       "train_data/train5/part-00044.csv:   0%|          | 0/12 [00:00<?, ?it/s]"
      ]
     },
     "metadata": {},
     "output_type": "display_data"
    },
    {
     "data": {
      "application/vnd.jupyter.widget-view+json": {
       "model_id": "c7a3429f92ca454fbd346a16ba115c01",
       "version_major": 2,
       "version_minor": 0
      },
      "text/plain": [
       "train_data/train5/part-00045.csv:   0%|          | 0/12 [00:00<?, ?it/s]"
      ]
     },
     "metadata": {},
     "output_type": "display_data"
    },
    {
     "data": {
      "application/vnd.jupyter.widget-view+json": {
       "model_id": "d3b12345f08c4cf292bf3e57b698ccdb",
       "version_major": 2,
       "version_minor": 0
      },
      "text/plain": [
       "train_data/train5/part-00046.csv:   0%|          | 0/12 [00:00<?, ?it/s]"
      ]
     },
     "metadata": {},
     "output_type": "display_data"
    },
    {
     "data": {
      "application/vnd.jupyter.widget-view+json": {
       "model_id": "9de53cea93bb4e0e81904129a45acaa6",
       "version_major": 2,
       "version_minor": 0
      },
      "text/plain": [
       "train_data/train5/part-00047.csv:   0%|          | 0/12 [00:00<?, ?it/s]"
      ]
     },
     "metadata": {},
     "output_type": "display_data"
    },
    {
     "data": {
      "application/vnd.jupyter.widget-view+json": {
       "model_id": "0471b137191a45fb827e1f0b3bfb206f",
       "version_major": 2,
       "version_minor": 0
      },
      "text/plain": [
       "train_data/train5/part-00048.csv:   0%|          | 0/12 [00:00<?, ?it/s]"
      ]
     },
     "metadata": {},
     "output_type": "display_data"
    },
    {
     "data": {
      "application/vnd.jupyter.widget-view+json": {
       "model_id": "26e8b74a2c014d0f9d462e6dc3380a94",
       "version_major": 2,
       "version_minor": 0
      },
      "text/plain": [
       "train_data/train5/part-00049.csv:   0%|          | 0/12 [00:00<?, ?it/s]"
      ]
     },
     "metadata": {},
     "output_type": "display_data"
    },
    {
     "data": {
      "application/vnd.jupyter.widget-view+json": {
       "model_id": "8e4da6ff44e74d4f91d92768f3e06cfb",
       "version_major": 2,
       "version_minor": 0
      },
      "text/plain": [
       "train_data/train5/part-00050.csv:   0%|          | 0/12 [00:00<?, ?it/s]"
      ]
     },
     "metadata": {},
     "output_type": "display_data"
    },
    {
     "data": {
      "application/vnd.jupyter.widget-view+json": {
       "model_id": "a19e52b987af49bd97cae05e4f9a55fd",
       "version_major": 2,
       "version_minor": 0
      },
      "text/plain": [
       "train_data/train6/part-00051.csv:   0%|          | 0/12 [00:00<?, ?it/s]"
      ]
     },
     "metadata": {},
     "output_type": "display_data"
    },
    {
     "data": {
      "application/vnd.jupyter.widget-view+json": {
       "model_id": "fa6b2a95ffc2481ea5ee41f5cf319063",
       "version_major": 2,
       "version_minor": 0
      },
      "text/plain": [
       "train_data/train6/part-00052.csv:   0%|          | 0/12 [00:00<?, ?it/s]"
      ]
     },
     "metadata": {},
     "output_type": "display_data"
    },
    {
     "data": {
      "application/vnd.jupyter.widget-view+json": {
       "model_id": "1f33fe68a02a4c0f90aa6d3e5d1a159a",
       "version_major": 2,
       "version_minor": 0
      },
      "text/plain": [
       "train_data/train6/part-00053.csv:   0%|          | 0/12 [00:00<?, ?it/s]"
      ]
     },
     "metadata": {},
     "output_type": "display_data"
    },
    {
     "data": {
      "application/vnd.jupyter.widget-view+json": {
       "model_id": "6eb84771594948a0a84442408ba294f7",
       "version_major": 2,
       "version_minor": 0
      },
      "text/plain": [
       "train_data/train6/part-00054.csv:   0%|          | 0/12 [00:00<?, ?it/s]"
      ]
     },
     "metadata": {},
     "output_type": "display_data"
    },
    {
     "data": {
      "application/vnd.jupyter.widget-view+json": {
       "model_id": "b09852c5e95c4a4e8d6003d8c070af24",
       "version_major": 2,
       "version_minor": 0
      },
      "text/plain": [
       "train_data/train6/part-00055.csv:   0%|          | 0/12 [00:00<?, ?it/s]"
      ]
     },
     "metadata": {},
     "output_type": "display_data"
    },
    {
     "data": {
      "application/vnd.jupyter.widget-view+json": {
       "model_id": "5da955454b7345a0952001782fee4026",
       "version_major": 2,
       "version_minor": 0
      },
      "text/plain": [
       "train_data/train6/part-00056.csv:   0%|          | 0/12 [00:00<?, ?it/s]"
      ]
     },
     "metadata": {},
     "output_type": "display_data"
    },
    {
     "data": {
      "application/vnd.jupyter.widget-view+json": {
       "model_id": "b2008ff9867a4421ba20b7b808688260",
       "version_major": 2,
       "version_minor": 0
      },
      "text/plain": [
       "train_data/train6/part-00057.csv:   0%|          | 0/12 [00:00<?, ?it/s]"
      ]
     },
     "metadata": {},
     "output_type": "display_data"
    },
    {
     "data": {
      "application/vnd.jupyter.widget-view+json": {
       "model_id": "d7e1f430dcbc4a29bc47bf167121804f",
       "version_major": 2,
       "version_minor": 0
      },
      "text/plain": [
       "train_data/train6/part-00058.csv:   0%|          | 0/12 [00:00<?, ?it/s]"
      ]
     },
     "metadata": {},
     "output_type": "display_data"
    },
    {
     "data": {
      "application/vnd.jupyter.widget-view+json": {
       "model_id": "c2f2da8f7a2846909e869d6cd72b2883",
       "version_major": 2,
       "version_minor": 0
      },
      "text/plain": [
       "train_data/train6/part-00059.csv:   0%|          | 0/12 [00:00<?, ?it/s]"
      ]
     },
     "metadata": {},
     "output_type": "display_data"
    },
    {
     "data": {
      "application/vnd.jupyter.widget-view+json": {
       "model_id": "985e338a2d98423b971d7a0b45399cbb",
       "version_major": 2,
       "version_minor": 0
      },
      "text/plain": [
       "train_data/train6/part-00060.csv:   0%|          | 0/12 [00:00<?, ?it/s]"
      ]
     },
     "metadata": {},
     "output_type": "display_data"
    },
    {
     "data": {
      "application/vnd.jupyter.widget-view+json": {
       "model_id": "9bb5c46319a94af7bcb32f68ba04c9e8",
       "version_major": 2,
       "version_minor": 0
      },
      "text/plain": [
       "train_data/train7/part-00061.csv:   0%|          | 0/12 [00:00<?, ?it/s]"
      ]
     },
     "metadata": {},
     "output_type": "display_data"
    },
    {
     "data": {
      "application/vnd.jupyter.widget-view+json": {
       "model_id": "c72e56a02f344bc08dc84b513a468be4",
       "version_major": 2,
       "version_minor": 0
      },
      "text/plain": [
       "train_data/train7/part-00062.csv:   0%|          | 0/12 [00:00<?, ?it/s]"
      ]
     },
     "metadata": {},
     "output_type": "display_data"
    },
    {
     "data": {
      "application/vnd.jupyter.widget-view+json": {
       "model_id": "d21594a7eb76423c99d8adc6c45ce2b1",
       "version_major": 2,
       "version_minor": 0
      },
      "text/plain": [
       "train_data/train7/part-00063.csv:   0%|          | 0/12 [00:00<?, ?it/s]"
      ]
     },
     "metadata": {},
     "output_type": "display_data"
    },
    {
     "data": {
      "application/vnd.jupyter.widget-view+json": {
       "model_id": "aaf3adf005724491a6ee2b2dcfb535a9",
       "version_major": 2,
       "version_minor": 0
      },
      "text/plain": [
       "train_data/train7/part-00064.csv:   0%|          | 0/12 [00:00<?, ?it/s]"
      ]
     },
     "metadata": {},
     "output_type": "display_data"
    },
    {
     "data": {
      "application/vnd.jupyter.widget-view+json": {
       "model_id": "3a2da48b279e4c99a59a4f5f921aa2a1",
       "version_major": 2,
       "version_minor": 0
      },
      "text/plain": [
       "train_data/train7/part-00065.csv:   0%|          | 0/12 [00:00<?, ?it/s]"
      ]
     },
     "metadata": {},
     "output_type": "display_data"
    },
    {
     "data": {
      "application/vnd.jupyter.widget-view+json": {
       "model_id": "07d16fb0f6fa4487815757f21e3e7aae",
       "version_major": 2,
       "version_minor": 0
      },
      "text/plain": [
       "train_data/train7/part-00066.csv:   0%|          | 0/12 [00:00<?, ?it/s]"
      ]
     },
     "metadata": {},
     "output_type": "display_data"
    },
    {
     "data": {
      "application/vnd.jupyter.widget-view+json": {
       "model_id": "47a06b9cfd4c4b89acff9aaad7729c72",
       "version_major": 2,
       "version_minor": 0
      },
      "text/plain": [
       "train_data/train7/part-00067.csv:   0%|          | 0/12 [00:00<?, ?it/s]"
      ]
     },
     "metadata": {},
     "output_type": "display_data"
    },
    {
     "data": {
      "application/vnd.jupyter.widget-view+json": {
       "model_id": "511bdb92ea474bdb85cf793732440d38",
       "version_major": 2,
       "version_minor": 0
      },
      "text/plain": [
       "train_data/train7/part-00068.csv:   0%|          | 0/12 [00:00<?, ?it/s]"
      ]
     },
     "metadata": {},
     "output_type": "display_data"
    }
   ],
   "source": [
    "def normalize_file(encoders, filepath):\n",
    "    main_dir = os.path.join('.', 'normalized_train_data')\n",
    "    if not os.path.exists(main_dir):\n",
    "        os.mkdir(main_dir)\n",
    "    \n",
    "    df = pd.read_csv(filepath)\n",
    "\n",
    "    for column, encoder in tqdm(encoders, desc=filepath):\n",
    "        df[column] = encoder.transform(df[column].to_list())\n",
    "    \n",
    "    directory_path, filename = os.path.split(filepath)\n",
    "    _, parent_dir = os.path.split(directory_path)\n",
    "    parent_dir = os.path.join('.', 'normalized_train_data', parent_dir)\n",
    "    if not os.path.exists(parent_dir):\n",
    "        os.mkdir(parent_dir)\n",
    "    df.to_csv(os.path.join(parent_dir, filename))\n",
    "\n",
    "def load_encoders(features):\n",
    "    column_encoders = []\n",
    "    for feature in features:\n",
    "        with open(f'./label_encoders/{feature}.pickle', 'rb') as handle:\n",
    "            encoder = pickle.load(handle)\n",
    "        column_encoders.append((feature, encoder))\n",
    "    return column_encoders\n",
    "\n",
    "features_string_categories = [\n",
    "    'user_id_hash',\n",
    "    'target_id_hash',\n",
    "    'syndicator_id_hash',\n",
    "    'campaign_id_hash',\n",
    "    'target_item_taxonomy',\n",
    "    'placement_id_hash',\n",
    "    'publisher_id_hash',\n",
    "    'source_id_hash',\n",
    "    'source_item_type',\n",
    "    'browser_platform',\n",
    "    'country_code',\n",
    "    'region',\n",
    "]\n",
    "column_encoders = load_encoders(features_string_categories)\n",
    "for filepaths in data_filepaths[10:]:\n",
    "    normalize_file(column_encoders, filepaths)"
   ]
  },
  {
   "cell_type": "code",
   "execution_count": 21,
   "metadata": {},
   "outputs": [],
   "source": [
    "df_submission = pd.read_csv('./submission_example.csv')\n",
    "df_test = pd.read_csv('./test_file.csv')"
   ]
  },
  {
   "cell_type": "markdown",
   "metadata": {},
   "source": [
    "# Test set deviations from training data"
   ]
  },
  {
   "cell_type": "code",
   "execution_count": 24,
   "metadata": {},
   "outputs": [
    {
     "name": "stdout",
     "output_type": "stream",
     "text": [
      "new target_id_hash 1941 / 15303\n",
      "new syndicator_id_hash 37 / 1604\n",
      "new campaign_id_hash 659 / 7517\n",
      "new target_item_taxonomy 0 / 61\n",
      "new placement_id_hash 1 / 1028\n",
      "new publisher_id_hash 0 / 3\n",
      "new source_id_hash 7963 / 16956\n",
      "new source_item_type 0 / 5\n",
      "new browser_platform 0 / 4\n",
      "new country_code 0 / 213\n",
      "new region 2 / 942\n"
     ]
    }
   ],
   "source": [
    "\n",
    "def report_cold():\n",
    "    category_features = [\n",
    "        'target_id_hash',\n",
    "        'syndicator_id_hash',\n",
    "        'campaign_id_hash',\n",
    "        'target_item_taxonomy',\n",
    "        'placement_id_hash',\n",
    "        'publisher_id_hash',\n",
    "        'source_id_hash',\n",
    "        'source_item_type',\n",
    "        'browser_platform',\n",
    "        'country_code',\n",
    "        'region',\n",
    "    ]\n",
    "    for feature in category_features:\n",
    "        train_data_unique_vals = pd.read_csv(f'./normalized_data/{feature}.csv')[feature]\n",
    "        f = pd.Series(df_test[feature].unique())\n",
    "        cold_count = (~f.isin(train_data_unique_vals)).sum()\n",
    "        print(f'new {feature}', f'{cold_count} / {len(f.index)}')\n",
    "report_cold()"
   ]
  },
  {
   "cell_type": "markdown",
   "metadata": {},
   "source": [
    "# EDA"
   ]
  },
  {
   "cell_type": "code",
   "execution_count": 2,
   "metadata": {},
   "outputs": [
    {
     "data": {
      "application/vnd.jupyter.widget-view+json": {
       "model_id": "242a3dc15edc4362ab05ae35d26733ed",
       "version_major": 2,
       "version_minor": 0
      },
      "text/plain": [
       "Loading data:   0%|          | 0/69 [00:00<?, ?it/s]"
      ]
     },
     "metadata": {},
     "output_type": "display_data"
    }
   ],
   "source": [
    "from pprint import pprint\n",
    "def read_all_data():\n",
    "    paths = []\n",
    "    dirs = os.listdir('normalized_train_data')\n",
    "    for dir in dirs:\n",
    "        filenames = os.listdir(f'normalized_train_data/{dir}')\n",
    "        paths += [f'normalized_train_data/{dir}/{filename}' for filename in filenames]\n",
    "    paths = sorted(paths)\n",
    "    dfs = []\n",
    "    for filepath in tqdm(paths, desc='Loading data'):\n",
    "        df = pd.read_csv(filepath)\n",
    "        df.drop(columns=['Unnamed: 0'], inplace=True)\n",
    "        dfs.append(df)\n",
    "    dfs = pd.concat(dfs)\n",
    "    return dfs\n",
    "data = read_all_data()"
   ]
  },
  {
   "cell_type": "code",
   "execution_count": 9,
   "metadata": {},
   "outputs": [],
   "source": [
    "mem = data.memory_usage(index=False, deep=True)"
   ]
  },
  {
   "cell_type": "code",
   "execution_count": 11,
   "metadata": {},
   "outputs": [
    {
     "data": {
      "text/plain": [
       "5566893872"
      ]
     },
     "execution_count": 11,
     "metadata": {},
     "output_type": "execute_result"
    }
   ],
   "source": [
    "mem.sum()"
   ]
  },
  {
   "cell_type": "code",
   "execution_count": 15,
   "metadata": {},
   "outputs": [
    {
     "data": {
      "text/plain": [
       "7"
      ]
     },
     "execution_count": 15,
     "metadata": {},
     "output_type": "execute_result"
    }
   ],
   "source": [
    "len([n for n in os.listdir('./normalized_data') if 'hash' in n])"
   ]
  },
  {
   "cell_type": "code",
   "execution_count": 7,
   "metadata": {},
   "outputs": [
    {
     "name": "stdout",
     "output_type": "stream",
     "text": [
      "   page_view_start_time                                                                                                                      user_id_hash                                                                                                                    target_id_hash                                                                                                                syndicator_id_hash                                                                                                                  campaign_id_hash  empiric_calibrated_recs  empiric_clicks target_item_taxonomy                                                                                                                 placement_id_hash  user_recs  user_clicks  user_target_recs                                                                                                                 publisher_id_hash                                                                                                                    source_id_hash source_item_type browser_platform  os_family country_code region  day_of_week  time_of_day  gmt_offset  is_click\n",
      "0         1586392478339  939e2ccfb21e0ec9b0787c394dea1ae935369da0bcc5978b705f2969b02f42e1dd017c17ff4affd6c8f26e5e4e87c4c943bbbb72dc58b6c69f82cfde529bf3f9  7349cb051df9c68532a2e4816aa1dc074141a7ce4a1236fb781179ca55cf6b2ed0165bb77d7434fd62cce725d4ce813c5b07b4d5fe84cdce5f54d2585f3f601a  ebc206ae45aa38e5ffafafb3a91dc289d4a0838937c728c7af108b50a6ee1379aa548e565034627b244c23c3b7b2383a5903381d60e5cf8d2656759c0ff0b258  df4a08d5f84793cb72cb0bfdb50e82a7f6ce6cae5701d711a1e6aad63bf3000396b54702fae08b3fa2072a219a81cb4feafb4dcc97205c2f93b61910310a3508              13107.24400         24312.0              UNKNOWN  2a1989e08355c7e9539e9b9a01c9a7f7869d75bf071b9bba858636220476b6c9db7c95acc4b4bb722563ce6b9b52dfafea87e576f295e0434c6ec7746750c2a7       73.0          1.0               0.0  848b127dbd0f3a647581f4a95325f5204f4577ad7956f6ccaee6bf1eec0c399e6b02015827a95741ae041adc2438fbd494076ece7796a5f6cf4eab29e1079cf3  ec15d7e4d8e2717a592d339ce79beef7249bfc598278b8d78c440d3aa07c9fdaf5e76056bc0fb8097af5d0526d41c425e2549626fd82ec6a71dfa4ce6a101036             text             PHON          2           US     FL            3           20        -400       1.0\n",
      "1         1587264330576  decc9bcd3a7f2807721a35368b362782ec5bf4b4fb7ecfdbae09914ceb12afc7484e1652fb50c2eec6c991dabefbc5e8476ae34064b2312eae91473e5c7668cb  415462704d29d1d343c78d2bb466402adc222f0969d5a997f6c7153358618986a92861bcc6038fec0bda0b2d53d2b4af2dc75827b73da18a6b1bec518acd1456  85d3c3f9981f84f4d10d01a9115962b99e00ef325ef20d6dcab3065a78e07d4a809bfe7f555cf5828e16c9095c7a4700067a4eb2223d83d21af1257b8cd9f165  076a73951276d40a877a8fc065cfbdd1cc4af5685d63c7b9cb85df9b148fec5e83a8cf647d2cd974ff93ff304960be4e1eb94bebd4c1977c9083d1551046b479             129166.30000        103160.0             BUSINESS  94a75567cd09d67c3f74d15ee8d82dea79030a5f30a0f41f8326bdd554f502b96ae4494959bd71813ca1c7f79a601fb552d136017c023fdfcf4348bf47951a77       43.0          0.0               2.0  f8a7ba9b7c9b05464ee98daac522b3f3d2376453c70e57de45b65e65a06b3b45fedd82ec18291bb4e432f3a172893424a81bab47dad1b4355b68552cda00583a  389b69708cf58731e78e2e023a8c608d886fe5aebc0e23ae62ed16356a6f17a5abb5fc84890df1d92e3e0dad306d5ecccace2408329538355af402a49a7762d6         category             DESK          6           US     TX            6           21        -500       0.0\n",
      "2         1586971453279  30b6851a72026b837c7b33190ec7684763f36a8cd7722cb458d2e3fc4afac2f0fd15f5a61517a4370d2262efb6cab2bc46b4db8bdbe57fc7e5570b0a089410df  1487501fb59aa7bfdc8744fc839e30cf115d9dbdb9fe5cc7c173b6c827970feb6c38bdce54a5c4d80975cdcc5b8676e4714f53a99d6d0b9359c18a44237ee71a  56657dd10b5a8391d470928f5f92192df442ec7b927bf3ede6c93a39a01a66e6a53d0bb937febccf30e2976d472f078ae1c4fe36c98f5f640ff3d7c8918e2a33  e90bf004fa3fd9ac170c239e425dbfedbef0453b93a5ddfc57efa87efea234caea1aedd30ba87dc12f8d753a0f79b2a67f62a1ba868e1ea00867a4fbf45140b5              16507.39600         17779.0  ENTERTAINMENT~MUSIC  932fbd7955800fd5a36f071a7e74f18343c263cf4bd950c6c8a32b804f6951e9f0eba75481b25d30c6375b65ec87186479d4c4f561984e33203cf4a7ff5d7370       61.0          8.0               0.0  848b127dbd0f3a647581f4a95325f5204f4577ad7956f6ccaee6bf1eec0c399e6b02015827a95741ae041adc2438fbd494076ece7796a5f6cf4eab29e1079cf3  afd2bead96464ae13fb61ba573ea503355865336dac9bf80595d036676269a65e8473b0651c145d0efbb69b18ea9f2e90369c4cad9d3e50843ad89076060c791            photo             PHON          2           US     TX            3           12        -500       1.0\n",
      "3         1586446676383  0b03f7d7bfc9d81e55ebeb994d572ca65cca353e7aaf85d0c9272e3369620b26dd63a34c363a3225c6f8474cb30f1bf0d81be69c053709521cc9ba3ad6e9aa02  8058abb5518bb536d98c395013fb9081368ed89cca59804818cbddd74f2880e9b54095a18d065f6bdb49d6b144bbb32d5bfa71095dd52083ffe742b811ef55ac  daaee2d38f21a75a08d375e55802b3fdfc03cf21608ebdeda596b56c26c90e5ddac8371078827b8cdae9f3a513cb05c87aea5865679debeacfc23fefe2ae9e91  1633f7f86d0b74925000ec3ccb2662ae6e41a0de72669b610660fd15c4535cf45626db89824d0a6a5afee4d07009d98bc0028b0d9a7c0ed3004bd941f693391c                965.36127          5513.0          LIFE~HEALTH  3e169c2c7c217891ced33c35c10f01ba9b1a830e58ff240772e8298cd8b73185ce1b1bca45f61250679a563c5ce0274eae3262cda104a41e650b4394c0520185      357.0         29.0               0.0  848b127dbd0f3a647581f4a95325f5204f4577ad7956f6ccaee6bf1eec0c399e6b02015827a95741ae041adc2438fbd494076ece7796a5f6cf4eab29e1079cf3  12811e3e09990653423da6481b0a67215096ff5bbd2fba8a8ae1ad96de16802ad5df68fe9a0836c8b70ebc9cd8d59c4ea99087d2f4aabfebcf6a7f70c3b5d2c4             text             DESK          6           US     FL            4           11        -400       0.0\n",
      "4         1587072791703  b46cb1c9681e58c0a09b88b82c36913cbf3f710674eb39a0255670b304122bdd9f72f582b9d8e5c248eb9632f150dbe99f2016f7205b93d9c48c1527313cbf3c  d69f8bbef63a1c87fd253bfe1354894c06b194a2e6c30cd38e34a40ec09582e8e06e0cc91882786433bda5236f41095cd7b992693a1e88ee4ebb6c8ce0e10722  2f216e3448659404205a319e9cada63f967871b2c3e0d569c29a2766f92ca605fb3b27bebc874476e79f165d9464a85327cfd902717441cbc98b549aa1027fb4  8171fbc15cbd58ba2a41db9445a84423ccff42cf91f0352721947b3d63308146cf4947ea67e340916b5c3c71b173db664d9797fd942676e190275c1b6a4a8511               4976.14800          1974.0             BUSINESS  6207a672a60f19e0225b1ce438bfc5138af3f549787baa6c3bec98b9c07f211cec58cf613dd2a87f80521d9bafbb7952dc7a497949f1fd26df943f950ae2a89a      825.0         41.0               2.0  848b127dbd0f3a647581f4a95325f5204f4577ad7956f6ccaee6bf1eec0c399e6b02015827a95741ae041adc2438fbd494076ece7796a5f6cf4eab29e1079cf3  5e7a6ed11cdc1472ea91031bc66078c8ecd5283e2863d2311afaea92b1dbf9776faa4774a98ec2d0339116f328613bab84f3cbfd64ba393021d30a60a791bcdd             text             DESK          6           US     CO            4           15        -600       0.0\n",
      "5         1587041917955  1b87ed4f81179dd45603daff7746582faa4169d8fe2a5cb827c2af40f366abcd85d9910e36724628367c1fc3a409d0189334fb48fc1152b0cc8af5e28587bd50  8ed479be5ac6750f3869732eaa91093ff8d755c2928d5d7e599fab3808980d015a2bf2e03008bccd9bb96db1b439f1cc2b182b07384b80233e38cc61292ef940  b36bb2563f69f00845708bfce3e770cf0ddf9153aa6abc63f99ef870eab56395a0bbab2226b4e71afb62b4403bee093139a80132def7a4e684e42efebc945ad6  052f2ad8eeef88bc713ffa45423ef364f0f22f04529c71d174d4f94251efdf2f64c0e66c3655910c83ed5c0e7401cc9df72495f5311070c9636de6ce1a692d05                182.98032           166.0          LIFE~HEALTH  d016615fd0d41dc3dcc4d36ba1f0fddeda327864ded9b56a4569f312271f3838afd45c1441254e50a42e8d7f0f9466f3749aedf80ed908ed534eb96566871e33      490.0         50.0               0.0  c29a980222a2a97b74ffbd067f2a4ce760e3e8d8f024944fbd55d0ecbec178d4fc94c38d88a56a177a1c302f47ac1293dbbed50638455d50b1769daedbd33aaf  4c7987d659b97d2007c45bb3c9fd903b135a2ef18130f7bae03ce4daa403c1be16116ff69e52f755055e187efaaa356659824b3a9936553cc11fe96aebf178e8         homepage             PHON          3           US     TX            4            7        -500       0.0\n",
      "6         1586896391167  83cb255122914dc7dd8a9a80befc27b251f8c7a63294ff9c9b80a50bdccbe5725a3f417931bf407bdcd7d636655e9157289ade65ea5bfc55a82271ff10cfc1fc  90ea5d4f794d7fbb0b6ac325f975434a99e3fc0d0c476032f957842a4b168e5774333e896fc0bbe4ec48b89a1c94c0b3ea7c79c9ada5cd7931b5c190243c16fa  a31e99d37753a5d6b7ac7a0f2d2824b44fb52dfb673da76b5959e06447fd922a1094df6c30ee7ac4a6f0ab74615924cac2fb93d295abe567a49b8bc3c4eeef7b  b4b6ebe877f4ff3f9a0f3f3428e3a10b338a32fda7137f283ff45a89e995eeaca780ec32962e3bf1246863fe3df3779f4610aff49ee89580d94aa6cf28a42e0f               4456.25100         11494.0        ENTERTAINMENT  e6254800c87fbfaa9bf7d43ce37edbb79327ac834280bd85da2cb66873d5031845fda0a800bb30bd69dec15e8f879b30d59855256f0fbe12c08cb56a7530540f        0.0          0.0               0.0  848b127dbd0f3a647581f4a95325f5204f4577ad7956f6ccaee6bf1eec0c399e6b02015827a95741ae041adc2438fbd494076ece7796a5f6cf4eab29e1079cf3  1d3189b04e9aa32a1a6ccb59b9cd930aefd8de3b72f4cb16b7438410d7e50bc135e17eb0ec4f6c0b6a03cc3f2a8813c45a0cf874f9a760a9be5ec280790b1c27             text             DESK          6           DE     SH            2           22         200       1.0\n",
      "7         1586447112061  50cea14227dcac98494985df31471f37da54589f40e5f4f5bf54a2e397f249bcc399b8592e95507f56236ea5fef7ca8d02920ed76a553d0be7f6ef5f9a8262ce  2e36f1082549eac3c24cb7d3e57b4ef05cf258cffea43ce65400284cbe4567a350ed73fc5b2bcec9b0f03f625f8033b53e73c13ea23f2f82b1c60bc8752ee913  7bc91956d1f72e3949d6b53810f5f508ff8c554fe490a680486c1dbdd62e7afdb096faef526ceda903561212c3aa7909f02d0e02f11b4fbe0a9bd4741be7d5ee  626f38eceac725f729e55f12e1c94cdefe3bd681432fb1467be7c082af2f619de1890be14f8166d195e732ae7a73a8cadfcd1734383531f4a6140a6bfe1f49e4                 66.90616           351.0          LIFE~HEALTH  291d3ff037c1ea0beb8e1ca27e1383031d3bd4e4671f4b55e956705ae11d6b51db1c1f8795365f95f12efb8ce3a94ac8e86dac38e463ade52f28682a24bd02f9      338.0         69.0               0.0  f8a7ba9b7c9b05464ee98daac522b3f3d2376453c70e57de45b65e65a06b3b45fedd82ec18291bb4e432f3a172893424a81bab47dad1b4355b68552cda00583a  c83159630182a5b7bc3c3fc985156c03b2a43129d6337622f290e2071c9e103661f473032e7839658b0f59a8a8802cf8c90b0b09ee75d5733050079ecf5c7c46         homepage             DESK          6           US     VA            4           11        -400       1.0\n",
      "8         1586806368096  a9b4673ac39ad083a06882de5f86b3c372714fc98b248d08049c66617c29296c18d2051911bcf033e0983592cd1f0a530333dd34a65ce0d1998b80cbfa1ac0bc  ff6d8d0261559b9ede796a115dab02b112edd8eb06c66fa8594849a85883bd177c377fbb6e15ad9922fe1e884995aac103ee78f031c82a36b9efca47257bf8df  95bc171641ae2c871d00af8eb670848f9854bc54419c56eab9e3e3bb29d6008603734db20234e1ffd07d21cf7288ac121beb40e446468642eb3effc9cc0ba4d8  580493fba2df682e9caad7915be69916bc70927e54c4a0f88905d96c0c12892609e95873aff20898884f53e1256069ac1eb070f70f50b639ce4abbdef0bd6a0a               1353.36440          7465.0        ENTERTAINMENT  b1c0e2baa89e19c667a4c77835b2b1ccbbe87960f6a64b9f0fc20e5fcdf32aaced508d2ce415e9c9295c58450c445b36d19c120fb9e71fba8ed831fc190917de      508.0         11.0               0.0  848b127dbd0f3a647581f4a95325f5204f4577ad7956f6ccaee6bf1eec0c399e6b02015827a95741ae041adc2438fbd494076ece7796a5f6cf4eab29e1079cf3  1fcfcf5cef5b86832cc803569f80684a3bfcbd565443eb499d784ce18e88c725c9c3937f29626134542712a9e106070d5aebc7b378811a415743a2cf8a4d0357             text             DESK          6           US     CA            1           12        -700       1.0\n",
      "9         1586261443719  af7ecf74913001740f8fbf6c456ff616497e6424a7747870b5e21e848ca052e14950b75295251139a33ba32bfd5755b0901c16c8ea66133ebe5c9b48365a2bc3  e7018236508fe802d5ef062411390705383451ab3009502dd913c3b850b8edacd0ff3ac24a11a4082a1e65b13a2ae0f698a56036fdd4317cfc247eae26992313  eaf8b76a276fae68fe0c249d7c671cf16c4beabc8e205ffc65e294c0b16480aab7b36dcd36db994e48f6028189e5424ad40db4cda1bb7c2697de9f1c4e49ac8b  dd093094d7cc84f8f7c6eae6875194daa8ab655d010fed87d5c4cf6735ce8e63b08d79c181e41fffe3256ba01b0f0cb76e2360e1c4806a076488c4a7e844995c               2317.31030         10467.0        ENTERTAINMENT  cf919dff6ac0df508136ecf9cdd17600b2eb9a78dff0eaf72d05a4bfcd153e9360e1dc1b86b5df72457b34fe5400bd90a28e4feb57881cd1fc0dcb9f2fe186c0      546.0         44.0               0.0  f8a7ba9b7c9b05464ee98daac522b3f3d2376453c70e57de45b65e65a06b3b45fedd82ec18291bb4e432f3a172893424a81bab47dad1b4355b68552cda00583a  389b69708cf58731e78e2e023a8c608d886fe5aebc0e23ae62ed16356a6f17a5abb5fc84890df1d92e3e0dad306d5ecccace2408329538355af402a49a7762d6         category             DESK          6           US     IL            2            7        -500       1.0\n"
     ]
    }
   ],
   "source": [
    "print(pd.read_csv('./train_data/train1/part-00000.csv').head(10).to_string())"
   ]
  },
  {
   "cell_type": "code",
   "execution_count": 8,
   "metadata": {},
   "outputs": [
    {
     "data": {
      "text/plain": [
       "128"
      ]
     },
     "execution_count": 8,
     "metadata": {},
     "output_type": "execute_result"
    }
   ],
   "source": [
    "len('939e2ccfb21e0ec9b0787c394dea1ae935369da0bcc5978b705f2969b02f42e1dd017c17ff4affd6c8f26e5e4e87c4c943bbbb72dc58b6c69f82cfde529bf3f9')"
   ]
  },
  {
   "cell_type": "code",
   "execution_count": 4,
   "metadata": {},
   "outputs": [
    {
     "data": {
      "text/plain": [
       "30254858"
      ]
     },
     "execution_count": 4,
     "metadata": {},
     "output_type": "execute_result"
    }
   ],
   "source": [
    "len(data.index)"
   ]
  },
  {
   "cell_type": "code",
   "execution_count": 3,
   "metadata": {},
   "outputs": [
    {
     "data": {
      "text/plain": [
       "(datetime.datetime(2020, 4, 20, 5, 46, 42, 882000),\n",
       " datetime.datetime(2020, 4, 6, 3, 0, 0, 51000))"
      ]
     },
     "execution_count": 3,
     "metadata": {},
     "output_type": "execute_result"
    }
   ],
   "source": [
    "datetime.datetime.fromtimestamp(data['page_view_start_time'].max()/1000), datetime.datetime.fromtimestamp(data['page_view_start_time'].min()/1000)"
   ]
  },
  {
   "cell_type": "code",
   "execution_count": 16,
   "metadata": {},
   "outputs": [],
   "source": [
    "max_timestamp = data['page_view_start_time'].max()\n",
    "three_days_ago = (datetime.datetime.fromtimestamp(max_timestamp/1000) - datetime.timedelta(days=3)).replace(hour=0, minute=0, second=0, microsecond=0)\n",
    "three_days_ago = int(datetime.datetime.timestamp(three_days_ago) * 1000)"
   ]
  },
  {
   "cell_type": "code",
   "execution_count": 17,
   "metadata": {},
   "outputs": [],
   "source": [
    "last_three_days = data[data['page_view_start_time'] >= three_days_ago]\n",
    "train_set = data[data['page_view_start_time'] < three_days_ago]"
   ]
  },
  {
   "cell_type": "code",
   "execution_count": 6,
   "metadata": {},
   "outputs": [],
   "source": [
    "not_cold_users_mask = last_three_days['user_id_hash'].isin(train_set['user_id_hash'])"
   ]
  },
  {
   "cell_type": "code",
   "execution_count": 7,
   "metadata": {},
   "outputs": [],
   "source": [
    "last_three_days_hot_users = last_three_days[not_cold_users_mask]\n",
    "last_three_days_cold_users = last_three_days[~not_cold_users_mask]"
   ]
  },
  {
   "cell_type": "code",
   "execution_count": 18,
   "metadata": {},
   "outputs": [],
   "source": [
    "features = [\n",
    "    'page_view_start_time', 'user_id_hash', 'target_id_hash',\n",
    "    'syndicator_id_hash', 'campaign_id_hash', 'empiric_calibrated_recs',\n",
    "    'empiric_clicks', 'target_item_taxonomy', 'placement_id_hash',\n",
    "    'user_recs', 'user_clicks', 'user_target_recs', 'publisher_id_hash',\n",
    "    'source_id_hash', 'source_item_type', 'browser_platform', 'os_family',\n",
    "    'country_code', 'region', 'day_of_week', 'time_of_day', 'gmt_offset'\n",
    "]"
   ]
  },
  {
   "cell_type": "code",
   "execution_count": 9,
   "metadata": {},
   "outputs": [],
   "source": [
    "last_three_days_hot_users_features = last_three_days_hot_users[features]\n",
    "last_three_days_hot_users_ground_truth = last_three_days_hot_users['is_click']\n",
    "last_three_days_cold_users_features = last_three_days_cold_users[features]\n",
    "last_three_days_cold_users_ground_truth = last_three_days_cold_users['is_click']"
   ]
  },
  {
   "cell_type": "code",
   "execution_count": 10,
   "metadata": {},
   "outputs": [
    {
     "data": {
      "text/html": [
       "<div>\n",
       "<style scoped>\n",
       "    .dataframe tbody tr th:only-of-type {\n",
       "        vertical-align: middle;\n",
       "    }\n",
       "\n",
       "    .dataframe tbody tr th {\n",
       "        vertical-align: top;\n",
       "    }\n",
       "\n",
       "    .dataframe thead th {\n",
       "        text-align: right;\n",
       "    }\n",
       "</style>\n",
       "<table border=\"1\" class=\"dataframe\">\n",
       "  <thead>\n",
       "    <tr style=\"text-align: right;\">\n",
       "      <th></th>\n",
       "      <th>page_view_start_time</th>\n",
       "      <th>user_id_hash</th>\n",
       "      <th>target_id_hash</th>\n",
       "      <th>syndicator_id_hash</th>\n",
       "      <th>campaign_id_hash</th>\n",
       "      <th>empiric_calibrated_recs</th>\n",
       "      <th>empiric_clicks</th>\n",
       "      <th>target_item_taxonomy</th>\n",
       "      <th>placement_id_hash</th>\n",
       "      <th>user_recs</th>\n",
       "      <th>...</th>\n",
       "      <th>publisher_id_hash</th>\n",
       "      <th>source_id_hash</th>\n",
       "      <th>source_item_type</th>\n",
       "      <th>browser_platform</th>\n",
       "      <th>os_family</th>\n",
       "      <th>country_code</th>\n",
       "      <th>region</th>\n",
       "      <th>day_of_week</th>\n",
       "      <th>time_of_day</th>\n",
       "      <th>gmt_offset</th>\n",
       "    </tr>\n",
       "  </thead>\n",
       "  <tbody>\n",
       "    <tr>\n",
       "      <th>4</th>\n",
       "      <td>1587072791703</td>\n",
       "      <td>11463395</td>\n",
       "      <td>79556</td>\n",
       "      <td>527</td>\n",
       "      <td>14201</td>\n",
       "      <td>4976.14800</td>\n",
       "      <td>1974.0</td>\n",
       "      <td>1</td>\n",
       "      <td>616</td>\n",
       "      <td>825.0</td>\n",
       "      <td>...</td>\n",
       "      <td>0</td>\n",
       "      <td>97436</td>\n",
       "      <td>3</td>\n",
       "      <td>0</td>\n",
       "      <td>6</td>\n",
       "      <td>388</td>\n",
       "      <td>1008</td>\n",
       "      <td>4</td>\n",
       "      <td>15</td>\n",
       "      <td>-600</td>\n",
       "    </tr>\n",
       "    <tr>\n",
       "      <th>15</th>\n",
       "      <td>1587152706971</td>\n",
       "      <td>7290697</td>\n",
       "      <td>77904</td>\n",
       "      <td>694</td>\n",
       "      <td>3413</td>\n",
       "      <td>346.61606</td>\n",
       "      <td>1761.0</td>\n",
       "      <td>8</td>\n",
       "      <td>360</td>\n",
       "      <td>417.0</td>\n",
       "      <td>...</td>\n",
       "      <td>2</td>\n",
       "      <td>206755</td>\n",
       "      <td>1</td>\n",
       "      <td>0</td>\n",
       "      <td>6</td>\n",
       "      <td>388</td>\n",
       "      <td>1531</td>\n",
       "      <td>5</td>\n",
       "      <td>15</td>\n",
       "      <td>-400</td>\n",
       "    </tr>\n",
       "    <tr>\n",
       "      <th>19</th>\n",
       "      <td>1587136150512</td>\n",
       "      <td>176706</td>\n",
       "      <td>94933</td>\n",
       "      <td>81</td>\n",
       "      <td>15872</td>\n",
       "      <td>11604.18400</td>\n",
       "      <td>8411.0</td>\n",
       "      <td>29</td>\n",
       "      <td>387</td>\n",
       "      <td>161.0</td>\n",
       "      <td>...</td>\n",
       "      <td>0</td>\n",
       "      <td>158778</td>\n",
       "      <td>3</td>\n",
       "      <td>0</td>\n",
       "      <td>6</td>\n",
       "      <td>388</td>\n",
       "      <td>1553</td>\n",
       "      <td>5</td>\n",
       "      <td>11</td>\n",
       "      <td>-400</td>\n",
       "    </tr>\n",
       "    <tr>\n",
       "      <th>23</th>\n",
       "      <td>1587149454878</td>\n",
       "      <td>13089853</td>\n",
       "      <td>9127</td>\n",
       "      <td>2291</td>\n",
       "      <td>12917</td>\n",
       "      <td>5518.31250</td>\n",
       "      <td>7329.0</td>\n",
       "      <td>1</td>\n",
       "      <td>122</td>\n",
       "      <td>516.0</td>\n",
       "      <td>...</td>\n",
       "      <td>2</td>\n",
       "      <td>206755</td>\n",
       "      <td>1</td>\n",
       "      <td>0</td>\n",
       "      <td>6</td>\n",
       "      <td>388</td>\n",
       "      <td>1177</td>\n",
       "      <td>5</td>\n",
       "      <td>8</td>\n",
       "      <td>-1000</td>\n",
       "    </tr>\n",
       "    <tr>\n",
       "      <th>31</th>\n",
       "      <td>1587257696247</td>\n",
       "      <td>9961237</td>\n",
       "      <td>4971</td>\n",
       "      <td>1131</td>\n",
       "      <td>22051</td>\n",
       "      <td>974.82690</td>\n",
       "      <td>3868.0</td>\n",
       "      <td>12</td>\n",
       "      <td>814</td>\n",
       "      <td>549.0</td>\n",
       "      <td>...</td>\n",
       "      <td>1</td>\n",
       "      <td>78840</td>\n",
       "      <td>1</td>\n",
       "      <td>0</td>\n",
       "      <td>6</td>\n",
       "      <td>388</td>\n",
       "      <td>1229</td>\n",
       "      <td>6</td>\n",
       "      <td>19</td>\n",
       "      <td>-500</td>\n",
       "    </tr>\n",
       "  </tbody>\n",
       "</table>\n",
       "<p>5 rows × 22 columns</p>\n",
       "</div>"
      ],
      "text/plain": [
       "    page_view_start_time  user_id_hash  target_id_hash  syndicator_id_hash  \\\n",
       "4          1587072791703      11463395           79556                 527   \n",
       "15         1587152706971       7290697           77904                 694   \n",
       "19         1587136150512        176706           94933                  81   \n",
       "23         1587149454878      13089853            9127                2291   \n",
       "31         1587257696247       9961237            4971                1131   \n",
       "\n",
       "    campaign_id_hash  empiric_calibrated_recs  empiric_clicks  \\\n",
       "4              14201               4976.14800          1974.0   \n",
       "15              3413                346.61606          1761.0   \n",
       "19             15872              11604.18400          8411.0   \n",
       "23             12917               5518.31250          7329.0   \n",
       "31             22051                974.82690          3868.0   \n",
       "\n",
       "    target_item_taxonomy  placement_id_hash  user_recs  ...  \\\n",
       "4                      1                616      825.0  ...   \n",
       "15                     8                360      417.0  ...   \n",
       "19                    29                387      161.0  ...   \n",
       "23                     1                122      516.0  ...   \n",
       "31                    12                814      549.0  ...   \n",
       "\n",
       "    publisher_id_hash  source_id_hash  source_item_type  browser_platform  \\\n",
       "4                   0           97436                 3                 0   \n",
       "15                  2          206755                 1                 0   \n",
       "19                  0          158778                 3                 0   \n",
       "23                  2          206755                 1                 0   \n",
       "31                  1           78840                 1                 0   \n",
       "\n",
       "    os_family  country_code  region  day_of_week  time_of_day  gmt_offset  \n",
       "4           6           388    1008            4           15        -600  \n",
       "15          6           388    1531            5           15        -400  \n",
       "19          6           388    1553            5           11        -400  \n",
       "23          6           388    1177            5            8       -1000  \n",
       "31          6           388    1229            6           19        -500  \n",
       "\n",
       "[5 rows x 22 columns]"
      ]
     },
     "execution_count": 10,
     "metadata": {},
     "output_type": "execute_result"
    }
   ],
   "source": [
    "last_three_days_hot_users_features.head()"
   ]
  },
  {
   "cell_type": "code",
   "execution_count": 11,
   "metadata": {},
   "outputs": [
    {
     "data": {
      "text/plain": [
       "('2020-04-20 03:00:00', '2020-04-21 07:25:59')"
      ]
     },
     "execution_count": 11,
     "metadata": {},
     "output_type": "execute_result"
    }
   ],
   "source": [
    "datetime.datetime.fromtimestamp(1587340800179/1000).strftime('%Y-%m-%d %H:%M:%S'), datetime.datetime.fromtimestamp(1587443159283/1000).strftime('%Y-%m-%d %H:%M:%S')"
   ]
  },
  {
   "cell_type": "code",
   "execution_count": 12,
   "metadata": {},
   "outputs": [
    {
     "data": {
      "text/plain": [
       "('2020-04-06 03:00:00', '2020-04-20 05:46:42')"
      ]
     },
     "execution_count": 12,
     "metadata": {},
     "output_type": "execute_result"
    }
   ],
   "source": [
    "datetime.datetime.fromtimestamp(1586131200051/1000).strftime('%Y-%m-%d %H:%M:%S'), datetime.datetime.fromtimestamp(1587350802882/1000).strftime('%Y-%m-%d %H:%M:%S')"
   ]
  },
  {
   "cell_type": "code",
   "execution_count": 19,
   "metadata": {},
   "outputs": [],
   "source": [
    "def load_encoders(features):\n",
    "    column_encoders = []\n",
    "    for feature in features:\n",
    "        with open(f'./label_encoders/{feature}.pickle', 'rb') as handle:\n",
    "            encoder = pickle.load(handle)\n",
    "        column_encoders.append((feature, encoder))\n",
    "    return column_encoders\n",
    "\n",
    "features_string_categories = [\n",
    "    'user_id_hash',\n",
    "    'target_id_hash',\n",
    "    'syndicator_id_hash',\n",
    "    'campaign_id_hash',\n",
    "    'target_item_taxonomy',\n",
    "    'placement_id_hash',\n",
    "    'publisher_id_hash',\n",
    "    'source_id_hash',\n",
    "    'source_item_type',\n",
    "    'browser_platform',\n",
    "    'country_code',\n",
    "    'region',\n",
    "]\n",
    "column_encoders = load_encoders(features_string_categories)"
   ]
  },
  {
   "cell_type": "code",
   "execution_count": 20,
   "metadata": {},
   "outputs": [
    {
     "data": {
      "application/vnd.jupyter.widget-view+json": {
       "model_id": "dfbe458e20564bd8850e17977fb637ee",
       "version_major": 2,
       "version_minor": 0
      },
      "text/plain": [
       "  0%|          | 0/12 [00:00<?, ?it/s]"
      ]
     },
     "metadata": {},
     "output_type": "display_data"
    },
    {
     "name": "stderr",
     "output_type": "stream",
     "text": [
      "C:\\Users\\Mark\\AppData\\Local\\Temp\\ipykernel_20520\\3260747873.py:7: FutureWarning: A value is trying to be set on a copy of a DataFrame or Series through chained assignment using an inplace method.\n",
      "The behavior will change in pandas 3.0. This inplace method will never work because the intermediate object on which we are setting values always behaves as a copy.\n",
      "\n",
      "For example, when doing 'df[col].method(value, inplace=True)', try using 'df.method({col: value}, inplace=True)' or df[col] = df[col].method(value) instead, to perform the operation inplace on the original object.\n",
      "\n",
      "\n",
      "  last_three_days_recon['country_code'].fillna('Null', inplace=True)\n",
      "C:\\Users\\Mark\\AppData\\Local\\Temp\\ipykernel_20520\\3260747873.py:8: FutureWarning: A value is trying to be set on a copy of a DataFrame or Series through chained assignment using an inplace method.\n",
      "The behavior will change in pandas 3.0. This inplace method will never work because the intermediate object on which we are setting values always behaves as a copy.\n",
      "\n",
      "For example, when doing 'df[col].method(value, inplace=True)', try using 'df.method({col: value}, inplace=True)' or df[col] = df[col].method(value) instead, to perform the operation inplace on the original object.\n",
      "\n",
      "\n",
      "  last_three_days_recon['region'].fillna('Null', inplace=True)\n"
     ]
    }
   ],
   "source": [
    "def reconstruct():\n",
    "    df = last_three_days.copy(deep=True)\n",
    "    for column, encoder in tqdm(column_encoders):\n",
    "        df[column] = encoder.inverse_transform(df[column].to_list())\n",
    "    return df\n",
    "last_three_days_recon = reconstruct()\n",
    "last_three_days_recon['country_code'].fillna('Null', inplace=True)\n",
    "last_three_days_recon['region'].fillna('Null', inplace=True)"
   ]
  },
  {
   "cell_type": "code",
   "execution_count": 23,
   "metadata": {},
   "outputs": [
    {
     "data": {
      "text/plain": [
       "['UT',\n",
       " 'UNKNOWN',\n",
       " 'U',\n",
       " 'UP',\n",
       " 'UN',\n",
       " 'US',\n",
       " 'UD',\n",
       " 'UCA',\n",
       " 'UR',\n",
       " 'UQ',\n",
       " 'UIG',\n",
       " 'UE',\n",
       " 'ULY']"
      ]
     },
     "execution_count": 23,
     "metadata": {},
     "output_type": "execute_result"
    }
   ],
   "source": [
    "[c for c in last_three_days_recon['region'].unique() if c.startswith('U')]"
   ]
  },
  {
   "cell_type": "code",
   "execution_count": 235,
   "metadata": {},
   "outputs": [],
   "source": [
    "from itertools import combinations\n",
    "def categorize_time(dt):\n",
    "    hour = dt.hour\n",
    "    if 5 <= hour < 11:\n",
    "        return \"morning\"\n",
    "    elif 11 <= hour < 13:\n",
    "        return \"midday\"\n",
    "    elif 13 <= hour < 18:\n",
    "        return \"afternoon\"\n",
    "    elif 18 <= hour < 24:\n",
    "        return \"evening\"\n",
    "    else:  # Hour is between 00:00 and 05:00\n",
    "        return \"night\"\n",
    "    \n",
    "def format_time_offset(t):\n",
    "    if len(t) == 1:\n",
    "        return '+00:00:00'\n",
    "    elif len(t) == 2: \n",
    "        return f'{t}:00:00'\n",
    "    else:\n",
    "        return f'{t[:-2]}:{t[-2:]}:00'\n",
    "\n",
    "def apply_gmt_offset():\n",
    "    gmt_offsets = last_three_days_recon['gmt_offset'].replace(9999, 0).astype(str).apply(format_time_offset)\n",
    "    dt_series = pd.to_datetime(last_three_days_recon['page_view_start_time'], unit='us')\n",
    "    gmt_offsets = pd.to_timedelta(gmt_offsets)\n",
    "    dt_with_offset = dt_series + gmt_offsets\n",
    "    last_three_days_recon['local_day_part'] = dt_with_offset.apply(categorize_time)\n",
    "\n",
    "def add_feature_ctr(feature_1):\n",
    "    \"\"\"\n",
    "    reference:\n",
    "    https://medium.com/unstructured/how-feature-engineering-can-help-you-do-well-in-a-kaggle-competition-part-ii-3645d92282b8\n",
    "    \"\"\"\n",
    "    latest_views = last_three_days.iloc[last_three_days.groupby('target_id_hash')['page_view_start_time'].idxmax()]\n",
    "    latest_views = last_three_days.drop_duplicates(subset='target_id_hash', keep='first')\n",
    "    stats = latest_views.groupby(f'{feature_1}_id_hash').agg({'empiric_calibrated_recs': 'sum', 'target_id_hash': 'count'})\n",
    "    average_views_of_distinct_ad = np.log2(stats['empiric_calibrated_recs'].sum() / stats['target_id_hash'].sum())\n",
    "    average_views_of_distict_ad_in_feature = np.log2(1 + (stats['empiric_calibrated_recs'] / stats['target_id_hash']))\n",
    "    stats[f'{feature_1}_ctr'] = np.minimum((average_views_of_distict_ad_in_feature / average_views_of_distinct_ad), 1)\n",
    "    stats = stats.reset_index()[[f'{feature_1}_id_hash', f'{feature_1}_ctr']]\n",
    "    temp_df = last_three_days[[f'{feature_1}_id_hash']].merge(stats, on=f'{feature_1}_id_hash', how='left')\n",
    "    last_three_days_recon[f'{feature_1}_ctr'] = temp_df[f'{feature_1}_ctr']\n",
    "\n",
    "def add_pair_feature_ctr(feature_1, feature_2):\n",
    "    \"\"\"\n",
    "    reference:\n",
    "    https://medium.com/unstructured/how-feature-engineering-can-help-you-do-well-in-a-kaggle-competition-part-ii-3645d92282b8\n",
    "    \"\"\"\n",
    "    latest_views = last_three_days.iloc[last_three_days.groupby('target_id_hash')['page_view_start_time'].idxmax()]\n",
    "    latest_views = last_three_days.drop_duplicates(subset='target_id_hash', keep='first')\n",
    "    stats = latest_views.groupby([f'{feature_1}_id_hash', f'{feature_2}_id_hash']).agg({'empiric_calibrated_recs': 'sum', 'target_id_hash': 'count'})\n",
    "    average_views_of_distinct_ad = np.log2(stats['empiric_calibrated_recs'].sum() / stats['target_id_hash'].sum())\n",
    "    average_views_of_distict_ad_in_feature = np.log2(1 + (stats['empiric_calibrated_recs'] / stats['target_id_hash']))\n",
    "    stats[f'{feature_1}_{feature_2}_ctr'] = np.minimum((average_views_of_distict_ad_in_feature / average_views_of_distinct_ad), 1)\n",
    "    stats = stats.reset_index()[[f'{feature_1}_id_hash', f'{feature_2}_id_hash', f'{feature_1}_{feature_2}_ctr']]\n",
    "    temp_df = last_three_days[[f'{feature_1}_id_hash', f'{feature_2}_id_hash']].merge(stats, on=[f'{feature_1}_id_hash', f'{feature_2}_id_hash'], how='left')\n",
    "    last_three_days_recon[f'{feature_1}_{feature_2}_ctr'] = temp_df[f'{feature_1}_{feature_2}_ctr']\n",
    "\n",
    "def generate_ctrs():\n",
    "    # generate ctr for estimate for features_ctr\n",
    "    features_ctr = ['campaign', 'syndicator', 'placement', 'publisher', 'source']\n",
    "    for feature in features_ctr:\n",
    "        add_feature_ctr(feature)\n",
    "    # generate ctr for pair wise estimate\n",
    "    for feature_1, feature_2 in list(combinations(features_ctr, 2)):\n",
    "        add_pair_feature_ctr(feature_1, feature_2)\n",
    "\n",
    "# generate general target item taxonomy\n",
    "last_three_days_recon['target_item_taxonomy_upper'] = last_three_days_recon['target_item_taxonomy'].str.split('~').str[0]\n",
    "# target item ctr\n",
    "last_three_days_recon['target_item_ctr'] = last_three_days_recon['empiric_clicks'].divide(last_three_days_recon['empiric_calibrated_recs'], fill_value=0) \n",
    "# user ctr\n",
    "last_three_days_recon['user_ctr'] = last_three_days_recon['user_clicks'].divide(last_three_days_recon['user_recs'], fill_value=0)\n",
    "# target item frequency\n",
    "last_three_days_recon['item_presented_to_user_frequency'] = last_three_days_recon['user_target_recs'].divide(last_three_days_recon['user_recs'], fill_value=0)\n",
    "# aggregation\n",
    "last_three_days_recon['item_be_clicked_by_user'] = last_three_days_recon['user_ctr'] * last_three_days_recon['target_item_ctr'] * last_three_days_recon['item_presented_to_user_frequency']\n",
    "# take the timestamp, shift to the local time by gmt offset, look at the hour of the day and generate categorical feature \"local part of the day\"\n",
    "apply_gmt_offset()\n",
    "# binary feature for cold and warm user\n",
    "last_three_days_recon['user_type'] = (last_three_days_recon['user_recs'] > 0).apply(lambda x: 'warm' if x else 'cold')\n",
    "# generate \"category ctr\"\n",
    "generate_ctrs()"
   ]
  },
  {
   "cell_type": "code",
   "execution_count": 236,
   "metadata": {},
   "outputs": [
    {
     "data": {
      "text/plain": [
       "Index(['page_view_start_time', 'user_id_hash', 'target_id_hash',\n",
       "       'syndicator_id_hash', 'campaign_id_hash', 'empiric_calibrated_recs',\n",
       "       'empiric_clicks', 'target_item_taxonomy', 'placement_id_hash',\n",
       "       'user_recs', 'user_clicks', 'user_target_recs', 'publisher_id_hash',\n",
       "       'source_id_hash', 'source_item_type', 'browser_platform', 'os_family',\n",
       "       'country_code', 'region', 'day_of_week', 'time_of_day', 'gmt_offset',\n",
       "       'is_click', 'target_item_taxonomy_upper', 'target_item_ctr', 'user_ctr',\n",
       "       'item_presented_to_user_frequency', 'item_be_clicked_by_user',\n",
       "       'local_day_part', 'user_type', 'campaign_ctr', 'syndicator_ctr',\n",
       "       'placement_ctr', 'publisher_ctr', 'source_ctr',\n",
       "       'campaign_syndicator_ctr', 'campaign_placement_ctr',\n",
       "       'campaign_publisher_ctr', 'campaign_source_ctr',\n",
       "       'syndicator_placement_ctr', 'syndicator_publisher_ctr',\n",
       "       'syndicator_source_ctr', 'placement_publisher_ctr',\n",
       "       'placement_source_ctr', 'publisher_source_ctr'],\n",
       "      dtype='object')"
      ]
     },
     "execution_count": 236,
     "metadata": {},
     "output_type": "execute_result"
    }
   ],
   "source": [
    "last_three_days_recon.columns"
   ]
  },
  {
   "cell_type": "code",
   "execution_count": 237,
   "metadata": {},
   "outputs": [],
   "source": [
    "last_three_days_features = last_three_days_recon[[\n",
    "    # 'user_id_hash',\n",
    "    # 'target_id_hash',\n",
    "    'syndicator_id_hash',\n",
    "    'campaign_id_hash',\n",
    "    'empiric_calibrated_recs',\n",
    "    'empiric_clicks',\n",
    "    'target_item_taxonomy',\n",
    "    'placement_id_hash',\n",
    "    'user_recs',\n",
    "    'user_clicks',\n",
    "    'user_target_recs',\n",
    "    'publisher_id_hash',\n",
    "    'source_id_hash',\n",
    "    'source_item_type',\n",
    "    'browser_platform',\n",
    "    'os_family',\n",
    "    'country_code',\n",
    "    'region',\n",
    "    'day_of_week',\n",
    "    'time_of_day',\n",
    "    'gmt_offset',\n",
    "    'target_item_taxonomy_upper',\n",
    "    'target_item_ctr',\n",
    "    'user_ctr',\n",
    "    'item_presented_to_user_frequency',\n",
    "    'item_be_clicked_by_user',\n",
    "    'local_day_part',\n",
    "    'user_type',\n",
    "    'campaign_ctr',\n",
    "    'syndicator_ctr',\n",
    "    'placement_ctr',\n",
    "    'publisher_ctr',\n",
    "    'source_ctr',\n",
    "    'campaign_syndicator_ctr',\n",
    "    'campaign_placement_ctr',\n",
    "    'campaign_publisher_ctr',\n",
    "    'campaign_source_ctr',\n",
    "    'syndicator_placement_ctr',\n",
    "    'syndicator_publisher_ctr',\n",
    "    'syndicator_source_ctr',\n",
    "    'placement_publisher_ctr',\n",
    "    'placement_source_ctr',\n",
    "    'publisher_source_ctr',\n",
    "]].to_numpy()\n",
    "last_three_days_ground_truth = last_three_days_recon['is_click'].to_numpy()"
   ]
  },
  {
   "cell_type": "code",
   "execution_count": 238,
   "metadata": {},
   "outputs": [
    {
     "name": "stdout",
     "output_type": "stream",
     "text": [
      "0 syndicator_id_hash\n",
      "1 campaign_id_hash\n",
      "4 target_item_taxonomy\n",
      "5 placement_id_hash\n",
      "9 publisher_id_hash\n",
      "10 source_id_hash\n",
      "11 source_item_type\n",
      "12 browser_platform\n",
      "13 os_family\n",
      "14 country_code\n",
      "15 region\n",
      "18 gmt_offset\n",
      "19 target_item_taxonomy_upper\n",
      "24 local_day_part\n",
      "25 user_type\n"
     ]
    },
    {
     "data": {
      "text/plain": [
       "[0, 1, 4, 5, 9, 10, 11, 12, 13, 14, 15, 18, 19, 24, 25]"
      ]
     },
     "execution_count": 238,
     "metadata": {},
     "output_type": "execute_result"
    }
   ],
   "source": [
    "features_type = {\n",
    "    # 'user_id_hash': 'cat',\n",
    "    # 'target_id_hash': 'cat',\n",
    "    'syndicator_id_hash': 'cat',\n",
    "    'campaign_id_hash': 'cat',\n",
    "    'empiric_calibrated_recs': '',\n",
    "    'empiric_clicks': '',\n",
    "    'target_item_taxonomy': 'cat',\n",
    "    'placement_id_hash': 'cat',\n",
    "    'user_recs': '',\n",
    "    'user_clicks': '',\n",
    "    'user_target_recs': '',\n",
    "    'publisher_id_hash': 'cat',\n",
    "    'source_id_hash': 'cat',\n",
    "    'source_item_type': 'cat',\n",
    "    'browser_platform': 'cat',\n",
    "    'os_family': 'cat',\n",
    "    'country_code': 'cat',\n",
    "    'region': 'cat',\n",
    "    'day_of_week': '',\n",
    "    'time_of_day': '',\n",
    "    'gmt_offset': 'cat',\n",
    "    'target_item_taxonomy_upper': 'cat',\n",
    "    'target_item_ctr': '',\n",
    "    'user_ctr': '',\n",
    "    'item_presented_to_user_frequency': '',\n",
    "    'item_be_clicked_by_user': '',\n",
    "    'local_day_part': 'cat',\n",
    "    'user_type': 'cat',\n",
    "    'campaign_ctr': '',\n",
    "    'syndicator_ctr': '',\n",
    "    'placement_ctr': '',\n",
    "    'publisher_ctr': '',\n",
    "    'source_ctr': '',\n",
    "    'campaign_syndicator_ctr': '',\n",
    "    'campaign_placement_ctr': '',\n",
    "    'campaign_publisher_ctr': '',\n",
    "    'campaign_source_ctr': '',\n",
    "    'syndicator_placement_ctr': '',\n",
    "    'syndicator_publisher_ctr': '',\n",
    "    'syndicator_source_ctr': '',\n",
    "    'placement_publisher_ctr': '',\n",
    "    'placement_source_ctr': '',\n",
    "    'publisher_source_ctr': '',\n",
    "}\n",
    "def temp():\n",
    "    cat_ids = []\n",
    "    for i, (feature, t) in enumerate(features_type.items()):\n",
    "        if t == 'cat':\n",
    "            print(i, feature)\n",
    "            cat_ids.append(i)\n",
    "    return cat_ids\n",
    "cat_ids = temp()\n",
    "cat_ids"
   ]
  },
  {
   "cell_type": "code",
   "execution_count": 241,
   "metadata": {},
   "outputs": [
    {
     "name": "stdout",
     "output_type": "stream",
     "text": [
      "Learning rate set to 0.020912\n",
      "0:\tlearn: 0.6837794\ttotal: 2.14s\tremaining: 35m 42s\n",
      "1:\tlearn: 0.6748222\ttotal: 4.37s\tremaining: 36m 18s\n",
      "2:\tlearn: 0.6663215\ttotal: 6.63s\tremaining: 36m 44s\n",
      "3:\tlearn: 0.6582334\ttotal: 8.79s\tremaining: 36m 29s\n",
      "4:\tlearn: 0.6505360\ttotal: 11s\tremaining: 36m 23s\n",
      "5:\tlearn: 0.6430874\ttotal: 13.8s\tremaining: 37m 58s\n",
      "6:\tlearn: 0.6361225\ttotal: 15.9s\tremaining: 37m 39s\n",
      "7:\tlearn: 0.6293766\ttotal: 17.9s\tremaining: 36m 53s\n",
      "8:\tlearn: 0.6230195\ttotal: 20.2s\tremaining: 37m 8s\n",
      "9:\tlearn: 0.6170151\ttotal: 22.6s\tremaining: 37m 16s\n",
      "10:\tlearn: 0.6111772\ttotal: 24.6s\tremaining: 36m 53s\n",
      "11:\tlearn: 0.6056289\ttotal: 27.2s\tremaining: 37m 18s\n",
      "12:\tlearn: 0.6004158\ttotal: 29.5s\tremaining: 37m 21s\n",
      "13:\tlearn: 0.5955082\ttotal: 32.3s\tremaining: 37m 53s\n",
      "14:\tlearn: 0.5907473\ttotal: 34.3s\tremaining: 37m 32s\n",
      "15:\tlearn: 0.5861295\ttotal: 36.4s\tremaining: 37m 21s\n",
      "16:\tlearn: 0.5818630\ttotal: 38.7s\tremaining: 37m 17s\n",
      "17:\tlearn: 0.5777413\ttotal: 41.4s\tremaining: 37m 39s\n",
      "18:\tlearn: 0.5740846\ttotal: 44.4s\tremaining: 38m 13s\n",
      "19:\tlearn: 0.5702777\ttotal: 46.7s\tremaining: 38m 7s\n",
      "20:\tlearn: 0.5667599\ttotal: 49s\tremaining: 38m 4s\n",
      "21:\tlearn: 0.5633835\ttotal: 51.4s\tremaining: 38m 6s\n",
      "22:\tlearn: 0.5601895\ttotal: 53.8s\tremaining: 38m 7s\n",
      "23:\tlearn: 0.5570250\ttotal: 56.3s\tremaining: 38m 9s\n",
      "24:\tlearn: 0.5542805\ttotal: 58.6s\tremaining: 38m 4s\n",
      "25:\tlearn: 0.5516928\ttotal: 1m 1s\tremaining: 38m 13s\n",
      "26:\tlearn: 0.5491884\ttotal: 1m 4s\tremaining: 38m 30s\n",
      "27:\tlearn: 0.5465966\ttotal: 1m 6s\tremaining: 38m 30s\n",
      "28:\tlearn: 0.5440543\ttotal: 1m 8s\tremaining: 38m 28s\n",
      "29:\tlearn: 0.5417443\ttotal: 1m 11s\tremaining: 38m 35s\n",
      "30:\tlearn: 0.5394598\ttotal: 1m 13s\tremaining: 38m 32s\n",
      "31:\tlearn: 0.5374257\ttotal: 1m 17s\tremaining: 38m 50s\n",
      "32:\tlearn: 0.5353334\ttotal: 1m 19s\tremaining: 38m 43s\n",
      "33:\tlearn: 0.5334706\ttotal: 1m 22s\tremaining: 38m 58s\n",
      "34:\tlearn: 0.5315281\ttotal: 1m 24s\tremaining: 38m 52s\n",
      "35:\tlearn: 0.5296643\ttotal: 1m 26s\tremaining: 38m 47s\n",
      "36:\tlearn: 0.5278038\ttotal: 1m 29s\tremaining: 38m 36s\n",
      "37:\tlearn: 0.5261312\ttotal: 1m 31s\tremaining: 38m 28s\n",
      "38:\tlearn: 0.5244784\ttotal: 1m 33s\tremaining: 38m 22s\n",
      "39:\tlearn: 0.5229595\ttotal: 1m 35s\tremaining: 38m 9s\n",
      "40:\tlearn: 0.5214237\ttotal: 1m 38s\tremaining: 38m 22s\n",
      "41:\tlearn: 0.5200665\ttotal: 1m 41s\tremaining: 38m 35s\n",
      "42:\tlearn: 0.5187111\ttotal: 1m 43s\tremaining: 38m 31s\n",
      "43:\tlearn: 0.5175081\ttotal: 1m 46s\tremaining: 38m 32s\n",
      "44:\tlearn: 0.5162662\ttotal: 1m 48s\tremaining: 38m 29s\n",
      "45:\tlearn: 0.5149794\ttotal: 1m 50s\tremaining: 38m 17s\n",
      "46:\tlearn: 0.5138009\ttotal: 1m 53s\tremaining: 38m 14s\n",
      "47:\tlearn: 0.5126847\ttotal: 1m 55s\tremaining: 38m 10s\n",
      "48:\tlearn: 0.5115902\ttotal: 1m 58s\tremaining: 38m 12s\n",
      "49:\tlearn: 0.5105173\ttotal: 2m\tremaining: 38m 4s\n",
      "50:\tlearn: 0.5094965\ttotal: 2m 2s\tremaining: 37m 56s\n",
      "51:\tlearn: 0.5085407\ttotal: 2m 4s\tremaining: 37m 54s\n",
      "52:\tlearn: 0.5075725\ttotal: 2m 7s\tremaining: 37m 59s\n",
      "53:\tlearn: 0.5066754\ttotal: 2m 9s\tremaining: 37m 55s\n",
      "54:\tlearn: 0.5058461\ttotal: 2m 12s\tremaining: 37m 54s\n",
      "55:\tlearn: 0.5050010\ttotal: 2m 15s\tremaining: 37m 59s\n",
      "56:\tlearn: 0.5042188\ttotal: 2m 18s\tremaining: 38m 4s\n",
      "57:\tlearn: 0.5034619\ttotal: 2m 19s\tremaining: 37m 52s\n",
      "58:\tlearn: 0.5027168\ttotal: 2m 22s\tremaining: 37m 49s\n",
      "59:\tlearn: 0.5020226\ttotal: 2m 24s\tremaining: 37m 47s\n",
      "60:\tlearn: 0.5012947\ttotal: 2m 27s\tremaining: 37m 51s\n",
      "61:\tlearn: 0.5005889\ttotal: 2m 30s\tremaining: 37m 52s\n",
      "62:\tlearn: 0.4999874\ttotal: 2m 32s\tremaining: 37m 53s\n",
      "63:\tlearn: 0.4993957\ttotal: 2m 35s\tremaining: 37m 59s\n",
      "64:\tlearn: 0.4988083\ttotal: 2m 38s\tremaining: 38m\n",
      "65:\tlearn: 0.4982027\ttotal: 2m 41s\tremaining: 38m 2s\n",
      "66:\tlearn: 0.4976528\ttotal: 2m 43s\tremaining: 37m 55s\n",
      "67:\tlearn: 0.4970901\ttotal: 2m 45s\tremaining: 37m 53s\n",
      "68:\tlearn: 0.4965609\ttotal: 2m 48s\tremaining: 37m 49s\n",
      "69:\tlearn: 0.4960238\ttotal: 2m 50s\tremaining: 37m 51s\n",
      "70:\tlearn: 0.4955475\ttotal: 2m 53s\tremaining: 37m 51s\n",
      "71:\tlearn: 0.4950707\ttotal: 2m 56s\tremaining: 37m 48s\n",
      "72:\tlearn: 0.4946214\ttotal: 2m 58s\tremaining: 37m 42s\n",
      "73:\tlearn: 0.4941814\ttotal: 3m\tremaining: 37m 44s\n",
      "74:\tlearn: 0.4937226\ttotal: 3m 3s\tremaining: 37m 45s\n",
      "75:\tlearn: 0.4933355\ttotal: 3m 6s\tremaining: 37m 47s\n",
      "76:\tlearn: 0.4929814\ttotal: 3m 9s\tremaining: 37m 48s\n",
      "77:\tlearn: 0.4925718\ttotal: 3m 12s\tremaining: 37m 49s\n",
      "78:\tlearn: 0.4922031\ttotal: 3m 14s\tremaining: 37m 42s\n",
      "79:\tlearn: 0.4918214\ttotal: 3m 16s\tremaining: 37m 41s\n",
      "80:\tlearn: 0.4914663\ttotal: 3m 18s\tremaining: 37m 36s\n",
      "81:\tlearn: 0.4911123\ttotal: 3m 21s\tremaining: 37m 33s\n",
      "82:\tlearn: 0.4907730\ttotal: 3m 23s\tremaining: 37m 33s\n",
      "83:\tlearn: 0.4904749\ttotal: 3m 26s\tremaining: 37m 36s\n",
      "84:\tlearn: 0.4901909\ttotal: 3m 29s\tremaining: 37m 39s\n",
      "85:\tlearn: 0.4898727\ttotal: 3m 32s\tremaining: 37m 42s\n",
      "86:\tlearn: 0.4895642\ttotal: 3m 35s\tremaining: 37m 43s\n",
      "87:\tlearn: 0.4892951\ttotal: 3m 38s\tremaining: 37m 42s\n",
      "88:\tlearn: 0.4890298\ttotal: 3m 40s\tremaining: 37m 37s\n",
      "89:\tlearn: 0.4887936\ttotal: 3m 43s\tremaining: 37m 37s\n",
      "90:\tlearn: 0.4885210\ttotal: 3m 45s\tremaining: 37m 33s\n",
      "91:\tlearn: 0.4882596\ttotal: 3m 47s\tremaining: 37m 26s\n",
      "92:\tlearn: 0.4880060\ttotal: 3m 50s\tremaining: 37m 23s\n",
      "93:\tlearn: 0.4877544\ttotal: 3m 51s\tremaining: 37m 14s\n",
      "94:\tlearn: 0.4875228\ttotal: 3m 54s\tremaining: 37m 10s\n",
      "95:\tlearn: 0.4872926\ttotal: 3m 56s\tremaining: 37m 3s\n",
      "96:\tlearn: 0.4870795\ttotal: 3m 58s\tremaining: 36m 57s\n",
      "97:\tlearn: 0.4868557\ttotal: 4m\tremaining: 36m 52s\n",
      "98:\tlearn: 0.4866622\ttotal: 4m 2s\tremaining: 36m 44s\n",
      "99:\tlearn: 0.4864718\ttotal: 4m 4s\tremaining: 36m 42s\n",
      "100:\tlearn: 0.4862701\ttotal: 4m 6s\tremaining: 36m 36s\n",
      "101:\tlearn: 0.4860782\ttotal: 4m 8s\tremaining: 36m 32s\n",
      "102:\tlearn: 0.4858919\ttotal: 4m 11s\tremaining: 36m 25s\n",
      "103:\tlearn: 0.4857065\ttotal: 4m 12s\tremaining: 36m 18s\n",
      "104:\tlearn: 0.4855294\ttotal: 4m 15s\tremaining: 36m 19s\n",
      "105:\tlearn: 0.4853706\ttotal: 4m 18s\tremaining: 36m 19s\n",
      "106:\tlearn: 0.4852152\ttotal: 4m 20s\tremaining: 36m 15s\n",
      "107:\tlearn: 0.4850552\ttotal: 4m 23s\tremaining: 36m 12s\n",
      "108:\tlearn: 0.4848793\ttotal: 4m 24s\tremaining: 36m 5s\n",
      "109:\tlearn: 0.4847409\ttotal: 4m 27s\tremaining: 36m 4s\n",
      "110:\tlearn: 0.4845846\ttotal: 4m 29s\tremaining: 36m 1s\n",
      "111:\tlearn: 0.4844330\ttotal: 4m 32s\tremaining: 35m 58s\n",
      "112:\tlearn: 0.4843056\ttotal: 4m 34s\tremaining: 35m 55s\n",
      "113:\tlearn: 0.4841779\ttotal: 4m 37s\tremaining: 35m 54s\n",
      "114:\tlearn: 0.4840561\ttotal: 4m 39s\tremaining: 35m 48s\n",
      "115:\tlearn: 0.4839175\ttotal: 4m 42s\tremaining: 35m 49s\n",
      "116:\tlearn: 0.4837660\ttotal: 4m 44s\tremaining: 35m 48s\n",
      "117:\tlearn: 0.4836563\ttotal: 4m 46s\tremaining: 35m 42s\n",
      "118:\tlearn: 0.4834813\ttotal: 4m 49s\tremaining: 35m 40s\n",
      "119:\tlearn: 0.4833549\ttotal: 4m 51s\tremaining: 35m 40s\n",
      "120:\tlearn: 0.4832297\ttotal: 4m 54s\tremaining: 35m 36s\n",
      "121:\tlearn: 0.4831251\ttotal: 4m 56s\tremaining: 35m 36s\n",
      "122:\tlearn: 0.4829901\ttotal: 4m 59s\tremaining: 35m 33s\n",
      "123:\tlearn: 0.4828710\ttotal: 5m 1s\tremaining: 35m 33s\n",
      "124:\tlearn: 0.4827199\ttotal: 5m 4s\tremaining: 35m 32s\n",
      "125:\tlearn: 0.4826324\ttotal: 5m 6s\tremaining: 35m 28s\n",
      "126:\tlearn: 0.4824991\ttotal: 5m 9s\tremaining: 35m 25s\n",
      "127:\tlearn: 0.4823990\ttotal: 5m 11s\tremaining: 35m 21s\n",
      "128:\tlearn: 0.4823063\ttotal: 5m 13s\tremaining: 35m 19s\n",
      "129:\tlearn: 0.4821938\ttotal: 5m 16s\tremaining: 35m 18s\n",
      "130:\tlearn: 0.4821108\ttotal: 5m 19s\tremaining: 35m 18s\n",
      "131:\tlearn: 0.4820270\ttotal: 5m 21s\tremaining: 35m 13s\n",
      "132:\tlearn: 0.4819211\ttotal: 5m 23s\tremaining: 35m 11s\n",
      "133:\tlearn: 0.4818196\ttotal: 5m 26s\tremaining: 35m 7s\n",
      "134:\tlearn: 0.4817414\ttotal: 5m 28s\tremaining: 35m 7s\n",
      "135:\tlearn: 0.4816456\ttotal: 5m 31s\tremaining: 35m 6s\n",
      "136:\tlearn: 0.4815433\ttotal: 5m 34s\tremaining: 35m 4s\n",
      "137:\tlearn: 0.4814429\ttotal: 5m 36s\tremaining: 35m 4s\n",
      "138:\tlearn: 0.4813393\ttotal: 5m 39s\tremaining: 35m\n",
      "139:\tlearn: 0.4812470\ttotal: 5m 42s\tremaining: 35m 1s\n",
      "140:\tlearn: 0.4811752\ttotal: 5m 44s\tremaining: 34m 59s\n",
      "141:\tlearn: 0.4810884\ttotal: 5m 47s\tremaining: 34m 58s\n",
      "142:\tlearn: 0.4809953\ttotal: 5m 49s\tremaining: 34m 57s\n",
      "143:\tlearn: 0.4809060\ttotal: 5m 52s\tremaining: 34m 55s\n",
      "144:\tlearn: 0.4808461\ttotal: 5m 55s\tremaining: 34m 53s\n",
      "145:\tlearn: 0.4807799\ttotal: 5m 57s\tremaining: 34m 53s\n",
      "146:\tlearn: 0.4806950\ttotal: 6m\tremaining: 34m 52s\n",
      "147:\tlearn: 0.4806105\ttotal: 6m 3s\tremaining: 34m 51s\n",
      "148:\tlearn: 0.4805336\ttotal: 6m 5s\tremaining: 34m 47s\n",
      "149:\tlearn: 0.4804782\ttotal: 6m 8s\tremaining: 34m 47s\n",
      "150:\tlearn: 0.4804107\ttotal: 6m 11s\tremaining: 34m 46s\n",
      "151:\tlearn: 0.4803473\ttotal: 6m 13s\tremaining: 34m 45s\n",
      "152:\tlearn: 0.4802895\ttotal: 6m 16s\tremaining: 34m 42s\n",
      "153:\tlearn: 0.4802122\ttotal: 6m 18s\tremaining: 34m 39s\n",
      "154:\tlearn: 0.4801086\ttotal: 6m 20s\tremaining: 34m 36s\n",
      "155:\tlearn: 0.4800347\ttotal: 6m 23s\tremaining: 34m 36s\n",
      "156:\tlearn: 0.4799760\ttotal: 6m 26s\tremaining: 34m 32s\n",
      "157:\tlearn: 0.4799210\ttotal: 6m 28s\tremaining: 34m 31s\n",
      "158:\tlearn: 0.4798616\ttotal: 6m 31s\tremaining: 34m 29s\n",
      "159:\tlearn: 0.4798087\ttotal: 6m 34s\tremaining: 34m 28s\n",
      "160:\tlearn: 0.4797316\ttotal: 6m 36s\tremaining: 34m 27s\n",
      "161:\tlearn: 0.4796836\ttotal: 6m 39s\tremaining: 34m 24s\n",
      "162:\tlearn: 0.4796154\ttotal: 6m 41s\tremaining: 34m 21s\n",
      "163:\tlearn: 0.4795703\ttotal: 6m 43s\tremaining: 34m 18s\n",
      "164:\tlearn: 0.4795050\ttotal: 6m 46s\tremaining: 34m 16s\n",
      "165:\tlearn: 0.4794550\ttotal: 6m 48s\tremaining: 34m 13s\n",
      "166:\tlearn: 0.4794083\ttotal: 6m 51s\tremaining: 34m 12s\n",
      "167:\tlearn: 0.4793468\ttotal: 6m 53s\tremaining: 34m 9s\n",
      "168:\tlearn: 0.4792873\ttotal: 6m 55s\tremaining: 34m 5s\n",
      "169:\tlearn: 0.4792238\ttotal: 6m 58s\tremaining: 34m 3s\n",
      "170:\tlearn: 0.4791746\ttotal: 7m 1s\tremaining: 34m 1s\n",
      "171:\tlearn: 0.4791292\ttotal: 7m 3s\tremaining: 33m 59s\n",
      "172:\tlearn: 0.4790677\ttotal: 7m 5s\tremaining: 33m 56s\n",
      "173:\tlearn: 0.4790027\ttotal: 7m 8s\tremaining: 33m 53s\n",
      "174:\tlearn: 0.4789620\ttotal: 7m 10s\tremaining: 33m 51s\n",
      "175:\tlearn: 0.4789064\ttotal: 7m 13s\tremaining: 33m 47s\n",
      "176:\tlearn: 0.4788505\ttotal: 7m 15s\tremaining: 33m 46s\n",
      "177:\tlearn: 0.4787855\ttotal: 7m 17s\tremaining: 33m 42s\n",
      "178:\tlearn: 0.4787472\ttotal: 7m 20s\tremaining: 33m 41s\n",
      "179:\tlearn: 0.4786936\ttotal: 7m 22s\tremaining: 33m 37s\n",
      "180:\tlearn: 0.4786592\ttotal: 7m 25s\tremaining: 33m 36s\n",
      "181:\tlearn: 0.4785912\ttotal: 7m 28s\tremaining: 33m 35s\n",
      "182:\tlearn: 0.4785406\ttotal: 7m 31s\tremaining: 33m 34s\n",
      "183:\tlearn: 0.4784840\ttotal: 7m 33s\tremaining: 33m 29s\n",
      "184:\tlearn: 0.4784512\ttotal: 7m 35s\tremaining: 33m 27s\n",
      "185:\tlearn: 0.4784092\ttotal: 7m 37s\tremaining: 33m 23s\n",
      "186:\tlearn: 0.4783604\ttotal: 7m 40s\tremaining: 33m 20s\n",
      "187:\tlearn: 0.4783068\ttotal: 7m 42s\tremaining: 33m 17s\n",
      "188:\tlearn: 0.4782739\ttotal: 7m 45s\tremaining: 33m 15s\n",
      "189:\tlearn: 0.4782250\ttotal: 7m 47s\tremaining: 33m 12s\n",
      "190:\tlearn: 0.4781807\ttotal: 7m 49s\tremaining: 33m 10s\n",
      "191:\tlearn: 0.4781482\ttotal: 7m 52s\tremaining: 33m 8s\n",
      "192:\tlearn: 0.4780943\ttotal: 7m 54s\tremaining: 33m 3s\n",
      "193:\tlearn: 0.4780619\ttotal: 7m 56s\tremaining: 33m\n",
      "194:\tlearn: 0.4780345\ttotal: 7m 59s\tremaining: 32m 57s\n",
      "195:\tlearn: 0.4779972\ttotal: 8m 1s\tremaining: 32m 54s\n",
      "196:\tlearn: 0.4779488\ttotal: 8m 3s\tremaining: 32m 52s\n",
      "197:\tlearn: 0.4779133\ttotal: 8m 5s\tremaining: 32m 48s\n",
      "198:\tlearn: 0.4778693\ttotal: 8m 8s\tremaining: 32m 45s\n",
      "199:\tlearn: 0.4778356\ttotal: 8m 10s\tremaining: 32m 40s\n",
      "200:\tlearn: 0.4777759\ttotal: 8m 12s\tremaining: 32m 36s\n",
      "201:\tlearn: 0.4777364\ttotal: 8m 14s\tremaining: 32m 33s\n",
      "202:\tlearn: 0.4776957\ttotal: 8m 16s\tremaining: 32m 29s\n",
      "203:\tlearn: 0.4776603\ttotal: 8m 18s\tremaining: 32m 26s\n",
      "204:\tlearn: 0.4776211\ttotal: 8m 21s\tremaining: 32m 23s\n",
      "205:\tlearn: 0.4775929\ttotal: 8m 23s\tremaining: 32m 20s\n",
      "206:\tlearn: 0.4775542\ttotal: 8m 26s\tremaining: 32m 19s\n",
      "207:\tlearn: 0.4775228\ttotal: 8m 28s\tremaining: 32m 14s\n",
      "208:\tlearn: 0.4774977\ttotal: 8m 30s\tremaining: 32m 12s\n",
      "209:\tlearn: 0.4774624\ttotal: 8m 33s\tremaining: 32m 10s\n",
      "210:\tlearn: 0.4774349\ttotal: 8m 35s\tremaining: 32m 7s\n",
      "211:\tlearn: 0.4774002\ttotal: 8m 38s\tremaining: 32m 6s\n",
      "212:\tlearn: 0.4773741\ttotal: 8m 40s\tremaining: 32m 4s\n",
      "213:\tlearn: 0.4773377\ttotal: 8m 43s\tremaining: 32m 2s\n",
      "214:\tlearn: 0.4773037\ttotal: 8m 45s\tremaining: 31m 59s\n",
      "215:\tlearn: 0.4772820\ttotal: 8m 48s\tremaining: 31m 56s\n",
      "216:\tlearn: 0.4772356\ttotal: 8m 50s\tremaining: 31m 53s\n",
      "217:\tlearn: 0.4772068\ttotal: 8m 52s\tremaining: 31m 51s\n",
      "218:\tlearn: 0.4771742\ttotal: 8m 54s\tremaining: 31m 47s\n",
      "219:\tlearn: 0.4771419\ttotal: 8m 56s\tremaining: 31m 43s\n",
      "220:\tlearn: 0.4771113\ttotal: 8m 58s\tremaining: 31m 39s\n",
      "221:\tlearn: 0.4770773\ttotal: 9m 1s\tremaining: 31m 36s\n",
      "222:\tlearn: 0.4770395\ttotal: 9m 3s\tremaining: 31m 33s\n",
      "223:\tlearn: 0.4770094\ttotal: 9m 5s\tremaining: 31m 29s\n",
      "224:\tlearn: 0.4769726\ttotal: 9m 7s\tremaining: 31m 26s\n",
      "225:\tlearn: 0.4769439\ttotal: 9m 9s\tremaining: 31m 23s\n",
      "226:\tlearn: 0.4769166\ttotal: 9m 12s\tremaining: 31m 22s\n",
      "227:\tlearn: 0.4768978\ttotal: 9m 15s\tremaining: 31m 19s\n",
      "228:\tlearn: 0.4768740\ttotal: 9m 18s\tremaining: 31m 18s\n",
      "229:\tlearn: 0.4768412\ttotal: 9m 20s\tremaining: 31m 17s\n",
      "230:\tlearn: 0.4768079\ttotal: 9m 23s\tremaining: 31m 14s\n",
      "231:\tlearn: 0.4767763\ttotal: 9m 25s\tremaining: 31m 12s\n",
      "232:\tlearn: 0.4767467\ttotal: 9m 27s\tremaining: 31m 9s\n",
      "233:\tlearn: 0.4767137\ttotal: 9m 30s\tremaining: 31m 6s\n",
      "234:\tlearn: 0.4766891\ttotal: 9m 32s\tremaining: 31m 2s\n",
      "235:\tlearn: 0.4766638\ttotal: 9m 34s\tremaining: 30m 59s\n",
      "236:\tlearn: 0.4766358\ttotal: 9m 36s\tremaining: 30m 57s\n",
      "237:\tlearn: 0.4766174\ttotal: 9m 39s\tremaining: 30m 55s\n",
      "238:\tlearn: 0.4765882\ttotal: 9m 41s\tremaining: 30m 52s\n",
      "239:\tlearn: 0.4765624\ttotal: 9m 44s\tremaining: 30m 49s\n",
      "240:\tlearn: 0.4765342\ttotal: 9m 46s\tremaining: 30m 47s\n",
      "241:\tlearn: 0.4765147\ttotal: 9m 49s\tremaining: 30m 45s\n",
      "242:\tlearn: 0.4764977\ttotal: 9m 51s\tremaining: 30m 43s\n",
      "243:\tlearn: 0.4764600\ttotal: 9m 53s\tremaining: 30m 40s\n",
      "244:\tlearn: 0.4764373\ttotal: 9m 55s\tremaining: 30m 36s\n",
      "245:\tlearn: 0.4764176\ttotal: 9m 58s\tremaining: 30m 33s\n",
      "246:\tlearn: 0.4763880\ttotal: 10m\tremaining: 30m 29s\n",
      "247:\tlearn: 0.4763591\ttotal: 10m 2s\tremaining: 30m 25s\n",
      "248:\tlearn: 0.4763425\ttotal: 10m 4s\tremaining: 30m 22s\n",
      "249:\tlearn: 0.4763235\ttotal: 10m 6s\tremaining: 30m 18s\n",
      "250:\tlearn: 0.4762907\ttotal: 10m 8s\tremaining: 30m 14s\n",
      "251:\tlearn: 0.4762603\ttotal: 10m 10s\tremaining: 30m 10s\n",
      "252:\tlearn: 0.4762325\ttotal: 10m 12s\tremaining: 30m 8s\n",
      "253:\tlearn: 0.4762118\ttotal: 10m 14s\tremaining: 30m 4s\n",
      "254:\tlearn: 0.4761914\ttotal: 10m 16s\tremaining: 30m 1s\n",
      "255:\tlearn: 0.4761590\ttotal: 10m 18s\tremaining: 29m 58s\n",
      "256:\tlearn: 0.4761226\ttotal: 10m 20s\tremaining: 29m 54s\n",
      "257:\tlearn: 0.4761009\ttotal: 10m 23s\tremaining: 29m 52s\n",
      "258:\tlearn: 0.4760729\ttotal: 10m 25s\tremaining: 29m 48s\n",
      "259:\tlearn: 0.4760453\ttotal: 10m 27s\tremaining: 29m 45s\n",
      "260:\tlearn: 0.4760260\ttotal: 10m 29s\tremaining: 29m 43s\n",
      "261:\tlearn: 0.4760072\ttotal: 10m 32s\tremaining: 29m 40s\n",
      "262:\tlearn: 0.4759881\ttotal: 10m 34s\tremaining: 29m 38s\n",
      "263:\tlearn: 0.4759607\ttotal: 10m 36s\tremaining: 29m 34s\n",
      "264:\tlearn: 0.4759431\ttotal: 10m 38s\tremaining: 29m 31s\n",
      "265:\tlearn: 0.4759181\ttotal: 10m 40s\tremaining: 29m 27s\n",
      "266:\tlearn: 0.4758978\ttotal: 10m 42s\tremaining: 29m 23s\n",
      "267:\tlearn: 0.4758800\ttotal: 10m 45s\tremaining: 29m 23s\n",
      "268:\tlearn: 0.4758470\ttotal: 10m 47s\tremaining: 29m 18s\n",
      "269:\tlearn: 0.4758271\ttotal: 10m 49s\tremaining: 29m 15s\n",
      "270:\tlearn: 0.4758087\ttotal: 10m 51s\tremaining: 29m 11s\n",
      "271:\tlearn: 0.4757893\ttotal: 10m 52s\tremaining: 29m 6s\n",
      "272:\tlearn: 0.4757570\ttotal: 10m 54s\tremaining: 29m 3s\n",
      "273:\tlearn: 0.4757418\ttotal: 10m 56s\tremaining: 29m\n",
      "274:\tlearn: 0.4757216\ttotal: 10m 58s\tremaining: 28m 55s\n",
      "275:\tlearn: 0.4757077\ttotal: 11m\tremaining: 28m 52s\n",
      "276:\tlearn: 0.4756850\ttotal: 11m 2s\tremaining: 28m 48s\n",
      "277:\tlearn: 0.4756627\ttotal: 11m 4s\tremaining: 28m 44s\n",
      "278:\tlearn: 0.4756347\ttotal: 11m 5s\tremaining: 28m 41s\n",
      "279:\tlearn: 0.4756124\ttotal: 11m 8s\tremaining: 28m 38s\n",
      "280:\tlearn: 0.4755963\ttotal: 11m 10s\tremaining: 28m 35s\n",
      "281:\tlearn: 0.4755738\ttotal: 11m 12s\tremaining: 28m 33s\n",
      "282:\tlearn: 0.4755467\ttotal: 11m 14s\tremaining: 28m 29s\n",
      "283:\tlearn: 0.4755245\ttotal: 11m 16s\tremaining: 28m 25s\n",
      "284:\tlearn: 0.4755080\ttotal: 11m 18s\tremaining: 28m 22s\n",
      "285:\tlearn: 0.4754835\ttotal: 11m 20s\tremaining: 28m 19s\n",
      "286:\tlearn: 0.4754610\ttotal: 11m 22s\tremaining: 28m 16s\n",
      "287:\tlearn: 0.4754398\ttotal: 11m 25s\tremaining: 28m 13s\n",
      "288:\tlearn: 0.4754241\ttotal: 11m 27s\tremaining: 28m 11s\n",
      "289:\tlearn: 0.4754019\ttotal: 11m 29s\tremaining: 28m 8s\n",
      "290:\tlearn: 0.4753711\ttotal: 11m 31s\tremaining: 28m 4s\n",
      "291:\tlearn: 0.4753456\ttotal: 11m 32s\tremaining: 28m\n",
      "292:\tlearn: 0.4753261\ttotal: 11m 35s\tremaining: 27m 58s\n",
      "293:\tlearn: 0.4753119\ttotal: 11m 37s\tremaining: 27m 54s\n",
      "294:\tlearn: 0.4753001\ttotal: 11m 39s\tremaining: 27m 51s\n",
      "295:\tlearn: 0.4752819\ttotal: 11m 40s\tremaining: 27m 46s\n",
      "296:\tlearn: 0.4752574\ttotal: 11m 42s\tremaining: 27m 43s\n",
      "297:\tlearn: 0.4752381\ttotal: 11m 45s\tremaining: 27m 40s\n",
      "298:\tlearn: 0.4752266\ttotal: 11m 47s\tremaining: 27m 38s\n",
      "299:\tlearn: 0.4752078\ttotal: 11m 49s\tremaining: 27m 35s\n",
      "300:\tlearn: 0.4751907\ttotal: 11m 51s\tremaining: 27m 32s\n",
      "301:\tlearn: 0.4751684\ttotal: 11m 53s\tremaining: 27m 29s\n",
      "302:\tlearn: 0.4751497\ttotal: 11m 55s\tremaining: 27m 25s\n",
      "303:\tlearn: 0.4751297\ttotal: 11m 57s\tremaining: 27m 22s\n",
      "304:\tlearn: 0.4751149\ttotal: 11m 59s\tremaining: 27m 19s\n",
      "305:\tlearn: 0.4750970\ttotal: 12m 1s\tremaining: 27m 16s\n",
      "306:\tlearn: 0.4750798\ttotal: 12m 3s\tremaining: 27m 12s\n",
      "307:\tlearn: 0.4750615\ttotal: 12m 5s\tremaining: 27m 8s\n",
      "308:\tlearn: 0.4750455\ttotal: 12m 7s\tremaining: 27m 6s\n",
      "309:\tlearn: 0.4750261\ttotal: 12m 9s\tremaining: 27m 2s\n",
      "310:\tlearn: 0.4749998\ttotal: 12m 10s\tremaining: 26m 59s\n",
      "311:\tlearn: 0.4749758\ttotal: 12m 12s\tremaining: 26m 55s\n",
      "312:\tlearn: 0.4749538\ttotal: 12m 14s\tremaining: 26m 51s\n",
      "313:\tlearn: 0.4749397\ttotal: 12m 17s\tremaining: 26m 50s\n",
      "314:\tlearn: 0.4749177\ttotal: 12m 19s\tremaining: 26m 47s\n",
      "315:\tlearn: 0.4749013\ttotal: 12m 20s\tremaining: 26m 43s\n",
      "316:\tlearn: 0.4748832\ttotal: 12m 22s\tremaining: 26m 40s\n",
      "317:\tlearn: 0.4748645\ttotal: 12m 25s\tremaining: 26m 37s\n",
      "318:\tlearn: 0.4748473\ttotal: 12m 27s\tremaining: 26m 35s\n",
      "319:\tlearn: 0.4748286\ttotal: 12m 29s\tremaining: 26m 32s\n",
      "320:\tlearn: 0.4748057\ttotal: 12m 31s\tremaining: 26m 29s\n",
      "321:\tlearn: 0.4747836\ttotal: 12m 33s\tremaining: 26m 25s\n",
      "322:\tlearn: 0.4747699\ttotal: 12m 34s\tremaining: 26m 22s\n",
      "323:\tlearn: 0.4747566\ttotal: 12m 37s\tremaining: 26m 20s\n",
      "324:\tlearn: 0.4747334\ttotal: 12m 39s\tremaining: 26m 16s\n",
      "325:\tlearn: 0.4747197\ttotal: 12m 41s\tremaining: 26m 13s\n",
      "326:\tlearn: 0.4747054\ttotal: 12m 43s\tremaining: 26m 11s\n",
      "327:\tlearn: 0.4746834\ttotal: 12m 45s\tremaining: 26m 7s\n",
      "328:\tlearn: 0.4746748\ttotal: 12m 47s\tremaining: 26m 5s\n",
      "329:\tlearn: 0.4746524\ttotal: 12m 49s\tremaining: 26m 1s\n",
      "330:\tlearn: 0.4746323\ttotal: 12m 50s\tremaining: 25m 57s\n",
      "331:\tlearn: 0.4746171\ttotal: 12m 53s\tremaining: 25m 56s\n",
      "332:\tlearn: 0.4746039\ttotal: 12m 55s\tremaining: 25m 53s\n",
      "333:\tlearn: 0.4745866\ttotal: 12m 57s\tremaining: 25m 51s\n",
      "334:\tlearn: 0.4745690\ttotal: 12m 59s\tremaining: 25m 47s\n",
      "335:\tlearn: 0.4745495\ttotal: 13m 2s\tremaining: 25m 45s\n",
      "336:\tlearn: 0.4745378\ttotal: 13m 3s\tremaining: 25m 42s\n",
      "337:\tlearn: 0.4745208\ttotal: 13m 6s\tremaining: 25m 39s\n",
      "338:\tlearn: 0.4745077\ttotal: 13m 8s\tremaining: 25m 37s\n",
      "339:\tlearn: 0.4744886\ttotal: 13m 10s\tremaining: 25m 34s\n",
      "340:\tlearn: 0.4744670\ttotal: 13m 12s\tremaining: 25m 31s\n",
      "341:\tlearn: 0.4744527\ttotal: 13m 14s\tremaining: 25m 29s\n",
      "342:\tlearn: 0.4744363\ttotal: 13m 17s\tremaining: 25m 26s\n",
      "343:\tlearn: 0.4744230\ttotal: 13m 19s\tremaining: 25m 24s\n",
      "344:\tlearn: 0.4744126\ttotal: 13m 21s\tremaining: 25m 20s\n",
      "345:\tlearn: 0.4743960\ttotal: 13m 23s\tremaining: 25m 17s\n",
      "346:\tlearn: 0.4743713\ttotal: 13m 24s\tremaining: 25m 14s\n",
      "347:\tlearn: 0.4743531\ttotal: 13m 26s\tremaining: 25m 10s\n",
      "348:\tlearn: 0.4743347\ttotal: 13m 28s\tremaining: 25m 7s\n",
      "349:\tlearn: 0.4743191\ttotal: 13m 31s\tremaining: 25m 6s\n",
      "350:\tlearn: 0.4743095\ttotal: 13m 33s\tremaining: 25m 3s\n",
      "351:\tlearn: 0.4742901\ttotal: 13m 34s\tremaining: 24m 59s\n",
      "352:\tlearn: 0.4742746\ttotal: 13m 36s\tremaining: 24m 56s\n",
      "353:\tlearn: 0.4742560\ttotal: 13m 38s\tremaining: 24m 54s\n",
      "354:\tlearn: 0.4742395\ttotal: 13m 40s\tremaining: 24m 51s\n",
      "355:\tlearn: 0.4742156\ttotal: 13m 42s\tremaining: 24m 48s\n",
      "356:\tlearn: 0.4742000\ttotal: 13m 44s\tremaining: 24m 45s\n",
      "357:\tlearn: 0.4741804\ttotal: 13m 46s\tremaining: 24m 41s\n",
      "358:\tlearn: 0.4741627\ttotal: 13m 48s\tremaining: 24m 38s\n",
      "359:\tlearn: 0.4741515\ttotal: 13m 50s\tremaining: 24m 35s\n",
      "360:\tlearn: 0.4741376\ttotal: 13m 52s\tremaining: 24m 34s\n",
      "361:\tlearn: 0.4741243\ttotal: 13m 54s\tremaining: 24m 31s\n",
      "362:\tlearn: 0.4741138\ttotal: 13m 57s\tremaining: 24m 29s\n",
      "363:\tlearn: 0.4740992\ttotal: 13m 59s\tremaining: 24m 26s\n",
      "364:\tlearn: 0.4740813\ttotal: 14m 1s\tremaining: 24m 23s\n",
      "365:\tlearn: 0.4740655\ttotal: 14m 3s\tremaining: 24m 20s\n",
      "366:\tlearn: 0.4740489\ttotal: 14m 4s\tremaining: 24m 17s\n",
      "367:\tlearn: 0.4740340\ttotal: 14m 6s\tremaining: 24m 14s\n",
      "368:\tlearn: 0.4740204\ttotal: 14m 9s\tremaining: 24m 12s\n",
      "369:\tlearn: 0.4740113\ttotal: 14m 11s\tremaining: 24m 9s\n",
      "370:\tlearn: 0.4740023\ttotal: 14m 13s\tremaining: 24m 6s\n",
      "371:\tlearn: 0.4739871\ttotal: 14m 15s\tremaining: 24m 3s\n",
      "372:\tlearn: 0.4739735\ttotal: 14m 17s\tremaining: 24m 1s\n",
      "373:\tlearn: 0.4739567\ttotal: 14m 19s\tremaining: 23m 58s\n",
      "374:\tlearn: 0.4739483\ttotal: 14m 21s\tremaining: 23m 55s\n",
      "375:\tlearn: 0.4739345\ttotal: 14m 23s\tremaining: 23m 52s\n",
      "376:\tlearn: 0.4739187\ttotal: 14m 25s\tremaining: 23m 49s\n",
      "377:\tlearn: 0.4739023\ttotal: 14m 27s\tremaining: 23m 46s\n",
      "378:\tlearn: 0.4738843\ttotal: 14m 28s\tremaining: 23m 43s\n",
      "379:\tlearn: 0.4738782\ttotal: 14m 31s\tremaining: 23m 41s\n",
      "380:\tlearn: 0.4738620\ttotal: 14m 33s\tremaining: 23m 39s\n",
      "381:\tlearn: 0.4738478\ttotal: 14m 35s\tremaining: 23m 35s\n",
      "382:\tlearn: 0.4738358\ttotal: 14m 37s\tremaining: 23m 33s\n",
      "383:\tlearn: 0.4738169\ttotal: 14m 39s\tremaining: 23m 30s\n",
      "384:\tlearn: 0.4738037\ttotal: 14m 40s\tremaining: 23m 27s\n",
      "385:\tlearn: 0.4737903\ttotal: 14m 42s\tremaining: 23m 23s\n",
      "386:\tlearn: 0.4737744\ttotal: 14m 44s\tremaining: 23m 21s\n",
      "387:\tlearn: 0.4737635\ttotal: 14m 46s\tremaining: 23m 18s\n",
      "388:\tlearn: 0.4737530\ttotal: 14m 48s\tremaining: 23m 15s\n",
      "389:\tlearn: 0.4737444\ttotal: 14m 50s\tremaining: 23m 12s\n",
      "390:\tlearn: 0.4737325\ttotal: 14m 53s\tremaining: 23m 11s\n",
      "391:\tlearn: 0.4737167\ttotal: 14m 55s\tremaining: 23m 8s\n",
      "392:\tlearn: 0.4737014\ttotal: 14m 56s\tremaining: 23m 4s\n",
      "393:\tlearn: 0.4736865\ttotal: 14m 59s\tremaining: 23m 2s\n",
      "394:\tlearn: 0.4736741\ttotal: 15m 1s\tremaining: 23m\n",
      "395:\tlearn: 0.4736542\ttotal: 15m 2s\tremaining: 22m 57s\n",
      "396:\tlearn: 0.4736401\ttotal: 15m 5s\tremaining: 22m 54s\n",
      "397:\tlearn: 0.4736242\ttotal: 15m 7s\tremaining: 22m 52s\n",
      "398:\tlearn: 0.4736104\ttotal: 15m 9s\tremaining: 22m 49s\n",
      "399:\tlearn: 0.4736030\ttotal: 15m 11s\tremaining: 22m 46s\n",
      "400:\tlearn: 0.4735905\ttotal: 15m 12s\tremaining: 22m 43s\n",
      "401:\tlearn: 0.4735780\ttotal: 15m 14s\tremaining: 22m 40s\n",
      "402:\tlearn: 0.4735668\ttotal: 15m 16s\tremaining: 22m 38s\n",
      "403:\tlearn: 0.4735531\ttotal: 15m 19s\tremaining: 22m 36s\n",
      "404:\tlearn: 0.4735384\ttotal: 15m 20s\tremaining: 22m 33s\n",
      "405:\tlearn: 0.4735233\ttotal: 15m 22s\tremaining: 22m 30s\n",
      "406:\tlearn: 0.4735083\ttotal: 15m 24s\tremaining: 22m 27s\n",
      "407:\tlearn: 0.4734966\ttotal: 15m 26s\tremaining: 22m 24s\n",
      "408:\tlearn: 0.4734846\ttotal: 15m 28s\tremaining: 22m 22s\n",
      "409:\tlearn: 0.4734782\ttotal: 15m 30s\tremaining: 22m 18s\n",
      "410:\tlearn: 0.4734570\ttotal: 15m 32s\tremaining: 22m 16s\n",
      "411:\tlearn: 0.4734404\ttotal: 15m 34s\tremaining: 22m 13s\n",
      "412:\tlearn: 0.4734307\ttotal: 15m 36s\tremaining: 22m 11s\n",
      "413:\tlearn: 0.4734218\ttotal: 15m 38s\tremaining: 22m 9s\n",
      "414:\tlearn: 0.4734036\ttotal: 15m 40s\tremaining: 22m 5s\n",
      "415:\tlearn: 0.4733935\ttotal: 15m 42s\tremaining: 22m 3s\n",
      "416:\tlearn: 0.4733852\ttotal: 15m 44s\tremaining: 22m 1s\n",
      "417:\tlearn: 0.4733750\ttotal: 15m 46s\tremaining: 21m 58s\n",
      "418:\tlearn: 0.4733648\ttotal: 15m 48s\tremaining: 21m 55s\n",
      "419:\tlearn: 0.4733526\ttotal: 15m 50s\tremaining: 21m 52s\n",
      "420:\tlearn: 0.4733419\ttotal: 15m 52s\tremaining: 21m 50s\n",
      "421:\tlearn: 0.4733259\ttotal: 15m 54s\tremaining: 21m 47s\n",
      "422:\tlearn: 0.4733079\ttotal: 15m 56s\tremaining: 21m 44s\n",
      "423:\tlearn: 0.4732992\ttotal: 15m 59s\tremaining: 21m 42s\n",
      "424:\tlearn: 0.4732888\ttotal: 16m 1s\tremaining: 21m 41s\n",
      "425:\tlearn: 0.4732758\ttotal: 16m 4s\tremaining: 21m 39s\n",
      "426:\tlearn: 0.4732634\ttotal: 16m 6s\tremaining: 21m 36s\n",
      "427:\tlearn: 0.4732487\ttotal: 16m 8s\tremaining: 21m 33s\n",
      "428:\tlearn: 0.4732430\ttotal: 16m 9s\tremaining: 21m 30s\n",
      "429:\tlearn: 0.4732316\ttotal: 16m 11s\tremaining: 21m 28s\n",
      "430:\tlearn: 0.4732194\ttotal: 16m 13s\tremaining: 21m 25s\n",
      "431:\tlearn: 0.4732082\ttotal: 16m 15s\tremaining: 21m 22s\n",
      "432:\tlearn: 0.4731978\ttotal: 16m 17s\tremaining: 21m 20s\n",
      "433:\tlearn: 0.4731855\ttotal: 16m 19s\tremaining: 21m 17s\n",
      "434:\tlearn: 0.4731711\ttotal: 16m 21s\tremaining: 21m 14s\n",
      "435:\tlearn: 0.4731604\ttotal: 16m 23s\tremaining: 21m 12s\n",
      "436:\tlearn: 0.4731523\ttotal: 16m 25s\tremaining: 21m 9s\n",
      "437:\tlearn: 0.4731413\ttotal: 16m 27s\tremaining: 21m 7s\n",
      "438:\tlearn: 0.4731332\ttotal: 16m 29s\tremaining: 21m 4s\n",
      "439:\tlearn: 0.4731222\ttotal: 16m 31s\tremaining: 21m 2s\n",
      "440:\tlearn: 0.4731116\ttotal: 16m 33s\tremaining: 20m 59s\n",
      "441:\tlearn: 0.4731026\ttotal: 16m 35s\tremaining: 20m 57s\n",
      "442:\tlearn: 0.4730915\ttotal: 16m 37s\tremaining: 20m 54s\n",
      "443:\tlearn: 0.4730810\ttotal: 16m 39s\tremaining: 20m 52s\n",
      "444:\tlearn: 0.4730714\ttotal: 16m 42s\tremaining: 20m 49s\n",
      "445:\tlearn: 0.4730600\ttotal: 16m 44s\tremaining: 20m 47s\n",
      "446:\tlearn: 0.4730448\ttotal: 16m 45s\tremaining: 20m 44s\n",
      "447:\tlearn: 0.4730352\ttotal: 16m 47s\tremaining: 20m 41s\n",
      "448:\tlearn: 0.4730250\ttotal: 16m 49s\tremaining: 20m 39s\n",
      "449:\tlearn: 0.4730183\ttotal: 16m 51s\tremaining: 20m 36s\n",
      "450:\tlearn: 0.4730065\ttotal: 16m 53s\tremaining: 20m 34s\n",
      "451:\tlearn: 0.4729995\ttotal: 16m 56s\tremaining: 20m 31s\n",
      "452:\tlearn: 0.4729893\ttotal: 16m 58s\tremaining: 20m 29s\n",
      "453:\tlearn: 0.4729810\ttotal: 17m\tremaining: 20m 27s\n",
      "454:\tlearn: 0.4729727\ttotal: 17m 3s\tremaining: 20m 25s\n",
      "455:\tlearn: 0.4729604\ttotal: 17m 5s\tremaining: 20m 22s\n",
      "456:\tlearn: 0.4729489\ttotal: 17m 7s\tremaining: 20m 20s\n",
      "457:\tlearn: 0.4729323\ttotal: 17m 9s\tremaining: 20m 18s\n",
      "458:\tlearn: 0.4729188\ttotal: 17m 11s\tremaining: 20m 15s\n",
      "459:\tlearn: 0.4729107\ttotal: 17m 13s\tremaining: 20m 13s\n",
      "460:\tlearn: 0.4728986\ttotal: 17m 15s\tremaining: 20m 10s\n",
      "461:\tlearn: 0.4728873\ttotal: 17m 17s\tremaining: 20m 8s\n",
      "462:\tlearn: 0.4728754\ttotal: 17m 19s\tremaining: 20m 5s\n",
      "463:\tlearn: 0.4728622\ttotal: 17m 21s\tremaining: 20m 2s\n",
      "464:\tlearn: 0.4728515\ttotal: 17m 23s\tremaining: 20m\n",
      "465:\tlearn: 0.4728449\ttotal: 17m 25s\tremaining: 19m 57s\n",
      "466:\tlearn: 0.4728402\ttotal: 17m 27s\tremaining: 19m 55s\n",
      "467:\tlearn: 0.4728304\ttotal: 17m 29s\tremaining: 19m 53s\n",
      "468:\tlearn: 0.4728221\ttotal: 17m 31s\tremaining: 19m 50s\n",
      "469:\tlearn: 0.4728116\ttotal: 17m 33s\tremaining: 19m 47s\n",
      "470:\tlearn: 0.4728045\ttotal: 17m 35s\tremaining: 19m 45s\n",
      "471:\tlearn: 0.4727952\ttotal: 17m 37s\tremaining: 19m 43s\n",
      "472:\tlearn: 0.4727843\ttotal: 17m 39s\tremaining: 19m 40s\n",
      "473:\tlearn: 0.4727762\ttotal: 17m 41s\tremaining: 19m 38s\n",
      "474:\tlearn: 0.4727655\ttotal: 17m 43s\tremaining: 19m 35s\n",
      "475:\tlearn: 0.4727609\ttotal: 17m 45s\tremaining: 19m 33s\n",
      "476:\tlearn: 0.4727515\ttotal: 17m 47s\tremaining: 19m 30s\n",
      "477:\tlearn: 0.4727448\ttotal: 17m 49s\tremaining: 19m 28s\n",
      "478:\tlearn: 0.4727375\ttotal: 17m 51s\tremaining: 19m 25s\n",
      "479:\tlearn: 0.4727263\ttotal: 17m 53s\tremaining: 19m 22s\n",
      "480:\tlearn: 0.4727215\ttotal: 17m 55s\tremaining: 19m 20s\n",
      "481:\tlearn: 0.4727096\ttotal: 17m 57s\tremaining: 19m 17s\n",
      "482:\tlearn: 0.4727035\ttotal: 17m 59s\tremaining: 19m 15s\n",
      "483:\tlearn: 0.4726921\ttotal: 18m 1s\tremaining: 19m 13s\n",
      "484:\tlearn: 0.4726795\ttotal: 18m 3s\tremaining: 19m 10s\n",
      "485:\tlearn: 0.4726672\ttotal: 18m 5s\tremaining: 19m 7s\n",
      "486:\tlearn: 0.4726532\ttotal: 18m 6s\tremaining: 19m 4s\n",
      "487:\tlearn: 0.4726431\ttotal: 18m 8s\tremaining: 19m 1s\n",
      "488:\tlearn: 0.4726342\ttotal: 18m 9s\tremaining: 18m 58s\n",
      "489:\tlearn: 0.4726228\ttotal: 18m 11s\tremaining: 18m 56s\n",
      "490:\tlearn: 0.4726164\ttotal: 18m 13s\tremaining: 18m 53s\n",
      "491:\tlearn: 0.4726016\ttotal: 18m 15s\tremaining: 18m 51s\n",
      "492:\tlearn: 0.4725921\ttotal: 18m 17s\tremaining: 18m 48s\n",
      "493:\tlearn: 0.4725872\ttotal: 18m 19s\tremaining: 18m 46s\n",
      "494:\tlearn: 0.4725782\ttotal: 18m 21s\tremaining: 18m 43s\n",
      "495:\tlearn: 0.4725642\ttotal: 18m 23s\tremaining: 18m 41s\n",
      "496:\tlearn: 0.4725576\ttotal: 18m 25s\tremaining: 18m 38s\n",
      "497:\tlearn: 0.4725485\ttotal: 18m 27s\tremaining: 18m 36s\n",
      "498:\tlearn: 0.4725408\ttotal: 18m 29s\tremaining: 18m 34s\n",
      "499:\tlearn: 0.4725290\ttotal: 18m 32s\tremaining: 18m 32s\n",
      "500:\tlearn: 0.4725243\ttotal: 18m 33s\tremaining: 18m 29s\n",
      "501:\tlearn: 0.4725169\ttotal: 18m 36s\tremaining: 18m 27s\n",
      "502:\tlearn: 0.4725035\ttotal: 18m 37s\tremaining: 18m 24s\n",
      "503:\tlearn: 0.4724936\ttotal: 18m 39s\tremaining: 18m 21s\n",
      "504:\tlearn: 0.4724848\ttotal: 18m 41s\tremaining: 18m 18s\n",
      "505:\tlearn: 0.4724770\ttotal: 18m 42s\tremaining: 18m 16s\n",
      "506:\tlearn: 0.4724683\ttotal: 18m 44s\tremaining: 18m 13s\n",
      "507:\tlearn: 0.4724593\ttotal: 18m 47s\tremaining: 18m 11s\n",
      "508:\tlearn: 0.4724470\ttotal: 18m 48s\tremaining: 18m 9s\n",
      "509:\tlearn: 0.4724377\ttotal: 18m 51s\tremaining: 18m 7s\n",
      "510:\tlearn: 0.4724306\ttotal: 18m 53s\tremaining: 18m 5s\n",
      "511:\tlearn: 0.4724162\ttotal: 18m 56s\tremaining: 18m 2s\n",
      "512:\tlearn: 0.4724096\ttotal: 18m 57s\tremaining: 17m 59s\n",
      "513:\tlearn: 0.4723990\ttotal: 18m 59s\tremaining: 17m 57s\n",
      "514:\tlearn: 0.4723890\ttotal: 19m\tremaining: 17m 54s\n",
      "515:\tlearn: 0.4723812\ttotal: 19m 2s\tremaining: 17m 51s\n",
      "516:\tlearn: 0.4723753\ttotal: 19m 4s\tremaining: 17m 49s\n",
      "517:\tlearn: 0.4723665\ttotal: 19m 6s\tremaining: 17m 47s\n",
      "518:\tlearn: 0.4723598\ttotal: 19m 9s\tremaining: 17m 44s\n",
      "519:\tlearn: 0.4723546\ttotal: 19m 10s\tremaining: 17m 42s\n",
      "520:\tlearn: 0.4723468\ttotal: 19m 13s\tremaining: 17m 40s\n",
      "521:\tlearn: 0.4723422\ttotal: 19m 14s\tremaining: 17m 37s\n",
      "522:\tlearn: 0.4723318\ttotal: 19m 16s\tremaining: 17m 35s\n",
      "523:\tlearn: 0.4723252\ttotal: 19m 19s\tremaining: 17m 32s\n",
      "524:\tlearn: 0.4723185\ttotal: 19m 21s\tremaining: 17m 30s\n",
      "525:\tlearn: 0.4723124\ttotal: 19m 23s\tremaining: 17m 28s\n",
      "526:\tlearn: 0.4723086\ttotal: 19m 26s\tremaining: 17m 26s\n",
      "527:\tlearn: 0.4723003\ttotal: 19m 28s\tremaining: 17m 24s\n",
      "528:\tlearn: 0.4722950\ttotal: 19m 30s\tremaining: 17m 21s\n",
      "529:\tlearn: 0.4722863\ttotal: 19m 31s\tremaining: 17m 19s\n",
      "530:\tlearn: 0.4722741\ttotal: 19m 33s\tremaining: 17m 16s\n",
      "531:\tlearn: 0.4722668\ttotal: 19m 36s\tremaining: 17m 14s\n",
      "532:\tlearn: 0.4722600\ttotal: 19m 38s\tremaining: 17m 12s\n",
      "533:\tlearn: 0.4722506\ttotal: 19m 40s\tremaining: 17m 10s\n",
      "534:\tlearn: 0.4722453\ttotal: 19m 43s\tremaining: 17m 8s\n",
      "535:\tlearn: 0.4722336\ttotal: 19m 44s\tremaining: 17m 5s\n",
      "536:\tlearn: 0.4722276\ttotal: 19m 46s\tremaining: 17m 3s\n",
      "537:\tlearn: 0.4722199\ttotal: 19m 48s\tremaining: 17m\n",
      "538:\tlearn: 0.4722156\ttotal: 19m 51s\tremaining: 16m 58s\n",
      "539:\tlearn: 0.4722079\ttotal: 19m 53s\tremaining: 16m 56s\n",
      "540:\tlearn: 0.4721966\ttotal: 19m 55s\tremaining: 16m 54s\n",
      "541:\tlearn: 0.4721848\ttotal: 19m 57s\tremaining: 16m 52s\n",
      "542:\tlearn: 0.4721812\ttotal: 19m 59s\tremaining: 16m 49s\n",
      "543:\tlearn: 0.4721713\ttotal: 20m 1s\tremaining: 16m 46s\n",
      "544:\tlearn: 0.4721656\ttotal: 20m 2s\tremaining: 16m 44s\n",
      "545:\tlearn: 0.4721565\ttotal: 20m 4s\tremaining: 16m 41s\n",
      "546:\tlearn: 0.4721474\ttotal: 20m 6s\tremaining: 16m 39s\n",
      "547:\tlearn: 0.4721340\ttotal: 20m 8s\tremaining: 16m 36s\n",
      "548:\tlearn: 0.4721237\ttotal: 20m 10s\tremaining: 16m 34s\n",
      "549:\tlearn: 0.4721164\ttotal: 20m 12s\tremaining: 16m 31s\n",
      "550:\tlearn: 0.4721066\ttotal: 20m 14s\tremaining: 16m 29s\n",
      "551:\tlearn: 0.4720964\ttotal: 20m 16s\tremaining: 16m 26s\n",
      "552:\tlearn: 0.4720873\ttotal: 20m 17s\tremaining: 16m 24s\n",
      "553:\tlearn: 0.4720805\ttotal: 20m 20s\tremaining: 16m 22s\n",
      "554:\tlearn: 0.4720770\ttotal: 20m 21s\tremaining: 16m 19s\n",
      "555:\tlearn: 0.4720721\ttotal: 20m 23s\tremaining: 16m 17s\n",
      "556:\tlearn: 0.4720685\ttotal: 20m 25s\tremaining: 16m 14s\n",
      "557:\tlearn: 0.4720605\ttotal: 20m 27s\tremaining: 16m 12s\n",
      "558:\tlearn: 0.4720537\ttotal: 20m 29s\tremaining: 16m 10s\n",
      "559:\tlearn: 0.4720479\ttotal: 20m 32s\tremaining: 16m 8s\n",
      "560:\tlearn: 0.4720408\ttotal: 20m 33s\tremaining: 16m 5s\n",
      "561:\tlearn: 0.4720333\ttotal: 20m 35s\tremaining: 16m 3s\n",
      "562:\tlearn: 0.4720263\ttotal: 20m 38s\tremaining: 16m 1s\n",
      "563:\tlearn: 0.4720182\ttotal: 20m 40s\tremaining: 15m 59s\n",
      "564:\tlearn: 0.4720105\ttotal: 20m 43s\tremaining: 15m 57s\n",
      "565:\tlearn: 0.4720045\ttotal: 20m 44s\tremaining: 15m 54s\n",
      "566:\tlearn: 0.4719979\ttotal: 20m 46s\tremaining: 15m 52s\n",
      "567:\tlearn: 0.4719878\ttotal: 20m 48s\tremaining: 15m 49s\n",
      "568:\tlearn: 0.4719796\ttotal: 20m 49s\tremaining: 15m 46s\n",
      "569:\tlearn: 0.4719682\ttotal: 20m 51s\tremaining: 15m 44s\n",
      "570:\tlearn: 0.4719652\ttotal: 20m 53s\tremaining: 15m 41s\n",
      "571:\tlearn: 0.4719593\ttotal: 20m 55s\tremaining: 15m 39s\n",
      "572:\tlearn: 0.4719496\ttotal: 20m 57s\tremaining: 15m 36s\n",
      "573:\tlearn: 0.4719464\ttotal: 20m 59s\tremaining: 15m 34s\n",
      "574:\tlearn: 0.4719365\ttotal: 21m 1s\tremaining: 15m 32s\n",
      "575:\tlearn: 0.4719295\ttotal: 21m 3s\tremaining: 15m 30s\n",
      "576:\tlearn: 0.4719220\ttotal: 21m 5s\tremaining: 15m 27s\n",
      "577:\tlearn: 0.4719171\ttotal: 21m 7s\tremaining: 15m 25s\n",
      "578:\tlearn: 0.4719104\ttotal: 21m 9s\tremaining: 15m 22s\n",
      "579:\tlearn: 0.4719018\ttotal: 21m 11s\tremaining: 15m 20s\n",
      "580:\tlearn: 0.4718934\ttotal: 21m 13s\tremaining: 15m 18s\n",
      "581:\tlearn: 0.4718849\ttotal: 21m 15s\tremaining: 15m 16s\n",
      "582:\tlearn: 0.4718797\ttotal: 21m 18s\tremaining: 15m 14s\n",
      "583:\tlearn: 0.4718733\ttotal: 21m 20s\tremaining: 15m 12s\n",
      "584:\tlearn: 0.4718616\ttotal: 21m 21s\tremaining: 15m 9s\n",
      "585:\tlearn: 0.4718532\ttotal: 21m 23s\tremaining: 15m 6s\n",
      "586:\tlearn: 0.4718448\ttotal: 21m 25s\tremaining: 15m 4s\n",
      "587:\tlearn: 0.4718383\ttotal: 21m 27s\tremaining: 15m 1s\n",
      "588:\tlearn: 0.4718339\ttotal: 21m 29s\tremaining: 14m 59s\n",
      "589:\tlearn: 0.4718233\ttotal: 21m 31s\tremaining: 14m 57s\n",
      "590:\tlearn: 0.4718197\ttotal: 21m 32s\tremaining: 14m 54s\n",
      "591:\tlearn: 0.4718121\ttotal: 21m 34s\tremaining: 14m 52s\n",
      "592:\tlearn: 0.4718040\ttotal: 21m 37s\tremaining: 14m 50s\n",
      "593:\tlearn: 0.4717949\ttotal: 21m 39s\tremaining: 14m 48s\n",
      "594:\tlearn: 0.4717867\ttotal: 21m 40s\tremaining: 14m 45s\n",
      "595:\tlearn: 0.4717799\ttotal: 21m 42s\tremaining: 14m 43s\n",
      "596:\tlearn: 0.4717737\ttotal: 21m 45s\tremaining: 14m 41s\n",
      "597:\tlearn: 0.4717653\ttotal: 21m 47s\tremaining: 14m 39s\n",
      "598:\tlearn: 0.4717596\ttotal: 21m 49s\tremaining: 14m 36s\n",
      "599:\tlearn: 0.4717521\ttotal: 21m 51s\tremaining: 14m 34s\n",
      "600:\tlearn: 0.4717453\ttotal: 21m 53s\tremaining: 14m 32s\n",
      "601:\tlearn: 0.4717402\ttotal: 21m 55s\tremaining: 14m 29s\n",
      "602:\tlearn: 0.4717344\ttotal: 21m 56s\tremaining: 14m 27s\n",
      "603:\tlearn: 0.4717274\ttotal: 21m 58s\tremaining: 14m 24s\n",
      "604:\tlearn: 0.4717241\ttotal: 22m\tremaining: 14m 22s\n",
      "605:\tlearn: 0.4717190\ttotal: 22m 2s\tremaining: 14m 19s\n",
      "606:\tlearn: 0.4717131\ttotal: 22m 5s\tremaining: 14m 17s\n",
      "607:\tlearn: 0.4717077\ttotal: 22m 7s\tremaining: 14m 15s\n",
      "608:\tlearn: 0.4717025\ttotal: 22m 8s\tremaining: 14m 13s\n",
      "609:\tlearn: 0.4716960\ttotal: 22m 10s\tremaining: 14m 10s\n",
      "610:\tlearn: 0.4716862\ttotal: 22m 12s\tremaining: 14m 8s\n",
      "611:\tlearn: 0.4716803\ttotal: 22m 15s\tremaining: 14m 6s\n",
      "612:\tlearn: 0.4716759\ttotal: 22m 17s\tremaining: 14m 4s\n",
      "613:\tlearn: 0.4716688\ttotal: 22m 19s\tremaining: 14m 2s\n",
      "614:\tlearn: 0.4716643\ttotal: 22m 22s\tremaining: 14m\n",
      "615:\tlearn: 0.4716587\ttotal: 22m 24s\tremaining: 13m 58s\n",
      "616:\tlearn: 0.4716550\ttotal: 22m 26s\tremaining: 13m 55s\n",
      "617:\tlearn: 0.4716489\ttotal: 22m 28s\tremaining: 13m 53s\n",
      "618:\tlearn: 0.4716442\ttotal: 22m 30s\tremaining: 13m 51s\n",
      "619:\tlearn: 0.4716368\ttotal: 22m 32s\tremaining: 13m 49s\n",
      "620:\tlearn: 0.4716310\ttotal: 22m 34s\tremaining: 13m 46s\n",
      "621:\tlearn: 0.4716241\ttotal: 22m 36s\tremaining: 13m 44s\n",
      "622:\tlearn: 0.4716201\ttotal: 22m 38s\tremaining: 13m 42s\n",
      "623:\tlearn: 0.4716136\ttotal: 22m 41s\tremaining: 13m 40s\n",
      "624:\tlearn: 0.4716069\ttotal: 22m 42s\tremaining: 13m 37s\n",
      "625:\tlearn: 0.4715991\ttotal: 22m 44s\tremaining: 13m 35s\n",
      "626:\tlearn: 0.4715944\ttotal: 22m 46s\tremaining: 13m 32s\n",
      "627:\tlearn: 0.4715904\ttotal: 22m 48s\tremaining: 13m 30s\n",
      "628:\tlearn: 0.4715862\ttotal: 22m 50s\tremaining: 13m 28s\n",
      "629:\tlearn: 0.4715807\ttotal: 22m 52s\tremaining: 13m 25s\n",
      "630:\tlearn: 0.4715726\ttotal: 22m 53s\tremaining: 13m 23s\n",
      "631:\tlearn: 0.4715656\ttotal: 22m 55s\tremaining: 13m 21s\n",
      "632:\tlearn: 0.4715491\ttotal: 22m 58s\tremaining: 13m 19s\n",
      "633:\tlearn: 0.4715406\ttotal: 22m 59s\tremaining: 13m 16s\n",
      "634:\tlearn: 0.4715340\ttotal: 23m 2s\tremaining: 13m 14s\n",
      "635:\tlearn: 0.4715257\ttotal: 23m 4s\tremaining: 13m 12s\n",
      "636:\tlearn: 0.4715187\ttotal: 23m 5s\tremaining: 13m 9s\n",
      "637:\tlearn: 0.4715108\ttotal: 23m 8s\tremaining: 13m 7s\n",
      "638:\tlearn: 0.4715072\ttotal: 23m 10s\tremaining: 13m 5s\n",
      "639:\tlearn: 0.4714982\ttotal: 23m 12s\tremaining: 13m 3s\n",
      "640:\tlearn: 0.4714928\ttotal: 23m 13s\tremaining: 13m\n",
      "641:\tlearn: 0.4714865\ttotal: 23m 16s\tremaining: 12m 58s\n",
      "642:\tlearn: 0.4714827\ttotal: 23m 18s\tremaining: 12m 56s\n",
      "643:\tlearn: 0.4714747\ttotal: 23m 19s\tremaining: 12m 53s\n",
      "644:\tlearn: 0.4714658\ttotal: 23m 21s\tremaining: 12m 51s\n",
      "645:\tlearn: 0.4714584\ttotal: 23m 23s\tremaining: 12m 49s\n",
      "646:\tlearn: 0.4714527\ttotal: 23m 25s\tremaining: 12m 46s\n",
      "647:\tlearn: 0.4714501\ttotal: 23m 27s\tremaining: 12m 44s\n",
      "648:\tlearn: 0.4714409\ttotal: 23m 29s\tremaining: 12m 42s\n",
      "649:\tlearn: 0.4714384\ttotal: 23m 31s\tremaining: 12m 39s\n",
      "650:\tlearn: 0.4714326\ttotal: 23m 32s\tremaining: 12m 37s\n",
      "651:\tlearn: 0.4714288\ttotal: 23m 34s\tremaining: 12m 35s\n",
      "652:\tlearn: 0.4714213\ttotal: 23m 36s\tremaining: 12m 32s\n",
      "653:\tlearn: 0.4714151\ttotal: 23m 38s\tremaining: 12m 30s\n",
      "654:\tlearn: 0.4714089\ttotal: 23m 40s\tremaining: 12m 28s\n",
      "655:\tlearn: 0.4714020\ttotal: 23m 42s\tremaining: 12m 26s\n",
      "656:\tlearn: 0.4713906\ttotal: 23m 44s\tremaining: 12m 23s\n",
      "657:\tlearn: 0.4713828\ttotal: 23m 46s\tremaining: 12m 21s\n",
      "658:\tlearn: 0.4713750\ttotal: 23m 48s\tremaining: 12m 19s\n",
      "659:\tlearn: 0.4713697\ttotal: 23m 50s\tremaining: 12m 16s\n",
      "660:\tlearn: 0.4713635\ttotal: 23m 52s\tremaining: 12m 14s\n",
      "661:\tlearn: 0.4713566\ttotal: 23m 54s\tremaining: 12m 12s\n",
      "662:\tlearn: 0.4713479\ttotal: 23m 56s\tremaining: 12m 10s\n",
      "663:\tlearn: 0.4713387\ttotal: 23m 58s\tremaining: 12m 7s\n",
      "664:\tlearn: 0.4713315\ttotal: 24m\tremaining: 12m 5s\n",
      "665:\tlearn: 0.4713260\ttotal: 24m 3s\tremaining: 12m 3s\n",
      "666:\tlearn: 0.4713188\ttotal: 24m 4s\tremaining: 12m 1s\n",
      "667:\tlearn: 0.4713146\ttotal: 24m 6s\tremaining: 11m 59s\n",
      "668:\tlearn: 0.4713102\ttotal: 24m 8s\tremaining: 11m 56s\n",
      "669:\tlearn: 0.4713063\ttotal: 24m 10s\tremaining: 11m 54s\n",
      "670:\tlearn: 0.4712984\ttotal: 24m 12s\tremaining: 11m 52s\n",
      "671:\tlearn: 0.4712935\ttotal: 24m 14s\tremaining: 11m 49s\n",
      "672:\tlearn: 0.4712901\ttotal: 24m 16s\tremaining: 11m 47s\n",
      "673:\tlearn: 0.4712832\ttotal: 24m 18s\tremaining: 11m 45s\n",
      "674:\tlearn: 0.4712790\ttotal: 24m 19s\tremaining: 11m 42s\n",
      "675:\tlearn: 0.4712735\ttotal: 24m 21s\tremaining: 11m 40s\n",
      "676:\tlearn: 0.4712656\ttotal: 24m 23s\tremaining: 11m 38s\n",
      "677:\tlearn: 0.4712574\ttotal: 24m 25s\tremaining: 11m 36s\n",
      "678:\tlearn: 0.4712553\ttotal: 24m 28s\tremaining: 11m 34s\n",
      "679:\tlearn: 0.4712512\ttotal: 24m 30s\tremaining: 11m 31s\n",
      "680:\tlearn: 0.4712447\ttotal: 24m 32s\tremaining: 11m 29s\n",
      "681:\tlearn: 0.4712376\ttotal: 24m 34s\tremaining: 11m 27s\n",
      "682:\tlearn: 0.4712316\ttotal: 24m 36s\tremaining: 11m 25s\n",
      "683:\tlearn: 0.4712269\ttotal: 24m 37s\tremaining: 11m 22s\n",
      "684:\tlearn: 0.4712202\ttotal: 24m 40s\tremaining: 11m 20s\n",
      "685:\tlearn: 0.4712136\ttotal: 24m 42s\tremaining: 11m 18s\n",
      "686:\tlearn: 0.4712060\ttotal: 24m 44s\tremaining: 11m 16s\n",
      "687:\tlearn: 0.4712011\ttotal: 24m 46s\tremaining: 11m 14s\n",
      "688:\tlearn: 0.4711946\ttotal: 24m 48s\tremaining: 11m 12s\n",
      "689:\tlearn: 0.4711908\ttotal: 24m 51s\tremaining: 11m 9s\n",
      "690:\tlearn: 0.4711844\ttotal: 24m 52s\tremaining: 11m 7s\n",
      "691:\tlearn: 0.4711755\ttotal: 24m 54s\tremaining: 11m 5s\n",
      "692:\tlearn: 0.4711696\ttotal: 24m 56s\tremaining: 11m 2s\n",
      "693:\tlearn: 0.4711648\ttotal: 24m 58s\tremaining: 11m\n",
      "694:\tlearn: 0.4711610\ttotal: 25m\tremaining: 10m 58s\n",
      "695:\tlearn: 0.4711577\ttotal: 25m 2s\tremaining: 10m 56s\n",
      "696:\tlearn: 0.4711509\ttotal: 25m 4s\tremaining: 10m 53s\n",
      "697:\tlearn: 0.4711457\ttotal: 25m 6s\tremaining: 10m 51s\n",
      "698:\tlearn: 0.4711408\ttotal: 25m 7s\tremaining: 10m 49s\n",
      "699:\tlearn: 0.4711362\ttotal: 25m 10s\tremaining: 10m 47s\n",
      "700:\tlearn: 0.4711329\ttotal: 25m 12s\tremaining: 10m 44s\n",
      "701:\tlearn: 0.4711241\ttotal: 25m 13s\tremaining: 10m 42s\n",
      "702:\tlearn: 0.4711188\ttotal: 25m 16s\tremaining: 10m 40s\n",
      "703:\tlearn: 0.4711131\ttotal: 25m 17s\tremaining: 10m 38s\n",
      "704:\tlearn: 0.4711067\ttotal: 25m 19s\tremaining: 10m 35s\n",
      "705:\tlearn: 0.4711011\ttotal: 25m 21s\tremaining: 10m 33s\n",
      "706:\tlearn: 0.4710937\ttotal: 25m 22s\tremaining: 10m 31s\n",
      "707:\tlearn: 0.4710866\ttotal: 25m 24s\tremaining: 10m 28s\n",
      "708:\tlearn: 0.4710810\ttotal: 25m 25s\tremaining: 10m 26s\n",
      "709:\tlearn: 0.4710745\ttotal: 25m 28s\tremaining: 10m 24s\n",
      "710:\tlearn: 0.4710712\ttotal: 25m 30s\tremaining: 10m 22s\n",
      "711:\tlearn: 0.4710674\ttotal: 25m 32s\tremaining: 10m 19s\n",
      "712:\tlearn: 0.4710631\ttotal: 25m 34s\tremaining: 10m 17s\n",
      "713:\tlearn: 0.4710579\ttotal: 25m 36s\tremaining: 10m 15s\n",
      "714:\tlearn: 0.4710546\ttotal: 25m 38s\tremaining: 10m 13s\n",
      "715:\tlearn: 0.4710514\ttotal: 25m 41s\tremaining: 10m 11s\n",
      "716:\tlearn: 0.4710464\ttotal: 25m 43s\tremaining: 10m 9s\n",
      "717:\tlearn: 0.4710387\ttotal: 25m 44s\tremaining: 10m 6s\n",
      "718:\tlearn: 0.4710341\ttotal: 25m 47s\tremaining: 10m 4s\n",
      "719:\tlearn: 0.4710303\ttotal: 25m 49s\tremaining: 10m 2s\n",
      "720:\tlearn: 0.4710245\ttotal: 25m 51s\tremaining: 10m\n",
      "721:\tlearn: 0.4710185\ttotal: 25m 53s\tremaining: 9m 58s\n",
      "722:\tlearn: 0.4710155\ttotal: 25m 55s\tremaining: 9m 56s\n",
      "723:\tlearn: 0.4710105\ttotal: 25m 58s\tremaining: 9m 54s\n",
      "724:\tlearn: 0.4710044\ttotal: 26m\tremaining: 9m 51s\n",
      "725:\tlearn: 0.4709989\ttotal: 26m 2s\tremaining: 9m 49s\n",
      "726:\tlearn: 0.4709938\ttotal: 26m 5s\tremaining: 9m 47s\n",
      "727:\tlearn: 0.4709866\ttotal: 26m 6s\tremaining: 9m 45s\n",
      "728:\tlearn: 0.4709804\ttotal: 26m 8s\tremaining: 9m 43s\n",
      "729:\tlearn: 0.4709767\ttotal: 26m 10s\tremaining: 9m 41s\n",
      "730:\tlearn: 0.4709729\ttotal: 26m 12s\tremaining: 9m 38s\n",
      "731:\tlearn: 0.4709680\ttotal: 26m 15s\tremaining: 9m 36s\n",
      "732:\tlearn: 0.4709614\ttotal: 26m 17s\tremaining: 9m 34s\n",
      "733:\tlearn: 0.4709563\ttotal: 26m 20s\tremaining: 9m 32s\n",
      "734:\tlearn: 0.4709485\ttotal: 26m 22s\tremaining: 9m 30s\n",
      "735:\tlearn: 0.4709401\ttotal: 26m 23s\tremaining: 9m 28s\n",
      "736:\tlearn: 0.4709363\ttotal: 26m 26s\tremaining: 9m 26s\n",
      "737:\tlearn: 0.4709323\ttotal: 26m 28s\tremaining: 9m 23s\n",
      "738:\tlearn: 0.4709250\ttotal: 26m 30s\tremaining: 9m 21s\n",
      "739:\tlearn: 0.4709184\ttotal: 26m 32s\tremaining: 9m 19s\n",
      "740:\tlearn: 0.4709147\ttotal: 26m 35s\tremaining: 9m 17s\n",
      "741:\tlearn: 0.4709114\ttotal: 26m 37s\tremaining: 9m 15s\n",
      "742:\tlearn: 0.4709058\ttotal: 26m 39s\tremaining: 9m 13s\n",
      "743:\tlearn: 0.4708997\ttotal: 26m 41s\tremaining: 9m 11s\n",
      "744:\tlearn: 0.4708940\ttotal: 26m 43s\tremaining: 9m 8s\n",
      "745:\tlearn: 0.4708884\ttotal: 26m 45s\tremaining: 9m 6s\n",
      "746:\tlearn: 0.4708838\ttotal: 26m 47s\tremaining: 9m 4s\n",
      "747:\tlearn: 0.4708771\ttotal: 26m 49s\tremaining: 9m 2s\n",
      "748:\tlearn: 0.4708706\ttotal: 26m 52s\tremaining: 9m\n",
      "749:\tlearn: 0.4708623\ttotal: 26m 54s\tremaining: 8m 58s\n",
      "750:\tlearn: 0.4708565\ttotal: 26m 56s\tremaining: 8m 55s\n",
      "751:\tlearn: 0.4708546\ttotal: 26m 58s\tremaining: 8m 53s\n",
      "752:\tlearn: 0.4708507\ttotal: 27m\tremaining: 8m 51s\n",
      "753:\tlearn: 0.4708464\ttotal: 27m 2s\tremaining: 8m 49s\n",
      "754:\tlearn: 0.4708406\ttotal: 27m 4s\tremaining: 8m 47s\n",
      "755:\tlearn: 0.4708373\ttotal: 27m 5s\tremaining: 8m 44s\n",
      "756:\tlearn: 0.4708337\ttotal: 27m 7s\tremaining: 8m 42s\n",
      "757:\tlearn: 0.4708285\ttotal: 27m 9s\tremaining: 8m 40s\n",
      "758:\tlearn: 0.4708235\ttotal: 27m 11s\tremaining: 8m 38s\n",
      "759:\tlearn: 0.4708183\ttotal: 27m 14s\tremaining: 8m 36s\n",
      "760:\tlearn: 0.4708165\ttotal: 27m 16s\tremaining: 8m 33s\n",
      "761:\tlearn: 0.4708126\ttotal: 27m 18s\tremaining: 8m 31s\n",
      "762:\tlearn: 0.4708086\ttotal: 27m 20s\tremaining: 8m 29s\n",
      "763:\tlearn: 0.4708043\ttotal: 27m 22s\tremaining: 8m 27s\n",
      "764:\tlearn: 0.4708004\ttotal: 27m 24s\tremaining: 8m 25s\n",
      "765:\tlearn: 0.4707891\ttotal: 27m 27s\tremaining: 8m 23s\n",
      "766:\tlearn: 0.4707861\ttotal: 27m 29s\tremaining: 8m 20s\n",
      "767:\tlearn: 0.4707800\ttotal: 27m 30s\tremaining: 8m 18s\n",
      "768:\tlearn: 0.4707763\ttotal: 27m 32s\tremaining: 8m 16s\n",
      "769:\tlearn: 0.4707703\ttotal: 27m 34s\tremaining: 8m 14s\n",
      "770:\tlearn: 0.4707629\ttotal: 27m 35s\tremaining: 8m 11s\n",
      "771:\tlearn: 0.4707554\ttotal: 27m 37s\tremaining: 8m 9s\n",
      "772:\tlearn: 0.4707493\ttotal: 27m 39s\tremaining: 8m 7s\n",
      "773:\tlearn: 0.4707424\ttotal: 27m 41s\tremaining: 8m 5s\n",
      "774:\tlearn: 0.4707350\ttotal: 27m 44s\tremaining: 8m 3s\n",
      "775:\tlearn: 0.4707241\ttotal: 27m 46s\tremaining: 8m 1s\n",
      "776:\tlearn: 0.4707199\ttotal: 27m 48s\tremaining: 7m 58s\n",
      "777:\tlearn: 0.4707158\ttotal: 27m 50s\tremaining: 7m 56s\n",
      "778:\tlearn: 0.4707101\ttotal: 27m 52s\tremaining: 7m 54s\n",
      "779:\tlearn: 0.4707055\ttotal: 27m 53s\tremaining: 7m 52s\n",
      "780:\tlearn: 0.4706986\ttotal: 27m 55s\tremaining: 7m 49s\n",
      "781:\tlearn: 0.4706933\ttotal: 27m 58s\tremaining: 7m 47s\n",
      "782:\tlearn: 0.4706892\ttotal: 28m\tremaining: 7m 45s\n",
      "783:\tlearn: 0.4706852\ttotal: 28m 1s\tremaining: 7m 43s\n",
      "784:\tlearn: 0.4706748\ttotal: 28m 4s\tremaining: 7m 41s\n",
      "785:\tlearn: 0.4706702\ttotal: 28m 6s\tremaining: 7m 39s\n",
      "786:\tlearn: 0.4706669\ttotal: 28m 7s\tremaining: 7m 36s\n",
      "787:\tlearn: 0.4706583\ttotal: 28m 9s\tremaining: 7m 34s\n",
      "788:\tlearn: 0.4706512\ttotal: 28m 11s\tremaining: 7m 32s\n",
      "789:\tlearn: 0.4706480\ttotal: 28m 13s\tremaining: 7m 30s\n",
      "790:\tlearn: 0.4706461\ttotal: 28m 15s\tremaining: 7m 27s\n",
      "791:\tlearn: 0.4706427\ttotal: 28m 17s\tremaining: 7m 25s\n",
      "792:\tlearn: 0.4706376\ttotal: 28m 20s\tremaining: 7m 23s\n",
      "793:\tlearn: 0.4706351\ttotal: 28m 21s\tremaining: 7m 21s\n",
      "794:\tlearn: 0.4706316\ttotal: 28m 23s\tremaining: 7m 19s\n",
      "795:\tlearn: 0.4706264\ttotal: 28m 25s\tremaining: 7m 17s\n",
      "796:\tlearn: 0.4706211\ttotal: 28m 27s\tremaining: 7m 14s\n",
      "797:\tlearn: 0.4706171\ttotal: 28m 30s\tremaining: 7m 12s\n",
      "798:\tlearn: 0.4706121\ttotal: 28m 32s\tremaining: 7m 10s\n",
      "799:\tlearn: 0.4706028\ttotal: 28m 34s\tremaining: 7m 8s\n",
      "800:\tlearn: 0.4705929\ttotal: 28m 36s\tremaining: 7m 6s\n",
      "801:\tlearn: 0.4705872\ttotal: 28m 39s\tremaining: 7m 4s\n",
      "802:\tlearn: 0.4705852\ttotal: 28m 41s\tremaining: 7m 2s\n",
      "803:\tlearn: 0.4705814\ttotal: 28m 43s\tremaining: 7m\n",
      "804:\tlearn: 0.4705764\ttotal: 28m 45s\tremaining: 6m 58s\n",
      "805:\tlearn: 0.4705685\ttotal: 28m 47s\tremaining: 6m 55s\n",
      "806:\tlearn: 0.4705633\ttotal: 28m 49s\tremaining: 6m 53s\n",
      "807:\tlearn: 0.4705603\ttotal: 28m 51s\tremaining: 6m 51s\n",
      "808:\tlearn: 0.4705553\ttotal: 28m 53s\tremaining: 6m 49s\n",
      "809:\tlearn: 0.4705509\ttotal: 28m 55s\tremaining: 6m 47s\n",
      "810:\tlearn: 0.4705410\ttotal: 28m 58s\tremaining: 6m 45s\n",
      "811:\tlearn: 0.4705395\ttotal: 29m\tremaining: 6m 42s\n",
      "812:\tlearn: 0.4705345\ttotal: 29m 1s\tremaining: 6m 40s\n",
      "813:\tlearn: 0.4705301\ttotal: 29m 3s\tremaining: 6m 38s\n",
      "814:\tlearn: 0.4705257\ttotal: 29m 5s\tremaining: 6m 36s\n",
      "815:\tlearn: 0.4705230\ttotal: 29m 7s\tremaining: 6m 34s\n",
      "816:\tlearn: 0.4705194\ttotal: 29m 9s\tremaining: 6m 31s\n",
      "817:\tlearn: 0.4705141\ttotal: 29m 11s\tremaining: 6m 29s\n",
      "818:\tlearn: 0.4705090\ttotal: 29m 13s\tremaining: 6m 27s\n",
      "819:\tlearn: 0.4705050\ttotal: 29m 15s\tremaining: 6m 25s\n",
      "820:\tlearn: 0.4705006\ttotal: 29m 17s\tremaining: 6m 23s\n",
      "821:\tlearn: 0.4704975\ttotal: 29m 19s\tremaining: 6m 21s\n",
      "822:\tlearn: 0.4704927\ttotal: 29m 21s\tremaining: 6m 18s\n",
      "823:\tlearn: 0.4704870\ttotal: 29m 23s\tremaining: 6m 16s\n",
      "824:\tlearn: 0.4704826\ttotal: 29m 26s\tremaining: 6m 14s\n",
      "825:\tlearn: 0.4704771\ttotal: 29m 28s\tremaining: 6m 12s\n",
      "826:\tlearn: 0.4704743\ttotal: 29m 30s\tremaining: 6m 10s\n",
      "827:\tlearn: 0.4704718\ttotal: 29m 32s\tremaining: 6m 8s\n",
      "828:\tlearn: 0.4704688\ttotal: 29m 34s\tremaining: 6m 5s\n",
      "829:\tlearn: 0.4704673\ttotal: 29m 35s\tremaining: 6m 3s\n",
      "830:\tlearn: 0.4704629\ttotal: 29m 37s\tremaining: 6m 1s\n",
      "831:\tlearn: 0.4704587\ttotal: 29m 40s\tremaining: 5m 59s\n",
      "832:\tlearn: 0.4704532\ttotal: 29m 42s\tremaining: 5m 57s\n",
      "833:\tlearn: 0.4704500\ttotal: 29m 44s\tremaining: 5m 55s\n",
      "834:\tlearn: 0.4704436\ttotal: 29m 45s\tremaining: 5m 52s\n",
      "835:\tlearn: 0.4704373\ttotal: 29m 47s\tremaining: 5m 50s\n",
      "836:\tlearn: 0.4704336\ttotal: 29m 49s\tremaining: 5m 48s\n",
      "837:\tlearn: 0.4704298\ttotal: 29m 51s\tremaining: 5m 46s\n",
      "838:\tlearn: 0.4704260\ttotal: 29m 53s\tremaining: 5m 44s\n",
      "839:\tlearn: 0.4704235\ttotal: 29m 56s\tremaining: 5m 42s\n",
      "840:\tlearn: 0.4704192\ttotal: 29m 58s\tremaining: 5m 40s\n",
      "841:\tlearn: 0.4704159\ttotal: 30m\tremaining: 5m 37s\n",
      "842:\tlearn: 0.4704149\ttotal: 30m 2s\tremaining: 5m 35s\n",
      "843:\tlearn: 0.4704101\ttotal: 30m 3s\tremaining: 5m 33s\n",
      "844:\tlearn: 0.4704030\ttotal: 30m 5s\tremaining: 5m 31s\n",
      "845:\tlearn: 0.4703988\ttotal: 30m 7s\tremaining: 5m 28s\n",
      "846:\tlearn: 0.4703960\ttotal: 30m 8s\tremaining: 5m 26s\n",
      "847:\tlearn: 0.4703891\ttotal: 30m 11s\tremaining: 5m 24s\n",
      "848:\tlearn: 0.4703855\ttotal: 30m 12s\tremaining: 5m 22s\n",
      "849:\tlearn: 0.4703781\ttotal: 30m 14s\tremaining: 5m 20s\n",
      "850:\tlearn: 0.4703727\ttotal: 30m 16s\tremaining: 5m 18s\n",
      "851:\tlearn: 0.4703692\ttotal: 30m 19s\tremaining: 5m 15s\n",
      "852:\tlearn: 0.4703631\ttotal: 30m 20s\tremaining: 5m 13s\n",
      "853:\tlearn: 0.4703600\ttotal: 30m 22s\tremaining: 5m 11s\n",
      "854:\tlearn: 0.4703566\ttotal: 30m 25s\tremaining: 5m 9s\n",
      "855:\tlearn: 0.4703531\ttotal: 30m 27s\tremaining: 5m 7s\n",
      "856:\tlearn: 0.4703496\ttotal: 30m 29s\tremaining: 5m 5s\n",
      "857:\tlearn: 0.4703457\ttotal: 30m 31s\tremaining: 5m 3s\n",
      "858:\tlearn: 0.4703383\ttotal: 30m 33s\tremaining: 5m\n",
      "859:\tlearn: 0.4703350\ttotal: 30m 35s\tremaining: 4m 58s\n",
      "860:\tlearn: 0.4703317\ttotal: 30m 37s\tremaining: 4m 56s\n",
      "861:\tlearn: 0.4703281\ttotal: 30m 39s\tremaining: 4m 54s\n",
      "862:\tlearn: 0.4703222\ttotal: 30m 42s\tremaining: 4m 52s\n",
      "863:\tlearn: 0.4703174\ttotal: 30m 43s\tremaining: 4m 50s\n",
      "864:\tlearn: 0.4703147\ttotal: 30m 45s\tremaining: 4m 47s\n",
      "865:\tlearn: 0.4703117\ttotal: 30m 47s\tremaining: 4m 45s\n",
      "866:\tlearn: 0.4703098\ttotal: 30m 49s\tremaining: 4m 43s\n",
      "867:\tlearn: 0.4702998\ttotal: 30m 51s\tremaining: 4m 41s\n",
      "868:\tlearn: 0.4702930\ttotal: 30m 53s\tremaining: 4m 39s\n",
      "869:\tlearn: 0.4702901\ttotal: 30m 55s\tremaining: 4m 37s\n",
      "870:\tlearn: 0.4702866\ttotal: 30m 57s\tremaining: 4m 35s\n",
      "871:\tlearn: 0.4702807\ttotal: 30m 59s\tremaining: 4m 32s\n",
      "872:\tlearn: 0.4702787\ttotal: 31m 1s\tremaining: 4m 30s\n",
      "873:\tlearn: 0.4702752\ttotal: 31m 3s\tremaining: 4m 28s\n",
      "874:\tlearn: 0.4702713\ttotal: 31m 5s\tremaining: 4m 26s\n",
      "875:\tlearn: 0.4702683\ttotal: 31m 8s\tremaining: 4m 24s\n",
      "876:\tlearn: 0.4702647\ttotal: 31m 10s\tremaining: 4m 22s\n",
      "877:\tlearn: 0.4702560\ttotal: 31m 12s\tremaining: 4m 20s\n",
      "878:\tlearn: 0.4702524\ttotal: 31m 13s\tremaining: 4m 17s\n",
      "879:\tlearn: 0.4702481\ttotal: 31m 15s\tremaining: 4m 15s\n",
      "880:\tlearn: 0.4702432\ttotal: 31m 17s\tremaining: 4m 13s\n",
      "881:\tlearn: 0.4702390\ttotal: 31m 19s\tremaining: 4m 11s\n",
      "882:\tlearn: 0.4702356\ttotal: 31m 20s\tremaining: 4m 9s\n",
      "883:\tlearn: 0.4702308\ttotal: 31m 22s\tremaining: 4m 7s\n",
      "884:\tlearn: 0.4702256\ttotal: 31m 24s\tremaining: 4m 4s\n",
      "885:\tlearn: 0.4702200\ttotal: 31m 26s\tremaining: 4m 2s\n",
      "886:\tlearn: 0.4702165\ttotal: 31m 28s\tremaining: 4m\n",
      "887:\tlearn: 0.4702114\ttotal: 31m 30s\tremaining: 3m 58s\n",
      "888:\tlearn: 0.4702065\ttotal: 31m 32s\tremaining: 3m 56s\n",
      "889:\tlearn: 0.4702039\ttotal: 31m 34s\tremaining: 3m 54s\n",
      "890:\tlearn: 0.4702006\ttotal: 31m 36s\tremaining: 3m 52s\n",
      "891:\tlearn: 0.4701945\ttotal: 31m 38s\tremaining: 3m 49s\n",
      "892:\tlearn: 0.4701931\ttotal: 31m 40s\tremaining: 3m 47s\n",
      "893:\tlearn: 0.4701902\ttotal: 31m 41s\tremaining: 3m 45s\n",
      "894:\tlearn: 0.4701847\ttotal: 31m 43s\tremaining: 3m 43s\n",
      "895:\tlearn: 0.4701823\ttotal: 31m 45s\tremaining: 3m 41s\n",
      "896:\tlearn: 0.4701785\ttotal: 31m 47s\tremaining: 3m 39s\n",
      "897:\tlearn: 0.4701710\ttotal: 31m 49s\tremaining: 3m 36s\n",
      "898:\tlearn: 0.4701670\ttotal: 31m 51s\tremaining: 3m 34s\n",
      "899:\tlearn: 0.4701640\ttotal: 31m 53s\tremaining: 3m 32s\n",
      "900:\tlearn: 0.4701595\ttotal: 31m 55s\tremaining: 3m 30s\n",
      "901:\tlearn: 0.4701551\ttotal: 31m 57s\tremaining: 3m 28s\n",
      "902:\tlearn: 0.4701528\ttotal: 31m 59s\tremaining: 3m 26s\n",
      "903:\tlearn: 0.4701469\ttotal: 32m 1s\tremaining: 3m 24s\n",
      "904:\tlearn: 0.4701424\ttotal: 32m 3s\tremaining: 3m 21s\n",
      "905:\tlearn: 0.4701372\ttotal: 32m 5s\tremaining: 3m 19s\n",
      "906:\tlearn: 0.4701320\ttotal: 32m 7s\tremaining: 3m 17s\n",
      "907:\tlearn: 0.4701278\ttotal: 32m 9s\tremaining: 3m 15s\n",
      "908:\tlearn: 0.4701241\ttotal: 32m 11s\tremaining: 3m 13s\n",
      "909:\tlearn: 0.4701165\ttotal: 32m 14s\tremaining: 3m 11s\n",
      "910:\tlearn: 0.4701076\ttotal: 32m 16s\tremaining: 3m 9s\n",
      "911:\tlearn: 0.4701025\ttotal: 32m 17s\tremaining: 3m 6s\n",
      "912:\tlearn: 0.4700949\ttotal: 32m 19s\tremaining: 3m 4s\n",
      "913:\tlearn: 0.4700920\ttotal: 32m 22s\tremaining: 3m 2s\n",
      "914:\tlearn: 0.4700894\ttotal: 32m 24s\tremaining: 3m\n",
      "915:\tlearn: 0.4700855\ttotal: 32m 26s\tremaining: 2m 58s\n",
      "916:\tlearn: 0.4700799\ttotal: 32m 27s\tremaining: 2m 56s\n",
      "917:\tlearn: 0.4700745\ttotal: 32m 29s\tremaining: 2m 54s\n",
      "918:\tlearn: 0.4700711\ttotal: 32m 32s\tremaining: 2m 52s\n",
      "919:\tlearn: 0.4700637\ttotal: 32m 34s\tremaining: 2m 49s\n",
      "920:\tlearn: 0.4700607\ttotal: 32m 35s\tremaining: 2m 47s\n",
      "921:\tlearn: 0.4700580\ttotal: 32m 37s\tremaining: 2m 45s\n",
      "922:\tlearn: 0.4700549\ttotal: 32m 40s\tremaining: 2m 43s\n",
      "923:\tlearn: 0.4700493\ttotal: 32m 42s\tremaining: 2m 41s\n",
      "924:\tlearn: 0.4700445\ttotal: 32m 44s\tremaining: 2m 39s\n",
      "925:\tlearn: 0.4700408\ttotal: 32m 46s\tremaining: 2m 37s\n",
      "926:\tlearn: 0.4700381\ttotal: 32m 47s\tremaining: 2m 34s\n",
      "927:\tlearn: 0.4700317\ttotal: 32m 49s\tremaining: 2m 32s\n",
      "928:\tlearn: 0.4700279\ttotal: 32m 51s\tremaining: 2m 30s\n",
      "929:\tlearn: 0.4700229\ttotal: 32m 53s\tremaining: 2m 28s\n",
      "930:\tlearn: 0.4700200\ttotal: 32m 55s\tremaining: 2m 26s\n",
      "931:\tlearn: 0.4700159\ttotal: 32m 57s\tremaining: 2m 24s\n",
      "932:\tlearn: 0.4700121\ttotal: 32m 59s\tremaining: 2m 22s\n",
      "933:\tlearn: 0.4700090\ttotal: 33m 1s\tremaining: 2m 19s\n",
      "934:\tlearn: 0.4700035\ttotal: 33m 2s\tremaining: 2m 17s\n",
      "935:\tlearn: 0.4700014\ttotal: 33m 4s\tremaining: 2m 15s\n",
      "936:\tlearn: 0.4699949\ttotal: 33m 6s\tremaining: 2m 13s\n",
      "937:\tlearn: 0.4699933\ttotal: 33m 8s\tremaining: 2m 11s\n",
      "938:\tlearn: 0.4699885\ttotal: 33m 11s\tremaining: 2m 9s\n",
      "939:\tlearn: 0.4699854\ttotal: 33m 12s\tremaining: 2m 7s\n",
      "940:\tlearn: 0.4699802\ttotal: 33m 14s\tremaining: 2m 5s\n",
      "941:\tlearn: 0.4699769\ttotal: 33m 16s\tremaining: 2m 2s\n",
      "942:\tlearn: 0.4699735\ttotal: 33m 18s\tremaining: 2m\n",
      "943:\tlearn: 0.4699659\ttotal: 33m 20s\tremaining: 1m 58s\n",
      "944:\tlearn: 0.4699644\ttotal: 33m 22s\tremaining: 1m 56s\n",
      "945:\tlearn: 0.4699604\ttotal: 33m 25s\tremaining: 1m 54s\n",
      "946:\tlearn: 0.4699544\ttotal: 33m 27s\tremaining: 1m 52s\n",
      "947:\tlearn: 0.4699503\ttotal: 33m 29s\tremaining: 1m 50s\n",
      "948:\tlearn: 0.4699465\ttotal: 33m 31s\tremaining: 1m 48s\n",
      "949:\tlearn: 0.4699425\ttotal: 33m 33s\tremaining: 1m 45s\n",
      "950:\tlearn: 0.4699369\ttotal: 33m 35s\tremaining: 1m 43s\n",
      "951:\tlearn: 0.4699341\ttotal: 33m 38s\tremaining: 1m 41s\n",
      "952:\tlearn: 0.4699287\ttotal: 33m 39s\tremaining: 1m 39s\n",
      "953:\tlearn: 0.4699231\ttotal: 33m 41s\tremaining: 1m 37s\n",
      "954:\tlearn: 0.4699205\ttotal: 33m 43s\tremaining: 1m 35s\n",
      "955:\tlearn: 0.4699157\ttotal: 33m 45s\tremaining: 1m 33s\n",
      "956:\tlearn: 0.4699096\ttotal: 33m 47s\tremaining: 1m 31s\n",
      "957:\tlearn: 0.4699070\ttotal: 33m 49s\tremaining: 1m 28s\n",
      "958:\tlearn: 0.4699024\ttotal: 33m 51s\tremaining: 1m 26s\n",
      "959:\tlearn: 0.4699000\ttotal: 33m 53s\tremaining: 1m 24s\n",
      "960:\tlearn: 0.4698981\ttotal: 33m 55s\tremaining: 1m 22s\n",
      "961:\tlearn: 0.4698944\ttotal: 33m 56s\tremaining: 1m 20s\n",
      "962:\tlearn: 0.4698890\ttotal: 33m 58s\tremaining: 1m 18s\n",
      "963:\tlearn: 0.4698842\ttotal: 34m\tremaining: 1m 16s\n",
      "964:\tlearn: 0.4698769\ttotal: 34m 1s\tremaining: 1m 14s\n",
      "965:\tlearn: 0.4698720\ttotal: 34m 3s\tremaining: 1m 11s\n",
      "966:\tlearn: 0.4698700\ttotal: 34m 5s\tremaining: 1m 9s\n",
      "967:\tlearn: 0.4698676\ttotal: 34m 7s\tremaining: 1m 7s\n",
      "968:\tlearn: 0.4698641\ttotal: 34m 9s\tremaining: 1m 5s\n",
      "969:\tlearn: 0.4698602\ttotal: 34m 12s\tremaining: 1m 3s\n",
      "970:\tlearn: 0.4698567\ttotal: 34m 14s\tremaining: 1m 1s\n",
      "971:\tlearn: 0.4698544\ttotal: 34m 16s\tremaining: 59.2s\n",
      "972:\tlearn: 0.4698495\ttotal: 34m 17s\tremaining: 57.1s\n",
      "973:\tlearn: 0.4698456\ttotal: 34m 19s\tremaining: 55s\n",
      "974:\tlearn: 0.4698430\ttotal: 34m 21s\tremaining: 52.9s\n",
      "975:\tlearn: 0.4698397\ttotal: 34m 23s\tremaining: 50.8s\n",
      "976:\tlearn: 0.4698366\ttotal: 34m 25s\tremaining: 48.6s\n",
      "977:\tlearn: 0.4698287\ttotal: 34m 27s\tremaining: 46.5s\n",
      "978:\tlearn: 0.4698259\ttotal: 34m 29s\tremaining: 44.4s\n",
      "979:\tlearn: 0.4698233\ttotal: 34m 30s\tremaining: 42.3s\n",
      "980:\tlearn: 0.4698201\ttotal: 34m 32s\tremaining: 40.1s\n",
      "981:\tlearn: 0.4698168\ttotal: 34m 34s\tremaining: 38s\n",
      "982:\tlearn: 0.4698128\ttotal: 34m 36s\tremaining: 35.9s\n",
      "983:\tlearn: 0.4698076\ttotal: 34m 38s\tremaining: 33.8s\n",
      "984:\tlearn: 0.4698058\ttotal: 34m 41s\tremaining: 31.7s\n",
      "985:\tlearn: 0.4697971\ttotal: 34m 43s\tremaining: 29.6s\n",
      "986:\tlearn: 0.4697946\ttotal: 34m 44s\tremaining: 27.5s\n",
      "987:\tlearn: 0.4697917\ttotal: 34m 46s\tremaining: 25.3s\n",
      "988:\tlearn: 0.4697897\ttotal: 34m 48s\tremaining: 23.2s\n",
      "989:\tlearn: 0.4697831\ttotal: 34m 50s\tremaining: 21.1s\n",
      "990:\tlearn: 0.4697808\ttotal: 34m 52s\tremaining: 19s\n",
      "991:\tlearn: 0.4697779\ttotal: 34m 54s\tremaining: 16.9s\n",
      "992:\tlearn: 0.4697759\ttotal: 34m 56s\tremaining: 14.8s\n",
      "993:\tlearn: 0.4697723\ttotal: 34m 58s\tremaining: 12.7s\n",
      "994:\tlearn: 0.4697677\ttotal: 35m\tremaining: 10.6s\n",
      "995:\tlearn: 0.4697641\ttotal: 35m 2s\tremaining: 8.45s\n",
      "996:\tlearn: 0.4697599\ttotal: 35m 4s\tremaining: 6.33s\n",
      "997:\tlearn: 0.4697575\ttotal: 35m 6s\tremaining: 4.22s\n",
      "998:\tlearn: 0.4697542\ttotal: 35m 8s\tremaining: 2.11s\n",
      "999:\tlearn: 0.4697485\ttotal: 35m 10s\tremaining: 0us\n"
     ]
    }
   ],
   "source": [
    "from catboost import CatBoostClassifier\n",
    "\n",
    "model = CatBoostClassifier(iterations=1000,\n",
    "                           task_type=\"GPU\",\n",
    "                        #    class_weights=,\n",
    "                           devices='0:1')\n",
    "\"\"\"\n",
    "0 user_id_hash\n",
    "1 target_id_hash\n",
    "2 syndicator_id_hash\n",
    "3 campaign_id_hash\n",
    "6 target_item_taxonomy\n",
    "7 placement_id_hash\n",
    "11 publisher_id_hash\n",
    "12 source_id_hash\n",
    "13 source_item_type\n",
    "14 browser_platform\n",
    "15 os_family\n",
    "16 country_code\n",
    "17 region\n",
    "20 gmt_offset\n",
    "\"\"\"\n",
    "cat_features = [0, 1, 2, 3, 6, 7, 11, 12, 13, 14, 15, 16, 17, 20]\n",
    "cat_features = [0, 1, 4, 5, 9, 10, 11, 12, 13, 14, 15, 18, 19, 24, 25]\n",
    "model.fit(last_three_days_features, last_three_days_ground_truth, cat_features, verbose=True)\n",
    "model.save_model(\n",
    "    os.path.join('.', 'models', 'cboost-three-days-no-uid-tid-taxonomy-splitted-uctr-tctr-freq-many-ctr.cbm'),\n",
    "    format=\"cbm\",\n",
    "    export_parameters=None,\n",
    "    pool=None\n",
    ")"
   ]
  },
  {
   "cell_type": "code",
   "execution_count": 247,
   "metadata": {},
   "outputs": [],
   "source": [
    "def load_encoders():\n",
    "    feature = 'target_id_hash'\n",
    "    with open(f'./label_encoders/{feature}.pickle', 'rb') as handle:\n",
    "        encoder = pickle.load(handle)\n",
    "        return encoder\n",
    "target_id_encoder = load_encoders()"
   ]
  },
  {
   "cell_type": "code",
   "execution_count": 244,
   "metadata": {},
   "outputs": [],
   "source": [
    "df_test_normed = pd.read_csv('./test_file_normalized.csv')\n",
    "df_test_normed.drop(columns=['Unnamed: 0'], inplace=True)"
   ]
  },
  {
   "cell_type": "code",
   "execution_count": 249,
   "metadata": {},
   "outputs": [
    {
     "data": {
      "application/vnd.jupyter.widget-view+json": {
       "model_id": "6f08b6ca3297444c8f2c1bb54042b799",
       "version_major": 2,
       "version_minor": 0
      },
      "text/plain": [
       "  0%|          | 0/15303 [00:00<?, ?it/s]"
      ]
     },
     "metadata": {},
     "output_type": "display_data"
    }
   ],
   "source": [
    "def norm_target_id():\n",
    "    unique_values = df_test['target_id_hash'].unique()\n",
    "    value_to_code = dict()\n",
    "    for value in tqdm(unique_values):\n",
    "        try:\n",
    "            mapped_value = target_id_encoder.transform([value])[0]\n",
    "        except ValueError as err:\n",
    "            mapped_value = target_id_encoder.classes_.shape[0]\n",
    "        value_to_code[value] = mapped_value\n",
    "    result = df_test['target_id_hash'].apply(lambda value: value_to_code[value])\n",
    "    return result\n",
    "target_id_normed = norm_target_id()"
   ]
  },
  {
   "cell_type": "code",
   "execution_count": 251,
   "metadata": {},
   "outputs": [],
   "source": [
    "df_test_normed['target_id_hash'] = target_id_normed\n",
    "df_test_normed.to_csv('./test_file_normalized_with_target_id.csv')"
   ]
  },
  {
   "cell_type": "code",
   "execution_count": 257,
   "metadata": {},
   "outputs": [
    {
     "name": "stderr",
     "output_type": "stream",
     "text": [
      "C:\\Users\\Mark\\AppData\\Local\\Temp\\ipykernel_10596\\2247021210.py:43: FutureWarning: A value is trying to be set on a copy of a DataFrame or Series through chained assignment using an inplace method.\n",
      "The behavior will change in pandas 3.0. This inplace method will never work because the intermediate object on which we are setting values always behaves as a copy.\n",
      "\n",
      "For example, when doing 'df[col].method(value, inplace=True)', try using 'df.method({col: value}, inplace=True)' or df[col] = df[col].method(value) instead, to perform the operation inplace on the original object.\n",
      "\n",
      "\n",
      "  testset['country_code'].fillna('Null', inplace=True)\n",
      "C:\\Users\\Mark\\AppData\\Local\\Temp\\ipykernel_10596\\2247021210.py:44: FutureWarning: A value is trying to be set on a copy of a DataFrame or Series through chained assignment using an inplace method.\n",
      "The behavior will change in pandas 3.0. This inplace method will never work because the intermediate object on which we are setting values always behaves as a copy.\n",
      "\n",
      "For example, when doing 'df[col].method(value, inplace=True)', try using 'df.method({col: value}, inplace=True)' or df[col] = df[col].method(value) instead, to perform the operation inplace on the original object.\n",
      "\n",
      "\n",
      "  testset['region'].fillna('Null', inplace=True)\n",
      "C:\\Users\\Mark\\AppData\\Local\\Temp\\ipykernel_10596\\2247021210.py:70: SettingWithCopyWarning: \n",
      "A value is trying to be set on a copy of a slice from a DataFrame.\n",
      "Try using .loc[row_indexer,col_indexer] = value instead\n",
      "\n",
      "See the caveats in the documentation: https://pandas.pydata.org/pandas-docs/stable/user_guide/indexing.html#returning-a-view-versus-a-copy\n",
      "  test_features['target_item_taxonomy_upper'] = test_features['target_item_taxonomy'].str.split('~').str[0]\n",
      "C:\\Users\\Mark\\AppData\\Local\\Temp\\ipykernel_10596\\2247021210.py:72: SettingWithCopyWarning: \n",
      "A value is trying to be set on a copy of a slice from a DataFrame.\n",
      "Try using .loc[row_indexer,col_indexer] = value instead\n",
      "\n",
      "See the caveats in the documentation: https://pandas.pydata.org/pandas-docs/stable/user_guide/indexing.html#returning-a-view-versus-a-copy\n",
      "  test_features['target_item_ctr'] = test_features['empiric_clicks'].divide(test_features['empiric_calibrated_recs'], fill_value=0)\n"
     ]
    }
   ],
   "source": [
    "def add_feature_ctr(feature_1, df_normed, df_to_apply_on):\n",
    "    \"\"\"\n",
    "    reference:\n",
    "    https://medium.com/unstructured/how-feature-engineering-can-help-you-do-well-in-a-kaggle-competition-part-ii-3645d92282b8\n",
    "    \"\"\"\n",
    "    used_columns = [\n",
    "        f'{feature_1}_id_hash',\n",
    "        'target_id_hash', 'page_view_start_time', 'empiric_calibrated_recs'\n",
    "    ]\n",
    "    data = pd.concat([last_three_days[used_columns], df_normed[used_columns]])\n",
    "    latest_views = data.iloc[data.groupby('target_id_hash')['page_view_start_time'].idxmax()]\n",
    "    latest_views = data.drop_duplicates(subset='target_id_hash', keep='first')\n",
    "    stats = latest_views.groupby(f'{feature_1}_id_hash').agg({'empiric_calibrated_recs': 'sum', 'target_id_hash': 'count'})\n",
    "    average_views_of_distinct_ad = np.log2(stats['empiric_calibrated_recs'].sum() / stats['target_id_hash'].sum())\n",
    "    average_views_of_distict_ad_in_feature = np.log2(1 + (stats['empiric_calibrated_recs'] / stats['target_id_hash']))\n",
    "    stats[f'{feature_1}_ctr'] = np.minimum((average_views_of_distict_ad_in_feature / average_views_of_distinct_ad), 1)\n",
    "    stats = stats.reset_index()[[f'{feature_1}_id_hash', f'{feature_1}_ctr']]\n",
    "    temp_df = data[[f'{feature_1}_id_hash']].merge(stats, on=f'{feature_1}_id_hash', how='left')\n",
    "    df_to_apply_on[f'{feature_1}_ctr'] = temp_df[f'{feature_1}_ctr']\n",
    "\n",
    "def add_pair_feature_ctr(feature_1, feature_2, df_normed, df_to_apply_on):\n",
    "    \"\"\"\n",
    "    reference:\n",
    "    https://medium.com/unstructured/how-feature-engineering-can-help-you-do-well-in-a-kaggle-competition-part-ii-3645d92282b8\n",
    "    \"\"\"\n",
    "    used_columns = [\n",
    "        f'{feature_1}_id_hash', f'{feature_2}_id_hash',\n",
    "        'target_id_hash', 'page_view_start_time', 'empiric_calibrated_recs'\n",
    "    ]\n",
    "    data = pd.concat([last_three_days[used_columns], df_normed[used_columns]])\n",
    "    latest_views = data.iloc[data.groupby('target_id_hash')['page_view_start_time'].idxmax()]\n",
    "    latest_views = data.drop_duplicates(subset='target_id_hash', keep='first')\n",
    "    stats = latest_views.groupby([f'{feature_1}_id_hash', f'{feature_2}_id_hash']).agg({'empiric_calibrated_recs': 'sum', 'target_id_hash': 'count'})\n",
    "    average_views_of_distinct_ad = np.log2(stats['empiric_calibrated_recs'].sum() / stats['target_id_hash'].sum())\n",
    "    average_views_of_distict_ad_in_feature = np.log2(1 + (stats['empiric_calibrated_recs'] / stats['target_id_hash']))\n",
    "    stats[f'{feature_1}_{feature_2}_ctr'] = np.minimum((average_views_of_distict_ad_in_feature / average_views_of_distinct_ad), 1)\n",
    "    stats = stats.reset_index()[[f'{feature_1}_id_hash', f'{feature_2}_id_hash', f'{feature_1}_{feature_2}_ctr']]\n",
    "    temp_df = data[[f'{feature_1}_id_hash', f'{feature_2}_id_hash']].merge(stats, on=[f'{feature_1}_id_hash', f'{feature_2}_id_hash'], how='left')\n",
    "    df_to_apply_on[f'{feature_1}_{feature_2}_ctr'] = temp_df[f'{feature_1}_{feature_2}_ctr']\n",
    "\n",
    "def get_test_features():\n",
    "    testset = df_test.copy(deep=True)\n",
    "    testset['country_code'].fillna('Null', inplace=True)\n",
    "    testset['region'].fillna('Null', inplace=True)\n",
    "    test_features = testset[[\n",
    "        'page_view_start_time',\n",
    "        # 'user_id_hash',\n",
    "        # 'target_id_hash',\n",
    "        'syndicator_id_hash',\n",
    "        'campaign_id_hash',\n",
    "        'empiric_calibrated_recs',\n",
    "        'empiric_clicks',\n",
    "        'target_item_taxonomy',\n",
    "        'placement_id_hash',\n",
    "        'user_recs',\n",
    "        'user_clicks',\n",
    "        'user_target_recs',\n",
    "        'publisher_id_hash',\n",
    "        'source_id_hash',\n",
    "        'source_item_type',\n",
    "        'browser_platform',\n",
    "        'os_family',\n",
    "        'country_code',\n",
    "        'region',\n",
    "        'day_of_week',\n",
    "        'time_of_day',\n",
    "        'gmt_offset'\n",
    "    ]]\n",
    "    # generate general target item taxonomy\n",
    "    test_features['target_item_taxonomy_upper'] = test_features['target_item_taxonomy'].str.split('~').str[0]\n",
    "    # target item ctr\n",
    "    test_features['target_item_ctr'] = test_features['empiric_clicks'].divide(test_features['empiric_calibrated_recs'], fill_value=0) \n",
    "    # user ctr\n",
    "    test_features['user_ctr'] = test_features['user_clicks'].divide(test_features['user_recs'], fill_value=0)\n",
    "    # target item frequency\n",
    "    test_features['item_presented_to_user_frequency'] = test_features['user_target_recs'].divide(test_features['user_recs'], fill_value=0)\n",
    "    # aggregation\n",
    "    test_features['item_be_clicked_by_user'] = test_features['user_ctr'] * test_features['target_item_ctr'] * test_features['item_presented_to_user_frequency']\n",
    "    # take the timestamp, shift to the local time by gmt offset, look at the hour of the day and generate categorical feature \"local part of the day\"\n",
    "    # apply_gmt_offset\n",
    "    gmt_offsets = test_features['gmt_offset'].replace(9999, 0).astype(str).apply(format_time_offset)\n",
    "    dt_series = pd.to_datetime(test_features['page_view_start_time'], unit='us')\n",
    "    gmt_offsets = pd.to_timedelta(gmt_offsets)\n",
    "    dt_with_offset = dt_series + gmt_offsets\n",
    "    test_features['local_day_part'] = dt_with_offset.apply(categorize_time)\n",
    "\n",
    "    # binary feature for cold and warm user\n",
    "    test_features['user_type'] = (test_features['user_recs'] > 0).apply(lambda x: 'warm' if x else 'cold')\n",
    "    # generate \"category ctr\"\n",
    "    # generate ctr for estimate for features_ctr\n",
    "    features_ctr = ['campaign', 'syndicator', 'placement', 'publisher', 'source']\n",
    "    for feature in features_ctr:\n",
    "        add_feature_ctr(feature, df_test_normed, test_features)\n",
    "    # generate ctr for pair wise estimate\n",
    "    for feature_1, feature_2 in list(combinations(features_ctr, 2)):\n",
    "        add_pair_feature_ctr(feature_1, feature_2, df_test_normed, test_features)\n",
    "    return test_features\n",
    "test_features = get_test_features()"
   ]
  },
  {
   "cell_type": "code",
   "execution_count": 259,
   "metadata": {},
   "outputs": [],
   "source": [
    "test_features = test_features[[\n",
    "    # 'user_id_hash',\n",
    "    # 'target_id_hash',\n",
    "    'syndicator_id_hash',\n",
    "    'campaign_id_hash',\n",
    "    'empiric_calibrated_recs',\n",
    "    'empiric_clicks',\n",
    "    'target_item_taxonomy',\n",
    "    'placement_id_hash',\n",
    "    'user_recs',\n",
    "    'user_clicks',\n",
    "    'user_target_recs',\n",
    "    'publisher_id_hash',\n",
    "    'source_id_hash',\n",
    "    'source_item_type',\n",
    "    'browser_platform',\n",
    "    'os_family',\n",
    "    'country_code',\n",
    "    'region',\n",
    "    'day_of_week',\n",
    "    'time_of_day',\n",
    "    'gmt_offset',\n",
    "    'target_item_taxonomy_upper',\n",
    "    'target_item_ctr',\n",
    "    'user_ctr',\n",
    "    'item_presented_to_user_frequency',\n",
    "    'item_be_clicked_by_user',\n",
    "    'local_day_part',\n",
    "    'user_type',\n",
    "    'campaign_ctr',\n",
    "    'syndicator_ctr',\n",
    "    'placement_ctr',\n",
    "    'publisher_ctr',\n",
    "    'source_ctr',\n",
    "    'campaign_syndicator_ctr',\n",
    "    'campaign_placement_ctr',\n",
    "    'campaign_publisher_ctr',\n",
    "    'campaign_source_ctr',\n",
    "    'syndicator_placement_ctr',\n",
    "    'syndicator_publisher_ctr',\n",
    "    'syndicator_source_ctr',\n",
    "    'placement_publisher_ctr',\n",
    "    'placement_source_ctr',\n",
    "    'publisher_source_ctr',\n",
    "]].to_numpy()"
   ]
  },
  {
   "cell_type": "code",
   "execution_count": 143,
   "metadata": {},
   "outputs": [],
   "source": [
    "preds_proba = model.predict_proba(test_features)"
   ]
  },
  {
   "cell_type": "code",
   "execution_count": 144,
   "metadata": {},
   "outputs": [],
   "source": [
    "def report_submission():\n",
    "    pred = preds_proba[:,1]\n",
    "    pred_df = pd.DataFrame(pred)\n",
    "    pred_df.reset_index(inplace=True)\n",
    "    pred_df.columns = ['Id','Predicted']\n",
    "    pred_df.to_csv('my_submission.csv',index=False)\n",
    "report_submission()"
   ]
  },
  {
   "cell_type": "code",
   "execution_count": null,
   "metadata": {},
   "outputs": [],
   "source": []
  }
 ],
 "metadata": {
  "kernelspec": {
   "display_name": "research",
   "language": "python",
   "name": "python3"
  },
  "language_info": {
   "codemirror_mode": {
    "name": "ipython",
    "version": 3
   },
   "file_extension": ".py",
   "mimetype": "text/x-python",
   "name": "python",
   "nbconvert_exporter": "python",
   "pygments_lexer": "ipython3",
   "version": "3.11.4"
  }
 },
 "nbformat": 4,
 "nbformat_minor": 2
}
