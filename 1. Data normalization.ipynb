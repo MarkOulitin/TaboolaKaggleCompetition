{
 "cells": [
  {
   "cell_type": "code",
   "execution_count": 1,
   "metadata": {},
   "outputs": [],
   "source": [
    "import os\n",
    "import json\n",
    "import pandas as pd\n",
    "import scipy as sp\n",
    "from sklearn.preprocessing import LabelEncoder \n",
    "from matplotlib import pyplot as plt\n",
    "from tqdm.auto import tqdm\n",
    "import numpy as np\n",
    "import datetime\n",
    "import pickle"
   ]
  },
  {
   "cell_type": "code",
   "execution_count": 2,
   "metadata": {},
   "outputs": [],
   "source": [
    "# list of files path to iterate on\n",
    "def temp():\n",
    "    paths = []\n",
    "    dirs = os.listdir('train_data')\n",
    "    for dir in dirs:\n",
    "        filenames = os.listdir(f'train_data/{dir}')\n",
    "        paths += [f'train_data/{dir}/{filename}' for filename in filenames]\n",
    "    paths = sorted(paths)\n",
    "    return paths\n",
    "data_filepaths = temp()"
   ]
  },
  {
   "cell_type": "markdown",
   "metadata": {},
   "source": [
    "# String data encoding"
   ]
  },
  {
   "cell_type": "code",
   "execution_count": null,
   "metadata": {},
   "outputs": [],
   "source": [
    "if not os.path.exists('./normalized_data'):\n",
    "    os.mkdir('./normalized_data')\n",
    "if not os.path.exists('./label_encoders'):\n",
    "    os.mkdir('./label_encoders')"
   ]
  },
  {
   "cell_type": "markdown",
   "metadata": {},
   "source": [
    "Due to the high memory footprint of the data, we converted the long hashes with numeric labels - thus reducing the size of reading and writing the data and increasing the amount of rows we can process in memory each batch"
   ]
  },
  {
   "cell_type": "code",
   "execution_count": 46,
   "metadata": {},
   "outputs": [
    {
     "data": {
      "application/vnd.jupyter.widget-view+json": {
       "model_id": "86e746ec3cb246f6acae1b92d2058ab8",
       "version_major": 2,
       "version_minor": 0
      },
      "text/plain": [
       "Country code:   0%|          | 0/69 [00:00<?, ?it/s]"
      ]
     },
     "metadata": {},
     "output_type": "display_data"
    },
    {
     "data": {
      "application/vnd.jupyter.widget-view+json": {
       "model_id": "85aa64ef484040dd8bd3a19fb760bf6c",
       "version_major": 2,
       "version_minor": 0
      },
      "text/plain": [
       "Region:   0%|          | 0/69 [00:00<?, ?it/s]"
      ]
     },
     "metadata": {},
     "output_type": "display_data"
    }
   ],
   "source": [
    "def encode_categoric_string_feature(feature_name):\n",
    "    unique_ids = []\n",
    "    for filepath in tqdm(data_filepaths, desc=feature_name.replace('_', ' ').capitalize()):\n",
    "        df = pd.read_csv(filepath, usecols=[feature_name])\n",
    "        df_unique_ids = df[feature_name].unique()\n",
    "        del df\n",
    "        unique_ids = np.unique(np.concatenate([unique_ids, df_unique_ids]))\n",
    "        del df_unique_ids\n",
    "    unique_ids_df = pd.DataFrame({\n",
    "        feature_name: unique_ids\n",
    "    })\n",
    "    unique_ids_df.to_csv(f'./normalized_data/{feature_name}.csv', index=False)\n",
    "    label_encoder = LabelEncoder()\n",
    "    label_encoder.fit(unique_ids)\n",
    "    with open(f'./label_encoders/{feature_name}.pickle', 'wb') as handle:\n",
    "        pickle.dump(label_encoder, handle, protocol=pickle.HIGHEST_PROTOCOL)\n",
    "\n",
    "def encode_categoric_string_feature_pandas(feature_name):\n",
    "    unique_ids = None\n",
    "    for filepath in tqdm(data_filepaths, desc=feature_name.replace('_', ' ').capitalize()):\n",
    "        df = pd.read_csv(filepath, usecols=[feature_name])\n",
    "        df_unique_ids = pd.Series(df[feature_name].unique())\n",
    "        del df\n",
    "        if unique_ids is None:\n",
    "            unique_ids = df_unique_ids\n",
    "        else:\n",
    "            unique_ids = pd.Series(pd.concat([unique_ids, df_unique_ids]).unique())\n",
    "        del df_unique_ids\n",
    "    unique_ids_df = pd.DataFrame({\n",
    "        feature_name: unique_ids\n",
    "    })\n",
    "    unique_ids_df.to_csv(f'./normalized_data/{feature_name}.csv', index=False)\n",
    "    label_encoder = LabelEncoder()\n",
    "    label_encoder.fit(unique_ids)\n",
    "    with open(f'./label_encoders/{feature_name}.pickle', 'wb') as handle:\n",
    "        pickle.dump(label_encoder, handle, protocol=pickle.HIGHEST_PROTOCOL)\n",
    "\n",
    "features_string_categories = [\n",
    "    'user_id_hash',\n",
    "    'target_id_hash',\n",
    "    'syndicator_id_hash',\n",
    "    'campaign_id_hash',\n",
    "    'target_item_taxonomy',\n",
    "    'placement_id_hash',\n",
    "    'publisher_id_hash',\n",
    "    'source_id_hash',\n",
    "    'source_item_type',\n",
    "    'browser_platform',\n",
    "]\n",
    "for feature in features_string_categories:\n",
    "    encode_categoric_string_feature(feature)\n",
    "\n",
    "encode_categoric_string_feature_pandas('country_code')\n",
    "encode_categoric_string_feature_pandas('region')"
   ]
  },
  {
   "cell_type": "code",
   "execution_count": 63,
   "metadata": {},
   "outputs": [
    {
     "data": {
      "application/vnd.jupyter.widget-view+json": {
       "model_id": "971207a22a2d47629ecb73b53902cbfe",
       "version_major": 2,
       "version_minor": 0
      },
      "text/plain": [
       "train_data/train1/part-00010.csv:   0%|          | 0/12 [00:00<?, ?it/s]"
      ]
     },
     "metadata": {},
     "output_type": "display_data"
    },
    {
     "data": {
      "application/vnd.jupyter.widget-view+json": {
       "model_id": "4f79af4879194e1fab0132b41f843769",
       "version_major": 2,
       "version_minor": 0
      },
      "text/plain": [
       "train_data/train2/part-00011.csv:   0%|          | 0/12 [00:00<?, ?it/s]"
      ]
     },
     "metadata": {},
     "output_type": "display_data"
    },
    {
     "data": {
      "application/vnd.jupyter.widget-view+json": {
       "model_id": "627f4d57f0254cfa8706b7cb75e0068d",
       "version_major": 2,
       "version_minor": 0
      },
      "text/plain": [
       "train_data/train2/part-00012.csv:   0%|          | 0/12 [00:00<?, ?it/s]"
      ]
     },
     "metadata": {},
     "output_type": "display_data"
    },
    {
     "data": {
      "application/vnd.jupyter.widget-view+json": {
       "model_id": "966b4c6e691b4b2e86bad8dd97298ada",
       "version_major": 2,
       "version_minor": 0
      },
      "text/plain": [
       "train_data/train2/part-00013.csv:   0%|          | 0/12 [00:00<?, ?it/s]"
      ]
     },
     "metadata": {},
     "output_type": "display_data"
    },
    {
     "data": {
      "application/vnd.jupyter.widget-view+json": {
       "model_id": "a3c59935de57473db94a1f919af3eb26",
       "version_major": 2,
       "version_minor": 0
      },
      "text/plain": [
       "train_data/train2/part-00014.csv:   0%|          | 0/12 [00:00<?, ?it/s]"
      ]
     },
     "metadata": {},
     "output_type": "display_data"
    },
    {
     "data": {
      "application/vnd.jupyter.widget-view+json": {
       "model_id": "2376e381e04944568f6874bfc0b6437c",
       "version_major": 2,
       "version_minor": 0
      },
      "text/plain": [
       "train_data/train2/part-00015.csv:   0%|          | 0/12 [00:00<?, ?it/s]"
      ]
     },
     "metadata": {},
     "output_type": "display_data"
    },
    {
     "data": {
      "application/vnd.jupyter.widget-view+json": {
       "model_id": "82b3a22e8d664c258e707734f013c221",
       "version_major": 2,
       "version_minor": 0
      },
      "text/plain": [
       "train_data/train2/part-00016.csv:   0%|          | 0/12 [00:00<?, ?it/s]"
      ]
     },
     "metadata": {},
     "output_type": "display_data"
    },
    {
     "data": {
      "application/vnd.jupyter.widget-view+json": {
       "model_id": "b831e658fd3e4fd8b6f5251d26f8b4e2",
       "version_major": 2,
       "version_minor": 0
      },
      "text/plain": [
       "train_data/train2/part-00017.csv:   0%|          | 0/12 [00:00<?, ?it/s]"
      ]
     },
     "metadata": {},
     "output_type": "display_data"
    },
    {
     "data": {
      "application/vnd.jupyter.widget-view+json": {
       "model_id": "77e839ef24cf464cab96344f909c0287",
       "version_major": 2,
       "version_minor": 0
      },
      "text/plain": [
       "train_data/train2/part-00018.csv:   0%|          | 0/12 [00:00<?, ?it/s]"
      ]
     },
     "metadata": {},
     "output_type": "display_data"
    },
    {
     "data": {
      "application/vnd.jupyter.widget-view+json": {
       "model_id": "ba8ce996b18348e890195c06266a8fc1",
       "version_major": 2,
       "version_minor": 0
      },
      "text/plain": [
       "train_data/train2/part-00019.csv:   0%|          | 0/12 [00:00<?, ?it/s]"
      ]
     },
     "metadata": {},
     "output_type": "display_data"
    },
    {
     "data": {
      "application/vnd.jupyter.widget-view+json": {
       "model_id": "915163e3084f46238c6402397e9cb683",
       "version_major": 2,
       "version_minor": 0
      },
      "text/plain": [
       "train_data/train2/part-00020.csv:   0%|          | 0/12 [00:00<?, ?it/s]"
      ]
     },
     "metadata": {},
     "output_type": "display_data"
    },
    {
     "data": {
      "application/vnd.jupyter.widget-view+json": {
       "model_id": "37662028e7b544e18706549d8043b48f",
       "version_major": 2,
       "version_minor": 0
      },
      "text/plain": [
       "train_data/train3/part-00021.csv:   0%|          | 0/12 [00:00<?, ?it/s]"
      ]
     },
     "metadata": {},
     "output_type": "display_data"
    },
    {
     "data": {
      "application/vnd.jupyter.widget-view+json": {
       "model_id": "5aa4ff67cbfb4a3798eb5c6d764ee447",
       "version_major": 2,
       "version_minor": 0
      },
      "text/plain": [
       "train_data/train3/part-00022.csv:   0%|          | 0/12 [00:00<?, ?it/s]"
      ]
     },
     "metadata": {},
     "output_type": "display_data"
    },
    {
     "data": {
      "application/vnd.jupyter.widget-view+json": {
       "model_id": "97789dac93d941cfa7345f5f2b71ca11",
       "version_major": 2,
       "version_minor": 0
      },
      "text/plain": [
       "train_data/train3/part-00023.csv:   0%|          | 0/12 [00:00<?, ?it/s]"
      ]
     },
     "metadata": {},
     "output_type": "display_data"
    },
    {
     "data": {
      "application/vnd.jupyter.widget-view+json": {
       "model_id": "aca8cfb7b8dc4b24a32bc69c7ca1a9d0",
       "version_major": 2,
       "version_minor": 0
      },
      "text/plain": [
       "train_data/train3/part-00024.csv:   0%|          | 0/12 [00:00<?, ?it/s]"
      ]
     },
     "metadata": {},
     "output_type": "display_data"
    },
    {
     "data": {
      "application/vnd.jupyter.widget-view+json": {
       "model_id": "902806bd11b34c42a6cb0d30f59c968c",
       "version_major": 2,
       "version_minor": 0
      },
      "text/plain": [
       "train_data/train3/part-00025.csv:   0%|          | 0/12 [00:00<?, ?it/s]"
      ]
     },
     "metadata": {},
     "output_type": "display_data"
    },
    {
     "data": {
      "application/vnd.jupyter.widget-view+json": {
       "model_id": "ae5e82a2909d4ff98772c6693c8a3f10",
       "version_major": 2,
       "version_minor": 0
      },
      "text/plain": [
       "train_data/train3/part-00026.csv:   0%|          | 0/12 [00:00<?, ?it/s]"
      ]
     },
     "metadata": {},
     "output_type": "display_data"
    },
    {
     "data": {
      "application/vnd.jupyter.widget-view+json": {
       "model_id": "e3198e55566449e98a75b29f589f611c",
       "version_major": 2,
       "version_minor": 0
      },
      "text/plain": [
       "train_data/train3/part-00027.csv:   0%|          | 0/12 [00:00<?, ?it/s]"
      ]
     },
     "metadata": {},
     "output_type": "display_data"
    },
    {
     "data": {
      "application/vnd.jupyter.widget-view+json": {
       "model_id": "08ce4787e59449caa75bb7f5da32e4a6",
       "version_major": 2,
       "version_minor": 0
      },
      "text/plain": [
       "train_data/train3/part-00028.csv:   0%|          | 0/12 [00:00<?, ?it/s]"
      ]
     },
     "metadata": {},
     "output_type": "display_data"
    },
    {
     "data": {
      "application/vnd.jupyter.widget-view+json": {
       "model_id": "d33e1941200842a2b710a3fb07e2ea86",
       "version_major": 2,
       "version_minor": 0
      },
      "text/plain": [
       "train_data/train3/part-00029.csv:   0%|          | 0/12 [00:00<?, ?it/s]"
      ]
     },
     "metadata": {},
     "output_type": "display_data"
    },
    {
     "data": {
      "application/vnd.jupyter.widget-view+json": {
       "model_id": "e48268b6ef4141b598f178a36b919da0",
       "version_major": 2,
       "version_minor": 0
      },
      "text/plain": [
       "train_data/train3/part-00030.csv:   0%|          | 0/12 [00:00<?, ?it/s]"
      ]
     },
     "metadata": {},
     "output_type": "display_data"
    },
    {
     "data": {
      "application/vnd.jupyter.widget-view+json": {
       "model_id": "8043f54ab48544318c0d661a9b26b344",
       "version_major": 2,
       "version_minor": 0
      },
      "text/plain": [
       "train_data/train4/part-00031.csv:   0%|          | 0/12 [00:00<?, ?it/s]"
      ]
     },
     "metadata": {},
     "output_type": "display_data"
    },
    {
     "data": {
      "application/vnd.jupyter.widget-view+json": {
       "model_id": "ff6ecae220e4439596c16299da2bea59",
       "version_major": 2,
       "version_minor": 0
      },
      "text/plain": [
       "train_data/train4/part-00032.csv:   0%|          | 0/12 [00:00<?, ?it/s]"
      ]
     },
     "metadata": {},
     "output_type": "display_data"
    },
    {
     "data": {
      "application/vnd.jupyter.widget-view+json": {
       "model_id": "db8adb95879e4ac099f8ecac80b2bb3b",
       "version_major": 2,
       "version_minor": 0
      },
      "text/plain": [
       "train_data/train4/part-00033.csv:   0%|          | 0/12 [00:00<?, ?it/s]"
      ]
     },
     "metadata": {},
     "output_type": "display_data"
    },
    {
     "data": {
      "application/vnd.jupyter.widget-view+json": {
       "model_id": "3b5c1d7d1f5a408ead9bf0c1cce752c1",
       "version_major": 2,
       "version_minor": 0
      },
      "text/plain": [
       "train_data/train4/part-00034.csv:   0%|          | 0/12 [00:00<?, ?it/s]"
      ]
     },
     "metadata": {},
     "output_type": "display_data"
    },
    {
     "data": {
      "application/vnd.jupyter.widget-view+json": {
       "model_id": "37a4ba7e522b4e3887d726835569bc61",
       "version_major": 2,
       "version_minor": 0
      },
      "text/plain": [
       "train_data/train4/part-00035.csv:   0%|          | 0/12 [00:00<?, ?it/s]"
      ]
     },
     "metadata": {},
     "output_type": "display_data"
    },
    {
     "data": {
      "application/vnd.jupyter.widget-view+json": {
       "model_id": "f3526f0e451f4e2e8ca32c523eb719c9",
       "version_major": 2,
       "version_minor": 0
      },
      "text/plain": [
       "train_data/train4/part-00036.csv:   0%|          | 0/12 [00:00<?, ?it/s]"
      ]
     },
     "metadata": {},
     "output_type": "display_data"
    },
    {
     "data": {
      "application/vnd.jupyter.widget-view+json": {
       "model_id": "4b86c752ae9f478d92de3fb700a92117",
       "version_major": 2,
       "version_minor": 0
      },
      "text/plain": [
       "train_data/train4/part-00037.csv:   0%|          | 0/12 [00:00<?, ?it/s]"
      ]
     },
     "metadata": {},
     "output_type": "display_data"
    },
    {
     "data": {
      "application/vnd.jupyter.widget-view+json": {
       "model_id": "7ea197c36f884bf7bf9b774adae87577",
       "version_major": 2,
       "version_minor": 0
      },
      "text/plain": [
       "train_data/train4/part-00038.csv:   0%|          | 0/12 [00:00<?, ?it/s]"
      ]
     },
     "metadata": {},
     "output_type": "display_data"
    },
    {
     "data": {
      "application/vnd.jupyter.widget-view+json": {
       "model_id": "35a0315c56f84e0792e7611b156b992d",
       "version_major": 2,
       "version_minor": 0
      },
      "text/plain": [
       "train_data/train4/part-00039.csv:   0%|          | 0/12 [00:00<?, ?it/s]"
      ]
     },
     "metadata": {},
     "output_type": "display_data"
    },
    {
     "data": {
      "application/vnd.jupyter.widget-view+json": {
       "model_id": "9308dd4ceac54243aab84e42274603cd",
       "version_major": 2,
       "version_minor": 0
      },
      "text/plain": [
       "train_data/train4/part-00040.csv:   0%|          | 0/12 [00:00<?, ?it/s]"
      ]
     },
     "metadata": {},
     "output_type": "display_data"
    },
    {
     "data": {
      "application/vnd.jupyter.widget-view+json": {
       "model_id": "a83d24c3c72c424c8a0d1f7769139a06",
       "version_major": 2,
       "version_minor": 0
      },
      "text/plain": [
       "train_data/train5/part-00041.csv:   0%|          | 0/12 [00:00<?, ?it/s]"
      ]
     },
     "metadata": {},
     "output_type": "display_data"
    },
    {
     "data": {
      "application/vnd.jupyter.widget-view+json": {
       "model_id": "6792328355ba48fe99ab9a630867ccb6",
       "version_major": 2,
       "version_minor": 0
      },
      "text/plain": [
       "train_data/train5/part-00042.csv:   0%|          | 0/12 [00:00<?, ?it/s]"
      ]
     },
     "metadata": {},
     "output_type": "display_data"
    },
    {
     "data": {
      "application/vnd.jupyter.widget-view+json": {
       "model_id": "0585117e24c9476b88f61dbd6e11c297",
       "version_major": 2,
       "version_minor": 0
      },
      "text/plain": [
       "train_data/train5/part-00043.csv:   0%|          | 0/12 [00:00<?, ?it/s]"
      ]
     },
     "metadata": {},
     "output_type": "display_data"
    },
    {
     "data": {
      "application/vnd.jupyter.widget-view+json": {
       "model_id": "07aa8d81f5374b6894d48847509ea51b",
       "version_major": 2,
       "version_minor": 0
      },
      "text/plain": [
       "train_data/train5/part-00044.csv:   0%|          | 0/12 [00:00<?, ?it/s]"
      ]
     },
     "metadata": {},
     "output_type": "display_data"
    },
    {
     "data": {
      "application/vnd.jupyter.widget-view+json": {
       "model_id": "c7a3429f92ca454fbd346a16ba115c01",
       "version_major": 2,
       "version_minor": 0
      },
      "text/plain": [
       "train_data/train5/part-00045.csv:   0%|          | 0/12 [00:00<?, ?it/s]"
      ]
     },
     "metadata": {},
     "output_type": "display_data"
    },
    {
     "data": {
      "application/vnd.jupyter.widget-view+json": {
       "model_id": "d3b12345f08c4cf292bf3e57b698ccdb",
       "version_major": 2,
       "version_minor": 0
      },
      "text/plain": [
       "train_data/train5/part-00046.csv:   0%|          | 0/12 [00:00<?, ?it/s]"
      ]
     },
     "metadata": {},
     "output_type": "display_data"
    },
    {
     "data": {
      "application/vnd.jupyter.widget-view+json": {
       "model_id": "9de53cea93bb4e0e81904129a45acaa6",
       "version_major": 2,
       "version_minor": 0
      },
      "text/plain": [
       "train_data/train5/part-00047.csv:   0%|          | 0/12 [00:00<?, ?it/s]"
      ]
     },
     "metadata": {},
     "output_type": "display_data"
    },
    {
     "data": {
      "application/vnd.jupyter.widget-view+json": {
       "model_id": "0471b137191a45fb827e1f0b3bfb206f",
       "version_major": 2,
       "version_minor": 0
      },
      "text/plain": [
       "train_data/train5/part-00048.csv:   0%|          | 0/12 [00:00<?, ?it/s]"
      ]
     },
     "metadata": {},
     "output_type": "display_data"
    },
    {
     "data": {
      "application/vnd.jupyter.widget-view+json": {
       "model_id": "26e8b74a2c014d0f9d462e6dc3380a94",
       "version_major": 2,
       "version_minor": 0
      },
      "text/plain": [
       "train_data/train5/part-00049.csv:   0%|          | 0/12 [00:00<?, ?it/s]"
      ]
     },
     "metadata": {},
     "output_type": "display_data"
    },
    {
     "data": {
      "application/vnd.jupyter.widget-view+json": {
       "model_id": "8e4da6ff44e74d4f91d92768f3e06cfb",
       "version_major": 2,
       "version_minor": 0
      },
      "text/plain": [
       "train_data/train5/part-00050.csv:   0%|          | 0/12 [00:00<?, ?it/s]"
      ]
     },
     "metadata": {},
     "output_type": "display_data"
    },
    {
     "data": {
      "application/vnd.jupyter.widget-view+json": {
       "model_id": "a19e52b987af49bd97cae05e4f9a55fd",
       "version_major": 2,
       "version_minor": 0
      },
      "text/plain": [
       "train_data/train6/part-00051.csv:   0%|          | 0/12 [00:00<?, ?it/s]"
      ]
     },
     "metadata": {},
     "output_type": "display_data"
    },
    {
     "data": {
      "application/vnd.jupyter.widget-view+json": {
       "model_id": "fa6b2a95ffc2481ea5ee41f5cf319063",
       "version_major": 2,
       "version_minor": 0
      },
      "text/plain": [
       "train_data/train6/part-00052.csv:   0%|          | 0/12 [00:00<?, ?it/s]"
      ]
     },
     "metadata": {},
     "output_type": "display_data"
    },
    {
     "data": {
      "application/vnd.jupyter.widget-view+json": {
       "model_id": "1f33fe68a02a4c0f90aa6d3e5d1a159a",
       "version_major": 2,
       "version_minor": 0
      },
      "text/plain": [
       "train_data/train6/part-00053.csv:   0%|          | 0/12 [00:00<?, ?it/s]"
      ]
     },
     "metadata": {},
     "output_type": "display_data"
    },
    {
     "data": {
      "application/vnd.jupyter.widget-view+json": {
       "model_id": "6eb84771594948a0a84442408ba294f7",
       "version_major": 2,
       "version_minor": 0
      },
      "text/plain": [
       "train_data/train6/part-00054.csv:   0%|          | 0/12 [00:00<?, ?it/s]"
      ]
     },
     "metadata": {},
     "output_type": "display_data"
    },
    {
     "data": {
      "application/vnd.jupyter.widget-view+json": {
       "model_id": "b09852c5e95c4a4e8d6003d8c070af24",
       "version_major": 2,
       "version_minor": 0
      },
      "text/plain": [
       "train_data/train6/part-00055.csv:   0%|          | 0/12 [00:00<?, ?it/s]"
      ]
     },
     "metadata": {},
     "output_type": "display_data"
    },
    {
     "data": {
      "application/vnd.jupyter.widget-view+json": {
       "model_id": "5da955454b7345a0952001782fee4026",
       "version_major": 2,
       "version_minor": 0
      },
      "text/plain": [
       "train_data/train6/part-00056.csv:   0%|          | 0/12 [00:00<?, ?it/s]"
      ]
     },
     "metadata": {},
     "output_type": "display_data"
    },
    {
     "data": {
      "application/vnd.jupyter.widget-view+json": {
       "model_id": "b2008ff9867a4421ba20b7b808688260",
       "version_major": 2,
       "version_minor": 0
      },
      "text/plain": [
       "train_data/train6/part-00057.csv:   0%|          | 0/12 [00:00<?, ?it/s]"
      ]
     },
     "metadata": {},
     "output_type": "display_data"
    },
    {
     "data": {
      "application/vnd.jupyter.widget-view+json": {
       "model_id": "d7e1f430dcbc4a29bc47bf167121804f",
       "version_major": 2,
       "version_minor": 0
      },
      "text/plain": [
       "train_data/train6/part-00058.csv:   0%|          | 0/12 [00:00<?, ?it/s]"
      ]
     },
     "metadata": {},
     "output_type": "display_data"
    },
    {
     "data": {
      "application/vnd.jupyter.widget-view+json": {
       "model_id": "c2f2da8f7a2846909e869d6cd72b2883",
       "version_major": 2,
       "version_minor": 0
      },
      "text/plain": [
       "train_data/train6/part-00059.csv:   0%|          | 0/12 [00:00<?, ?it/s]"
      ]
     },
     "metadata": {},
     "output_type": "display_data"
    },
    {
     "data": {
      "application/vnd.jupyter.widget-view+json": {
       "model_id": "985e338a2d98423b971d7a0b45399cbb",
       "version_major": 2,
       "version_minor": 0
      },
      "text/plain": [
       "train_data/train6/part-00060.csv:   0%|          | 0/12 [00:00<?, ?it/s]"
      ]
     },
     "metadata": {},
     "output_type": "display_data"
    },
    {
     "data": {
      "application/vnd.jupyter.widget-view+json": {
       "model_id": "9bb5c46319a94af7bcb32f68ba04c9e8",
       "version_major": 2,
       "version_minor": 0
      },
      "text/plain": [
       "train_data/train7/part-00061.csv:   0%|          | 0/12 [00:00<?, ?it/s]"
      ]
     },
     "metadata": {},
     "output_type": "display_data"
    },
    {
     "data": {
      "application/vnd.jupyter.widget-view+json": {
       "model_id": "c72e56a02f344bc08dc84b513a468be4",
       "version_major": 2,
       "version_minor": 0
      },
      "text/plain": [
       "train_data/train7/part-00062.csv:   0%|          | 0/12 [00:00<?, ?it/s]"
      ]
     },
     "metadata": {},
     "output_type": "display_data"
    },
    {
     "data": {
      "application/vnd.jupyter.widget-view+json": {
       "model_id": "d21594a7eb76423c99d8adc6c45ce2b1",
       "version_major": 2,
       "version_minor": 0
      },
      "text/plain": [
       "train_data/train7/part-00063.csv:   0%|          | 0/12 [00:00<?, ?it/s]"
      ]
     },
     "metadata": {},
     "output_type": "display_data"
    },
    {
     "data": {
      "application/vnd.jupyter.widget-view+json": {
       "model_id": "aaf3adf005724491a6ee2b2dcfb535a9",
       "version_major": 2,
       "version_minor": 0
      },
      "text/plain": [
       "train_data/train7/part-00064.csv:   0%|          | 0/12 [00:00<?, ?it/s]"
      ]
     },
     "metadata": {},
     "output_type": "display_data"
    },
    {
     "data": {
      "application/vnd.jupyter.widget-view+json": {
       "model_id": "3a2da48b279e4c99a59a4f5f921aa2a1",
       "version_major": 2,
       "version_minor": 0
      },
      "text/plain": [
       "train_data/train7/part-00065.csv:   0%|          | 0/12 [00:00<?, ?it/s]"
      ]
     },
     "metadata": {},
     "output_type": "display_data"
    },
    {
     "data": {
      "application/vnd.jupyter.widget-view+json": {
       "model_id": "07d16fb0f6fa4487815757f21e3e7aae",
       "version_major": 2,
       "version_minor": 0
      },
      "text/plain": [
       "train_data/train7/part-00066.csv:   0%|          | 0/12 [00:00<?, ?it/s]"
      ]
     },
     "metadata": {},
     "output_type": "display_data"
    },
    {
     "data": {
      "application/vnd.jupyter.widget-view+json": {
       "model_id": "47a06b9cfd4c4b89acff9aaad7729c72",
       "version_major": 2,
       "version_minor": 0
      },
      "text/plain": [
       "train_data/train7/part-00067.csv:   0%|          | 0/12 [00:00<?, ?it/s]"
      ]
     },
     "metadata": {},
     "output_type": "display_data"
    },
    {
     "data": {
      "application/vnd.jupyter.widget-view+json": {
       "model_id": "511bdb92ea474bdb85cf793732440d38",
       "version_major": 2,
       "version_minor": 0
      },
      "text/plain": [
       "train_data/train7/part-00068.csv:   0%|          | 0/12 [00:00<?, ?it/s]"
      ]
     },
     "metadata": {},
     "output_type": "display_data"
    }
   ],
   "source": [
    "def normalize_file(encoders, filepath):\n",
    "    main_dir = os.path.join('.', 'normalized_train_data')\n",
    "    if not os.path.exists(main_dir):\n",
    "        os.mkdir(main_dir)\n",
    "    \n",
    "    df = pd.read_csv(filepath)\n",
    "\n",
    "    for column, encoder in tqdm(encoders, desc=filepath):\n",
    "        df[column] = encoder.transform(df[column].to_list())\n",
    "    \n",
    "    directory_path, filename = os.path.split(filepath)\n",
    "    _, parent_dir = os.path.split(directory_path)\n",
    "    parent_dir = os.path.join('.', 'normalized_train_data', parent_dir)\n",
    "    if not os.path.exists(parent_dir):\n",
    "        os.mkdir(parent_dir)\n",
    "    df.to_csv(os.path.join(parent_dir, filename))\n",
    "\n",
    "def load_encoders(features):\n",
    "    column_encoders = []\n",
    "    for feature in features:\n",
    "        with open(f'./label_encoders/{feature}.pickle', 'rb') as handle:\n",
    "            encoder = pickle.load(handle)\n",
    "        column_encoders.append((feature, encoder))\n",
    "    return column_encoders\n",
    "\n",
    "features_string_categories = [\n",
    "    'user_id_hash',\n",
    "    'target_id_hash',\n",
    "    'syndicator_id_hash',\n",
    "    'campaign_id_hash',\n",
    "    'target_item_taxonomy',\n",
    "    'placement_id_hash',\n",
    "    'publisher_id_hash',\n",
    "    'source_id_hash',\n",
    "    'source_item_type',\n",
    "    'browser_platform',\n",
    "    'country_code',\n",
    "    'region',\n",
    "]\n",
    "column_encoders = load_encoders(features_string_categories)\n",
    "for filepaths in data_filepaths[10:]:\n",
    "    normalize_file(column_encoders, filepaths)"
   ]
  },
  {
   "cell_type": "code",
   "execution_count": 22,
   "metadata": {},
   "outputs": [],
   "source": [
    "df_submission = pd.read_csv('./submission_example.csv')\n",
    "df_test = pd.read_csv('./test_file.csv')"
   ]
  },
  {
   "cell_type": "markdown",
   "metadata": {},
   "source": [
    "# Test set deviations from training data"
   ]
  },
  {
   "cell_type": "markdown",
   "metadata": {},
   "source": [
    "We tested the proportion of newly introducted categories within the test set"
   ]
  },
  {
   "cell_type": "code",
   "execution_count": 24,
   "metadata": {},
   "outputs": [
    {
     "name": "stdout",
     "output_type": "stream",
     "text": [
      "new target_id_hash 1941 / 15303\n",
      "new syndicator_id_hash 37 / 1604\n",
      "new campaign_id_hash 659 / 7517\n",
      "new target_item_taxonomy 0 / 61\n",
      "new placement_id_hash 1 / 1028\n",
      "new publisher_id_hash 0 / 3\n",
      "new source_id_hash 7963 / 16956\n",
      "new source_item_type 0 / 5\n",
      "new browser_platform 0 / 4\n",
      "new country_code 0 / 213\n",
      "new region 2 / 942\n"
     ]
    }
   ],
   "source": [
    "\n",
    "def report_cold():\n",
    "    category_features = [\n",
    "        'target_id_hash',\n",
    "        'syndicator_id_hash',\n",
    "        'campaign_id_hash',\n",
    "        'target_item_taxonomy',\n",
    "        'placement_id_hash',\n",
    "        'publisher_id_hash',\n",
    "        'source_id_hash',\n",
    "        'source_item_type',\n",
    "        'browser_platform',\n",
    "        'country_code',\n",
    "        'region',\n",
    "    ]\n",
    "    for feature in category_features:\n",
    "        train_data_unique_vals = pd.read_csv(f'./normalized_data/{feature}.csv')[feature]\n",
    "        f = pd.Series(df_test[feature].unique())\n",
    "        cold_count = (~f.isin(train_data_unique_vals)).sum()\n",
    "        print(f'new {feature}', f'{cold_count} / {len(f.index)}')\n",
    "report_cold()"
   ]
  },
  {
   "cell_type": "markdown",
   "metadata": {},
   "source": [
    "# Trying catboost on normalized data"
   ]
  },
  {
   "cell_type": "code",
   "execution_count": 2,
   "metadata": {},
   "outputs": [
    {
     "data": {
      "application/vnd.jupyter.widget-view+json": {
       "model_id": "a8a0f40c325e49289a56a8dcf476e691",
       "version_major": 2,
       "version_minor": 0
      },
      "text/plain": [
       "  0%|          | 0/69 [00:00<?, ?it/s]"
      ]
     },
     "metadata": {},
     "output_type": "display_data"
    }
   ],
   "source": [
    "from pprint import pprint\n",
    "def read_all_data():\n",
    "    paths = []\n",
    "    dirs = os.listdir('normalized_train_data')\n",
    "    for dir in dirs:\n",
    "        filenames = os.listdir(f'normalized_train_data/{dir}')\n",
    "        paths += [f'normalized_train_data/{dir}/{filename}' for filename in filenames]\n",
    "    paths = sorted(paths)\n",
    "    dfs = []\n",
    "    for filepath in tqdm(paths, desc='Loading data'):\n",
    "        df = pd.read_csv(filepath)\n",
    "        df.drop(columns=['Unnamed: 0'], inplace=True)\n",
    "        dfs.append(df)\n",
    "    dfs = pd.concat(dfs)\n",
    "    return dfs\n",
    "data = read_all_data()"
   ]
  },
  {
   "cell_type": "code",
   "execution_count": 8,
   "metadata": {},
   "outputs": [],
   "source": [
    "max_timestamp = data['page_view_start_time'].max()\n",
    "three_days_ago = (datetime.datetime.fromtimestamp(max_timestamp/1000) - datetime.timedelta(days=3)).replace(hour=0, minute=0, second=0, microsecond=0)\n",
    "three_days_ago = int(datetime.datetime.timestamp(three_days_ago) * 1000)"
   ]
  },
  {
   "cell_type": "code",
   "execution_count": 10,
   "metadata": {},
   "outputs": [],
   "source": [
    "last_three_days = data[data['page_view_start_time'] >= three_days_ago]\n",
    "train_set = data[data['page_view_start_time'] < three_days_ago]"
   ]
  },
  {
   "cell_type": "code",
   "execution_count": 11,
   "metadata": {},
   "outputs": [],
   "source": [
    "not_cold_users_mask = last_three_days['user_id_hash'].isin(train_set['user_id_hash'])"
   ]
  },
  {
   "cell_type": "code",
   "execution_count": 14,
   "metadata": {},
   "outputs": [],
   "source": [
    "last_three_days_hot_users = last_three_days[not_cold_users_mask]\n",
    "last_three_days_cold_users = last_three_days[~not_cold_users_mask]"
   ]
  },
  {
   "cell_type": "code",
   "execution_count": 19,
   "metadata": {},
   "outputs": [],
   "source": [
    "features = [\n",
    "    'page_view_start_time', 'user_id_hash', 'target_id_hash',\n",
    "    'syndicator_id_hash', 'campaign_id_hash', 'empiric_calibrated_recs',\n",
    "    'empiric_clicks', 'target_item_taxonomy', 'placement_id_hash',\n",
    "    'user_recs', 'user_clicks', 'user_target_recs', 'publisher_id_hash',\n",
    "    'source_id_hash', 'source_item_type', 'browser_platform', 'os_family',\n",
    "    'country_code', 'region', 'day_of_week', 'time_of_day', 'gmt_offset'\n",
    "]"
   ]
  },
  {
   "cell_type": "code",
   "execution_count": 20,
   "metadata": {},
   "outputs": [],
   "source": [
    "last_three_days_hot_users_features = last_three_days_hot_users[features]\n",
    "last_three_days_hot_users_ground_truth = last_three_days_hot_users['is_click']\n",
    "last_three_days_cold_users_features = last_three_days_cold_users[features]\n",
    "last_three_days_cold_users_ground_truth = last_three_days_cold_users['is_click']"
   ]
  },
  {
   "cell_type": "code",
   "execution_count": 21,
   "metadata": {},
   "outputs": [
    {
     "data": {
      "text/html": [
       "<div>\n",
       "<style scoped>\n",
       "    .dataframe tbody tr th:only-of-type {\n",
       "        vertical-align: middle;\n",
       "    }\n",
       "\n",
       "    .dataframe tbody tr th {\n",
       "        vertical-align: top;\n",
       "    }\n",
       "\n",
       "    .dataframe thead th {\n",
       "        text-align: right;\n",
       "    }\n",
       "</style>\n",
       "<table border=\"1\" class=\"dataframe\">\n",
       "  <thead>\n",
       "    <tr style=\"text-align: right;\">\n",
       "      <th></th>\n",
       "      <th>page_view_start_time</th>\n",
       "      <th>user_id_hash</th>\n",
       "      <th>target_id_hash</th>\n",
       "      <th>syndicator_id_hash</th>\n",
       "      <th>campaign_id_hash</th>\n",
       "      <th>empiric_calibrated_recs</th>\n",
       "      <th>empiric_clicks</th>\n",
       "      <th>target_item_taxonomy</th>\n",
       "      <th>placement_id_hash</th>\n",
       "      <th>user_recs</th>\n",
       "      <th>...</th>\n",
       "      <th>publisher_id_hash</th>\n",
       "      <th>source_id_hash</th>\n",
       "      <th>source_item_type</th>\n",
       "      <th>browser_platform</th>\n",
       "      <th>os_family</th>\n",
       "      <th>country_code</th>\n",
       "      <th>region</th>\n",
       "      <th>day_of_week</th>\n",
       "      <th>time_of_day</th>\n",
       "      <th>gmt_offset</th>\n",
       "    </tr>\n",
       "  </thead>\n",
       "  <tbody>\n",
       "    <tr>\n",
       "      <th>4</th>\n",
       "      <td>1587072791703</td>\n",
       "      <td>11463395</td>\n",
       "      <td>79556</td>\n",
       "      <td>527</td>\n",
       "      <td>14201</td>\n",
       "      <td>4976.14800</td>\n",
       "      <td>1974.0</td>\n",
       "      <td>1</td>\n",
       "      <td>616</td>\n",
       "      <td>825.0</td>\n",
       "      <td>...</td>\n",
       "      <td>0</td>\n",
       "      <td>97436</td>\n",
       "      <td>3</td>\n",
       "      <td>0</td>\n",
       "      <td>6</td>\n",
       "      <td>388</td>\n",
       "      <td>1008</td>\n",
       "      <td>4</td>\n",
       "      <td>15</td>\n",
       "      <td>-600</td>\n",
       "    </tr>\n",
       "    <tr>\n",
       "      <th>15</th>\n",
       "      <td>1587152706971</td>\n",
       "      <td>7290697</td>\n",
       "      <td>77904</td>\n",
       "      <td>694</td>\n",
       "      <td>3413</td>\n",
       "      <td>346.61606</td>\n",
       "      <td>1761.0</td>\n",
       "      <td>8</td>\n",
       "      <td>360</td>\n",
       "      <td>417.0</td>\n",
       "      <td>...</td>\n",
       "      <td>2</td>\n",
       "      <td>206755</td>\n",
       "      <td>1</td>\n",
       "      <td>0</td>\n",
       "      <td>6</td>\n",
       "      <td>388</td>\n",
       "      <td>1531</td>\n",
       "      <td>5</td>\n",
       "      <td>15</td>\n",
       "      <td>-400</td>\n",
       "    </tr>\n",
       "    <tr>\n",
       "      <th>19</th>\n",
       "      <td>1587136150512</td>\n",
       "      <td>176706</td>\n",
       "      <td>94933</td>\n",
       "      <td>81</td>\n",
       "      <td>15872</td>\n",
       "      <td>11604.18400</td>\n",
       "      <td>8411.0</td>\n",
       "      <td>29</td>\n",
       "      <td>387</td>\n",
       "      <td>161.0</td>\n",
       "      <td>...</td>\n",
       "      <td>0</td>\n",
       "      <td>158778</td>\n",
       "      <td>3</td>\n",
       "      <td>0</td>\n",
       "      <td>6</td>\n",
       "      <td>388</td>\n",
       "      <td>1553</td>\n",
       "      <td>5</td>\n",
       "      <td>11</td>\n",
       "      <td>-400</td>\n",
       "    </tr>\n",
       "    <tr>\n",
       "      <th>23</th>\n",
       "      <td>1587149454878</td>\n",
       "      <td>13089853</td>\n",
       "      <td>9127</td>\n",
       "      <td>2291</td>\n",
       "      <td>12917</td>\n",
       "      <td>5518.31250</td>\n",
       "      <td>7329.0</td>\n",
       "      <td>1</td>\n",
       "      <td>122</td>\n",
       "      <td>516.0</td>\n",
       "      <td>...</td>\n",
       "      <td>2</td>\n",
       "      <td>206755</td>\n",
       "      <td>1</td>\n",
       "      <td>0</td>\n",
       "      <td>6</td>\n",
       "      <td>388</td>\n",
       "      <td>1177</td>\n",
       "      <td>5</td>\n",
       "      <td>8</td>\n",
       "      <td>-1000</td>\n",
       "    </tr>\n",
       "    <tr>\n",
       "      <th>31</th>\n",
       "      <td>1587257696247</td>\n",
       "      <td>9961237</td>\n",
       "      <td>4971</td>\n",
       "      <td>1131</td>\n",
       "      <td>22051</td>\n",
       "      <td>974.82690</td>\n",
       "      <td>3868.0</td>\n",
       "      <td>12</td>\n",
       "      <td>814</td>\n",
       "      <td>549.0</td>\n",
       "      <td>...</td>\n",
       "      <td>1</td>\n",
       "      <td>78840</td>\n",
       "      <td>1</td>\n",
       "      <td>0</td>\n",
       "      <td>6</td>\n",
       "      <td>388</td>\n",
       "      <td>1229</td>\n",
       "      <td>6</td>\n",
       "      <td>19</td>\n",
       "      <td>-500</td>\n",
       "    </tr>\n",
       "  </tbody>\n",
       "</table>\n",
       "<p>5 rows × 22 columns</p>\n",
       "</div>"
      ],
      "text/plain": [
       "    page_view_start_time  user_id_hash  target_id_hash  syndicator_id_hash  \\\n",
       "4          1587072791703      11463395           79556                 527   \n",
       "15         1587152706971       7290697           77904                 694   \n",
       "19         1587136150512        176706           94933                  81   \n",
       "23         1587149454878      13089853            9127                2291   \n",
       "31         1587257696247       9961237            4971                1131   \n",
       "\n",
       "    campaign_id_hash  empiric_calibrated_recs  empiric_clicks  \\\n",
       "4              14201               4976.14800          1974.0   \n",
       "15              3413                346.61606          1761.0   \n",
       "19             15872              11604.18400          8411.0   \n",
       "23             12917               5518.31250          7329.0   \n",
       "31             22051                974.82690          3868.0   \n",
       "\n",
       "    target_item_taxonomy  placement_id_hash  user_recs  ...  \\\n",
       "4                      1                616      825.0  ...   \n",
       "15                     8                360      417.0  ...   \n",
       "19                    29                387      161.0  ...   \n",
       "23                     1                122      516.0  ...   \n",
       "31                    12                814      549.0  ...   \n",
       "\n",
       "    publisher_id_hash  source_id_hash  source_item_type  browser_platform  \\\n",
       "4                   0           97436                 3                 0   \n",
       "15                  2          206755                 1                 0   \n",
       "19                  0          158778                 3                 0   \n",
       "23                  2          206755                 1                 0   \n",
       "31                  1           78840                 1                 0   \n",
       "\n",
       "    os_family  country_code  region  day_of_week  time_of_day  gmt_offset  \n",
       "4           6           388    1008            4           15        -600  \n",
       "15          6           388    1531            5           15        -400  \n",
       "19          6           388    1553            5           11        -400  \n",
       "23          6           388    1177            5            8       -1000  \n",
       "31          6           388    1229            6           19        -500  \n",
       "\n",
       "[5 rows x 22 columns]"
      ]
     },
     "execution_count": 21,
     "metadata": {},
     "output_type": "execute_result"
    }
   ],
   "source": [
    "last_three_days_hot_users_features.head()"
   ]
  },
  {
   "cell_type": "code",
   "execution_count": 49,
   "metadata": {},
   "outputs": [
    {
     "data": {
      "text/plain": [
       "('2020-04-20 03:00:00', '2020-04-21 07:25:59')"
      ]
     },
     "execution_count": 49,
     "metadata": {},
     "output_type": "execute_result"
    }
   ],
   "source": [
    "datetime.datetime.fromtimestamp(1587340800179/1000).strftime('%Y-%m-%d %H:%M:%S'), datetime.datetime.fromtimestamp(1587443159283/1000).strftime('%Y-%m-%d %H:%M:%S')"
   ]
  },
  {
   "cell_type": "code",
   "execution_count": 51,
   "metadata": {},
   "outputs": [
    {
     "data": {
      "text/plain": [
       "('2020-04-06 03:00:00', '2020-04-20 05:46:42')"
      ]
     },
     "execution_count": 51,
     "metadata": {},
     "output_type": "execute_result"
    }
   ],
   "source": [
    "datetime.datetime.fromtimestamp(1586131200051/1000).strftime('%Y-%m-%d %H:%M:%S'), datetime.datetime.fromtimestamp(1587350802882/1000).strftime('%Y-%m-%d %H:%M:%S')"
   ]
  },
  {
   "cell_type": "code",
   "execution_count": 57,
   "metadata": {},
   "outputs": [],
   "source": [
    "def load_encoders(features):\n",
    "    column_encoders = []\n",
    "    for feature in features:\n",
    "        with open(f'./label_encoders/{feature}.pickle', 'rb') as handle:\n",
    "            encoder = pickle.load(handle)\n",
    "        column_encoders.append((feature, encoder))\n",
    "    return column_encoders\n",
    "\n",
    "features_string_categories = [\n",
    "    'user_id_hash',\n",
    "    'target_id_hash',\n",
    "    'syndicator_id_hash',\n",
    "    'campaign_id_hash',\n",
    "    'target_item_taxonomy',\n",
    "    'placement_id_hash',\n",
    "    'publisher_id_hash',\n",
    "    'source_id_hash',\n",
    "    'source_item_type',\n",
    "    'browser_platform',\n",
    "    'country_code',\n",
    "    'region',\n",
    "]\n",
    "column_encoders = load_encoders(features_string_categories)"
   ]
  },
  {
   "cell_type": "code",
   "execution_count": 58,
   "metadata": {},
   "outputs": [
    {
     "data": {
      "application/vnd.jupyter.widget-view+json": {
       "model_id": "31018ffbbe6e4911a0afb588dfbe8de2",
       "version_major": 2,
       "version_minor": 0
      },
      "text/plain": [
       "  0%|          | 0/12 [00:00<?, ?it/s]"
      ]
     },
     "metadata": {},
     "output_type": "display_data"
    }
   ],
   "source": [
    "def reconstruct():\n",
    "    df = last_three_days.copy(deep=True)\n",
    "    for column, encoder in tqdm(column_encoders):\n",
    "        df[column] = encoder.inverse_transform(df[column].to_list())\n",
    "    return df\n",
    "last_three_days_recon = reconstruct()"
   ]
  },
  {
   "cell_type": "code",
   "execution_count": 76,
   "metadata": {},
   "outputs": [
    {
     "name": "stderr",
     "output_type": "stream",
     "text": [
      "C:\\Users\\Mark\\AppData\\Local\\Temp\\ipykernel_10408\\2400332019.py:2: FutureWarning: A value is trying to be set on a copy of a DataFrame or Series through chained assignment using an inplace method.\n",
      "The behavior will change in pandas 3.0. This inplace method will never work because the intermediate object on which we are setting values always behaves as a copy.\n",
      "\n",
      "For example, when doing 'df[col].method(value, inplace=True)', try using 'df.method({col: value}, inplace=True)' or df[col] = df[col].method(value) instead, to perform the operation inplace on the original object.\n",
      "\n",
      "\n",
      "  last_three_days_recon['region'].fillna('Null', inplace=True)\n"
     ]
    }
   ],
   "source": [
    "last_three_days_recon['country_code'].fillna('Null', inplace=True)\n",
    "last_three_days_recon['region'].fillna('Null', inplace=True)"
   ]
  },
  {
   "cell_type": "code",
   "execution_count": 79,
   "metadata": {},
   "outputs": [],
   "source": [
    "last_three_days_features = last_three_days_recon[[\n",
    "    'user_id_hash',\n",
    "    'target_id_hash',\n",
    "    'syndicator_id_hash',\n",
    "    'campaign_id_hash',\n",
    "    'empiric_calibrated_recs',\n",
    "    'empiric_clicks',\n",
    "    'target_item_taxonomy',\n",
    "    'placement_id_hash',\n",
    "    'user_recs',\n",
    "    'user_clicks',\n",
    "    'user_target_recs',\n",
    "    'publisher_id_hash',\n",
    "    'source_id_hash',\n",
    "    'source_item_type',\n",
    "    'browser_platform',\n",
    "    'os_family',\n",
    "    'country_code',\n",
    "    'region',\n",
    "    'day_of_week',\n",
    "    'time_of_day',\n",
    "    'gmt_offset'\n",
    "]].to_numpy()\n",
    "last_three_days_ground_truth = last_three_days_recon['is_click'].to_numpy()"
   ]
  },
  {
   "cell_type": "code",
   "execution_count": 83,
   "metadata": {},
   "outputs": [
    {
     "name": "stdout",
     "output_type": "stream",
     "text": [
      "Learning rate set to 0.020912\n",
      "0:\tlearn: 0.6841476\ttotal: 1.75s\tremaining: 29m 6s\n",
      "1:\tlearn: 0.6754977\ttotal: 3.76s\tremaining: 31m 16s\n",
      "2:\tlearn: 0.6672120\ttotal: 5.87s\tremaining: 32m 31s\n",
      "3:\tlearn: 0.6592789\ttotal: 7.89s\tremaining: 32m 43s\n",
      "4:\tlearn: 0.6518662\ttotal: 9.64s\tremaining: 31m 58s\n",
      "5:\tlearn: 0.6447413\ttotal: 11.8s\tremaining: 32m 27s\n",
      "6:\tlearn: 0.6379383\ttotal: 13.9s\tremaining: 32m 54s\n",
      "7:\tlearn: 0.6314630\ttotal: 16.1s\tremaining: 33m 13s\n",
      "8:\tlearn: 0.6253001\ttotal: 18.3s\tremaining: 33m 33s\n",
      "9:\tlearn: 0.6194601\ttotal: 20.5s\tremaining: 33m 54s\n",
      "10:\tlearn: 0.6138555\ttotal: 22.3s\tremaining: 33m 20s\n",
      "11:\tlearn: 0.6084475\ttotal: 24.3s\tremaining: 33m 18s\n",
      "12:\tlearn: 0.6033905\ttotal: 26.3s\tremaining: 33m 18s\n",
      "13:\tlearn: 0.5985156\ttotal: 28.4s\tremaining: 33m 22s\n",
      "14:\tlearn: 0.5938536\ttotal: 30.5s\tremaining: 33m 19s\n",
      "15:\tlearn: 0.5893012\ttotal: 32.6s\tremaining: 33m 23s\n",
      "16:\tlearn: 0.5850919\ttotal: 34.6s\tremaining: 33m 21s\n",
      "17:\tlearn: 0.5809727\ttotal: 37.1s\tremaining: 33m 45s\n",
      "18:\tlearn: 0.5770512\ttotal: 39.2s\tremaining: 33m 45s\n",
      "19:\tlearn: 0.5734322\ttotal: 41.5s\tremaining: 33m 53s\n",
      "20:\tlearn: 0.5698581\ttotal: 43.6s\tremaining: 33m 52s\n",
      "21:\tlearn: 0.5664900\ttotal: 45.7s\tremaining: 33m 52s\n",
      "22:\tlearn: 0.5633341\ttotal: 47.5s\tremaining: 33m 38s\n",
      "23:\tlearn: 0.5602284\ttotal: 50.1s\tremaining: 33m 59s\n",
      "24:\tlearn: 0.5573532\ttotal: 52.9s\tremaining: 34m 22s\n",
      "25:\tlearn: 0.5545004\ttotal: 55s\tremaining: 34m 19s\n",
      "26:\tlearn: 0.5518706\ttotal: 57.2s\tremaining: 34m 22s\n",
      "27:\tlearn: 0.5492702\ttotal: 59.3s\tremaining: 34m 17s\n",
      "28:\tlearn: 0.5467749\ttotal: 1m 1s\tremaining: 34m 28s\n",
      "29:\tlearn: 0.5444592\ttotal: 1m 4s\tremaining: 34m 38s\n",
      "30:\tlearn: 0.5422045\ttotal: 1m 6s\tremaining: 34m 37s\n",
      "31:\tlearn: 0.5400469\ttotal: 1m 8s\tremaining: 34m 39s\n",
      "32:\tlearn: 0.5379226\ttotal: 1m 10s\tremaining: 34m 37s\n",
      "33:\tlearn: 0.5359487\ttotal: 1m 13s\tremaining: 34m 35s\n",
      "34:\tlearn: 0.5340379\ttotal: 1m 14s\tremaining: 34m 26s\n",
      "35:\tlearn: 0.5322430\ttotal: 1m 17s\tremaining: 34m 36s\n",
      "36:\tlearn: 0.5304961\ttotal: 1m 19s\tremaining: 34m 30s\n",
      "37:\tlearn: 0.5287926\ttotal: 1m 21s\tremaining: 34m 25s\n",
      "38:\tlearn: 0.5271705\ttotal: 1m 23s\tremaining: 34m 22s\n",
      "39:\tlearn: 0.5256488\ttotal: 1m 26s\tremaining: 34m 32s\n",
      "40:\tlearn: 0.5241516\ttotal: 1m 28s\tremaining: 34m 38s\n",
      "41:\tlearn: 0.5227166\ttotal: 1m 31s\tremaining: 34m 46s\n",
      "42:\tlearn: 0.5213697\ttotal: 1m 33s\tremaining: 34m 49s\n",
      "43:\tlearn: 0.5200450\ttotal: 1m 36s\tremaining: 34m 57s\n",
      "44:\tlearn: 0.5187870\ttotal: 1m 38s\tremaining: 34m 57s\n",
      "45:\tlearn: 0.5176078\ttotal: 1m 41s\tremaining: 34m 58s\n",
      "46:\tlearn: 0.5164102\ttotal: 1m 43s\tremaining: 34m 53s\n",
      "47:\tlearn: 0.5153000\ttotal: 1m 45s\tremaining: 34m 52s\n",
      "48:\tlearn: 0.5142203\ttotal: 1m 47s\tremaining: 34m 41s\n",
      "49:\tlearn: 0.5131831\ttotal: 1m 48s\tremaining: 34m 29s\n",
      "50:\tlearn: 0.5121891\ttotal: 1m 51s\tremaining: 34m 28s\n",
      "51:\tlearn: 0.5112132\ttotal: 1m 53s\tremaining: 34m 23s\n",
      "52:\tlearn: 0.5102445\ttotal: 1m 55s\tremaining: 34m 32s\n",
      "53:\tlearn: 0.5093572\ttotal: 1m 58s\tremaining: 34m 31s\n",
      "54:\tlearn: 0.5085435\ttotal: 2m\tremaining: 34m 35s\n",
      "55:\tlearn: 0.5076875\ttotal: 2m 3s\tremaining: 34m 39s\n",
      "56:\tlearn: 0.5068528\ttotal: 2m 5s\tremaining: 34m 44s\n",
      "57:\tlearn: 0.5060778\ttotal: 2m 8s\tremaining: 34m 43s\n",
      "58:\tlearn: 0.5053418\ttotal: 2m 10s\tremaining: 34m 42s\n",
      "59:\tlearn: 0.5046027\ttotal: 2m 13s\tremaining: 34m 49s\n",
      "60:\tlearn: 0.5038962\ttotal: 2m 16s\tremaining: 34m 57s\n",
      "61:\tlearn: 0.5032317\ttotal: 2m 18s\tremaining: 34m 53s\n",
      "62:\tlearn: 0.5025579\ttotal: 2m 20s\tremaining: 34m 57s\n",
      "63:\tlearn: 0.5019375\ttotal: 2m 23s\tremaining: 35m 2s\n",
      "64:\tlearn: 0.5013292\ttotal: 2m 25s\tremaining: 34m 59s\n",
      "65:\tlearn: 0.5007348\ttotal: 2m 28s\tremaining: 34m 56s\n",
      "66:\tlearn: 0.5001920\ttotal: 2m 30s\tremaining: 34m 51s\n",
      "67:\tlearn: 0.4996294\ttotal: 2m 32s\tremaining: 34m 49s\n",
      "68:\tlearn: 0.4990914\ttotal: 2m 34s\tremaining: 34m 44s\n",
      "69:\tlearn: 0.4985458\ttotal: 2m 36s\tremaining: 34m 42s\n",
      "70:\tlearn: 0.4980498\ttotal: 2m 38s\tremaining: 34m 38s\n",
      "71:\tlearn: 0.4975356\ttotal: 2m 41s\tremaining: 34m 41s\n",
      "72:\tlearn: 0.4970415\ttotal: 2m 43s\tremaining: 34m 41s\n",
      "73:\tlearn: 0.4965767\ttotal: 2m 46s\tremaining: 34m 45s\n",
      "74:\tlearn: 0.4961346\ttotal: 2m 48s\tremaining: 34m 40s\n",
      "75:\tlearn: 0.4956895\ttotal: 2m 50s\tremaining: 34m 36s\n",
      "76:\tlearn: 0.4952950\ttotal: 2m 53s\tremaining: 34m 34s\n",
      "77:\tlearn: 0.4948898\ttotal: 2m 55s\tremaining: 34m 38s\n",
      "78:\tlearn: 0.4945086\ttotal: 2m 58s\tremaining: 34m 41s\n",
      "79:\tlearn: 0.4941069\ttotal: 3m 1s\tremaining: 34m 41s\n",
      "80:\tlearn: 0.4937210\ttotal: 3m 3s\tremaining: 34m 43s\n",
      "81:\tlearn: 0.4933225\ttotal: 3m 6s\tremaining: 34m 42s\n",
      "82:\tlearn: 0.4929688\ttotal: 3m 8s\tremaining: 34m 45s\n",
      "83:\tlearn: 0.4926160\ttotal: 3m 11s\tremaining: 34m 47s\n",
      "84:\tlearn: 0.4922994\ttotal: 3m 13s\tremaining: 34m 46s\n",
      "85:\tlearn: 0.4919659\ttotal: 3m 16s\tremaining: 34m 47s\n",
      "86:\tlearn: 0.4916423\ttotal: 3m 18s\tremaining: 34m 44s\n",
      "87:\tlearn: 0.4913409\ttotal: 3m 21s\tremaining: 34m 45s\n",
      "88:\tlearn: 0.4910054\ttotal: 3m 23s\tremaining: 34m 43s\n",
      "89:\tlearn: 0.4907205\ttotal: 3m 26s\tremaining: 34m 44s\n",
      "90:\tlearn: 0.4904550\ttotal: 3m 28s\tremaining: 34m 42s\n",
      "91:\tlearn: 0.4901772\ttotal: 3m 31s\tremaining: 34m 44s\n",
      "92:\tlearn: 0.4899156\ttotal: 3m 33s\tremaining: 34m 41s\n",
      "93:\tlearn: 0.4896689\ttotal: 3m 35s\tremaining: 34m 41s\n",
      "94:\tlearn: 0.4894119\ttotal: 3m 38s\tremaining: 34m 38s\n",
      "95:\tlearn: 0.4890862\ttotal: 3m 40s\tremaining: 34m 33s\n",
      "96:\tlearn: 0.4888538\ttotal: 3m 42s\tremaining: 34m 33s\n",
      "97:\tlearn: 0.4886320\ttotal: 3m 45s\tremaining: 34m 32s\n",
      "98:\tlearn: 0.4883193\ttotal: 3m 47s\tremaining: 34m 26s\n",
      "99:\tlearn: 0.4880232\ttotal: 3m 49s\tremaining: 34m 24s\n",
      "100:\tlearn: 0.4877269\ttotal: 3m 51s\tremaining: 34m 17s\n",
      "101:\tlearn: 0.4875348\ttotal: 3m 53s\tremaining: 34m 14s\n",
      "102:\tlearn: 0.4872607\ttotal: 3m 55s\tremaining: 34m 9s\n",
      "103:\tlearn: 0.4870539\ttotal: 3m 57s\tremaining: 34m 3s\n",
      "104:\tlearn: 0.4867959\ttotal: 3m 59s\tremaining: 33m 57s\n",
      "105:\tlearn: 0.4865500\ttotal: 4m\tremaining: 33m 52s\n",
      "106:\tlearn: 0.4863821\ttotal: 4m 3s\tremaining: 33m 53s\n",
      "107:\tlearn: 0.4861477\ttotal: 4m 5s\tremaining: 33m 48s\n",
      "108:\tlearn: 0.4859274\ttotal: 4m 7s\tremaining: 33m 42s\n",
      "109:\tlearn: 0.4857551\ttotal: 4m 9s\tremaining: 33m 41s\n",
      "110:\tlearn: 0.4855464\ttotal: 4m 11s\tremaining: 33m 38s\n",
      "111:\tlearn: 0.4853623\ttotal: 4m 14s\tremaining: 33m 39s\n",
      "112:\tlearn: 0.4851654\ttotal: 4m 16s\tremaining: 33m 33s\n",
      "113:\tlearn: 0.4849762\ttotal: 4m 18s\tremaining: 33m 28s\n",
      "114:\tlearn: 0.4848129\ttotal: 4m 20s\tremaining: 33m 25s\n",
      "115:\tlearn: 0.4846666\ttotal: 4m 22s\tremaining: 33m 19s\n",
      "116:\tlearn: 0.4844939\ttotal: 4m 24s\tremaining: 33m 17s\n",
      "117:\tlearn: 0.4843161\ttotal: 4m 26s\tremaining: 33m 13s\n",
      "118:\tlearn: 0.4841471\ttotal: 4m 28s\tremaining: 33m 8s\n",
      "119:\tlearn: 0.4839891\ttotal: 4m 30s\tremaining: 33m 5s\n",
      "120:\tlearn: 0.4838383\ttotal: 4m 32s\tremaining: 33m 1s\n",
      "121:\tlearn: 0.4836932\ttotal: 4m 34s\tremaining: 32m 58s\n",
      "122:\tlearn: 0.4835405\ttotal: 4m 37s\tremaining: 32m 55s\n",
      "123:\tlearn: 0.4834068\ttotal: 4m 38s\tremaining: 32m 50s\n",
      "124:\tlearn: 0.4832649\ttotal: 4m 40s\tremaining: 32m 46s\n",
      "125:\tlearn: 0.4831241\ttotal: 4m 42s\tremaining: 32m 42s\n",
      "126:\tlearn: 0.4829830\ttotal: 4m 45s\tremaining: 32m 39s\n",
      "127:\tlearn: 0.4828437\ttotal: 4m 47s\tremaining: 32m 38s\n",
      "128:\tlearn: 0.4827067\ttotal: 4m 49s\tremaining: 32m 35s\n",
      "129:\tlearn: 0.4825779\ttotal: 4m 51s\tremaining: 32m 33s\n",
      "130:\tlearn: 0.4824500\ttotal: 4m 53s\tremaining: 32m 28s\n",
      "131:\tlearn: 0.4823164\ttotal: 4m 55s\tremaining: 32m 23s\n",
      "132:\tlearn: 0.4821868\ttotal: 4m 57s\tremaining: 32m 20s\n",
      "133:\tlearn: 0.4820700\ttotal: 4m 59s\tremaining: 32m 15s\n",
      "134:\tlearn: 0.4819739\ttotal: 5m 2s\tremaining: 32m 15s\n",
      "135:\tlearn: 0.4818685\ttotal: 5m 3s\tremaining: 32m 9s\n",
      "136:\tlearn: 0.4817594\ttotal: 5m 5s\tremaining: 32m 5s\n",
      "137:\tlearn: 0.4816540\ttotal: 5m 7s\tremaining: 32m 3s\n",
      "138:\tlearn: 0.4815454\ttotal: 5m 9s\tremaining: 31m 59s\n",
      "139:\tlearn: 0.4814700\ttotal: 5m 11s\tremaining: 31m 54s\n",
      "140:\tlearn: 0.4813599\ttotal: 5m 13s\tremaining: 31m 50s\n",
      "141:\tlearn: 0.4812437\ttotal: 5m 15s\tremaining: 31m 47s\n",
      "142:\tlearn: 0.4811442\ttotal: 5m 17s\tremaining: 31m 43s\n",
      "143:\tlearn: 0.4810303\ttotal: 5m 19s\tremaining: 31m 41s\n",
      "144:\tlearn: 0.4809560\ttotal: 5m 21s\tremaining: 31m 37s\n",
      "145:\tlearn: 0.4808850\ttotal: 5m 24s\tremaining: 31m 36s\n",
      "146:\tlearn: 0.4807951\ttotal: 5m 26s\tremaining: 31m 32s\n",
      "147:\tlearn: 0.4806904\ttotal: 5m 28s\tremaining: 31m 30s\n",
      "148:\tlearn: 0.4805997\ttotal: 5m 30s\tremaining: 31m 28s\n",
      "149:\tlearn: 0.4804971\ttotal: 5m 32s\tremaining: 31m 26s\n",
      "150:\tlearn: 0.4804250\ttotal: 5m 34s\tremaining: 31m 22s\n",
      "151:\tlearn: 0.4803356\ttotal: 5m 36s\tremaining: 31m 18s\n",
      "152:\tlearn: 0.4802542\ttotal: 5m 38s\tremaining: 31m 11s\n",
      "153:\tlearn: 0.4801645\ttotal: 5m 39s\tremaining: 31m 6s\n",
      "154:\tlearn: 0.4800820\ttotal: 5m 41s\tremaining: 31m 3s\n",
      "155:\tlearn: 0.4799975\ttotal: 5m 43s\tremaining: 31m\n",
      "156:\tlearn: 0.4799148\ttotal: 5m 45s\tremaining: 30m 54s\n",
      "157:\tlearn: 0.4798479\ttotal: 5m 47s\tremaining: 30m 49s\n",
      "158:\tlearn: 0.4797618\ttotal: 5m 49s\tremaining: 30m 47s\n",
      "159:\tlearn: 0.4796866\ttotal: 5m 51s\tremaining: 30m 43s\n",
      "160:\tlearn: 0.4795721\ttotal: 5m 53s\tremaining: 30m 39s\n",
      "161:\tlearn: 0.4794957\ttotal: 5m 55s\tremaining: 30m 36s\n",
      "162:\tlearn: 0.4793824\ttotal: 5m 57s\tremaining: 30m 33s\n",
      "163:\tlearn: 0.4793237\ttotal: 5m 58s\tremaining: 30m 29s\n",
      "164:\tlearn: 0.4792227\ttotal: 6m\tremaining: 30m 25s\n",
      "165:\tlearn: 0.4791628\ttotal: 6m 2s\tremaining: 30m 21s\n",
      "166:\tlearn: 0.4790643\ttotal: 6m 4s\tremaining: 30m 19s\n",
      "167:\tlearn: 0.4789915\ttotal: 6m 6s\tremaining: 30m 16s\n",
      "168:\tlearn: 0.4789292\ttotal: 6m 9s\tremaining: 30m 15s\n",
      "169:\tlearn: 0.4788725\ttotal: 6m 10s\tremaining: 30m 11s\n",
      "170:\tlearn: 0.4787722\ttotal: 6m 12s\tremaining: 30m 7s\n",
      "171:\tlearn: 0.4787235\ttotal: 6m 14s\tremaining: 30m 4s\n",
      "172:\tlearn: 0.4786540\ttotal: 6m 17s\tremaining: 30m 2s\n",
      "173:\tlearn: 0.4785563\ttotal: 6m 18s\tremaining: 29m 58s\n",
      "174:\tlearn: 0.4784909\ttotal: 6m 21s\tremaining: 29m 56s\n",
      "175:\tlearn: 0.4784034\ttotal: 6m 23s\tremaining: 29m 53s\n",
      "176:\tlearn: 0.4783529\ttotal: 6m 25s\tremaining: 29m 53s\n",
      "177:\tlearn: 0.4782600\ttotal: 6m 27s\tremaining: 29m 49s\n",
      "178:\tlearn: 0.4781907\ttotal: 6m 29s\tremaining: 29m 48s\n",
      "179:\tlearn: 0.4781325\ttotal: 6m 31s\tremaining: 29m 44s\n",
      "180:\tlearn: 0.4780502\ttotal: 6m 33s\tremaining: 29m 41s\n",
      "181:\tlearn: 0.4780118\ttotal: 6m 36s\tremaining: 29m 39s\n",
      "182:\tlearn: 0.4779455\ttotal: 6m 37s\tremaining: 29m 36s\n",
      "183:\tlearn: 0.4778976\ttotal: 6m 39s\tremaining: 29m 32s\n",
      "184:\tlearn: 0.4778150\ttotal: 6m 41s\tremaining: 29m 28s\n",
      "185:\tlearn: 0.4777342\ttotal: 6m 43s\tremaining: 29m 24s\n",
      "186:\tlearn: 0.4776821\ttotal: 6m 45s\tremaining: 29m 22s\n",
      "187:\tlearn: 0.4776327\ttotal: 6m 47s\tremaining: 29m 19s\n",
      "188:\tlearn: 0.4775670\ttotal: 6m 49s\tremaining: 29m 15s\n",
      "189:\tlearn: 0.4775261\ttotal: 6m 51s\tremaining: 29m 16s\n",
      "190:\tlearn: 0.4774526\ttotal: 6m 53s\tremaining: 29m 13s\n",
      "191:\tlearn: 0.4774138\ttotal: 6m 56s\tremaining: 29m 12s\n",
      "192:\tlearn: 0.4773399\ttotal: 6m 58s\tremaining: 29m 10s\n",
      "193:\tlearn: 0.4772835\ttotal: 7m\tremaining: 29m 6s\n",
      "194:\tlearn: 0.4772465\ttotal: 7m 3s\tremaining: 29m 6s\n",
      "195:\tlearn: 0.4772011\ttotal: 7m 5s\tremaining: 29m 3s\n",
      "196:\tlearn: 0.4771496\ttotal: 7m 6s\tremaining: 28m 58s\n",
      "197:\tlearn: 0.4770788\ttotal: 7m 8s\tremaining: 28m 56s\n",
      "198:\tlearn: 0.4770412\ttotal: 7m 11s\tremaining: 28m 55s\n",
      "199:\tlearn: 0.4769918\ttotal: 7m 13s\tremaining: 28m 52s\n",
      "200:\tlearn: 0.4769226\ttotal: 7m 15s\tremaining: 28m 50s\n",
      "201:\tlearn: 0.4768747\ttotal: 7m 17s\tremaining: 28m 46s\n",
      "202:\tlearn: 0.4768080\ttotal: 7m 18s\tremaining: 28m 41s\n",
      "203:\tlearn: 0.4767711\ttotal: 7m 21s\tremaining: 28m 41s\n",
      "204:\tlearn: 0.4767374\ttotal: 7m 23s\tremaining: 28m 40s\n",
      "205:\tlearn: 0.4766939\ttotal: 7m 25s\tremaining: 28m 36s\n",
      "206:\tlearn: 0.4766541\ttotal: 7m 27s\tremaining: 28m 33s\n",
      "207:\tlearn: 0.4766159\ttotal: 7m 29s\tremaining: 28m 29s\n",
      "208:\tlearn: 0.4765530\ttotal: 7m 30s\tremaining: 28m 26s\n",
      "209:\tlearn: 0.4765120\ttotal: 7m 32s\tremaining: 28m 23s\n",
      "210:\tlearn: 0.4764522\ttotal: 7m 34s\tremaining: 28m 19s\n",
      "211:\tlearn: 0.4764160\ttotal: 7m 36s\tremaining: 28m 16s\n",
      "212:\tlearn: 0.4763840\ttotal: 7m 38s\tremaining: 28m 15s\n",
      "213:\tlearn: 0.4763237\ttotal: 7m 40s\tremaining: 28m 12s\n",
      "214:\tlearn: 0.4762838\ttotal: 7m 42s\tremaining: 28m 9s\n",
      "215:\tlearn: 0.4762372\ttotal: 7m 44s\tremaining: 28m 5s\n",
      "216:\tlearn: 0.4761809\ttotal: 7m 46s\tremaining: 28m 2s\n",
      "217:\tlearn: 0.4761431\ttotal: 7m 48s\tremaining: 28m\n",
      "218:\tlearn: 0.4761039\ttotal: 7m 50s\tremaining: 27m 57s\n",
      "219:\tlearn: 0.4760607\ttotal: 7m 51s\tremaining: 27m 53s\n",
      "220:\tlearn: 0.4760043\ttotal: 7m 53s\tremaining: 27m 49s\n",
      "221:\tlearn: 0.4759529\ttotal: 7m 55s\tremaining: 27m 46s\n",
      "222:\tlearn: 0.4759205\ttotal: 7m 57s\tremaining: 27m 43s\n",
      "223:\tlearn: 0.4758796\ttotal: 7m 59s\tremaining: 27m 40s\n",
      "224:\tlearn: 0.4758492\ttotal: 8m 1s\tremaining: 27m 37s\n",
      "225:\tlearn: 0.4757083\ttotal: 8m 3s\tremaining: 27m 34s\n",
      "226:\tlearn: 0.4756570\ttotal: 8m 4s\tremaining: 27m 31s\n",
      "227:\tlearn: 0.4756272\ttotal: 8m 6s\tremaining: 27m 28s\n",
      "228:\tlearn: 0.4755952\ttotal: 8m 8s\tremaining: 27m 25s\n",
      "229:\tlearn: 0.4755532\ttotal: 8m 10s\tremaining: 27m 22s\n",
      "230:\tlearn: 0.4755235\ttotal: 8m 13s\tremaining: 27m 21s\n",
      "231:\tlearn: 0.4754810\ttotal: 8m 15s\tremaining: 27m 18s\n",
      "232:\tlearn: 0.4754353\ttotal: 8m 17s\tremaining: 27m 16s\n",
      "233:\tlearn: 0.4753983\ttotal: 8m 19s\tremaining: 27m 14s\n",
      "234:\tlearn: 0.4753519\ttotal: 8m 21s\tremaining: 27m 11s\n",
      "235:\tlearn: 0.4753111\ttotal: 8m 23s\tremaining: 27m 8s\n",
      "236:\tlearn: 0.4752743\ttotal: 8m 25s\tremaining: 27m 6s\n",
      "237:\tlearn: 0.4752486\ttotal: 8m 27s\tremaining: 27m 5s\n",
      "238:\tlearn: 0.4752208\ttotal: 8m 29s\tremaining: 27m 3s\n",
      "239:\tlearn: 0.4751808\ttotal: 8m 31s\tremaining: 27m\n",
      "240:\tlearn: 0.4751238\ttotal: 8m 33s\tremaining: 26m 57s\n",
      "241:\tlearn: 0.4750966\ttotal: 8m 35s\tremaining: 26m 54s\n",
      "242:\tlearn: 0.4750713\ttotal: 8m 37s\tremaining: 26m 51s\n",
      "243:\tlearn: 0.4750207\ttotal: 8m 38s\tremaining: 26m 47s\n",
      "244:\tlearn: 0.4749969\ttotal: 8m 41s\tremaining: 26m 46s\n",
      "245:\tlearn: 0.4749679\ttotal: 8m 43s\tremaining: 26m 43s\n",
      "246:\tlearn: 0.4749447\ttotal: 8m 45s\tremaining: 26m 42s\n",
      "247:\tlearn: 0.4748404\ttotal: 8m 47s\tremaining: 26m 40s\n",
      "248:\tlearn: 0.4748006\ttotal: 8m 49s\tremaining: 26m 37s\n",
      "249:\tlearn: 0.4747771\ttotal: 8m 52s\tremaining: 26m 36s\n",
      "250:\tlearn: 0.4747545\ttotal: 8m 54s\tremaining: 26m 34s\n",
      "251:\tlearn: 0.4747303\ttotal: 8m 56s\tremaining: 26m 31s\n",
      "252:\tlearn: 0.4747016\ttotal: 8m 58s\tremaining: 26m 30s\n",
      "253:\tlearn: 0.4746600\ttotal: 9m\tremaining: 26m 26s\n",
      "254:\tlearn: 0.4745640\ttotal: 9m 2s\tremaining: 26m 23s\n",
      "255:\tlearn: 0.4745410\ttotal: 9m 4s\tremaining: 26m 22s\n",
      "256:\tlearn: 0.4745165\ttotal: 9m 6s\tremaining: 26m 18s\n",
      "257:\tlearn: 0.4744814\ttotal: 9m 7s\tremaining: 26m 15s\n",
      "258:\tlearn: 0.4744555\ttotal: 9m 9s\tremaining: 26m 12s\n",
      "259:\tlearn: 0.4744067\ttotal: 9m 11s\tremaining: 26m 9s\n",
      "260:\tlearn: 0.4743663\ttotal: 9m 13s\tremaining: 26m 6s\n",
      "261:\tlearn: 0.4743415\ttotal: 9m 15s\tremaining: 26m 3s\n",
      "262:\tlearn: 0.4743201\ttotal: 9m 17s\tremaining: 26m 2s\n",
      "263:\tlearn: 0.4742866\ttotal: 9m 19s\tremaining: 25m 58s\n",
      "264:\tlearn: 0.4742536\ttotal: 9m 21s\tremaining: 25m 56s\n",
      "265:\tlearn: 0.4742317\ttotal: 9m 23s\tremaining: 25m 54s\n",
      "266:\tlearn: 0.4742054\ttotal: 9m 25s\tremaining: 25m 52s\n",
      "267:\tlearn: 0.4741764\ttotal: 9m 27s\tremaining: 25m 50s\n",
      "268:\tlearn: 0.4741454\ttotal: 9m 29s\tremaining: 25m 47s\n",
      "269:\tlearn: 0.4741269\ttotal: 9m 31s\tremaining: 25m 46s\n",
      "270:\tlearn: 0.4740792\ttotal: 9m 33s\tremaining: 25m 43s\n",
      "271:\tlearn: 0.4740552\ttotal: 9m 35s\tremaining: 25m 41s\n",
      "272:\tlearn: 0.4740229\ttotal: 9m 37s\tremaining: 25m 37s\n",
      "273:\tlearn: 0.4740024\ttotal: 9m 39s\tremaining: 25m 35s\n",
      "274:\tlearn: 0.4739818\ttotal: 9m 41s\tremaining: 25m 33s\n",
      "275:\tlearn: 0.4739624\ttotal: 9m 43s\tremaining: 25m 31s\n",
      "276:\tlearn: 0.4739185\ttotal: 9m 45s\tremaining: 25m 28s\n",
      "277:\tlearn: 0.4738870\ttotal: 9m 47s\tremaining: 25m 25s\n",
      "278:\tlearn: 0.4738674\ttotal: 9m 49s\tremaining: 25m 23s\n",
      "279:\tlearn: 0.4738419\ttotal: 9m 52s\tremaining: 25m 22s\n",
      "280:\tlearn: 0.4738080\ttotal: 9m 53s\tremaining: 25m 19s\n",
      "281:\tlearn: 0.4736927\ttotal: 9m 55s\tremaining: 25m 17s\n",
      "282:\tlearn: 0.4736611\ttotal: 9m 57s\tremaining: 25m 14s\n",
      "283:\tlearn: 0.4736215\ttotal: 9m 59s\tremaining: 25m 11s\n",
      "284:\tlearn: 0.4736011\ttotal: 10m\tremaining: 25m 7s\n",
      "285:\tlearn: 0.4735659\ttotal: 10m 2s\tremaining: 25m 4s\n",
      "286:\tlearn: 0.4735476\ttotal: 10m 5s\tremaining: 25m 3s\n",
      "287:\tlearn: 0.4735296\ttotal: 10m 7s\tremaining: 25m 1s\n",
      "288:\tlearn: 0.4734961\ttotal: 10m 9s\tremaining: 24m 59s\n",
      "289:\tlearn: 0.4734629\ttotal: 10m 11s\tremaining: 24m 56s\n",
      "290:\tlearn: 0.4734444\ttotal: 10m 13s\tremaining: 24m 54s\n",
      "291:\tlearn: 0.4734235\ttotal: 10m 15s\tremaining: 24m 51s\n",
      "292:\tlearn: 0.4734055\ttotal: 10m 16s\tremaining: 24m 48s\n",
      "293:\tlearn: 0.4733669\ttotal: 10m 18s\tremaining: 24m 44s\n",
      "294:\tlearn: 0.4733431\ttotal: 10m 19s\tremaining: 24m 41s\n",
      "295:\tlearn: 0.4733276\ttotal: 10m 22s\tremaining: 24m 40s\n",
      "296:\tlearn: 0.4733093\ttotal: 10m 24s\tremaining: 24m 37s\n",
      "297:\tlearn: 0.4732808\ttotal: 10m 26s\tremaining: 24m 34s\n",
      "298:\tlearn: 0.4732475\ttotal: 10m 27s\tremaining: 24m 32s\n",
      "299:\tlearn: 0.4732246\ttotal: 10m 29s\tremaining: 24m 29s\n",
      "300:\tlearn: 0.4732001\ttotal: 10m 31s\tremaining: 24m 26s\n",
      "301:\tlearn: 0.4731806\ttotal: 10m 33s\tremaining: 24m 23s\n",
      "302:\tlearn: 0.4731645\ttotal: 10m 35s\tremaining: 24m 21s\n",
      "303:\tlearn: 0.4731517\ttotal: 10m 37s\tremaining: 24m 20s\n",
      "304:\tlearn: 0.4731237\ttotal: 10m 39s\tremaining: 24m 17s\n",
      "305:\tlearn: 0.4730921\ttotal: 10m 41s\tremaining: 24m 14s\n",
      "306:\tlearn: 0.4730741\ttotal: 10m 43s\tremaining: 24m 12s\n",
      "307:\tlearn: 0.4730575\ttotal: 10m 45s\tremaining: 24m 10s\n",
      "308:\tlearn: 0.4730370\ttotal: 10m 48s\tremaining: 24m 9s\n",
      "309:\tlearn: 0.4730183\ttotal: 10m 49s\tremaining: 24m 6s\n",
      "310:\tlearn: 0.4729851\ttotal: 10m 51s\tremaining: 24m 3s\n",
      "311:\tlearn: 0.4729566\ttotal: 10m 53s\tremaining: 24m\n",
      "312:\tlearn: 0.4729238\ttotal: 10m 55s\tremaining: 23m 58s\n",
      "313:\tlearn: 0.4728956\ttotal: 10m 57s\tremaining: 23m 55s\n",
      "314:\tlearn: 0.4728759\ttotal: 10m 58s\tremaining: 23m 52s\n",
      "315:\tlearn: 0.4728434\ttotal: 11m\tremaining: 23m 49s\n",
      "316:\tlearn: 0.4728258\ttotal: 11m 2s\tremaining: 23m 48s\n",
      "317:\tlearn: 0.4727938\ttotal: 11m 4s\tremaining: 23m 45s\n",
      "318:\tlearn: 0.4727752\ttotal: 11m 6s\tremaining: 23m 43s\n",
      "319:\tlearn: 0.4727594\ttotal: 11m 9s\tremaining: 23m 42s\n",
      "320:\tlearn: 0.4727446\ttotal: 11m 11s\tremaining: 23m 41s\n",
      "321:\tlearn: 0.4727146\ttotal: 11m 13s\tremaining: 23m 38s\n",
      "322:\tlearn: 0.4726533\ttotal: 11m 15s\tremaining: 23m 35s\n",
      "323:\tlearn: 0.4726199\ttotal: 11m 17s\tremaining: 23m 32s\n",
      "324:\tlearn: 0.4725955\ttotal: 11m 18s\tremaining: 23m 30s\n",
      "325:\tlearn: 0.4725691\ttotal: 11m 20s\tremaining: 23m 27s\n",
      "326:\tlearn: 0.4725530\ttotal: 11m 22s\tremaining: 23m 25s\n",
      "327:\tlearn: 0.4725234\ttotal: 11m 24s\tremaining: 23m 22s\n",
      "328:\tlearn: 0.4725066\ttotal: 11m 26s\tremaining: 23m 21s\n",
      "329:\tlearn: 0.4724818\ttotal: 11m 28s\tremaining: 23m 18s\n",
      "330:\tlearn: 0.4724521\ttotal: 11m 30s\tremaining: 23m 16s\n",
      "331:\tlearn: 0.4724358\ttotal: 11m 32s\tremaining: 23m 14s\n",
      "332:\tlearn: 0.4724205\ttotal: 11m 34s\tremaining: 23m 11s\n",
      "333:\tlearn: 0.4724059\ttotal: 11m 36s\tremaining: 23m 8s\n",
      "334:\tlearn: 0.4723862\ttotal: 11m 37s\tremaining: 23m 5s\n",
      "335:\tlearn: 0.4723509\ttotal: 11m 39s\tremaining: 23m 2s\n",
      "336:\tlearn: 0.4723327\ttotal: 11m 41s\tremaining: 23m\n",
      "337:\tlearn: 0.4723034\ttotal: 11m 43s\tremaining: 22m 57s\n",
      "338:\tlearn: 0.4722761\ttotal: 11m 44s\tremaining: 22m 54s\n",
      "339:\tlearn: 0.4722528\ttotal: 11m 46s\tremaining: 22m 51s\n",
      "340:\tlearn: 0.4722282\ttotal: 11m 48s\tremaining: 22m 49s\n",
      "341:\tlearn: 0.4722094\ttotal: 11m 50s\tremaining: 22m 46s\n",
      "342:\tlearn: 0.4721826\ttotal: 11m 52s\tremaining: 22m 44s\n",
      "343:\tlearn: 0.4721664\ttotal: 11m 53s\tremaining: 22m 40s\n",
      "344:\tlearn: 0.4721541\ttotal: 11m 55s\tremaining: 22m 38s\n",
      "345:\tlearn: 0.4721415\ttotal: 11m 57s\tremaining: 22m 36s\n",
      "346:\tlearn: 0.4721206\ttotal: 11m 59s\tremaining: 22m 33s\n",
      "347:\tlearn: 0.4721051\ttotal: 12m 1s\tremaining: 22m 32s\n",
      "348:\tlearn: 0.4720897\ttotal: 12m 3s\tremaining: 22m 30s\n",
      "349:\tlearn: 0.4720696\ttotal: 12m 5s\tremaining: 22m 27s\n",
      "350:\tlearn: 0.4720531\ttotal: 12m 7s\tremaining: 22m 25s\n",
      "351:\tlearn: 0.4720368\ttotal: 12m 10s\tremaining: 22m 24s\n",
      "352:\tlearn: 0.4720157\ttotal: 12m 11s\tremaining: 22m 21s\n",
      "353:\tlearn: 0.4719959\ttotal: 12m 13s\tremaining: 22m 18s\n",
      "354:\tlearn: 0.4719735\ttotal: 12m 15s\tremaining: 22m 16s\n",
      "355:\tlearn: 0.4719610\ttotal: 12m 17s\tremaining: 22m 13s\n",
      "356:\tlearn: 0.4719390\ttotal: 12m 19s\tremaining: 22m 11s\n",
      "357:\tlearn: 0.4719178\ttotal: 12m 21s\tremaining: 22m 9s\n",
      "358:\tlearn: 0.4718906\ttotal: 12m 23s\tremaining: 22m 6s\n",
      "359:\tlearn: 0.4718772\ttotal: 12m 24s\tremaining: 22m 3s\n",
      "360:\tlearn: 0.4718505\ttotal: 12m 26s\tremaining: 22m 1s\n",
      "361:\tlearn: 0.4718351\ttotal: 12m 28s\tremaining: 21m 58s\n",
      "362:\tlearn: 0.4718109\ttotal: 12m 30s\tremaining: 21m 56s\n",
      "363:\tlearn: 0.4717958\ttotal: 12m 32s\tremaining: 21m 53s\n",
      "364:\tlearn: 0.4717837\ttotal: 12m 34s\tremaining: 21m 51s\n",
      "365:\tlearn: 0.4717651\ttotal: 12m 35s\tremaining: 21m 49s\n",
      "366:\tlearn: 0.4717496\ttotal: 12m 38s\tremaining: 21m 47s\n",
      "367:\tlearn: 0.4717279\ttotal: 12m 40s\tremaining: 21m 45s\n",
      "368:\tlearn: 0.4717103\ttotal: 12m 42s\tremaining: 21m 43s\n",
      "369:\tlearn: 0.4716868\ttotal: 12m 44s\tremaining: 21m 41s\n",
      "370:\tlearn: 0.4716681\ttotal: 12m 45s\tremaining: 21m 38s\n",
      "371:\tlearn: 0.4716536\ttotal: 12m 47s\tremaining: 21m 35s\n",
      "372:\tlearn: 0.4716332\ttotal: 12m 49s\tremaining: 21m 33s\n",
      "373:\tlearn: 0.4716148\ttotal: 12m 51s\tremaining: 21m 30s\n",
      "374:\tlearn: 0.4715926\ttotal: 12m 53s\tremaining: 21m 28s\n",
      "375:\tlearn: 0.4715773\ttotal: 12m 54s\tremaining: 21m 25s\n",
      "376:\tlearn: 0.4715619\ttotal: 12m 56s\tremaining: 21m 23s\n",
      "377:\tlearn: 0.4715329\ttotal: 12m 58s\tremaining: 21m 21s\n",
      "378:\tlearn: 0.4715202\ttotal: 13m\tremaining: 21m 19s\n",
      "379:\tlearn: 0.4715047\ttotal: 13m 2s\tremaining: 21m 16s\n",
      "380:\tlearn: 0.4714871\ttotal: 13m 4s\tremaining: 21m 14s\n",
      "381:\tlearn: 0.4714704\ttotal: 13m 6s\tremaining: 21m 12s\n",
      "382:\tlearn: 0.4714515\ttotal: 13m 8s\tremaining: 21m 10s\n",
      "383:\tlearn: 0.4714320\ttotal: 13m 9s\tremaining: 21m 7s\n",
      "384:\tlearn: 0.4714203\ttotal: 13m 11s\tremaining: 21m 5s\n",
      "385:\tlearn: 0.4714116\ttotal: 13m 13s\tremaining: 21m 2s\n",
      "386:\tlearn: 0.4713906\ttotal: 13m 15s\tremaining: 21m\n",
      "387:\tlearn: 0.4713774\ttotal: 13m 18s\tremaining: 20m 59s\n",
      "388:\tlearn: 0.4713634\ttotal: 13m 20s\tremaining: 20m 57s\n",
      "389:\tlearn: 0.4713439\ttotal: 13m 22s\tremaining: 20m 55s\n",
      "390:\tlearn: 0.4713182\ttotal: 13m 24s\tremaining: 20m 52s\n",
      "391:\tlearn: 0.4712993\ttotal: 13m 25s\tremaining: 20m 49s\n",
      "392:\tlearn: 0.4712889\ttotal: 13m 28s\tremaining: 20m 48s\n",
      "393:\tlearn: 0.4712705\ttotal: 13m 30s\tremaining: 20m 46s\n",
      "394:\tlearn: 0.4712477\ttotal: 13m 32s\tremaining: 20m 43s\n",
      "395:\tlearn: 0.4712334\ttotal: 13m 33s\tremaining: 20m 40s\n",
      "396:\tlearn: 0.4712175\ttotal: 13m 35s\tremaining: 20m 39s\n",
      "397:\tlearn: 0.4711987\ttotal: 13m 37s\tremaining: 20m 36s\n",
      "398:\tlearn: 0.4711886\ttotal: 13m 40s\tremaining: 20m 35s\n",
      "399:\tlearn: 0.4711723\ttotal: 13m 41s\tremaining: 20m 32s\n",
      "400:\tlearn: 0.4711543\ttotal: 13m 43s\tremaining: 20m 30s\n",
      "401:\tlearn: 0.4711423\ttotal: 13m 46s\tremaining: 20m 28s\n",
      "402:\tlearn: 0.4709914\ttotal: 13m 47s\tremaining: 20m 26s\n",
      "403:\tlearn: 0.4709822\ttotal: 13m 49s\tremaining: 20m 24s\n",
      "404:\tlearn: 0.4709661\ttotal: 13m 51s\tremaining: 20m 22s\n",
      "405:\tlearn: 0.4709487\ttotal: 13m 54s\tremaining: 20m 20s\n",
      "406:\tlearn: 0.4709379\ttotal: 13m 56s\tremaining: 20m 19s\n",
      "407:\tlearn: 0.4709198\ttotal: 13m 58s\tremaining: 20m 17s\n",
      "408:\tlearn: 0.4709035\ttotal: 14m\tremaining: 20m 14s\n",
      "409:\tlearn: 0.4708828\ttotal: 14m 2s\tremaining: 20m 12s\n",
      "410:\tlearn: 0.4708714\ttotal: 14m 4s\tremaining: 20m 9s\n",
      "411:\tlearn: 0.4708517\ttotal: 14m 5s\tremaining: 20m 6s\n",
      "412:\tlearn: 0.4708380\ttotal: 14m 7s\tremaining: 20m 3s\n",
      "413:\tlearn: 0.4708251\ttotal: 14m 8s\tremaining: 20m 1s\n",
      "414:\tlearn: 0.4708024\ttotal: 14m 10s\tremaining: 19m 59s\n",
      "415:\tlearn: 0.4707850\ttotal: 14m 12s\tremaining: 19m 56s\n",
      "416:\tlearn: 0.4707709\ttotal: 14m 14s\tremaining: 19m 54s\n",
      "417:\tlearn: 0.4707492\ttotal: 14m 16s\tremaining: 19m 52s\n",
      "418:\tlearn: 0.4707325\ttotal: 14m 18s\tremaining: 19m 50s\n",
      "419:\tlearn: 0.4707109\ttotal: 14m 19s\tremaining: 19m 47s\n",
      "420:\tlearn: 0.4706946\ttotal: 14m 21s\tremaining: 19m 44s\n",
      "421:\tlearn: 0.4706762\ttotal: 14m 23s\tremaining: 19m 42s\n",
      "422:\tlearn: 0.4706576\ttotal: 14m 25s\tremaining: 19m 40s\n",
      "423:\tlearn: 0.4706467\ttotal: 14m 26s\tremaining: 19m 37s\n",
      "424:\tlearn: 0.4706082\ttotal: 14m 28s\tremaining: 19m 35s\n",
      "425:\tlearn: 0.4705942\ttotal: 14m 31s\tremaining: 19m 33s\n",
      "426:\tlearn: 0.4705765\ttotal: 14m 33s\tremaining: 19m 31s\n",
      "427:\tlearn: 0.4705673\ttotal: 14m 35s\tremaining: 19m 29s\n",
      "428:\tlearn: 0.4705579\ttotal: 14m 37s\tremaining: 19m 28s\n",
      "429:\tlearn: 0.4705458\ttotal: 14m 39s\tremaining: 19m 26s\n",
      "430:\tlearn: 0.4705371\ttotal: 14m 41s\tremaining: 19m 23s\n",
      "431:\tlearn: 0.4705212\ttotal: 14m 43s\tremaining: 19m 21s\n",
      "432:\tlearn: 0.4705053\ttotal: 14m 45s\tremaining: 19m 19s\n",
      "433:\tlearn: 0.4704971\ttotal: 14m 47s\tremaining: 19m 17s\n",
      "434:\tlearn: 0.4704800\ttotal: 14m 49s\tremaining: 19m 15s\n",
      "435:\tlearn: 0.4704702\ttotal: 14m 51s\tremaining: 19m 13s\n",
      "436:\tlearn: 0.4704616\ttotal: 14m 54s\tremaining: 19m 11s\n",
      "437:\tlearn: 0.4704527\ttotal: 14m 56s\tremaining: 19m 9s\n",
      "438:\tlearn: 0.4704400\ttotal: 14m 58s\tremaining: 19m 8s\n",
      "439:\tlearn: 0.4704231\ttotal: 15m\tremaining: 19m 6s\n",
      "440:\tlearn: 0.4704065\ttotal: 15m 2s\tremaining: 19m 4s\n",
      "441:\tlearn: 0.4703896\ttotal: 15m 4s\tremaining: 19m 1s\n",
      "442:\tlearn: 0.4703748\ttotal: 15m 6s\tremaining: 18m 59s\n",
      "443:\tlearn: 0.4703540\ttotal: 15m 8s\tremaining: 18m 57s\n",
      "444:\tlearn: 0.4703398\ttotal: 15m 10s\tremaining: 18m 55s\n",
      "445:\tlearn: 0.4703254\ttotal: 15m 12s\tremaining: 18m 53s\n",
      "446:\tlearn: 0.4703118\ttotal: 15m 14s\tremaining: 18m 51s\n",
      "447:\tlearn: 0.4702870\ttotal: 15m 16s\tremaining: 18m 48s\n",
      "448:\tlearn: 0.4702708\ttotal: 15m 17s\tremaining: 18m 46s\n",
      "449:\tlearn: 0.4701846\ttotal: 15m 19s\tremaining: 18m 43s\n",
      "450:\tlearn: 0.4701723\ttotal: 15m 21s\tremaining: 18m 41s\n",
      "451:\tlearn: 0.4701525\ttotal: 15m 22s\tremaining: 18m 39s\n",
      "452:\tlearn: 0.4701383\ttotal: 15m 24s\tremaining: 18m 36s\n",
      "453:\tlearn: 0.4701300\ttotal: 15m 27s\tremaining: 18m 35s\n",
      "454:\tlearn: 0.4701172\ttotal: 15m 30s\tremaining: 18m 34s\n",
      "455:\tlearn: 0.4700955\ttotal: 15m 32s\tremaining: 18m 31s\n",
      "456:\tlearn: 0.4700818\ttotal: 15m 33s\tremaining: 18m 29s\n",
      "457:\tlearn: 0.4700740\ttotal: 15m 35s\tremaining: 18m 27s\n",
      "458:\tlearn: 0.4700592\ttotal: 15m 37s\tremaining: 18m 24s\n",
      "459:\tlearn: 0.4700443\ttotal: 15m 38s\tremaining: 18m 22s\n",
      "460:\tlearn: 0.4700086\ttotal: 15m 40s\tremaining: 18m 19s\n",
      "461:\tlearn: 0.4700005\ttotal: 15m 42s\tremaining: 18m 17s\n",
      "462:\tlearn: 0.4699856\ttotal: 15m 43s\tremaining: 18m 14s\n",
      "463:\tlearn: 0.4699787\ttotal: 15m 45s\tremaining: 18m 12s\n",
      "464:\tlearn: 0.4699664\ttotal: 15m 47s\tremaining: 18m 10s\n",
      "465:\tlearn: 0.4699583\ttotal: 15m 50s\tremaining: 18m 8s\n",
      "466:\tlearn: 0.4699440\ttotal: 15m 51s\tremaining: 18m 6s\n",
      "467:\tlearn: 0.4699309\ttotal: 15m 53s\tremaining: 18m 4s\n",
      "468:\tlearn: 0.4699180\ttotal: 15m 55s\tremaining: 18m 2s\n",
      "469:\tlearn: 0.4699045\ttotal: 15m 57s\tremaining: 17m 59s\n",
      "470:\tlearn: 0.4698911\ttotal: 15m 59s\tremaining: 17m 57s\n",
      "471:\tlearn: 0.4698747\ttotal: 16m 1s\tremaining: 17m 55s\n",
      "472:\tlearn: 0.4698657\ttotal: 16m 3s\tremaining: 17m 53s\n",
      "473:\tlearn: 0.4698538\ttotal: 16m 5s\tremaining: 17m 51s\n",
      "474:\tlearn: 0.4698330\ttotal: 16m 7s\tremaining: 17m 49s\n",
      "475:\tlearn: 0.4698162\ttotal: 16m 9s\tremaining: 17m 47s\n",
      "476:\tlearn: 0.4698018\ttotal: 16m 11s\tremaining: 17m 44s\n",
      "477:\tlearn: 0.4697870\ttotal: 16m 12s\tremaining: 17m 41s\n",
      "478:\tlearn: 0.4697494\ttotal: 16m 14s\tremaining: 17m 39s\n",
      "479:\tlearn: 0.4697374\ttotal: 16m 16s\tremaining: 17m 37s\n",
      "480:\tlearn: 0.4696859\ttotal: 16m 18s\tremaining: 17m 35s\n",
      "481:\tlearn: 0.4696765\ttotal: 16m 20s\tremaining: 17m 33s\n",
      "482:\tlearn: 0.4696665\ttotal: 16m 22s\tremaining: 17m 31s\n",
      "483:\tlearn: 0.4696586\ttotal: 16m 24s\tremaining: 17m 29s\n",
      "484:\tlearn: 0.4696447\ttotal: 16m 26s\tremaining: 17m 27s\n",
      "485:\tlearn: 0.4696300\ttotal: 16m 27s\tremaining: 17m 24s\n",
      "486:\tlearn: 0.4696171\ttotal: 16m 29s\tremaining: 17m 22s\n",
      "487:\tlearn: 0.4695988\ttotal: 16m 31s\tremaining: 17m 20s\n",
      "488:\tlearn: 0.4695897\ttotal: 16m 33s\tremaining: 17m 18s\n",
      "489:\tlearn: 0.4695756\ttotal: 16m 35s\tremaining: 17m 16s\n",
      "490:\tlearn: 0.4695693\ttotal: 16m 37s\tremaining: 17m 14s\n",
      "491:\tlearn: 0.4695520\ttotal: 16m 39s\tremaining: 17m 12s\n",
      "492:\tlearn: 0.4695423\ttotal: 16m 42s\tremaining: 17m 11s\n",
      "493:\tlearn: 0.4695350\ttotal: 16m 44s\tremaining: 17m 9s\n",
      "494:\tlearn: 0.4695263\ttotal: 16m 46s\tremaining: 17m 7s\n",
      "495:\tlearn: 0.4695106\ttotal: 16m 48s\tremaining: 17m 4s\n",
      "496:\tlearn: 0.4694952\ttotal: 16m 50s\tremaining: 17m 2s\n",
      "497:\tlearn: 0.4694829\ttotal: 16m 52s\tremaining: 17m\n",
      "498:\tlearn: 0.4694770\ttotal: 16m 54s\tremaining: 16m 58s\n",
      "499:\tlearn: 0.4694657\ttotal: 16m 55s\tremaining: 16m 55s\n",
      "500:\tlearn: 0.4694578\ttotal: 16m 57s\tremaining: 16m 53s\n",
      "501:\tlearn: 0.4694490\ttotal: 16m 59s\tremaining: 16m 51s\n",
      "502:\tlearn: 0.4694373\ttotal: 17m 1s\tremaining: 16m 49s\n",
      "503:\tlearn: 0.4694293\ttotal: 17m 3s\tremaining: 16m 47s\n",
      "504:\tlearn: 0.4694158\ttotal: 17m 5s\tremaining: 16m 44s\n",
      "505:\tlearn: 0.4694014\ttotal: 17m 7s\tremaining: 16m 42s\n",
      "506:\tlearn: 0.4693885\ttotal: 17m 8s\tremaining: 16m 40s\n",
      "507:\tlearn: 0.4693736\ttotal: 17m 10s\tremaining: 16m 38s\n",
      "508:\tlearn: 0.4693562\ttotal: 17m 12s\tremaining: 16m 35s\n",
      "509:\tlearn: 0.4693464\ttotal: 17m 13s\tremaining: 16m 33s\n",
      "510:\tlearn: 0.4693368\ttotal: 17m 15s\tremaining: 16m 31s\n",
      "511:\tlearn: 0.4693171\ttotal: 17m 17s\tremaining: 16m 29s\n",
      "512:\tlearn: 0.4693046\ttotal: 17m 19s\tremaining: 16m 27s\n",
      "513:\tlearn: 0.4692904\ttotal: 17m 21s\tremaining: 16m 24s\n",
      "514:\tlearn: 0.4692818\ttotal: 17m 23s\tremaining: 16m 22s\n",
      "515:\tlearn: 0.4692653\ttotal: 17m 24s\tremaining: 16m 20s\n",
      "516:\tlearn: 0.4692560\ttotal: 17m 27s\tremaining: 16m 18s\n",
      "517:\tlearn: 0.4692435\ttotal: 17m 28s\tremaining: 16m 15s\n",
      "518:\tlearn: 0.4692320\ttotal: 17m 30s\tremaining: 16m 13s\n",
      "519:\tlearn: 0.4692231\ttotal: 17m 32s\tremaining: 16m 11s\n",
      "520:\tlearn: 0.4692080\ttotal: 17m 34s\tremaining: 16m 9s\n",
      "521:\tlearn: 0.4692015\ttotal: 17m 36s\tremaining: 16m 7s\n",
      "522:\tlearn: 0.4691902\ttotal: 17m 37s\tremaining: 16m 4s\n",
      "523:\tlearn: 0.4691786\ttotal: 17m 40s\tremaining: 16m 3s\n",
      "524:\tlearn: 0.4691725\ttotal: 17m 42s\tremaining: 16m 1s\n",
      "525:\tlearn: 0.4691588\ttotal: 17m 44s\tremaining: 15m 59s\n",
      "526:\tlearn: 0.4691490\ttotal: 17m 46s\tremaining: 15m 57s\n",
      "527:\tlearn: 0.4691386\ttotal: 17m 47s\tremaining: 15m 54s\n",
      "528:\tlearn: 0.4691291\ttotal: 17m 49s\tremaining: 15m 52s\n",
      "529:\tlearn: 0.4691195\ttotal: 17m 52s\tremaining: 15m 50s\n",
      "530:\tlearn: 0.4691082\ttotal: 17m 54s\tremaining: 15m 48s\n",
      "531:\tlearn: 0.4690927\ttotal: 17m 56s\tremaining: 15m 46s\n",
      "532:\tlearn: 0.4690821\ttotal: 17m 58s\tremaining: 15m 44s\n",
      "533:\tlearn: 0.4690749\ttotal: 18m\tremaining: 15m 42s\n",
      "534:\tlearn: 0.4690629\ttotal: 18m 1s\tremaining: 15m 40s\n",
      "535:\tlearn: 0.4690465\ttotal: 18m 3s\tremaining: 15m 37s\n",
      "536:\tlearn: 0.4690396\ttotal: 18m 5s\tremaining: 15m 35s\n",
      "537:\tlearn: 0.4690285\ttotal: 18m 6s\tremaining: 15m 33s\n",
      "538:\tlearn: 0.4690157\ttotal: 18m 8s\tremaining: 15m 30s\n",
      "539:\tlearn: 0.4690081\ttotal: 18m 10s\tremaining: 15m 28s\n",
      "540:\tlearn: 0.4689997\ttotal: 18m 12s\tremaining: 15m 27s\n",
      "541:\tlearn: 0.4689875\ttotal: 18m 15s\tremaining: 15m 25s\n",
      "542:\tlearn: 0.4689807\ttotal: 18m 17s\tremaining: 15m 23s\n",
      "543:\tlearn: 0.4688748\ttotal: 18m 19s\tremaining: 15m 21s\n",
      "544:\tlearn: 0.4688597\ttotal: 18m 21s\tremaining: 15m 19s\n",
      "545:\tlearn: 0.4688521\ttotal: 18m 23s\tremaining: 15m 17s\n",
      "546:\tlearn: 0.4688403\ttotal: 18m 25s\tremaining: 15m 15s\n",
      "547:\tlearn: 0.4688279\ttotal: 18m 26s\tremaining: 15m 12s\n",
      "548:\tlearn: 0.4688188\ttotal: 18m 28s\tremaining: 15m 10s\n",
      "549:\tlearn: 0.4688051\ttotal: 18m 29s\tremaining: 15m 8s\n",
      "550:\tlearn: 0.4687952\ttotal: 18m 31s\tremaining: 15m 5s\n",
      "551:\tlearn: 0.4687853\ttotal: 18m 33s\tremaining: 15m 3s\n",
      "552:\tlearn: 0.4687737\ttotal: 18m 35s\tremaining: 15m 1s\n",
      "553:\tlearn: 0.4687622\ttotal: 18m 37s\tremaining: 14m 59s\n",
      "554:\tlearn: 0.4687521\ttotal: 18m 39s\tremaining: 14m 57s\n",
      "555:\tlearn: 0.4687463\ttotal: 18m 41s\tremaining: 14m 55s\n",
      "556:\tlearn: 0.4687398\ttotal: 18m 43s\tremaining: 14m 53s\n",
      "557:\tlearn: 0.4687324\ttotal: 18m 45s\tremaining: 14m 51s\n",
      "558:\tlearn: 0.4687264\ttotal: 18m 47s\tremaining: 14m 49s\n",
      "559:\tlearn: 0.4687064\ttotal: 18m 49s\tremaining: 14m 47s\n",
      "560:\tlearn: 0.4686971\ttotal: 18m 51s\tremaining: 14m 45s\n",
      "561:\tlearn: 0.4686932\ttotal: 18m 53s\tremaining: 14m 43s\n",
      "562:\tlearn: 0.4686799\ttotal: 18m 55s\tremaining: 14m 41s\n",
      "563:\tlearn: 0.4686696\ttotal: 18m 57s\tremaining: 14m 39s\n",
      "564:\tlearn: 0.4686598\ttotal: 18m 59s\tremaining: 14m 37s\n",
      "565:\tlearn: 0.4686446\ttotal: 19m 1s\tremaining: 14m 34s\n",
      "566:\tlearn: 0.4686319\ttotal: 19m 2s\tremaining: 14m 32s\n",
      "567:\tlearn: 0.4686229\ttotal: 19m 5s\tremaining: 14m 31s\n",
      "568:\tlearn: 0.4686116\ttotal: 19m 7s\tremaining: 14m 28s\n",
      "569:\tlearn: 0.4686048\ttotal: 19m 9s\tremaining: 14m 26s\n",
      "570:\tlearn: 0.4685929\ttotal: 19m 11s\tremaining: 14m 24s\n",
      "571:\tlearn: 0.4685835\ttotal: 19m 12s\tremaining: 14m 22s\n",
      "572:\tlearn: 0.4685702\ttotal: 19m 14s\tremaining: 14m 20s\n",
      "573:\tlearn: 0.4685620\ttotal: 19m 16s\tremaining: 14m 18s\n",
      "574:\tlearn: 0.4685534\ttotal: 19m 18s\tremaining: 14m 16s\n",
      "575:\tlearn: 0.4685392\ttotal: 19m 20s\tremaining: 14m 14s\n",
      "576:\tlearn: 0.4685326\ttotal: 19m 22s\tremaining: 14m 12s\n",
      "577:\tlearn: 0.4685239\ttotal: 19m 23s\tremaining: 14m 9s\n",
      "578:\tlearn: 0.4685157\ttotal: 19m 26s\tremaining: 14m 8s\n",
      "579:\tlearn: 0.4685045\ttotal: 19m 28s\tremaining: 14m 5s\n",
      "580:\tlearn: 0.4684964\ttotal: 19m 30s\tremaining: 14m 4s\n",
      "581:\tlearn: 0.4684895\ttotal: 19m 33s\tremaining: 14m 2s\n",
      "582:\tlearn: 0.4684797\ttotal: 19m 34s\tremaining: 14m\n",
      "583:\tlearn: 0.4684660\ttotal: 19m 36s\tremaining: 13m 57s\n",
      "584:\tlearn: 0.4684555\ttotal: 19m 37s\tremaining: 13m 55s\n",
      "585:\tlearn: 0.4684496\ttotal: 19m 39s\tremaining: 13m 53s\n",
      "586:\tlearn: 0.4684363\ttotal: 19m 41s\tremaining: 13m 51s\n",
      "587:\tlearn: 0.4684286\ttotal: 19m 43s\tremaining: 13m 48s\n",
      "588:\tlearn: 0.4684140\ttotal: 19m 44s\tremaining: 13m 46s\n",
      "589:\tlearn: 0.4684070\ttotal: 19m 47s\tremaining: 13m 44s\n",
      "590:\tlearn: 0.4683964\ttotal: 19m 48s\tremaining: 13m 42s\n",
      "591:\tlearn: 0.4683886\ttotal: 19m 50s\tremaining: 13m 40s\n",
      "592:\tlearn: 0.4683033\ttotal: 19m 52s\tremaining: 13m 38s\n",
      "593:\tlearn: 0.4682892\ttotal: 19m 54s\tremaining: 13m 36s\n",
      "594:\tlearn: 0.4682779\ttotal: 19m 55s\tremaining: 13m 33s\n",
      "595:\tlearn: 0.4682706\ttotal: 19m 57s\tremaining: 13m 31s\n",
      "596:\tlearn: 0.4682654\ttotal: 19m 59s\tremaining: 13m 29s\n",
      "597:\tlearn: 0.4682546\ttotal: 20m 1s\tremaining: 13m 27s\n",
      "598:\tlearn: 0.4682477\ttotal: 20m 4s\tremaining: 13m 26s\n",
      "599:\tlearn: 0.4682375\ttotal: 20m 6s\tremaining: 13m 24s\n",
      "600:\tlearn: 0.4682262\ttotal: 20m 8s\tremaining: 13m 22s\n",
      "601:\tlearn: 0.4682200\ttotal: 20m 11s\tremaining: 13m 20s\n",
      "602:\tlearn: 0.4682119\ttotal: 20m 13s\tremaining: 13m 18s\n",
      "603:\tlearn: 0.4681979\ttotal: 20m 15s\tremaining: 13m 16s\n",
      "604:\tlearn: 0.4681887\ttotal: 20m 16s\tremaining: 13m 14s\n",
      "605:\tlearn: 0.4681794\ttotal: 20m 19s\tremaining: 13m 12s\n",
      "606:\tlearn: 0.4681661\ttotal: 20m 20s\tremaining: 13m 10s\n",
      "607:\tlearn: 0.4681608\ttotal: 20m 22s\tremaining: 13m 8s\n",
      "608:\tlearn: 0.4681544\ttotal: 20m 24s\tremaining: 13m 6s\n",
      "609:\tlearn: 0.4681451\ttotal: 20m 26s\tremaining: 13m 4s\n",
      "610:\tlearn: 0.4681321\ttotal: 20m 28s\tremaining: 13m 1s\n",
      "611:\tlearn: 0.4681200\ttotal: 20m 29s\tremaining: 12m 59s\n",
      "612:\tlearn: 0.4681085\ttotal: 20m 31s\tremaining: 12m 57s\n",
      "613:\tlearn: 0.4681024\ttotal: 20m 33s\tremaining: 12m 55s\n",
      "614:\tlearn: 0.4680963\ttotal: 20m 35s\tremaining: 12m 53s\n",
      "615:\tlearn: 0.4680877\ttotal: 20m 37s\tremaining: 12m 51s\n",
      "616:\tlearn: 0.4680803\ttotal: 20m 39s\tremaining: 12m 49s\n",
      "617:\tlearn: 0.4680708\ttotal: 20m 41s\tremaining: 12m 47s\n",
      "618:\tlearn: 0.4680613\ttotal: 20m 43s\tremaining: 12m 45s\n",
      "619:\tlearn: 0.4680513\ttotal: 20m 45s\tremaining: 12m 43s\n",
      "620:\tlearn: 0.4680423\ttotal: 20m 47s\tremaining: 12m 41s\n",
      "621:\tlearn: 0.4680331\ttotal: 20m 48s\tremaining: 12m 38s\n",
      "622:\tlearn: 0.4680262\ttotal: 20m 51s\tremaining: 12m 37s\n",
      "623:\tlearn: 0.4680186\ttotal: 20m 53s\tremaining: 12m 35s\n",
      "624:\tlearn: 0.4680068\ttotal: 20m 55s\tremaining: 12m 33s\n",
      "625:\tlearn: 0.4679957\ttotal: 20m 57s\tremaining: 12m 31s\n",
      "626:\tlearn: 0.4679828\ttotal: 20m 58s\tremaining: 12m 28s\n",
      "627:\tlearn: 0.4679745\ttotal: 21m\tremaining: 12m 26s\n",
      "628:\tlearn: 0.4679661\ttotal: 21m 2s\tremaining: 12m 24s\n",
      "629:\tlearn: 0.4679600\ttotal: 21m 4s\tremaining: 12m 22s\n",
      "630:\tlearn: 0.4679506\ttotal: 21m 6s\tremaining: 12m 20s\n",
      "631:\tlearn: 0.4679445\ttotal: 21m 9s\tremaining: 12m 18s\n",
      "632:\tlearn: 0.4679296\ttotal: 21m 10s\tremaining: 12m 16s\n",
      "633:\tlearn: 0.4679167\ttotal: 21m 12s\tremaining: 12m 14s\n",
      "634:\tlearn: 0.4679103\ttotal: 21m 14s\tremaining: 12m 12s\n",
      "635:\tlearn: 0.4679041\ttotal: 21m 16s\tremaining: 12m 10s\n",
      "636:\tlearn: 0.4678923\ttotal: 21m 18s\tremaining: 12m 8s\n",
      "637:\tlearn: 0.4678828\ttotal: 21m 20s\tremaining: 12m 6s\n",
      "638:\tlearn: 0.4678747\ttotal: 21m 21s\tremaining: 12m 4s\n",
      "639:\tlearn: 0.4678651\ttotal: 21m 23s\tremaining: 12m 2s\n",
      "640:\tlearn: 0.4678564\ttotal: 21m 25s\tremaining: 11m 59s\n",
      "641:\tlearn: 0.4678492\ttotal: 21m 27s\tremaining: 11m 57s\n",
      "642:\tlearn: 0.4678349\ttotal: 21m 29s\tremaining: 11m 55s\n",
      "643:\tlearn: 0.4678283\ttotal: 21m 31s\tremaining: 11m 53s\n",
      "644:\tlearn: 0.4678162\ttotal: 21m 32s\tremaining: 11m 51s\n",
      "645:\tlearn: 0.4678098\ttotal: 21m 34s\tremaining: 11m 49s\n",
      "646:\tlearn: 0.4678028\ttotal: 21m 37s\tremaining: 11m 47s\n",
      "647:\tlearn: 0.4677970\ttotal: 21m 39s\tremaining: 11m 45s\n",
      "648:\tlearn: 0.4677898\ttotal: 21m 40s\tremaining: 11m 43s\n",
      "649:\tlearn: 0.4677783\ttotal: 21m 42s\tremaining: 11m 41s\n",
      "650:\tlearn: 0.4677671\ttotal: 21m 44s\tremaining: 11m 39s\n",
      "651:\tlearn: 0.4677595\ttotal: 21m 46s\tremaining: 11m 37s\n",
      "652:\tlearn: 0.4677504\ttotal: 21m 47s\tremaining: 11m 34s\n",
      "653:\tlearn: 0.4677428\ttotal: 21m 49s\tremaining: 11m 33s\n",
      "654:\tlearn: 0.4677336\ttotal: 21m 52s\tremaining: 11m 31s\n",
      "655:\tlearn: 0.4677220\ttotal: 21m 54s\tremaining: 11m 29s\n",
      "656:\tlearn: 0.4677140\ttotal: 21m 56s\tremaining: 11m 27s\n",
      "657:\tlearn: 0.4677075\ttotal: 21m 57s\tremaining: 11m 24s\n",
      "658:\tlearn: 0.4676987\ttotal: 21m 59s\tremaining: 11m 23s\n",
      "659:\tlearn: 0.4676882\ttotal: 22m 2s\tremaining: 11m 21s\n",
      "660:\tlearn: 0.4676770\ttotal: 22m 4s\tremaining: 11m 19s\n",
      "661:\tlearn: 0.4676695\ttotal: 22m 5s\tremaining: 11m 16s\n",
      "662:\tlearn: 0.4676611\ttotal: 22m 7s\tremaining: 11m 14s\n",
      "663:\tlearn: 0.4675607\ttotal: 22m 9s\tremaining: 11m 12s\n",
      "664:\tlearn: 0.4675532\ttotal: 22m 11s\tremaining: 11m 10s\n",
      "665:\tlearn: 0.4675443\ttotal: 22m 12s\tremaining: 11m 8s\n",
      "666:\tlearn: 0.4675342\ttotal: 22m 14s\tremaining: 11m 6s\n",
      "667:\tlearn: 0.4675246\ttotal: 22m 16s\tremaining: 11m 4s\n",
      "668:\tlearn: 0.4675190\ttotal: 22m 18s\tremaining: 11m 2s\n",
      "669:\tlearn: 0.4675132\ttotal: 22m 21s\tremaining: 11m\n",
      "670:\tlearn: 0.4675078\ttotal: 22m 22s\tremaining: 10m 58s\n",
      "671:\tlearn: 0.4674995\ttotal: 22m 24s\tremaining: 10m 56s\n",
      "672:\tlearn: 0.4674914\ttotal: 22m 26s\tremaining: 10m 54s\n",
      "673:\tlearn: 0.4674823\ttotal: 22m 28s\tremaining: 10m 52s\n",
      "674:\tlearn: 0.4674742\ttotal: 22m 30s\tremaining: 10m 50s\n",
      "675:\tlearn: 0.4674676\ttotal: 22m 32s\tremaining: 10m 48s\n",
      "676:\tlearn: 0.4674586\ttotal: 22m 34s\tremaining: 10m 46s\n",
      "677:\tlearn: 0.4674464\ttotal: 22m 35s\tremaining: 10m 43s\n",
      "678:\tlearn: 0.4674383\ttotal: 22m 37s\tremaining: 10m 41s\n",
      "679:\tlearn: 0.4674303\ttotal: 22m 38s\tremaining: 10m 39s\n",
      "680:\tlearn: 0.4674231\ttotal: 22m 41s\tremaining: 10m 37s\n",
      "681:\tlearn: 0.4674147\ttotal: 22m 43s\tremaining: 10m 35s\n",
      "682:\tlearn: 0.4674014\ttotal: 22m 44s\tremaining: 10m 33s\n",
      "683:\tlearn: 0.4673909\ttotal: 22m 46s\tremaining: 10m 31s\n",
      "684:\tlearn: 0.4673847\ttotal: 22m 48s\tremaining: 10m 29s\n",
      "685:\tlearn: 0.4673782\ttotal: 22m 50s\tremaining: 10m 27s\n",
      "686:\tlearn: 0.4673711\ttotal: 22m 52s\tremaining: 10m 25s\n",
      "687:\tlearn: 0.4673634\ttotal: 22m 53s\tremaining: 10m 22s\n",
      "688:\tlearn: 0.4673525\ttotal: 22m 55s\tremaining: 10m 21s\n",
      "689:\tlearn: 0.4673428\ttotal: 22m 57s\tremaining: 10m 18s\n",
      "690:\tlearn: 0.4673319\ttotal: 22m 59s\tremaining: 10m 16s\n",
      "691:\tlearn: 0.4673258\ttotal: 23m 1s\tremaining: 10m 14s\n",
      "692:\tlearn: 0.4673201\ttotal: 23m 3s\tremaining: 10m 13s\n",
      "693:\tlearn: 0.4673115\ttotal: 23m 5s\tremaining: 10m 10s\n",
      "694:\tlearn: 0.4673018\ttotal: 23m 7s\tremaining: 10m 8s\n",
      "695:\tlearn: 0.4672060\ttotal: 23m 9s\tremaining: 10m 6s\n",
      "696:\tlearn: 0.4671991\ttotal: 23m 11s\tremaining: 10m 4s\n",
      "697:\tlearn: 0.4671863\ttotal: 23m 13s\tremaining: 10m 2s\n",
      "698:\tlearn: 0.4671800\ttotal: 23m 14s\tremaining: 10m\n",
      "699:\tlearn: 0.4671726\ttotal: 23m 17s\tremaining: 9m 58s\n",
      "700:\tlearn: 0.4671639\ttotal: 23m 18s\tremaining: 9m 56s\n",
      "701:\tlearn: 0.4671556\ttotal: 23m 20s\tremaining: 9m 54s\n",
      "702:\tlearn: 0.4671476\ttotal: 23m 22s\tremaining: 9m 52s\n",
      "703:\tlearn: 0.4671406\ttotal: 23m 24s\tremaining: 9m 50s\n",
      "704:\tlearn: 0.4671287\ttotal: 23m 25s\tremaining: 9m 48s\n",
      "705:\tlearn: 0.4671184\ttotal: 23m 27s\tremaining: 9m 46s\n",
      "706:\tlearn: 0.4671116\ttotal: 23m 30s\tremaining: 9m 44s\n",
      "707:\tlearn: 0.4671045\ttotal: 23m 32s\tremaining: 9m 42s\n",
      "708:\tlearn: 0.4670933\ttotal: 23m 34s\tremaining: 9m 40s\n",
      "709:\tlearn: 0.4670831\ttotal: 23m 36s\tremaining: 9m 38s\n",
      "710:\tlearn: 0.4670780\ttotal: 23m 38s\tremaining: 9m 36s\n",
      "711:\tlearn: 0.4670708\ttotal: 23m 40s\tremaining: 9m 34s\n",
      "712:\tlearn: 0.4670597\ttotal: 23m 42s\tremaining: 9m 32s\n",
      "713:\tlearn: 0.4670492\ttotal: 23m 44s\tremaining: 9m 30s\n",
      "714:\tlearn: 0.4670455\ttotal: 23m 46s\tremaining: 9m 28s\n",
      "715:\tlearn: 0.4670360\ttotal: 23m 48s\tremaining: 9m 26s\n",
      "716:\tlearn: 0.4670316\ttotal: 23m 50s\tremaining: 9m 24s\n",
      "717:\tlearn: 0.4670255\ttotal: 23m 52s\tremaining: 9m 22s\n",
      "718:\tlearn: 0.4670193\ttotal: 23m 54s\tremaining: 9m 20s\n",
      "719:\tlearn: 0.4670112\ttotal: 23m 57s\tremaining: 9m 18s\n",
      "720:\tlearn: 0.4670054\ttotal: 23m 58s\tremaining: 9m 16s\n",
      "721:\tlearn: 0.4669957\ttotal: 24m\tremaining: 9m 14s\n",
      "722:\tlearn: 0.4669885\ttotal: 24m 2s\tremaining: 9m 12s\n",
      "723:\tlearn: 0.4669834\ttotal: 24m 4s\tremaining: 9m 10s\n",
      "724:\tlearn: 0.4668935\ttotal: 24m 6s\tremaining: 9m 8s\n",
      "725:\tlearn: 0.4668844\ttotal: 24m 8s\tremaining: 9m 6s\n",
      "726:\tlearn: 0.4668803\ttotal: 24m 10s\tremaining: 9m 4s\n",
      "727:\tlearn: 0.4668748\ttotal: 24m 11s\tremaining: 9m 2s\n",
      "728:\tlearn: 0.4668654\ttotal: 24m 13s\tremaining: 9m\n",
      "729:\tlearn: 0.4668616\ttotal: 24m 15s\tremaining: 8m 58s\n",
      "730:\tlearn: 0.4668524\ttotal: 24m 17s\tremaining: 8m 56s\n",
      "731:\tlearn: 0.4668486\ttotal: 24m 20s\tremaining: 8m 54s\n",
      "732:\tlearn: 0.4668431\ttotal: 24m 21s\tremaining: 8m 52s\n",
      "733:\tlearn: 0.4668361\ttotal: 24m 24s\tremaining: 8m 50s\n",
      "734:\tlearn: 0.4668306\ttotal: 24m 25s\tremaining: 8m 48s\n",
      "735:\tlearn: 0.4668220\ttotal: 24m 27s\tremaining: 8m 46s\n",
      "736:\tlearn: 0.4668145\ttotal: 24m 29s\tremaining: 8m 44s\n",
      "737:\tlearn: 0.4668034\ttotal: 24m 31s\tremaining: 8m 42s\n",
      "738:\tlearn: 0.4667961\ttotal: 24m 32s\tremaining: 8m 40s\n",
      "739:\tlearn: 0.4667864\ttotal: 24m 34s\tremaining: 8m 38s\n",
      "740:\tlearn: 0.4667665\ttotal: 24m 36s\tremaining: 8m 35s\n",
      "741:\tlearn: 0.4667601\ttotal: 24m 37s\tremaining: 8m 33s\n",
      "742:\tlearn: 0.4667405\ttotal: 24m 39s\tremaining: 8m 31s\n",
      "743:\tlearn: 0.4667330\ttotal: 24m 41s\tremaining: 8m 29s\n",
      "744:\tlearn: 0.4667252\ttotal: 24m 42s\tremaining: 8m 27s\n",
      "745:\tlearn: 0.4666406\ttotal: 24m 44s\tremaining: 8m 25s\n",
      "746:\tlearn: 0.4666360\ttotal: 24m 47s\tremaining: 8m 23s\n",
      "747:\tlearn: 0.4666254\ttotal: 24m 48s\tremaining: 8m 21s\n",
      "748:\tlearn: 0.4666169\ttotal: 24m 50s\tremaining: 8m 19s\n",
      "749:\tlearn: 0.4666094\ttotal: 24m 51s\tremaining: 8m 17s\n",
      "750:\tlearn: 0.4666035\ttotal: 24m 54s\tremaining: 8m 15s\n",
      "751:\tlearn: 0.4665919\ttotal: 24m 55s\tremaining: 8m 13s\n",
      "752:\tlearn: 0.4665846\ttotal: 24m 57s\tremaining: 8m 11s\n",
      "753:\tlearn: 0.4665772\ttotal: 24m 59s\tremaining: 8m 9s\n",
      "754:\tlearn: 0.4665715\ttotal: 25m 2s\tremaining: 8m 7s\n",
      "755:\tlearn: 0.4665686\ttotal: 25m 4s\tremaining: 8m 5s\n",
      "756:\tlearn: 0.4665636\ttotal: 25m 6s\tremaining: 8m 3s\n",
      "757:\tlearn: 0.4665453\ttotal: 25m 8s\tremaining: 8m 1s\n",
      "758:\tlearn: 0.4665396\ttotal: 25m 10s\tremaining: 7m 59s\n",
      "759:\tlearn: 0.4665340\ttotal: 25m 12s\tremaining: 7m 57s\n",
      "760:\tlearn: 0.4665295\ttotal: 25m 14s\tremaining: 7m 55s\n",
      "761:\tlearn: 0.4665239\ttotal: 25m 16s\tremaining: 7m 53s\n",
      "762:\tlearn: 0.4665195\ttotal: 25m 18s\tremaining: 7m 51s\n",
      "763:\tlearn: 0.4665124\ttotal: 25m 19s\tremaining: 7m 49s\n",
      "764:\tlearn: 0.4665052\ttotal: 25m 21s\tremaining: 7m 47s\n",
      "765:\tlearn: 0.4664984\ttotal: 25m 22s\tremaining: 7m 45s\n",
      "766:\tlearn: 0.4664939\ttotal: 25m 24s\tremaining: 7m 42s\n",
      "767:\tlearn: 0.4664847\ttotal: 25m 25s\tremaining: 7m 40s\n",
      "768:\tlearn: 0.4664784\ttotal: 25m 27s\tremaining: 7m 38s\n",
      "769:\tlearn: 0.4664705\ttotal: 25m 29s\tremaining: 7m 36s\n",
      "770:\tlearn: 0.4664611\ttotal: 25m 31s\tremaining: 7m 34s\n",
      "771:\tlearn: 0.4664561\ttotal: 25m 33s\tremaining: 7m 32s\n",
      "772:\tlearn: 0.4664300\ttotal: 25m 35s\tremaining: 7m 30s\n",
      "773:\tlearn: 0.4664225\ttotal: 25m 37s\tremaining: 7m 28s\n",
      "774:\tlearn: 0.4664156\ttotal: 25m 38s\tremaining: 7m 26s\n",
      "775:\tlearn: 0.4664084\ttotal: 25m 40s\tremaining: 7m 24s\n",
      "776:\tlearn: 0.4664039\ttotal: 25m 42s\tremaining: 7m 22s\n",
      "777:\tlearn: 0.4663981\ttotal: 25m 44s\tremaining: 7m 20s\n",
      "778:\tlearn: 0.4663883\ttotal: 25m 46s\tremaining: 7m 18s\n",
      "779:\tlearn: 0.4663830\ttotal: 25m 48s\tremaining: 7m 16s\n",
      "780:\tlearn: 0.4663769\ttotal: 25m 50s\tremaining: 7m 14s\n",
      "781:\tlearn: 0.4663713\ttotal: 25m 52s\tremaining: 7m 12s\n",
      "782:\tlearn: 0.4663650\ttotal: 25m 54s\tremaining: 7m 10s\n",
      "783:\tlearn: 0.4663590\ttotal: 25m 56s\tremaining: 7m 8s\n",
      "784:\tlearn: 0.4663515\ttotal: 25m 58s\tremaining: 7m 6s\n",
      "785:\tlearn: 0.4663480\ttotal: 26m\tremaining: 7m 4s\n",
      "786:\tlearn: 0.4663228\ttotal: 26m 2s\tremaining: 7m 2s\n",
      "787:\tlearn: 0.4663059\ttotal: 26m 4s\tremaining: 7m\n",
      "788:\tlearn: 0.4662815\ttotal: 26m 6s\tremaining: 6m 58s\n",
      "789:\tlearn: 0.4662771\ttotal: 26m 8s\tremaining: 6m 57s\n",
      "790:\tlearn: 0.4662710\ttotal: 26m 11s\tremaining: 6m 55s\n",
      "791:\tlearn: 0.4662662\ttotal: 26m 13s\tremaining: 6m 53s\n",
      "792:\tlearn: 0.4662604\ttotal: 26m 14s\tremaining: 6m 51s\n",
      "793:\tlearn: 0.4662532\ttotal: 26m 16s\tremaining: 6m 49s\n",
      "794:\tlearn: 0.4662291\ttotal: 26m 18s\tremaining: 6m 47s\n",
      "795:\tlearn: 0.4662176\ttotal: 26m 20s\tremaining: 6m 45s\n",
      "796:\tlearn: 0.4662031\ttotal: 26m 22s\tremaining: 6m 42s\n",
      "797:\tlearn: 0.4661992\ttotal: 26m 23s\tremaining: 6m 40s\n",
      "798:\tlearn: 0.4661937\ttotal: 26m 26s\tremaining: 6m 39s\n",
      "799:\tlearn: 0.4661879\ttotal: 26m 27s\tremaining: 6m 36s\n",
      "800:\tlearn: 0.4661813\ttotal: 26m 29s\tremaining: 6m 34s\n",
      "801:\tlearn: 0.4661760\ttotal: 26m 32s\tremaining: 6m 33s\n",
      "802:\tlearn: 0.4661712\ttotal: 26m 33s\tremaining: 6m 31s\n",
      "803:\tlearn: 0.4661668\ttotal: 26m 35s\tremaining: 6m 28s\n",
      "804:\tlearn: 0.4661595\ttotal: 26m 37s\tremaining: 6m 26s\n",
      "805:\tlearn: 0.4661556\ttotal: 26m 39s\tremaining: 6m 24s\n",
      "806:\tlearn: 0.4661502\ttotal: 26m 41s\tremaining: 6m 23s\n",
      "807:\tlearn: 0.4661424\ttotal: 26m 43s\tremaining: 6m 21s\n",
      "808:\tlearn: 0.4661353\ttotal: 26m 45s\tremaining: 6m 19s\n",
      "809:\tlearn: 0.4661289\ttotal: 26m 47s\tremaining: 6m 16s\n",
      "810:\tlearn: 0.4661171\ttotal: 26m 48s\tremaining: 6m 14s\n",
      "811:\tlearn: 0.4661095\ttotal: 26m 50s\tremaining: 6m 12s\n",
      "812:\tlearn: 0.4661042\ttotal: 26m 52s\tremaining: 6m 10s\n",
      "813:\tlearn: 0.4660946\ttotal: 26m 54s\tremaining: 6m 8s\n",
      "814:\tlearn: 0.4660885\ttotal: 26m 56s\tremaining: 6m 6s\n",
      "815:\tlearn: 0.4660781\ttotal: 26m 57s\tremaining: 6m 4s\n",
      "816:\tlearn: 0.4660732\ttotal: 26m 59s\tremaining: 6m 2s\n",
      "817:\tlearn: 0.4660632\ttotal: 27m\tremaining: 6m\n",
      "818:\tlearn: 0.4660562\ttotal: 27m 2s\tremaining: 5m 58s\n",
      "819:\tlearn: 0.4660485\ttotal: 27m 4s\tremaining: 5m 56s\n",
      "820:\tlearn: 0.4660438\ttotal: 27m 6s\tremaining: 5m 54s\n",
      "821:\tlearn: 0.4660387\ttotal: 27m 8s\tremaining: 5m 52s\n",
      "822:\tlearn: 0.4660324\ttotal: 27m 10s\tremaining: 5m 50s\n",
      "823:\tlearn: 0.4660241\ttotal: 27m 11s\tremaining: 5m 48s\n",
      "824:\tlearn: 0.4660195\ttotal: 27m 14s\tremaining: 5m 46s\n",
      "825:\tlearn: 0.4660114\ttotal: 27m 16s\tremaining: 5m 44s\n",
      "826:\tlearn: 0.4660063\ttotal: 27m 18s\tremaining: 5m 42s\n",
      "827:\tlearn: 0.4660003\ttotal: 27m 20s\tremaining: 5m 40s\n",
      "828:\tlearn: 0.4659943\ttotal: 27m 22s\tremaining: 5m 38s\n",
      "829:\tlearn: 0.4659855\ttotal: 27m 24s\tremaining: 5m 36s\n",
      "830:\tlearn: 0.4659804\ttotal: 27m 26s\tremaining: 5m 34s\n",
      "831:\tlearn: 0.4659733\ttotal: 27m 28s\tremaining: 5m 32s\n",
      "832:\tlearn: 0.4659690\ttotal: 27m 30s\tremaining: 5m 30s\n",
      "833:\tlearn: 0.4659625\ttotal: 27m 32s\tremaining: 5m 28s\n",
      "834:\tlearn: 0.4659552\ttotal: 27m 34s\tremaining: 5m 26s\n",
      "835:\tlearn: 0.4658743\ttotal: 27m 35s\tremaining: 5m 24s\n",
      "836:\tlearn: 0.4658697\ttotal: 27m 36s\tremaining: 5m 22s\n",
      "837:\tlearn: 0.4658644\ttotal: 27m 38s\tremaining: 5m 20s\n",
      "838:\tlearn: 0.4658602\ttotal: 27m 40s\tremaining: 5m 18s\n",
      "839:\tlearn: 0.4658562\ttotal: 27m 43s\tremaining: 5m 16s\n",
      "840:\tlearn: 0.4658520\ttotal: 27m 45s\tremaining: 5m 14s\n",
      "841:\tlearn: 0.4658474\ttotal: 27m 47s\tremaining: 5m 12s\n",
      "842:\tlearn: 0.4658418\ttotal: 27m 48s\tremaining: 5m 10s\n",
      "843:\tlearn: 0.4658313\ttotal: 27m 50s\tremaining: 5m 8s\n",
      "844:\tlearn: 0.4658255\ttotal: 27m 52s\tremaining: 5m 6s\n",
      "845:\tlearn: 0.4658187\ttotal: 27m 54s\tremaining: 5m 4s\n",
      "846:\tlearn: 0.4658118\ttotal: 27m 55s\tremaining: 5m 2s\n",
      "847:\tlearn: 0.4658077\ttotal: 27m 58s\tremaining: 5m\n",
      "848:\tlearn: 0.4658023\ttotal: 27m 59s\tremaining: 4m 58s\n",
      "849:\tlearn: 0.4657942\ttotal: 28m 1s\tremaining: 4m 56s\n",
      "850:\tlearn: 0.4657869\ttotal: 28m 2s\tremaining: 4m 54s\n",
      "851:\tlearn: 0.4657825\ttotal: 28m 4s\tremaining: 4m 52s\n",
      "852:\tlearn: 0.4657759\ttotal: 28m 6s\tremaining: 4m 50s\n",
      "853:\tlearn: 0.4657682\ttotal: 28m 7s\tremaining: 4m 48s\n",
      "854:\tlearn: 0.4657644\ttotal: 28m 10s\tremaining: 4m 46s\n",
      "855:\tlearn: 0.4657596\ttotal: 28m 12s\tremaining: 4m 44s\n",
      "856:\tlearn: 0.4657534\ttotal: 28m 13s\tremaining: 4m 42s\n",
      "857:\tlearn: 0.4657433\ttotal: 28m 15s\tremaining: 4m 40s\n",
      "858:\tlearn: 0.4657375\ttotal: 28m 18s\tremaining: 4m 38s\n",
      "859:\tlearn: 0.4657257\ttotal: 28m 19s\tremaining: 4m 36s\n",
      "860:\tlearn: 0.4657184\ttotal: 28m 21s\tremaining: 4m 34s\n",
      "861:\tlearn: 0.4657132\ttotal: 28m 23s\tremaining: 4m 32s\n",
      "862:\tlearn: 0.4657081\ttotal: 28m 25s\tremaining: 4m 30s\n",
      "863:\tlearn: 0.4657025\ttotal: 28m 26s\tremaining: 4m 28s\n",
      "864:\tlearn: 0.4656957\ttotal: 28m 28s\tremaining: 4m 26s\n",
      "865:\tlearn: 0.4656894\ttotal: 28m 29s\tremaining: 4m 24s\n",
      "866:\tlearn: 0.4656833\ttotal: 28m 31s\tremaining: 4m 22s\n",
      "867:\tlearn: 0.4656774\ttotal: 28m 33s\tremaining: 4m 20s\n",
      "868:\tlearn: 0.4656718\ttotal: 28m 35s\tremaining: 4m 18s\n",
      "869:\tlearn: 0.4656665\ttotal: 28m 37s\tremaining: 4m 16s\n",
      "870:\tlearn: 0.4656583\ttotal: 28m 38s\tremaining: 4m 14s\n",
      "871:\tlearn: 0.4656538\ttotal: 28m 40s\tremaining: 4m 12s\n",
      "872:\tlearn: 0.4656446\ttotal: 28m 42s\tremaining: 4m 10s\n",
      "873:\tlearn: 0.4656411\ttotal: 28m 43s\tremaining: 4m 8s\n",
      "874:\tlearn: 0.4656347\ttotal: 28m 45s\tremaining: 4m 6s\n",
      "875:\tlearn: 0.4656272\ttotal: 28m 48s\tremaining: 4m 4s\n",
      "876:\tlearn: 0.4656226\ttotal: 28m 49s\tremaining: 4m 2s\n",
      "877:\tlearn: 0.4656153\ttotal: 28m 51s\tremaining: 4m\n",
      "878:\tlearn: 0.4656104\ttotal: 28m 54s\tremaining: 3m 58s\n",
      "879:\tlearn: 0.4656047\ttotal: 28m 56s\tremaining: 3m 56s\n",
      "880:\tlearn: 0.4655972\ttotal: 28m 58s\tremaining: 3m 54s\n",
      "881:\tlearn: 0.4655815\ttotal: 29m\tremaining: 3m 52s\n",
      "882:\tlearn: 0.4655757\ttotal: 29m 1s\tremaining: 3m 50s\n",
      "883:\tlearn: 0.4655611\ttotal: 29m 3s\tremaining: 3m 48s\n",
      "884:\tlearn: 0.4655560\ttotal: 29m 5s\tremaining: 3m 46s\n",
      "885:\tlearn: 0.4655529\ttotal: 29m 7s\tremaining: 3m 44s\n",
      "886:\tlearn: 0.4655450\ttotal: 29m 9s\tremaining: 3m 42s\n",
      "887:\tlearn: 0.4655392\ttotal: 29m 11s\tremaining: 3m 40s\n",
      "888:\tlearn: 0.4655341\ttotal: 29m 13s\tremaining: 3m 38s\n",
      "889:\tlearn: 0.4655304\ttotal: 29m 16s\tremaining: 3m 37s\n",
      "890:\tlearn: 0.4655258\ttotal: 29m 18s\tremaining: 3m 35s\n",
      "891:\tlearn: 0.4655209\ttotal: 29m 19s\tremaining: 3m 33s\n",
      "892:\tlearn: 0.4655130\ttotal: 29m 21s\tremaining: 3m 31s\n",
      "893:\tlearn: 0.4655089\ttotal: 29m 23s\tremaining: 3m 29s\n",
      "894:\tlearn: 0.4655040\ttotal: 29m 25s\tremaining: 3m 27s\n",
      "895:\tlearn: 0.4654949\ttotal: 29m 26s\tremaining: 3m 25s\n",
      "896:\tlearn: 0.4654900\ttotal: 29m 28s\tremaining: 3m 23s\n",
      "897:\tlearn: 0.4654837\ttotal: 29m 30s\tremaining: 3m 21s\n",
      "898:\tlearn: 0.4654797\ttotal: 29m 32s\tremaining: 3m 19s\n",
      "899:\tlearn: 0.4654745\ttotal: 29m 34s\tremaining: 3m 17s\n",
      "900:\tlearn: 0.4654649\ttotal: 29m 36s\tremaining: 3m 15s\n",
      "901:\tlearn: 0.4654583\ttotal: 29m 37s\tremaining: 3m 13s\n",
      "902:\tlearn: 0.4654526\ttotal: 29m 40s\tremaining: 3m 11s\n",
      "903:\tlearn: 0.4654481\ttotal: 29m 41s\tremaining: 3m 9s\n",
      "904:\tlearn: 0.4654417\ttotal: 29m 43s\tremaining: 3m 7s\n",
      "905:\tlearn: 0.4654369\ttotal: 29m 45s\tremaining: 3m 5s\n",
      "906:\tlearn: 0.4654329\ttotal: 29m 47s\tremaining: 3m 3s\n",
      "907:\tlearn: 0.4654253\ttotal: 29m 49s\tremaining: 3m 1s\n",
      "908:\tlearn: 0.4654219\ttotal: 29m 51s\tremaining: 2m 59s\n",
      "909:\tlearn: 0.4654169\ttotal: 29m 52s\tremaining: 2m 57s\n",
      "910:\tlearn: 0.4654116\ttotal: 29m 54s\tremaining: 2m 55s\n",
      "911:\tlearn: 0.4654077\ttotal: 29m 56s\tremaining: 2m 53s\n",
      "912:\tlearn: 0.4654011\ttotal: 29m 58s\tremaining: 2m 51s\n",
      "913:\tlearn: 0.4653923\ttotal: 30m\tremaining: 2m 49s\n",
      "914:\tlearn: 0.4653885\ttotal: 30m 2s\tremaining: 2m 47s\n",
      "915:\tlearn: 0.4653810\ttotal: 30m 4s\tremaining: 2m 45s\n",
      "916:\tlearn: 0.4653731\ttotal: 30m 6s\tremaining: 2m 43s\n",
      "917:\tlearn: 0.4653043\ttotal: 30m 8s\tremaining: 2m 41s\n",
      "918:\tlearn: 0.4652973\ttotal: 30m 10s\tremaining: 2m 39s\n",
      "919:\tlearn: 0.4652920\ttotal: 30m 12s\tremaining: 2m 37s\n",
      "920:\tlearn: 0.4652876\ttotal: 30m 14s\tremaining: 2m 35s\n",
      "921:\tlearn: 0.4652791\ttotal: 30m 15s\tremaining: 2m 33s\n",
      "922:\tlearn: 0.4652746\ttotal: 30m 16s\tremaining: 2m 31s\n",
      "923:\tlearn: 0.4652685\ttotal: 30m 18s\tremaining: 2m 29s\n",
      "924:\tlearn: 0.4652647\ttotal: 30m 20s\tremaining: 2m 27s\n",
      "925:\tlearn: 0.4652617\ttotal: 30m 23s\tremaining: 2m 25s\n",
      "926:\tlearn: 0.4652538\ttotal: 30m 24s\tremaining: 2m 23s\n",
      "927:\tlearn: 0.4652414\ttotal: 30m 26s\tremaining: 2m 21s\n",
      "928:\tlearn: 0.4652316\ttotal: 30m 28s\tremaining: 2m 19s\n",
      "929:\tlearn: 0.4652268\ttotal: 30m 29s\tremaining: 2m 17s\n",
      "930:\tlearn: 0.4652140\ttotal: 30m 31s\tremaining: 2m 15s\n",
      "931:\tlearn: 0.4652098\ttotal: 30m 33s\tremaining: 2m 13s\n",
      "932:\tlearn: 0.4652056\ttotal: 30m 35s\tremaining: 2m 11s\n",
      "933:\tlearn: 0.4651968\ttotal: 30m 36s\tremaining: 2m 9s\n",
      "934:\tlearn: 0.4651934\ttotal: 30m 39s\tremaining: 2m 7s\n",
      "935:\tlearn: 0.4651883\ttotal: 30m 40s\tremaining: 2m 5s\n",
      "936:\tlearn: 0.4651834\ttotal: 30m 42s\tremaining: 2m 3s\n",
      "937:\tlearn: 0.4651784\ttotal: 30m 44s\tremaining: 2m 1s\n",
      "938:\tlearn: 0.4651714\ttotal: 30m 45s\tremaining: 1m 59s\n",
      "939:\tlearn: 0.4651665\ttotal: 30m 47s\tremaining: 1m 57s\n",
      "940:\tlearn: 0.4651615\ttotal: 30m 48s\tremaining: 1m 55s\n",
      "941:\tlearn: 0.4651567\ttotal: 30m 50s\tremaining: 1m 53s\n",
      "942:\tlearn: 0.4651496\ttotal: 30m 53s\tremaining: 1m 52s\n",
      "943:\tlearn: 0.4651449\ttotal: 30m 54s\tremaining: 1m 50s\n",
      "944:\tlearn: 0.4651428\ttotal: 30m 56s\tremaining: 1m 48s\n",
      "945:\tlearn: 0.4651380\ttotal: 30m 59s\tremaining: 1m 46s\n",
      "946:\tlearn: 0.4651342\ttotal: 31m 1s\tremaining: 1m 44s\n",
      "947:\tlearn: 0.4651288\ttotal: 31m 3s\tremaining: 1m 42s\n",
      "948:\tlearn: 0.4651245\ttotal: 31m 5s\tremaining: 1m 40s\n",
      "949:\tlearn: 0.4651106\ttotal: 31m 6s\tremaining: 1m 38s\n",
      "950:\tlearn: 0.4651042\ttotal: 31m 9s\tremaining: 1m 36s\n",
      "951:\tlearn: 0.4650983\ttotal: 31m 11s\tremaining: 1m 34s\n",
      "952:\tlearn: 0.4650953\ttotal: 31m 12s\tremaining: 1m 32s\n",
      "953:\tlearn: 0.4650913\ttotal: 31m 15s\tremaining: 1m 30s\n",
      "954:\tlearn: 0.4650869\ttotal: 31m 17s\tremaining: 1m 28s\n",
      "955:\tlearn: 0.4650806\ttotal: 31m 19s\tremaining: 1m 26s\n",
      "956:\tlearn: 0.4650750\ttotal: 31m 20s\tremaining: 1m 24s\n",
      "957:\tlearn: 0.4650704\ttotal: 31m 22s\tremaining: 1m 22s\n",
      "958:\tlearn: 0.4650652\ttotal: 31m 24s\tremaining: 1m 20s\n",
      "959:\tlearn: 0.4650558\ttotal: 31m 26s\tremaining: 1m 18s\n",
      "960:\tlearn: 0.4650479\ttotal: 31m 28s\tremaining: 1m 16s\n",
      "961:\tlearn: 0.4650432\ttotal: 31m 30s\tremaining: 1m 14s\n",
      "962:\tlearn: 0.4650388\ttotal: 31m 32s\tremaining: 1m 12s\n",
      "963:\tlearn: 0.4650299\ttotal: 31m 34s\tremaining: 1m 10s\n",
      "964:\tlearn: 0.4650252\ttotal: 31m 35s\tremaining: 1m 8s\n",
      "965:\tlearn: 0.4650214\ttotal: 31m 37s\tremaining: 1m 6s\n",
      "966:\tlearn: 0.4650162\ttotal: 31m 39s\tremaining: 1m 4s\n",
      "967:\tlearn: 0.4650112\ttotal: 31m 41s\tremaining: 1m 2s\n",
      "968:\tlearn: 0.4650083\ttotal: 31m 43s\tremaining: 1m\n",
      "969:\tlearn: 0.4650050\ttotal: 31m 45s\tremaining: 58.9s\n",
      "970:\tlearn: 0.4649991\ttotal: 31m 46s\tremaining: 57s\n",
      "971:\tlearn: 0.4649931\ttotal: 31m 48s\tremaining: 55s\n",
      "972:\tlearn: 0.4649873\ttotal: 31m 50s\tremaining: 53s\n",
      "973:\tlearn: 0.4649822\ttotal: 31m 52s\tremaining: 51.1s\n",
      "974:\tlearn: 0.4649703\ttotal: 31m 54s\tremaining: 49.1s\n",
      "975:\tlearn: 0.4649055\ttotal: 31m 56s\tremaining: 47.1s\n",
      "976:\tlearn: 0.4649016\ttotal: 31m 58s\tremaining: 45.2s\n",
      "977:\tlearn: 0.4648942\ttotal: 32m\tremaining: 43.2s\n",
      "978:\tlearn: 0.4648909\ttotal: 32m 3s\tremaining: 41.3s\n",
      "979:\tlearn: 0.4648865\ttotal: 32m 5s\tremaining: 39.3s\n",
      "980:\tlearn: 0.4648798\ttotal: 32m 6s\tremaining: 37.3s\n",
      "981:\tlearn: 0.4648755\ttotal: 32m 8s\tremaining: 35.4s\n",
      "982:\tlearn: 0.4648694\ttotal: 32m 10s\tremaining: 33.4s\n",
      "983:\tlearn: 0.4648640\ttotal: 32m 12s\tremaining: 31.4s\n",
      "984:\tlearn: 0.4648611\ttotal: 32m 14s\tremaining: 29.5s\n",
      "985:\tlearn: 0.4648574\ttotal: 32m 16s\tremaining: 27.5s\n",
      "986:\tlearn: 0.4648533\ttotal: 32m 18s\tremaining: 25.5s\n",
      "987:\tlearn: 0.4648489\ttotal: 32m 19s\tremaining: 23.6s\n",
      "988:\tlearn: 0.4648360\ttotal: 32m 21s\tremaining: 21.6s\n",
      "989:\tlearn: 0.4648323\ttotal: 32m 23s\tremaining: 19.6s\n",
      "990:\tlearn: 0.4648297\ttotal: 32m 25s\tremaining: 17.7s\n",
      "991:\tlearn: 0.4648256\ttotal: 32m 26s\tremaining: 15.7s\n",
      "992:\tlearn: 0.4648200\ttotal: 32m 28s\tremaining: 13.7s\n",
      "993:\tlearn: 0.4648133\ttotal: 32m 30s\tremaining: 11.8s\n",
      "994:\tlearn: 0.4648081\ttotal: 32m 31s\tremaining: 9.81s\n",
      "995:\tlearn: 0.4647966\ttotal: 32m 33s\tremaining: 7.84s\n",
      "996:\tlearn: 0.4647771\ttotal: 32m 35s\tremaining: 5.88s\n",
      "997:\tlearn: 0.4647736\ttotal: 32m 37s\tremaining: 3.92s\n",
      "998:\tlearn: 0.4647700\ttotal: 32m 40s\tremaining: 1.96s\n",
      "999:\tlearn: 0.4647630\ttotal: 32m 41s\tremaining: 0us\n"
     ]
    }
   ],
   "source": [
    "from catboost import CatBoostClassifier\n",
    "\n",
    "model = CatBoostClassifier(iterations=1000,\n",
    "                           task_type=\"GPU\",\n",
    "                           devices='0:1')\n",
    "\"\"\"\n",
    "0 user_id_hash\n",
    "1 target_id_hash\n",
    "2 syndicator_id_hash\n",
    "3 campaign_id_hash\n",
    "6 target_item_taxonomy\n",
    "7 placement_id_hash\n",
    "11 publisher_id_hash\n",
    "12 source_id_hash\n",
    "13 source_item_type\n",
    "14 browser_platform\n",
    "15 os_family\n",
    "16 country_code\n",
    "17 region\n",
    "20 gmt_offset\n",
    "\"\"\"\n",
    "cat_features = [0, 1, 2, 3, 6, 7, 11, 12, 13, 14, 15, 16, 17, 20]\n",
    "model.fit(last_three_days_features, last_three_days_ground_truth, cat_features, verbose=True)\n",
    "model.save_model(\n",
    "    os.path.join('.', 'models', 'cat-boost-last-three-days.cbm'),\n",
    "    format=\"cbm\",\n",
    "    export_parameters=None,\n",
    "    pool=None\n",
    ")"
   ]
  },
  {
   "cell_type": "code",
   "execution_count": 90,
   "metadata": {},
   "outputs": [
    {
     "name": "stderr",
     "output_type": "stream",
     "text": [
      "C:\\Users\\Mark\\AppData\\Local\\Temp\\ipykernel_10408\\3130089581.py:3: FutureWarning: A value is trying to be set on a copy of a DataFrame or Series through chained assignment using an inplace method.\n",
      "The behavior will change in pandas 3.0. This inplace method will never work because the intermediate object on which we are setting values always behaves as a copy.\n",
      "\n",
      "For example, when doing 'df[col].method(value, inplace=True)', try using 'df.method({col: value}, inplace=True)' or df[col] = df[col].method(value) instead, to perform the operation inplace on the original object.\n",
      "\n",
      "\n",
      "  testset['country_code'].fillna('Null', inplace=True)\n",
      "C:\\Users\\Mark\\AppData\\Local\\Temp\\ipykernel_10408\\3130089581.py:4: FutureWarning: A value is trying to be set on a copy of a DataFrame or Series through chained assignment using an inplace method.\n",
      "The behavior will change in pandas 3.0. This inplace method will never work because the intermediate object on which we are setting values always behaves as a copy.\n",
      "\n",
      "For example, when doing 'df[col].method(value, inplace=True)', try using 'df.method({col: value}, inplace=True)' or df[col] = df[col].method(value) instead, to perform the operation inplace on the original object.\n",
      "\n",
      "\n",
      "  testset['region'].fillna('Null', inplace=True)\n"
     ]
    }
   ],
   "source": [
    "def get_test_features():\n",
    "    testset = df_test.copy(deep=True)\n",
    "    testset['country_code'].fillna('Null', inplace=True)\n",
    "    testset['region'].fillna('Null', inplace=True)\n",
    "    test_features = testset[[\n",
    "        'user_id_hash',\n",
    "        'target_id_hash',\n",
    "        'syndicator_id_hash',\n",
    "        'campaign_id_hash',\n",
    "        'empiric_calibrated_recs',\n",
    "        'empiric_clicks',\n",
    "        'target_item_taxonomy',\n",
    "        'placement_id_hash',\n",
    "        'user_recs',\n",
    "        'user_clicks',\n",
    "        'user_target_recs',\n",
    "        'publisher_id_hash',\n",
    "        'source_id_hash',\n",
    "        'source_item_type',\n",
    "        'browser_platform',\n",
    "        'os_family',\n",
    "        'country_code',\n",
    "        'region',\n",
    "        'day_of_week',\n",
    "        'time_of_day',\n",
    "        'gmt_offset'\n",
    "    ]].to_numpy()\n",
    "    return test_features\n",
    "test_features = get_test_features()"
   ]
  },
  {
   "cell_type": "code",
   "execution_count": 91,
   "metadata": {},
   "outputs": [],
   "source": [
    "preds_proba = model.predict_proba(test_features)"
   ]
  },
  {
   "cell_type": "code",
   "execution_count": 93,
   "metadata": {},
   "outputs": [
    {
     "data": {
      "text/plain": [
       "array([[0.19990844, 0.80009156],\n",
       "       [0.45224619, 0.54775381],\n",
       "       [0.40026225, 0.59973775],\n",
       "       [0.33345862, 0.66654138],\n",
       "       [0.30765912, 0.69234088],\n",
       "       [0.10971176, 0.89028824],\n",
       "       [0.42870738, 0.57129262],\n",
       "       [0.49199125, 0.50800875],\n",
       "       [0.36513344, 0.63486656],\n",
       "       [0.24110673, 0.75889327]])"
      ]
     },
     "execution_count": 93,
     "metadata": {},
     "output_type": "execute_result"
    }
   ],
   "source": [
    "preds_proba[:10]"
   ]
  },
  {
   "cell_type": "code",
   "execution_count": 94,
   "metadata": {},
   "outputs": [],
   "source": [
    "def report_submission():\n",
    "    pred = preds_proba[:,1]\n",
    "    pred_df = pd.DataFrame(pred)\n",
    "    pred_df.reset_index(inplace=True)\n",
    "    pred_df.columns = ['Id','Predicted']\n",
    "    pred_df.to_csv('my_submission.csv',index=False)\n",
    "report_submission()"
   ]
  },
  {
   "cell_type": "code",
   "execution_count": 95,
   "metadata": {},
   "outputs": [
    {
     "data": {
      "text/html": [
       "<div>\n",
       "<style scoped>\n",
       "    .dataframe tbody tr th:only-of-type {\n",
       "        vertical-align: middle;\n",
       "    }\n",
       "\n",
       "    .dataframe tbody tr th {\n",
       "        vertical-align: top;\n",
       "    }\n",
       "\n",
       "    .dataframe thead th {\n",
       "        text-align: right;\n",
       "    }\n",
       "</style>\n",
       "<table border=\"1\" class=\"dataframe\">\n",
       "  <thead>\n",
       "    <tr style=\"text-align: right;\">\n",
       "      <th></th>\n",
       "      <th>Id</th>\n",
       "      <th>Predicted</th>\n",
       "    </tr>\n",
       "  </thead>\n",
       "  <tbody>\n",
       "    <tr>\n",
       "      <th>0</th>\n",
       "      <td>0</td>\n",
       "      <td>0.800092</td>\n",
       "    </tr>\n",
       "    <tr>\n",
       "      <th>1</th>\n",
       "      <td>1</td>\n",
       "      <td>0.547754</td>\n",
       "    </tr>\n",
       "    <tr>\n",
       "      <th>2</th>\n",
       "      <td>2</td>\n",
       "      <td>0.599738</td>\n",
       "    </tr>\n",
       "    <tr>\n",
       "      <th>3</th>\n",
       "      <td>3</td>\n",
       "      <td>0.666541</td>\n",
       "    </tr>\n",
       "    <tr>\n",
       "      <th>4</th>\n",
       "      <td>4</td>\n",
       "      <td>0.692341</td>\n",
       "    </tr>\n",
       "    <tr>\n",
       "      <th>5</th>\n",
       "      <td>5</td>\n",
       "      <td>0.890288</td>\n",
       "    </tr>\n",
       "    <tr>\n",
       "      <th>6</th>\n",
       "      <td>6</td>\n",
       "      <td>0.571293</td>\n",
       "    </tr>\n",
       "    <tr>\n",
       "      <th>7</th>\n",
       "      <td>7</td>\n",
       "      <td>0.508009</td>\n",
       "    </tr>\n",
       "    <tr>\n",
       "      <th>8</th>\n",
       "      <td>8</td>\n",
       "      <td>0.634867</td>\n",
       "    </tr>\n",
       "    <tr>\n",
       "      <th>9</th>\n",
       "      <td>9</td>\n",
       "      <td>0.758893</td>\n",
       "    </tr>\n",
       "    <tr>\n",
       "      <th>10</th>\n",
       "      <td>10</td>\n",
       "      <td>0.616619</td>\n",
       "    </tr>\n",
       "    <tr>\n",
       "      <th>11</th>\n",
       "      <td>11</td>\n",
       "      <td>0.054888</td>\n",
       "    </tr>\n",
       "    <tr>\n",
       "      <th>12</th>\n",
       "      <td>12</td>\n",
       "      <td>0.252160</td>\n",
       "    </tr>\n",
       "    <tr>\n",
       "      <th>13</th>\n",
       "      <td>13</td>\n",
       "      <td>0.836065</td>\n",
       "    </tr>\n",
       "    <tr>\n",
       "      <th>14</th>\n",
       "      <td>14</td>\n",
       "      <td>0.813993</td>\n",
       "    </tr>\n",
       "  </tbody>\n",
       "</table>\n",
       "</div>"
      ],
      "text/plain": [
       "    Id  Predicted\n",
       "0    0   0.800092\n",
       "1    1   0.547754\n",
       "2    2   0.599738\n",
       "3    3   0.666541\n",
       "4    4   0.692341\n",
       "5    5   0.890288\n",
       "6    6   0.571293\n",
       "7    7   0.508009\n",
       "8    8   0.634867\n",
       "9    9   0.758893\n",
       "10  10   0.616619\n",
       "11  11   0.054888\n",
       "12  12   0.252160\n",
       "13  13   0.836065\n",
       "14  14   0.813993"
      ]
     },
     "execution_count": 95,
     "metadata": {},
     "output_type": "execute_result"
    }
   ],
   "source": [
    "pd.read_csv('./my_submission.csv').head(15)"
   ]
  },
  {
   "cell_type": "code",
   "execution_count": null,
   "metadata": {},
   "outputs": [],
   "source": []
  }
 ],
 "metadata": {
  "kernelspec": {
   "display_name": "Python 3 (ipykernel)",
   "language": "python",
   "name": "python3"
  },
  "language_info": {
   "codemirror_mode": {
    "name": "ipython",
    "version": 3
   },
   "file_extension": ".py",
   "mimetype": "text/x-python",
   "name": "python",
   "nbconvert_exporter": "python",
   "pygments_lexer": "ipython3",
   "version": "3.9.12"
  }
 },
 "nbformat": 4,
 "nbformat_minor": 2
}
