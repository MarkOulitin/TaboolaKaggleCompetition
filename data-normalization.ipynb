{
 "cells": [
  {
   "cell_type": "code",
   "execution_count": 1,
   "metadata": {},
   "outputs": [],
   "source": [
    "import os\n",
    "import json\n",
    "import pandas as pd\n",
    "import scipy as sp\n",
    "from sklearn.preprocessing import LabelEncoder \n",
    "from matplotlib import pyplot as plt\n",
    "from tqdm.auto import tqdm\n",
    "import numpy as np\n",
    "import datetime\n",
    "import pickle"
   ]
  },
  {
   "cell_type": "code",
   "execution_count": 2,
   "metadata": {},
   "outputs": [],
   "source": [
    "def temp():\n",
    "    paths = []\n",
    "    dirs = os.listdir('train_data')\n",
    "    for dir in dirs:\n",
    "        filenames = os.listdir(f'train_data/{dir}')\n",
    "        paths += [f'train_data/{dir}/{filename}' for filename in filenames]\n",
    "    paths = sorted(paths)\n",
    "    return paths\n",
    "data_filepaths = temp()"
   ]
  },
  {
   "cell_type": "markdown",
   "metadata": {},
   "source": [
    "# String data encoding"
   ]
  },
  {
   "cell_type": "code",
   "execution_count": null,
   "metadata": {},
   "outputs": [],
   "source": [
    "if not os.path.exists('./normalized_data'):\n",
    "    os.mkdir('./normalized_data')\n",
    "if not os.path.exists('./label_encoders'):\n",
    "    os.mkdir('./label_encoders')"
   ]
  },
  {
   "cell_type": "markdown",
   "metadata": {},
   "source": [
    "# Create label encoders"
   ]
  },
  {
   "cell_type": "code",
   "execution_count": 46,
   "metadata": {},
   "outputs": [
    {
     "data": {
      "application/vnd.jupyter.widget-view+json": {
       "model_id": "86e746ec3cb246f6acae1b92d2058ab8",
       "version_major": 2,
       "version_minor": 0
      },
      "text/plain": [
       "Country code:   0%|          | 0/69 [00:00<?, ?it/s]"
      ]
     },
     "metadata": {},
     "output_type": "display_data"
    },
    {
     "data": {
      "application/vnd.jupyter.widget-view+json": {
       "model_id": "85aa64ef484040dd8bd3a19fb760bf6c",
       "version_major": 2,
       "version_minor": 0
      },
      "text/plain": [
       "Region:   0%|          | 0/69 [00:00<?, ?it/s]"
      ]
     },
     "metadata": {},
     "output_type": "display_data"
    }
   ],
   "source": [
    "def encode_categoric_string_feature(feature_name):\n",
    "    unique_ids = []\n",
    "    for filepath in tqdm(data_filepaths, desc=feature_name.replace('_', ' ').capitalize()):\n",
    "        df = pd.read_csv(filepath, usecols=[feature_name])\n",
    "        df_unique_ids = df[feature_name].unique()\n",
    "        del df\n",
    "        unique_ids = np.unique(np.concatenate([unique_ids, df_unique_ids]))\n",
    "        del df_unique_ids\n",
    "    unique_ids_df = pd.DataFrame({\n",
    "        feature_name: unique_ids\n",
    "    })\n",
    "    unique_ids_df.to_csv(f'./normalized_data/{feature_name}.csv', index=False)\n",
    "    label_encoder = LabelEncoder()\n",
    "    label_encoder.fit(unique_ids)\n",
    "    with open(f'./label_encoders/{feature_name}.pickle', 'wb') as handle:\n",
    "        pickle.dump(label_encoder, handle, protocol=pickle.HIGHEST_PROTOCOL)\n",
    "\n",
    "def encode_categoric_string_feature_pandas(feature_name):\n",
    "    unique_ids = None\n",
    "    for filepath in tqdm(data_filepaths, desc=feature_name.replace('_', ' ').capitalize()):\n",
    "        df = pd.read_csv(filepath, usecols=[feature_name])\n",
    "        df_unique_ids = pd.Series(df[feature_name].unique())\n",
    "        del df\n",
    "        if unique_ids is None:\n",
    "            unique_ids = df_unique_ids\n",
    "        else:\n",
    "            unique_ids = pd.Series(pd.concat([unique_ids, df_unique_ids]).unique())\n",
    "        del df_unique_ids\n",
    "    unique_ids_df = pd.DataFrame({\n",
    "        feature_name: unique_ids\n",
    "    })\n",
    "    unique_ids_df.to_csv(f'./normalized_data/{feature_name}.csv', index=False)\n",
    "    label_encoder = LabelEncoder()\n",
    "    label_encoder.fit(unique_ids)\n",
    "    with open(f'./label_encoders/{feature_name}.pickle', 'wb') as handle:\n",
    "        pickle.dump(label_encoder, handle, protocol=pickle.HIGHEST_PROTOCOL)\n",
    "\n",
    "features_string_categories = [\n",
    "    'user_id_hash',\n",
    "    'target_id_hash',\n",
    "    'syndicator_id_hash',\n",
    "    'campaign_id_hash',\n",
    "    'target_item_taxonomy',\n",
    "    'placement_id_hash',\n",
    "    'publisher_id_hash',\n",
    "    'source_id_hash',\n",
    "    'source_item_type',\n",
    "    'browser_platform',\n",
    "]\n",
    "for feature in features_string_categories:\n",
    "    encode_categoric_string_feature(feature)\n",
    "\n",
    "encode_categoric_string_feature_pandas('country_code')\n",
    "encode_categoric_string_feature_pandas('region')"
   ]
  },
  {
   "cell_type": "markdown",
   "metadata": {},
   "source": [
    "# Convert strings to integers"
   ]
  },
  {
   "cell_type": "code",
   "execution_count": 63,
   "metadata": {},
   "outputs": [
    {
     "data": {
      "application/vnd.jupyter.widget-view+json": {
       "model_id": "971207a22a2d47629ecb73b53902cbfe",
       "version_major": 2,
       "version_minor": 0
      },
      "text/plain": [
       "train_data/train1/part-00010.csv:   0%|          | 0/12 [00:00<?, ?it/s]"
      ]
     },
     "metadata": {},
     "output_type": "display_data"
    },
    {
     "data": {
      "application/vnd.jupyter.widget-view+json": {
       "model_id": "4f79af4879194e1fab0132b41f843769",
       "version_major": 2,
       "version_minor": 0
      },
      "text/plain": [
       "train_data/train2/part-00011.csv:   0%|          | 0/12 [00:00<?, ?it/s]"
      ]
     },
     "metadata": {},
     "output_type": "display_data"
    },
    {
     "data": {
      "application/vnd.jupyter.widget-view+json": {
       "model_id": "627f4d57f0254cfa8706b7cb75e0068d",
       "version_major": 2,
       "version_minor": 0
      },
      "text/plain": [
       "train_data/train2/part-00012.csv:   0%|          | 0/12 [00:00<?, ?it/s]"
      ]
     },
     "metadata": {},
     "output_type": "display_data"
    },
    {
     "data": {
      "application/vnd.jupyter.widget-view+json": {
       "model_id": "966b4c6e691b4b2e86bad8dd97298ada",
       "version_major": 2,
       "version_minor": 0
      },
      "text/plain": [
       "train_data/train2/part-00013.csv:   0%|          | 0/12 [00:00<?, ?it/s]"
      ]
     },
     "metadata": {},
     "output_type": "display_data"
    },
    {
     "data": {
      "application/vnd.jupyter.widget-view+json": {
       "model_id": "a3c59935de57473db94a1f919af3eb26",
       "version_major": 2,
       "version_minor": 0
      },
      "text/plain": [
       "train_data/train2/part-00014.csv:   0%|          | 0/12 [00:00<?, ?it/s]"
      ]
     },
     "metadata": {},
     "output_type": "display_data"
    },
    {
     "data": {
      "application/vnd.jupyter.widget-view+json": {
       "model_id": "2376e381e04944568f6874bfc0b6437c",
       "version_major": 2,
       "version_minor": 0
      },
      "text/plain": [
       "train_data/train2/part-00015.csv:   0%|          | 0/12 [00:00<?, ?it/s]"
      ]
     },
     "metadata": {},
     "output_type": "display_data"
    },
    {
     "data": {
      "application/vnd.jupyter.widget-view+json": {
       "model_id": "82b3a22e8d664c258e707734f013c221",
       "version_major": 2,
       "version_minor": 0
      },
      "text/plain": [
       "train_data/train2/part-00016.csv:   0%|          | 0/12 [00:00<?, ?it/s]"
      ]
     },
     "metadata": {},
     "output_type": "display_data"
    },
    {
     "data": {
      "application/vnd.jupyter.widget-view+json": {
       "model_id": "b831e658fd3e4fd8b6f5251d26f8b4e2",
       "version_major": 2,
       "version_minor": 0
      },
      "text/plain": [
       "train_data/train2/part-00017.csv:   0%|          | 0/12 [00:00<?, ?it/s]"
      ]
     },
     "metadata": {},
     "output_type": "display_data"
    },
    {
     "data": {
      "application/vnd.jupyter.widget-view+json": {
       "model_id": "77e839ef24cf464cab96344f909c0287",
       "version_major": 2,
       "version_minor": 0
      },
      "text/plain": [
       "train_data/train2/part-00018.csv:   0%|          | 0/12 [00:00<?, ?it/s]"
      ]
     },
     "metadata": {},
     "output_type": "display_data"
    },
    {
     "data": {
      "application/vnd.jupyter.widget-view+json": {
       "model_id": "ba8ce996b18348e890195c06266a8fc1",
       "version_major": 2,
       "version_minor": 0
      },
      "text/plain": [
       "train_data/train2/part-00019.csv:   0%|          | 0/12 [00:00<?, ?it/s]"
      ]
     },
     "metadata": {},
     "output_type": "display_data"
    },
    {
     "data": {
      "application/vnd.jupyter.widget-view+json": {
       "model_id": "915163e3084f46238c6402397e9cb683",
       "version_major": 2,
       "version_minor": 0
      },
      "text/plain": [
       "train_data/train2/part-00020.csv:   0%|          | 0/12 [00:00<?, ?it/s]"
      ]
     },
     "metadata": {},
     "output_type": "display_data"
    },
    {
     "data": {
      "application/vnd.jupyter.widget-view+json": {
       "model_id": "37662028e7b544e18706549d8043b48f",
       "version_major": 2,
       "version_minor": 0
      },
      "text/plain": [
       "train_data/train3/part-00021.csv:   0%|          | 0/12 [00:00<?, ?it/s]"
      ]
     },
     "metadata": {},
     "output_type": "display_data"
    },
    {
     "data": {
      "application/vnd.jupyter.widget-view+json": {
       "model_id": "5aa4ff67cbfb4a3798eb5c6d764ee447",
       "version_major": 2,
       "version_minor": 0
      },
      "text/plain": [
       "train_data/train3/part-00022.csv:   0%|          | 0/12 [00:00<?, ?it/s]"
      ]
     },
     "metadata": {},
     "output_type": "display_data"
    },
    {
     "data": {
      "application/vnd.jupyter.widget-view+json": {
       "model_id": "97789dac93d941cfa7345f5f2b71ca11",
       "version_major": 2,
       "version_minor": 0
      },
      "text/plain": [
       "train_data/train3/part-00023.csv:   0%|          | 0/12 [00:00<?, ?it/s]"
      ]
     },
     "metadata": {},
     "output_type": "display_data"
    },
    {
     "data": {
      "application/vnd.jupyter.widget-view+json": {
       "model_id": "aca8cfb7b8dc4b24a32bc69c7ca1a9d0",
       "version_major": 2,
       "version_minor": 0
      },
      "text/plain": [
       "train_data/train3/part-00024.csv:   0%|          | 0/12 [00:00<?, ?it/s]"
      ]
     },
     "metadata": {},
     "output_type": "display_data"
    },
    {
     "data": {
      "application/vnd.jupyter.widget-view+json": {
       "model_id": "902806bd11b34c42a6cb0d30f59c968c",
       "version_major": 2,
       "version_minor": 0
      },
      "text/plain": [
       "train_data/train3/part-00025.csv:   0%|          | 0/12 [00:00<?, ?it/s]"
      ]
     },
     "metadata": {},
     "output_type": "display_data"
    },
    {
     "data": {
      "application/vnd.jupyter.widget-view+json": {
       "model_id": "ae5e82a2909d4ff98772c6693c8a3f10",
       "version_major": 2,
       "version_minor": 0
      },
      "text/plain": [
       "train_data/train3/part-00026.csv:   0%|          | 0/12 [00:00<?, ?it/s]"
      ]
     },
     "metadata": {},
     "output_type": "display_data"
    },
    {
     "data": {
      "application/vnd.jupyter.widget-view+json": {
       "model_id": "e3198e55566449e98a75b29f589f611c",
       "version_major": 2,
       "version_minor": 0
      },
      "text/plain": [
       "train_data/train3/part-00027.csv:   0%|          | 0/12 [00:00<?, ?it/s]"
      ]
     },
     "metadata": {},
     "output_type": "display_data"
    },
    {
     "data": {
      "application/vnd.jupyter.widget-view+json": {
       "model_id": "08ce4787e59449caa75bb7f5da32e4a6",
       "version_major": 2,
       "version_minor": 0
      },
      "text/plain": [
       "train_data/train3/part-00028.csv:   0%|          | 0/12 [00:00<?, ?it/s]"
      ]
     },
     "metadata": {},
     "output_type": "display_data"
    },
    {
     "data": {
      "application/vnd.jupyter.widget-view+json": {
       "model_id": "d33e1941200842a2b710a3fb07e2ea86",
       "version_major": 2,
       "version_minor": 0
      },
      "text/plain": [
       "train_data/train3/part-00029.csv:   0%|          | 0/12 [00:00<?, ?it/s]"
      ]
     },
     "metadata": {},
     "output_type": "display_data"
    },
    {
     "data": {
      "application/vnd.jupyter.widget-view+json": {
       "model_id": "e48268b6ef4141b598f178a36b919da0",
       "version_major": 2,
       "version_minor": 0
      },
      "text/plain": [
       "train_data/train3/part-00030.csv:   0%|          | 0/12 [00:00<?, ?it/s]"
      ]
     },
     "metadata": {},
     "output_type": "display_data"
    },
    {
     "data": {
      "application/vnd.jupyter.widget-view+json": {
       "model_id": "8043f54ab48544318c0d661a9b26b344",
       "version_major": 2,
       "version_minor": 0
      },
      "text/plain": [
       "train_data/train4/part-00031.csv:   0%|          | 0/12 [00:00<?, ?it/s]"
      ]
     },
     "metadata": {},
     "output_type": "display_data"
    },
    {
     "data": {
      "application/vnd.jupyter.widget-view+json": {
       "model_id": "ff6ecae220e4439596c16299da2bea59",
       "version_major": 2,
       "version_minor": 0
      },
      "text/plain": [
       "train_data/train4/part-00032.csv:   0%|          | 0/12 [00:00<?, ?it/s]"
      ]
     },
     "metadata": {},
     "output_type": "display_data"
    },
    {
     "data": {
      "application/vnd.jupyter.widget-view+json": {
       "model_id": "db8adb95879e4ac099f8ecac80b2bb3b",
       "version_major": 2,
       "version_minor": 0
      },
      "text/plain": [
       "train_data/train4/part-00033.csv:   0%|          | 0/12 [00:00<?, ?it/s]"
      ]
     },
     "metadata": {},
     "output_type": "display_data"
    },
    {
     "data": {
      "application/vnd.jupyter.widget-view+json": {
       "model_id": "3b5c1d7d1f5a408ead9bf0c1cce752c1",
       "version_major": 2,
       "version_minor": 0
      },
      "text/plain": [
       "train_data/train4/part-00034.csv:   0%|          | 0/12 [00:00<?, ?it/s]"
      ]
     },
     "metadata": {},
     "output_type": "display_data"
    },
    {
     "data": {
      "application/vnd.jupyter.widget-view+json": {
       "model_id": "37a4ba7e522b4e3887d726835569bc61",
       "version_major": 2,
       "version_minor": 0
      },
      "text/plain": [
       "train_data/train4/part-00035.csv:   0%|          | 0/12 [00:00<?, ?it/s]"
      ]
     },
     "metadata": {},
     "output_type": "display_data"
    },
    {
     "data": {
      "application/vnd.jupyter.widget-view+json": {
       "model_id": "f3526f0e451f4e2e8ca32c523eb719c9",
       "version_major": 2,
       "version_minor": 0
      },
      "text/plain": [
       "train_data/train4/part-00036.csv:   0%|          | 0/12 [00:00<?, ?it/s]"
      ]
     },
     "metadata": {},
     "output_type": "display_data"
    },
    {
     "data": {
      "application/vnd.jupyter.widget-view+json": {
       "model_id": "4b86c752ae9f478d92de3fb700a92117",
       "version_major": 2,
       "version_minor": 0
      },
      "text/plain": [
       "train_data/train4/part-00037.csv:   0%|          | 0/12 [00:00<?, ?it/s]"
      ]
     },
     "metadata": {},
     "output_type": "display_data"
    },
    {
     "data": {
      "application/vnd.jupyter.widget-view+json": {
       "model_id": "7ea197c36f884bf7bf9b774adae87577",
       "version_major": 2,
       "version_minor": 0
      },
      "text/plain": [
       "train_data/train4/part-00038.csv:   0%|          | 0/12 [00:00<?, ?it/s]"
      ]
     },
     "metadata": {},
     "output_type": "display_data"
    },
    {
     "data": {
      "application/vnd.jupyter.widget-view+json": {
       "model_id": "35a0315c56f84e0792e7611b156b992d",
       "version_major": 2,
       "version_minor": 0
      },
      "text/plain": [
       "train_data/train4/part-00039.csv:   0%|          | 0/12 [00:00<?, ?it/s]"
      ]
     },
     "metadata": {},
     "output_type": "display_data"
    },
    {
     "data": {
      "application/vnd.jupyter.widget-view+json": {
       "model_id": "9308dd4ceac54243aab84e42274603cd",
       "version_major": 2,
       "version_minor": 0
      },
      "text/plain": [
       "train_data/train4/part-00040.csv:   0%|          | 0/12 [00:00<?, ?it/s]"
      ]
     },
     "metadata": {},
     "output_type": "display_data"
    },
    {
     "data": {
      "application/vnd.jupyter.widget-view+json": {
       "model_id": "a83d24c3c72c424c8a0d1f7769139a06",
       "version_major": 2,
       "version_minor": 0
      },
      "text/plain": [
       "train_data/train5/part-00041.csv:   0%|          | 0/12 [00:00<?, ?it/s]"
      ]
     },
     "metadata": {},
     "output_type": "display_data"
    },
    {
     "data": {
      "application/vnd.jupyter.widget-view+json": {
       "model_id": "6792328355ba48fe99ab9a630867ccb6",
       "version_major": 2,
       "version_minor": 0
      },
      "text/plain": [
       "train_data/train5/part-00042.csv:   0%|          | 0/12 [00:00<?, ?it/s]"
      ]
     },
     "metadata": {},
     "output_type": "display_data"
    },
    {
     "data": {
      "application/vnd.jupyter.widget-view+json": {
       "model_id": "0585117e24c9476b88f61dbd6e11c297",
       "version_major": 2,
       "version_minor": 0
      },
      "text/plain": [
       "train_data/train5/part-00043.csv:   0%|          | 0/12 [00:00<?, ?it/s]"
      ]
     },
     "metadata": {},
     "output_type": "display_data"
    },
    {
     "data": {
      "application/vnd.jupyter.widget-view+json": {
       "model_id": "07aa8d81f5374b6894d48847509ea51b",
       "version_major": 2,
       "version_minor": 0
      },
      "text/plain": [
       "train_data/train5/part-00044.csv:   0%|          | 0/12 [00:00<?, ?it/s]"
      ]
     },
     "metadata": {},
     "output_type": "display_data"
    },
    {
     "data": {
      "application/vnd.jupyter.widget-view+json": {
       "model_id": "c7a3429f92ca454fbd346a16ba115c01",
       "version_major": 2,
       "version_minor": 0
      },
      "text/plain": [
       "train_data/train5/part-00045.csv:   0%|          | 0/12 [00:00<?, ?it/s]"
      ]
     },
     "metadata": {},
     "output_type": "display_data"
    },
    {
     "data": {
      "application/vnd.jupyter.widget-view+json": {
       "model_id": "d3b12345f08c4cf292bf3e57b698ccdb",
       "version_major": 2,
       "version_minor": 0
      },
      "text/plain": [
       "train_data/train5/part-00046.csv:   0%|          | 0/12 [00:00<?, ?it/s]"
      ]
     },
     "metadata": {},
     "output_type": "display_data"
    },
    {
     "data": {
      "application/vnd.jupyter.widget-view+json": {
       "model_id": "9de53cea93bb4e0e81904129a45acaa6",
       "version_major": 2,
       "version_minor": 0
      },
      "text/plain": [
       "train_data/train5/part-00047.csv:   0%|          | 0/12 [00:00<?, ?it/s]"
      ]
     },
     "metadata": {},
     "output_type": "display_data"
    },
    {
     "data": {
      "application/vnd.jupyter.widget-view+json": {
       "model_id": "0471b137191a45fb827e1f0b3bfb206f",
       "version_major": 2,
       "version_minor": 0
      },
      "text/plain": [
       "train_data/train5/part-00048.csv:   0%|          | 0/12 [00:00<?, ?it/s]"
      ]
     },
     "metadata": {},
     "output_type": "display_data"
    },
    {
     "data": {
      "application/vnd.jupyter.widget-view+json": {
       "model_id": "26e8b74a2c014d0f9d462e6dc3380a94",
       "version_major": 2,
       "version_minor": 0
      },
      "text/plain": [
       "train_data/train5/part-00049.csv:   0%|          | 0/12 [00:00<?, ?it/s]"
      ]
     },
     "metadata": {},
     "output_type": "display_data"
    },
    {
     "data": {
      "application/vnd.jupyter.widget-view+json": {
       "model_id": "8e4da6ff44e74d4f91d92768f3e06cfb",
       "version_major": 2,
       "version_minor": 0
      },
      "text/plain": [
       "train_data/train5/part-00050.csv:   0%|          | 0/12 [00:00<?, ?it/s]"
      ]
     },
     "metadata": {},
     "output_type": "display_data"
    },
    {
     "data": {
      "application/vnd.jupyter.widget-view+json": {
       "model_id": "a19e52b987af49bd97cae05e4f9a55fd",
       "version_major": 2,
       "version_minor": 0
      },
      "text/plain": [
       "train_data/train6/part-00051.csv:   0%|          | 0/12 [00:00<?, ?it/s]"
      ]
     },
     "metadata": {},
     "output_type": "display_data"
    },
    {
     "data": {
      "application/vnd.jupyter.widget-view+json": {
       "model_id": "fa6b2a95ffc2481ea5ee41f5cf319063",
       "version_major": 2,
       "version_minor": 0
      },
      "text/plain": [
       "train_data/train6/part-00052.csv:   0%|          | 0/12 [00:00<?, ?it/s]"
      ]
     },
     "metadata": {},
     "output_type": "display_data"
    },
    {
     "data": {
      "application/vnd.jupyter.widget-view+json": {
       "model_id": "1f33fe68a02a4c0f90aa6d3e5d1a159a",
       "version_major": 2,
       "version_minor": 0
      },
      "text/plain": [
       "train_data/train6/part-00053.csv:   0%|          | 0/12 [00:00<?, ?it/s]"
      ]
     },
     "metadata": {},
     "output_type": "display_data"
    },
    {
     "data": {
      "application/vnd.jupyter.widget-view+json": {
       "model_id": "6eb84771594948a0a84442408ba294f7",
       "version_major": 2,
       "version_minor": 0
      },
      "text/plain": [
       "train_data/train6/part-00054.csv:   0%|          | 0/12 [00:00<?, ?it/s]"
      ]
     },
     "metadata": {},
     "output_type": "display_data"
    },
    {
     "data": {
      "application/vnd.jupyter.widget-view+json": {
       "model_id": "b09852c5e95c4a4e8d6003d8c070af24",
       "version_major": 2,
       "version_minor": 0
      },
      "text/plain": [
       "train_data/train6/part-00055.csv:   0%|          | 0/12 [00:00<?, ?it/s]"
      ]
     },
     "metadata": {},
     "output_type": "display_data"
    },
    {
     "data": {
      "application/vnd.jupyter.widget-view+json": {
       "model_id": "5da955454b7345a0952001782fee4026",
       "version_major": 2,
       "version_minor": 0
      },
      "text/plain": [
       "train_data/train6/part-00056.csv:   0%|          | 0/12 [00:00<?, ?it/s]"
      ]
     },
     "metadata": {},
     "output_type": "display_data"
    },
    {
     "data": {
      "application/vnd.jupyter.widget-view+json": {
       "model_id": "b2008ff9867a4421ba20b7b808688260",
       "version_major": 2,
       "version_minor": 0
      },
      "text/plain": [
       "train_data/train6/part-00057.csv:   0%|          | 0/12 [00:00<?, ?it/s]"
      ]
     },
     "metadata": {},
     "output_type": "display_data"
    },
    {
     "data": {
      "application/vnd.jupyter.widget-view+json": {
       "model_id": "d7e1f430dcbc4a29bc47bf167121804f",
       "version_major": 2,
       "version_minor": 0
      },
      "text/plain": [
       "train_data/train6/part-00058.csv:   0%|          | 0/12 [00:00<?, ?it/s]"
      ]
     },
     "metadata": {},
     "output_type": "display_data"
    },
    {
     "data": {
      "application/vnd.jupyter.widget-view+json": {
       "model_id": "c2f2da8f7a2846909e869d6cd72b2883",
       "version_major": 2,
       "version_minor": 0
      },
      "text/plain": [
       "train_data/train6/part-00059.csv:   0%|          | 0/12 [00:00<?, ?it/s]"
      ]
     },
     "metadata": {},
     "output_type": "display_data"
    },
    {
     "data": {
      "application/vnd.jupyter.widget-view+json": {
       "model_id": "985e338a2d98423b971d7a0b45399cbb",
       "version_major": 2,
       "version_minor": 0
      },
      "text/plain": [
       "train_data/train6/part-00060.csv:   0%|          | 0/12 [00:00<?, ?it/s]"
      ]
     },
     "metadata": {},
     "output_type": "display_data"
    },
    {
     "data": {
      "application/vnd.jupyter.widget-view+json": {
       "model_id": "9bb5c46319a94af7bcb32f68ba04c9e8",
       "version_major": 2,
       "version_minor": 0
      },
      "text/plain": [
       "train_data/train7/part-00061.csv:   0%|          | 0/12 [00:00<?, ?it/s]"
      ]
     },
     "metadata": {},
     "output_type": "display_data"
    },
    {
     "data": {
      "application/vnd.jupyter.widget-view+json": {
       "model_id": "c72e56a02f344bc08dc84b513a468be4",
       "version_major": 2,
       "version_minor": 0
      },
      "text/plain": [
       "train_data/train7/part-00062.csv:   0%|          | 0/12 [00:00<?, ?it/s]"
      ]
     },
     "metadata": {},
     "output_type": "display_data"
    },
    {
     "data": {
      "application/vnd.jupyter.widget-view+json": {
       "model_id": "d21594a7eb76423c99d8adc6c45ce2b1",
       "version_major": 2,
       "version_minor": 0
      },
      "text/plain": [
       "train_data/train7/part-00063.csv:   0%|          | 0/12 [00:00<?, ?it/s]"
      ]
     },
     "metadata": {},
     "output_type": "display_data"
    },
    {
     "data": {
      "application/vnd.jupyter.widget-view+json": {
       "model_id": "aaf3adf005724491a6ee2b2dcfb535a9",
       "version_major": 2,
       "version_minor": 0
      },
      "text/plain": [
       "train_data/train7/part-00064.csv:   0%|          | 0/12 [00:00<?, ?it/s]"
      ]
     },
     "metadata": {},
     "output_type": "display_data"
    },
    {
     "data": {
      "application/vnd.jupyter.widget-view+json": {
       "model_id": "3a2da48b279e4c99a59a4f5f921aa2a1",
       "version_major": 2,
       "version_minor": 0
      },
      "text/plain": [
       "train_data/train7/part-00065.csv:   0%|          | 0/12 [00:00<?, ?it/s]"
      ]
     },
     "metadata": {},
     "output_type": "display_data"
    },
    {
     "data": {
      "application/vnd.jupyter.widget-view+json": {
       "model_id": "07d16fb0f6fa4487815757f21e3e7aae",
       "version_major": 2,
       "version_minor": 0
      },
      "text/plain": [
       "train_data/train7/part-00066.csv:   0%|          | 0/12 [00:00<?, ?it/s]"
      ]
     },
     "metadata": {},
     "output_type": "display_data"
    },
    {
     "data": {
      "application/vnd.jupyter.widget-view+json": {
       "model_id": "47a06b9cfd4c4b89acff9aaad7729c72",
       "version_major": 2,
       "version_minor": 0
      },
      "text/plain": [
       "train_data/train7/part-00067.csv:   0%|          | 0/12 [00:00<?, ?it/s]"
      ]
     },
     "metadata": {},
     "output_type": "display_data"
    },
    {
     "data": {
      "application/vnd.jupyter.widget-view+json": {
       "model_id": "511bdb92ea474bdb85cf793732440d38",
       "version_major": 2,
       "version_minor": 0
      },
      "text/plain": [
       "train_data/train7/part-00068.csv:   0%|          | 0/12 [00:00<?, ?it/s]"
      ]
     },
     "metadata": {},
     "output_type": "display_data"
    }
   ],
   "source": [
    "def normalize_file(encoders, filepath):\n",
    "    main_dir = os.path.join('.', 'normalized_train_data')\n",
    "    if not os.path.exists(main_dir):\n",
    "        os.mkdir(main_dir)\n",
    "    \n",
    "    df = pd.read_csv(filepath)\n",
    "\n",
    "    for column, encoder in tqdm(encoders, desc=filepath):\n",
    "        df[column] = encoder.transform(df[column].to_list())\n",
    "    \n",
    "    directory_path, filename = os.path.split(filepath)\n",
    "    _, parent_dir = os.path.split(directory_path)\n",
    "    parent_dir = os.path.join('.', 'normalized_train_data', parent_dir)\n",
    "    if not os.path.exists(parent_dir):\n",
    "        os.mkdir(parent_dir)\n",
    "    df.to_csv(os.path.join(parent_dir, filename))\n",
    "\n",
    "def load_encoders(features):\n",
    "    column_encoders = []\n",
    "    for feature in features:\n",
    "        with open(f'./label_encoders/{feature}.pickle', 'rb') as handle:\n",
    "            encoder = pickle.load(handle)\n",
    "        column_encoders.append((feature, encoder))\n",
    "    return column_encoders\n",
    "\n",
    "features_string_categories = [\n",
    "    'user_id_hash',\n",
    "    'target_id_hash',\n",
    "    'syndicator_id_hash',\n",
    "    'campaign_id_hash',\n",
    "    'target_item_taxonomy',\n",
    "    'placement_id_hash',\n",
    "    'publisher_id_hash',\n",
    "    'source_id_hash',\n",
    "    'source_item_type',\n",
    "    'browser_platform',\n",
    "    'country_code',\n",
    "    'region',\n",
    "]\n",
    "column_encoders = load_encoders(features_string_categories)\n",
    "for filepaths in data_filepaths[10:]:\n",
    "    normalize_file(column_encoders, filepaths)"
   ]
  },
  {
   "cell_type": "code",
   "execution_count": 21,
   "metadata": {},
   "outputs": [],
   "source": [
    "df_submission = pd.read_csv('./submission_example.csv')\n",
    "df_test = pd.read_csv('./test_file.csv')"
   ]
  },
  {
   "cell_type": "markdown",
   "metadata": {},
   "source": [
    "# Test set deviations from training data"
   ]
  },
  {
   "cell_type": "markdown",
   "metadata": {},
   "source": [
    "Evaluate for each feature how many \"new\" (cold or unseen) values are in testset compared to trainset "
   ]
  },
  {
   "cell_type": "code",
   "execution_count": 24,
   "metadata": {},
   "outputs": [
    {
     "name": "stdout",
     "output_type": "stream",
     "text": [
      "new target_id_hash 1941 / 15303\n",
      "new syndicator_id_hash 37 / 1604\n",
      "new campaign_id_hash 659 / 7517\n",
      "new target_item_taxonomy 0 / 61\n",
      "new placement_id_hash 1 / 1028\n",
      "new publisher_id_hash 0 / 3\n",
      "new source_id_hash 7963 / 16956\n",
      "new source_item_type 0 / 5\n",
      "new browser_platform 0 / 4\n",
      "new country_code 0 / 213\n",
      "new region 2 / 942\n"
     ]
    }
   ],
   "source": [
    "\n",
    "def report_cold():\n",
    "    category_features = [\n",
    "        'target_id_hash',\n",
    "        'syndicator_id_hash',\n",
    "        'campaign_id_hash',\n",
    "        'target_item_taxonomy',\n",
    "        'placement_id_hash',\n",
    "        'publisher_id_hash',\n",
    "        'source_id_hash',\n",
    "        'source_item_type',\n",
    "        'browser_platform',\n",
    "        'country_code',\n",
    "        'region',\n",
    "    ]\n",
    "    for feature in category_features:\n",
    "        train_data_unique_vals = pd.read_csv(f'./normalized_data/{feature}.csv')[feature]\n",
    "        f = pd.Series(df_test[feature].unique())\n",
    "        cold_count = (~f.isin(train_data_unique_vals)).sum()\n",
    "        print(f'new {feature}', f'{cold_count} / {len(f.index)}')\n",
    "report_cold()"
   ]
  },
  {
   "cell_type": "code",
   "execution_count": 247,
   "metadata": {},
   "outputs": [],
   "source": [
    "def load_encoders():\n",
    "    feature = 'target_id_hash'\n",
    "    with open(f'./label_encoders/{feature}.pickle', 'rb') as handle:\n",
    "        encoder = pickle.load(handle)\n",
    "        return encoder\n",
    "target_id_encoder = load_encoders()"
   ]
  },
  {
   "cell_type": "markdown",
   "metadata": {},
   "source": [
    "# Load normalized test data file"
   ]
  },
  {
   "cell_type": "code",
   "execution_count": 244,
   "metadata": {},
   "outputs": [],
   "source": [
    "df_test_normed = pd.read_csv('./test_file_normalized.csv')\n",
    "df_test_normed.drop(columns=['Unnamed: 0'], inplace=True)"
   ]
  },
  {
   "cell_type": "markdown",
   "metadata": {},
   "source": [
    "# Normalize testset target id column"
   ]
  },
  {
   "cell_type": "code",
   "execution_count": 249,
   "metadata": {},
   "outputs": [
    {
     "data": {
      "application/vnd.jupyter.widget-view+json": {
       "model_id": "6f08b6ca3297444c8f2c1bb54042b799",
       "version_major": 2,
       "version_minor": 0
      },
      "text/plain": [
       "  0%|          | 0/15303 [00:00<?, ?it/s]"
      ]
     },
     "metadata": {},
     "output_type": "display_data"
    }
   ],
   "source": [
    "def norm_target_id():\n",
    "    unique_values = df_test['target_id_hash'].unique()\n",
    "    value_to_code = dict()\n",
    "    for value in tqdm(unique_values):\n",
    "        try:\n",
    "            mapped_value = target_id_encoder.transform([value])[0]\n",
    "        except ValueError as err:\n",
    "            mapped_value = target_id_encoder.classes_.shape[0]\n",
    "        value_to_code[value] = mapped_value\n",
    "    result = df_test['target_id_hash'].apply(lambda value: value_to_code[value])\n",
    "    return result\n",
    "target_id_normed = norm_target_id()"
   ]
  },
  {
   "cell_type": "code",
   "execution_count": 251,
   "metadata": {},
   "outputs": [],
   "source": [
    "df_test_normed['target_id_hash'] = target_id_normed\n",
    "df_test_normed.to_csv('./test_file_normalized_with_target_id.csv')"
   ]
  }
 ],
 "metadata": {
  "kernelspec": {
   "display_name": "research",
   "language": "python",
   "name": "python3"
  },
  "language_info": {
   "codemirror_mode": {
    "name": "ipython",
    "version": 3
   },
   "file_extension": ".py",
   "mimetype": "text/x-python",
   "name": "python",
   "nbconvert_exporter": "python",
   "pygments_lexer": "ipython3",
   "version": "3.11.4"
  }
 },
 "nbformat": 4,
 "nbformat_minor": 2
}
