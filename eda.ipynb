{
 "cells": [
  {
   "cell_type": "code",
   "execution_count": 1,
   "metadata": {},
   "outputs": [],
   "source": [
    "import os\n",
    "import json\n",
    "import pandas as pd\n",
    "import scipy as sp\n",
    "from sklearn.preprocessing import LabelEncoder \n",
    "from matplotlib import pyplot as plt\n",
    "from tqdm.auto import tqdm\n",
    "import numpy as np\n",
    "import datetime\n",
    "import pickle"
   ]
  },
  {
   "cell_type": "code",
   "execution_count": 2,
   "metadata": {},
   "outputs": [],
   "source": [
    "def temp():\n",
    "    paths = []\n",
    "    dirs = os.listdir('train_data')\n",
    "    for dir in dirs:\n",
    "        filenames = os.listdir(f'train_data/{dir}')\n",
    "        paths += [f'train_data/{dir}/{filename}' for filename in filenames]\n",
    "    paths = sorted(paths)\n",
    "    return paths\n",
    "data_filepaths = temp()"
   ]
  },
  {
   "cell_type": "markdown",
   "metadata": {},
   "source": [
    "# String data encoding"
   ]
  },
  {
   "cell_type": "code",
   "execution_count": null,
   "metadata": {},
   "outputs": [],
   "source": [
    "if not os.path.exists('./normalized_data'):\n",
    "    os.mkdir('./normalized_data')\n",
    "if not os.path.exists('./label_encoders'):\n",
    "    os.mkdir('./label_encoders')"
   ]
  },
  {
   "cell_type": "code",
   "execution_count": 46,
   "metadata": {},
   "outputs": [
    {
     "data": {
      "application/vnd.jupyter.widget-view+json": {
       "model_id": "86e746ec3cb246f6acae1b92d2058ab8",
       "version_major": 2,
       "version_minor": 0
      },
      "text/plain": [
       "Country code:   0%|          | 0/69 [00:00<?, ?it/s]"
      ]
     },
     "metadata": {},
     "output_type": "display_data"
    },
    {
     "data": {
      "application/vnd.jupyter.widget-view+json": {
       "model_id": "85aa64ef484040dd8bd3a19fb760bf6c",
       "version_major": 2,
       "version_minor": 0
      },
      "text/plain": [
       "Region:   0%|          | 0/69 [00:00<?, ?it/s]"
      ]
     },
     "metadata": {},
     "output_type": "display_data"
    }
   ],
   "source": [
    "def encode_categoric_string_feature(feature_name):\n",
    "    unique_ids = []\n",
    "    for filepath in tqdm(data_filepaths, desc=feature_name.replace('_', ' ').capitalize()):\n",
    "        df = pd.read_csv(filepath, usecols=[feature_name])\n",
    "        df_unique_ids = df[feature_name].unique()\n",
    "        del df\n",
    "        unique_ids = np.unique(np.concatenate([unique_ids, df_unique_ids]))\n",
    "        del df_unique_ids\n",
    "    unique_ids_df = pd.DataFrame({\n",
    "        feature_name: unique_ids\n",
    "    })\n",
    "    unique_ids_df.to_csv(f'./normalized_data/{feature_name}.csv', index=False)\n",
    "    label_encoder = LabelEncoder()\n",
    "    label_encoder.fit(unique_ids)\n",
    "    with open(f'./label_encoders/{feature_name}.pickle', 'wb') as handle:\n",
    "        pickle.dump(label_encoder, handle, protocol=pickle.HIGHEST_PROTOCOL)\n",
    "\n",
    "def encode_categoric_string_feature_pandas(feature_name):\n",
    "    unique_ids = None\n",
    "    for filepath in tqdm(data_filepaths, desc=feature_name.replace('_', ' ').capitalize()):\n",
    "        df = pd.read_csv(filepath, usecols=[feature_name])\n",
    "        df_unique_ids = pd.Series(df[feature_name].unique())\n",
    "        del df\n",
    "        if unique_ids is None:\n",
    "            unique_ids = df_unique_ids\n",
    "        else:\n",
    "            unique_ids = pd.Series(pd.concat([unique_ids, df_unique_ids]).unique())\n",
    "        del df_unique_ids\n",
    "    unique_ids_df = pd.DataFrame({\n",
    "        feature_name: unique_ids\n",
    "    })\n",
    "    unique_ids_df.to_csv(f'./normalized_data/{feature_name}.csv', index=False)\n",
    "    label_encoder = LabelEncoder()\n",
    "    label_encoder.fit(unique_ids)\n",
    "    with open(f'./label_encoders/{feature_name}.pickle', 'wb') as handle:\n",
    "        pickle.dump(label_encoder, handle, protocol=pickle.HIGHEST_PROTOCOL)\n",
    "\n",
    "features_string_categories = [\n",
    "    'user_id_hash',\n",
    "    'target_id_hash',\n",
    "    'syndicator_id_hash',\n",
    "    'campaign_id_hash',\n",
    "    'target_item_taxonomy',\n",
    "    'placement_id_hash',\n",
    "    'publisher_id_hash',\n",
    "    'source_id_hash',\n",
    "    'source_item_type',\n",
    "    'browser_platform',\n",
    "]\n",
    "for feature in features_string_categories:\n",
    "    encode_categoric_string_feature(feature)\n",
    "\n",
    "encode_categoric_string_feature_pandas('country_code')\n",
    "encode_categoric_string_feature_pandas('region')"
   ]
  },
  {
   "cell_type": "code",
   "execution_count": 63,
   "metadata": {},
   "outputs": [
    {
     "data": {
      "application/vnd.jupyter.widget-view+json": {
       "model_id": "971207a22a2d47629ecb73b53902cbfe",
       "version_major": 2,
       "version_minor": 0
      },
      "text/plain": [
       "train_data/train1/part-00010.csv:   0%|          | 0/12 [00:00<?, ?it/s]"
      ]
     },
     "metadata": {},
     "output_type": "display_data"
    },
    {
     "data": {
      "application/vnd.jupyter.widget-view+json": {
       "model_id": "4f79af4879194e1fab0132b41f843769",
       "version_major": 2,
       "version_minor": 0
      },
      "text/plain": [
       "train_data/train2/part-00011.csv:   0%|          | 0/12 [00:00<?, ?it/s]"
      ]
     },
     "metadata": {},
     "output_type": "display_data"
    },
    {
     "data": {
      "application/vnd.jupyter.widget-view+json": {
       "model_id": "627f4d57f0254cfa8706b7cb75e0068d",
       "version_major": 2,
       "version_minor": 0
      },
      "text/plain": [
       "train_data/train2/part-00012.csv:   0%|          | 0/12 [00:00<?, ?it/s]"
      ]
     },
     "metadata": {},
     "output_type": "display_data"
    },
    {
     "data": {
      "application/vnd.jupyter.widget-view+json": {
       "model_id": "966b4c6e691b4b2e86bad8dd97298ada",
       "version_major": 2,
       "version_minor": 0
      },
      "text/plain": [
       "train_data/train2/part-00013.csv:   0%|          | 0/12 [00:00<?, ?it/s]"
      ]
     },
     "metadata": {},
     "output_type": "display_data"
    },
    {
     "data": {
      "application/vnd.jupyter.widget-view+json": {
       "model_id": "a3c59935de57473db94a1f919af3eb26",
       "version_major": 2,
       "version_minor": 0
      },
      "text/plain": [
       "train_data/train2/part-00014.csv:   0%|          | 0/12 [00:00<?, ?it/s]"
      ]
     },
     "metadata": {},
     "output_type": "display_data"
    },
    {
     "data": {
      "application/vnd.jupyter.widget-view+json": {
       "model_id": "2376e381e04944568f6874bfc0b6437c",
       "version_major": 2,
       "version_minor": 0
      },
      "text/plain": [
       "train_data/train2/part-00015.csv:   0%|          | 0/12 [00:00<?, ?it/s]"
      ]
     },
     "metadata": {},
     "output_type": "display_data"
    },
    {
     "data": {
      "application/vnd.jupyter.widget-view+json": {
       "model_id": "82b3a22e8d664c258e707734f013c221",
       "version_major": 2,
       "version_minor": 0
      },
      "text/plain": [
       "train_data/train2/part-00016.csv:   0%|          | 0/12 [00:00<?, ?it/s]"
      ]
     },
     "metadata": {},
     "output_type": "display_data"
    },
    {
     "data": {
      "application/vnd.jupyter.widget-view+json": {
       "model_id": "b831e658fd3e4fd8b6f5251d26f8b4e2",
       "version_major": 2,
       "version_minor": 0
      },
      "text/plain": [
       "train_data/train2/part-00017.csv:   0%|          | 0/12 [00:00<?, ?it/s]"
      ]
     },
     "metadata": {},
     "output_type": "display_data"
    },
    {
     "data": {
      "application/vnd.jupyter.widget-view+json": {
       "model_id": "77e839ef24cf464cab96344f909c0287",
       "version_major": 2,
       "version_minor": 0
      },
      "text/plain": [
       "train_data/train2/part-00018.csv:   0%|          | 0/12 [00:00<?, ?it/s]"
      ]
     },
     "metadata": {},
     "output_type": "display_data"
    },
    {
     "data": {
      "application/vnd.jupyter.widget-view+json": {
       "model_id": "ba8ce996b18348e890195c06266a8fc1",
       "version_major": 2,
       "version_minor": 0
      },
      "text/plain": [
       "train_data/train2/part-00019.csv:   0%|          | 0/12 [00:00<?, ?it/s]"
      ]
     },
     "metadata": {},
     "output_type": "display_data"
    },
    {
     "data": {
      "application/vnd.jupyter.widget-view+json": {
       "model_id": "915163e3084f46238c6402397e9cb683",
       "version_major": 2,
       "version_minor": 0
      },
      "text/plain": [
       "train_data/train2/part-00020.csv:   0%|          | 0/12 [00:00<?, ?it/s]"
      ]
     },
     "metadata": {},
     "output_type": "display_data"
    },
    {
     "data": {
      "application/vnd.jupyter.widget-view+json": {
       "model_id": "37662028e7b544e18706549d8043b48f",
       "version_major": 2,
       "version_minor": 0
      },
      "text/plain": [
       "train_data/train3/part-00021.csv:   0%|          | 0/12 [00:00<?, ?it/s]"
      ]
     },
     "metadata": {},
     "output_type": "display_data"
    },
    {
     "data": {
      "application/vnd.jupyter.widget-view+json": {
       "model_id": "5aa4ff67cbfb4a3798eb5c6d764ee447",
       "version_major": 2,
       "version_minor": 0
      },
      "text/plain": [
       "train_data/train3/part-00022.csv:   0%|          | 0/12 [00:00<?, ?it/s]"
      ]
     },
     "metadata": {},
     "output_type": "display_data"
    },
    {
     "data": {
      "application/vnd.jupyter.widget-view+json": {
       "model_id": "97789dac93d941cfa7345f5f2b71ca11",
       "version_major": 2,
       "version_minor": 0
      },
      "text/plain": [
       "train_data/train3/part-00023.csv:   0%|          | 0/12 [00:00<?, ?it/s]"
      ]
     },
     "metadata": {},
     "output_type": "display_data"
    },
    {
     "data": {
      "application/vnd.jupyter.widget-view+json": {
       "model_id": "aca8cfb7b8dc4b24a32bc69c7ca1a9d0",
       "version_major": 2,
       "version_minor": 0
      },
      "text/plain": [
       "train_data/train3/part-00024.csv:   0%|          | 0/12 [00:00<?, ?it/s]"
      ]
     },
     "metadata": {},
     "output_type": "display_data"
    },
    {
     "data": {
      "application/vnd.jupyter.widget-view+json": {
       "model_id": "902806bd11b34c42a6cb0d30f59c968c",
       "version_major": 2,
       "version_minor": 0
      },
      "text/plain": [
       "train_data/train3/part-00025.csv:   0%|          | 0/12 [00:00<?, ?it/s]"
      ]
     },
     "metadata": {},
     "output_type": "display_data"
    },
    {
     "data": {
      "application/vnd.jupyter.widget-view+json": {
       "model_id": "ae5e82a2909d4ff98772c6693c8a3f10",
       "version_major": 2,
       "version_minor": 0
      },
      "text/plain": [
       "train_data/train3/part-00026.csv:   0%|          | 0/12 [00:00<?, ?it/s]"
      ]
     },
     "metadata": {},
     "output_type": "display_data"
    },
    {
     "data": {
      "application/vnd.jupyter.widget-view+json": {
       "model_id": "e3198e55566449e98a75b29f589f611c",
       "version_major": 2,
       "version_minor": 0
      },
      "text/plain": [
       "train_data/train3/part-00027.csv:   0%|          | 0/12 [00:00<?, ?it/s]"
      ]
     },
     "metadata": {},
     "output_type": "display_data"
    },
    {
     "data": {
      "application/vnd.jupyter.widget-view+json": {
       "model_id": "08ce4787e59449caa75bb7f5da32e4a6",
       "version_major": 2,
       "version_minor": 0
      },
      "text/plain": [
       "train_data/train3/part-00028.csv:   0%|          | 0/12 [00:00<?, ?it/s]"
      ]
     },
     "metadata": {},
     "output_type": "display_data"
    },
    {
     "data": {
      "application/vnd.jupyter.widget-view+json": {
       "model_id": "d33e1941200842a2b710a3fb07e2ea86",
       "version_major": 2,
       "version_minor": 0
      },
      "text/plain": [
       "train_data/train3/part-00029.csv:   0%|          | 0/12 [00:00<?, ?it/s]"
      ]
     },
     "metadata": {},
     "output_type": "display_data"
    },
    {
     "data": {
      "application/vnd.jupyter.widget-view+json": {
       "model_id": "e48268b6ef4141b598f178a36b919da0",
       "version_major": 2,
       "version_minor": 0
      },
      "text/plain": [
       "train_data/train3/part-00030.csv:   0%|          | 0/12 [00:00<?, ?it/s]"
      ]
     },
     "metadata": {},
     "output_type": "display_data"
    },
    {
     "data": {
      "application/vnd.jupyter.widget-view+json": {
       "model_id": "8043f54ab48544318c0d661a9b26b344",
       "version_major": 2,
       "version_minor": 0
      },
      "text/plain": [
       "train_data/train4/part-00031.csv:   0%|          | 0/12 [00:00<?, ?it/s]"
      ]
     },
     "metadata": {},
     "output_type": "display_data"
    },
    {
     "data": {
      "application/vnd.jupyter.widget-view+json": {
       "model_id": "ff6ecae220e4439596c16299da2bea59",
       "version_major": 2,
       "version_minor": 0
      },
      "text/plain": [
       "train_data/train4/part-00032.csv:   0%|          | 0/12 [00:00<?, ?it/s]"
      ]
     },
     "metadata": {},
     "output_type": "display_data"
    },
    {
     "data": {
      "application/vnd.jupyter.widget-view+json": {
       "model_id": "db8adb95879e4ac099f8ecac80b2bb3b",
       "version_major": 2,
       "version_minor": 0
      },
      "text/plain": [
       "train_data/train4/part-00033.csv:   0%|          | 0/12 [00:00<?, ?it/s]"
      ]
     },
     "metadata": {},
     "output_type": "display_data"
    },
    {
     "data": {
      "application/vnd.jupyter.widget-view+json": {
       "model_id": "3b5c1d7d1f5a408ead9bf0c1cce752c1",
       "version_major": 2,
       "version_minor": 0
      },
      "text/plain": [
       "train_data/train4/part-00034.csv:   0%|          | 0/12 [00:00<?, ?it/s]"
      ]
     },
     "metadata": {},
     "output_type": "display_data"
    },
    {
     "data": {
      "application/vnd.jupyter.widget-view+json": {
       "model_id": "37a4ba7e522b4e3887d726835569bc61",
       "version_major": 2,
       "version_minor": 0
      },
      "text/plain": [
       "train_data/train4/part-00035.csv:   0%|          | 0/12 [00:00<?, ?it/s]"
      ]
     },
     "metadata": {},
     "output_type": "display_data"
    },
    {
     "data": {
      "application/vnd.jupyter.widget-view+json": {
       "model_id": "f3526f0e451f4e2e8ca32c523eb719c9",
       "version_major": 2,
       "version_minor": 0
      },
      "text/plain": [
       "train_data/train4/part-00036.csv:   0%|          | 0/12 [00:00<?, ?it/s]"
      ]
     },
     "metadata": {},
     "output_type": "display_data"
    },
    {
     "data": {
      "application/vnd.jupyter.widget-view+json": {
       "model_id": "4b86c752ae9f478d92de3fb700a92117",
       "version_major": 2,
       "version_minor": 0
      },
      "text/plain": [
       "train_data/train4/part-00037.csv:   0%|          | 0/12 [00:00<?, ?it/s]"
      ]
     },
     "metadata": {},
     "output_type": "display_data"
    },
    {
     "data": {
      "application/vnd.jupyter.widget-view+json": {
       "model_id": "7ea197c36f884bf7bf9b774adae87577",
       "version_major": 2,
       "version_minor": 0
      },
      "text/plain": [
       "train_data/train4/part-00038.csv:   0%|          | 0/12 [00:00<?, ?it/s]"
      ]
     },
     "metadata": {},
     "output_type": "display_data"
    },
    {
     "data": {
      "application/vnd.jupyter.widget-view+json": {
       "model_id": "35a0315c56f84e0792e7611b156b992d",
       "version_major": 2,
       "version_minor": 0
      },
      "text/plain": [
       "train_data/train4/part-00039.csv:   0%|          | 0/12 [00:00<?, ?it/s]"
      ]
     },
     "metadata": {},
     "output_type": "display_data"
    },
    {
     "data": {
      "application/vnd.jupyter.widget-view+json": {
       "model_id": "9308dd4ceac54243aab84e42274603cd",
       "version_major": 2,
       "version_minor": 0
      },
      "text/plain": [
       "train_data/train4/part-00040.csv:   0%|          | 0/12 [00:00<?, ?it/s]"
      ]
     },
     "metadata": {},
     "output_type": "display_data"
    },
    {
     "data": {
      "application/vnd.jupyter.widget-view+json": {
       "model_id": "a83d24c3c72c424c8a0d1f7769139a06",
       "version_major": 2,
       "version_minor": 0
      },
      "text/plain": [
       "train_data/train5/part-00041.csv:   0%|          | 0/12 [00:00<?, ?it/s]"
      ]
     },
     "metadata": {},
     "output_type": "display_data"
    },
    {
     "data": {
      "application/vnd.jupyter.widget-view+json": {
       "model_id": "6792328355ba48fe99ab9a630867ccb6",
       "version_major": 2,
       "version_minor": 0
      },
      "text/plain": [
       "train_data/train5/part-00042.csv:   0%|          | 0/12 [00:00<?, ?it/s]"
      ]
     },
     "metadata": {},
     "output_type": "display_data"
    },
    {
     "data": {
      "application/vnd.jupyter.widget-view+json": {
       "model_id": "0585117e24c9476b88f61dbd6e11c297",
       "version_major": 2,
       "version_minor": 0
      },
      "text/plain": [
       "train_data/train5/part-00043.csv:   0%|          | 0/12 [00:00<?, ?it/s]"
      ]
     },
     "metadata": {},
     "output_type": "display_data"
    },
    {
     "data": {
      "application/vnd.jupyter.widget-view+json": {
       "model_id": "07aa8d81f5374b6894d48847509ea51b",
       "version_major": 2,
       "version_minor": 0
      },
      "text/plain": [
       "train_data/train5/part-00044.csv:   0%|          | 0/12 [00:00<?, ?it/s]"
      ]
     },
     "metadata": {},
     "output_type": "display_data"
    },
    {
     "data": {
      "application/vnd.jupyter.widget-view+json": {
       "model_id": "c7a3429f92ca454fbd346a16ba115c01",
       "version_major": 2,
       "version_minor": 0
      },
      "text/plain": [
       "train_data/train5/part-00045.csv:   0%|          | 0/12 [00:00<?, ?it/s]"
      ]
     },
     "metadata": {},
     "output_type": "display_data"
    },
    {
     "data": {
      "application/vnd.jupyter.widget-view+json": {
       "model_id": "d3b12345f08c4cf292bf3e57b698ccdb",
       "version_major": 2,
       "version_minor": 0
      },
      "text/plain": [
       "train_data/train5/part-00046.csv:   0%|          | 0/12 [00:00<?, ?it/s]"
      ]
     },
     "metadata": {},
     "output_type": "display_data"
    },
    {
     "data": {
      "application/vnd.jupyter.widget-view+json": {
       "model_id": "9de53cea93bb4e0e81904129a45acaa6",
       "version_major": 2,
       "version_minor": 0
      },
      "text/plain": [
       "train_data/train5/part-00047.csv:   0%|          | 0/12 [00:00<?, ?it/s]"
      ]
     },
     "metadata": {},
     "output_type": "display_data"
    },
    {
     "data": {
      "application/vnd.jupyter.widget-view+json": {
       "model_id": "0471b137191a45fb827e1f0b3bfb206f",
       "version_major": 2,
       "version_minor": 0
      },
      "text/plain": [
       "train_data/train5/part-00048.csv:   0%|          | 0/12 [00:00<?, ?it/s]"
      ]
     },
     "metadata": {},
     "output_type": "display_data"
    },
    {
     "data": {
      "application/vnd.jupyter.widget-view+json": {
       "model_id": "26e8b74a2c014d0f9d462e6dc3380a94",
       "version_major": 2,
       "version_minor": 0
      },
      "text/plain": [
       "train_data/train5/part-00049.csv:   0%|          | 0/12 [00:00<?, ?it/s]"
      ]
     },
     "metadata": {},
     "output_type": "display_data"
    },
    {
     "data": {
      "application/vnd.jupyter.widget-view+json": {
       "model_id": "8e4da6ff44e74d4f91d92768f3e06cfb",
       "version_major": 2,
       "version_minor": 0
      },
      "text/plain": [
       "train_data/train5/part-00050.csv:   0%|          | 0/12 [00:00<?, ?it/s]"
      ]
     },
     "metadata": {},
     "output_type": "display_data"
    },
    {
     "data": {
      "application/vnd.jupyter.widget-view+json": {
       "model_id": "a19e52b987af49bd97cae05e4f9a55fd",
       "version_major": 2,
       "version_minor": 0
      },
      "text/plain": [
       "train_data/train6/part-00051.csv:   0%|          | 0/12 [00:00<?, ?it/s]"
      ]
     },
     "metadata": {},
     "output_type": "display_data"
    },
    {
     "data": {
      "application/vnd.jupyter.widget-view+json": {
       "model_id": "fa6b2a95ffc2481ea5ee41f5cf319063",
       "version_major": 2,
       "version_minor": 0
      },
      "text/plain": [
       "train_data/train6/part-00052.csv:   0%|          | 0/12 [00:00<?, ?it/s]"
      ]
     },
     "metadata": {},
     "output_type": "display_data"
    },
    {
     "data": {
      "application/vnd.jupyter.widget-view+json": {
       "model_id": "1f33fe68a02a4c0f90aa6d3e5d1a159a",
       "version_major": 2,
       "version_minor": 0
      },
      "text/plain": [
       "train_data/train6/part-00053.csv:   0%|          | 0/12 [00:00<?, ?it/s]"
      ]
     },
     "metadata": {},
     "output_type": "display_data"
    },
    {
     "data": {
      "application/vnd.jupyter.widget-view+json": {
       "model_id": "6eb84771594948a0a84442408ba294f7",
       "version_major": 2,
       "version_minor": 0
      },
      "text/plain": [
       "train_data/train6/part-00054.csv:   0%|          | 0/12 [00:00<?, ?it/s]"
      ]
     },
     "metadata": {},
     "output_type": "display_data"
    },
    {
     "data": {
      "application/vnd.jupyter.widget-view+json": {
       "model_id": "b09852c5e95c4a4e8d6003d8c070af24",
       "version_major": 2,
       "version_minor": 0
      },
      "text/plain": [
       "train_data/train6/part-00055.csv:   0%|          | 0/12 [00:00<?, ?it/s]"
      ]
     },
     "metadata": {},
     "output_type": "display_data"
    },
    {
     "data": {
      "application/vnd.jupyter.widget-view+json": {
       "model_id": "5da955454b7345a0952001782fee4026",
       "version_major": 2,
       "version_minor": 0
      },
      "text/plain": [
       "train_data/train6/part-00056.csv:   0%|          | 0/12 [00:00<?, ?it/s]"
      ]
     },
     "metadata": {},
     "output_type": "display_data"
    },
    {
     "data": {
      "application/vnd.jupyter.widget-view+json": {
       "model_id": "b2008ff9867a4421ba20b7b808688260",
       "version_major": 2,
       "version_minor": 0
      },
      "text/plain": [
       "train_data/train6/part-00057.csv:   0%|          | 0/12 [00:00<?, ?it/s]"
      ]
     },
     "metadata": {},
     "output_type": "display_data"
    },
    {
     "data": {
      "application/vnd.jupyter.widget-view+json": {
       "model_id": "d7e1f430dcbc4a29bc47bf167121804f",
       "version_major": 2,
       "version_minor": 0
      },
      "text/plain": [
       "train_data/train6/part-00058.csv:   0%|          | 0/12 [00:00<?, ?it/s]"
      ]
     },
     "metadata": {},
     "output_type": "display_data"
    },
    {
     "data": {
      "application/vnd.jupyter.widget-view+json": {
       "model_id": "c2f2da8f7a2846909e869d6cd72b2883",
       "version_major": 2,
       "version_minor": 0
      },
      "text/plain": [
       "train_data/train6/part-00059.csv:   0%|          | 0/12 [00:00<?, ?it/s]"
      ]
     },
     "metadata": {},
     "output_type": "display_data"
    },
    {
     "data": {
      "application/vnd.jupyter.widget-view+json": {
       "model_id": "985e338a2d98423b971d7a0b45399cbb",
       "version_major": 2,
       "version_minor": 0
      },
      "text/plain": [
       "train_data/train6/part-00060.csv:   0%|          | 0/12 [00:00<?, ?it/s]"
      ]
     },
     "metadata": {},
     "output_type": "display_data"
    },
    {
     "data": {
      "application/vnd.jupyter.widget-view+json": {
       "model_id": "9bb5c46319a94af7bcb32f68ba04c9e8",
       "version_major": 2,
       "version_minor": 0
      },
      "text/plain": [
       "train_data/train7/part-00061.csv:   0%|          | 0/12 [00:00<?, ?it/s]"
      ]
     },
     "metadata": {},
     "output_type": "display_data"
    },
    {
     "data": {
      "application/vnd.jupyter.widget-view+json": {
       "model_id": "c72e56a02f344bc08dc84b513a468be4",
       "version_major": 2,
       "version_minor": 0
      },
      "text/plain": [
       "train_data/train7/part-00062.csv:   0%|          | 0/12 [00:00<?, ?it/s]"
      ]
     },
     "metadata": {},
     "output_type": "display_data"
    },
    {
     "data": {
      "application/vnd.jupyter.widget-view+json": {
       "model_id": "d21594a7eb76423c99d8adc6c45ce2b1",
       "version_major": 2,
       "version_minor": 0
      },
      "text/plain": [
       "train_data/train7/part-00063.csv:   0%|          | 0/12 [00:00<?, ?it/s]"
      ]
     },
     "metadata": {},
     "output_type": "display_data"
    },
    {
     "data": {
      "application/vnd.jupyter.widget-view+json": {
       "model_id": "aaf3adf005724491a6ee2b2dcfb535a9",
       "version_major": 2,
       "version_minor": 0
      },
      "text/plain": [
       "train_data/train7/part-00064.csv:   0%|          | 0/12 [00:00<?, ?it/s]"
      ]
     },
     "metadata": {},
     "output_type": "display_data"
    },
    {
     "data": {
      "application/vnd.jupyter.widget-view+json": {
       "model_id": "3a2da48b279e4c99a59a4f5f921aa2a1",
       "version_major": 2,
       "version_minor": 0
      },
      "text/plain": [
       "train_data/train7/part-00065.csv:   0%|          | 0/12 [00:00<?, ?it/s]"
      ]
     },
     "metadata": {},
     "output_type": "display_data"
    },
    {
     "data": {
      "application/vnd.jupyter.widget-view+json": {
       "model_id": "07d16fb0f6fa4487815757f21e3e7aae",
       "version_major": 2,
       "version_minor": 0
      },
      "text/plain": [
       "train_data/train7/part-00066.csv:   0%|          | 0/12 [00:00<?, ?it/s]"
      ]
     },
     "metadata": {},
     "output_type": "display_data"
    },
    {
     "data": {
      "application/vnd.jupyter.widget-view+json": {
       "model_id": "47a06b9cfd4c4b89acff9aaad7729c72",
       "version_major": 2,
       "version_minor": 0
      },
      "text/plain": [
       "train_data/train7/part-00067.csv:   0%|          | 0/12 [00:00<?, ?it/s]"
      ]
     },
     "metadata": {},
     "output_type": "display_data"
    },
    {
     "data": {
      "application/vnd.jupyter.widget-view+json": {
       "model_id": "511bdb92ea474bdb85cf793732440d38",
       "version_major": 2,
       "version_minor": 0
      },
      "text/plain": [
       "train_data/train7/part-00068.csv:   0%|          | 0/12 [00:00<?, ?it/s]"
      ]
     },
     "metadata": {},
     "output_type": "display_data"
    }
   ],
   "source": [
    "def normalize_file(encoders, filepath):\n",
    "    main_dir = os.path.join('.', 'normalized_train_data')\n",
    "    if not os.path.exists(main_dir):\n",
    "        os.mkdir(main_dir)\n",
    "    \n",
    "    df = pd.read_csv(filepath)\n",
    "\n",
    "    for column, encoder in tqdm(encoders, desc=filepath):\n",
    "        df[column] = encoder.transform(df[column].to_list())\n",
    "    \n",
    "    directory_path, filename = os.path.split(filepath)\n",
    "    _, parent_dir = os.path.split(directory_path)\n",
    "    parent_dir = os.path.join('.', 'normalized_train_data', parent_dir)\n",
    "    if not os.path.exists(parent_dir):\n",
    "        os.mkdir(parent_dir)\n",
    "    df.to_csv(os.path.join(parent_dir, filename))\n",
    "\n",
    "def load_encoders(features):\n",
    "    column_encoders = []\n",
    "    for feature in features:\n",
    "        with open(f'./label_encoders/{feature}.pickle', 'rb') as handle:\n",
    "            encoder = pickle.load(handle)\n",
    "        column_encoders.append((feature, encoder))\n",
    "    return column_encoders\n",
    "\n",
    "features_string_categories = [\n",
    "    'user_id_hash',\n",
    "    'target_id_hash',\n",
    "    'syndicator_id_hash',\n",
    "    'campaign_id_hash',\n",
    "    'target_item_taxonomy',\n",
    "    'placement_id_hash',\n",
    "    'publisher_id_hash',\n",
    "    'source_id_hash',\n",
    "    'source_item_type',\n",
    "    'browser_platform',\n",
    "    'country_code',\n",
    "    'region',\n",
    "]\n",
    "column_encoders = load_encoders(features_string_categories)\n",
    "for filepaths in data_filepaths[10:]:\n",
    "    normalize_file(column_encoders, filepaths)"
   ]
  },
  {
   "cell_type": "code",
   "execution_count": 22,
   "metadata": {},
   "outputs": [],
   "source": [
    "df_submission = pd.read_csv('./submission_example.csv')\n",
    "df_test = pd.read_csv('./test_file.csv')"
   ]
  },
  {
   "cell_type": "markdown",
   "metadata": {},
   "source": [
    "# Test set deviations from training data"
   ]
  },
  {
   "cell_type": "code",
   "execution_count": 24,
   "metadata": {},
   "outputs": [
    {
     "name": "stdout",
     "output_type": "stream",
     "text": [
      "new target_id_hash 1941 / 15303\n",
      "new syndicator_id_hash 37 / 1604\n",
      "new campaign_id_hash 659 / 7517\n",
      "new target_item_taxonomy 0 / 61\n",
      "new placement_id_hash 1 / 1028\n",
      "new publisher_id_hash 0 / 3\n",
      "new source_id_hash 7963 / 16956\n",
      "new source_item_type 0 / 5\n",
      "new browser_platform 0 / 4\n",
      "new country_code 0 / 213\n",
      "new region 2 / 942\n"
     ]
    }
   ],
   "source": [
    "\n",
    "def report_cold():\n",
    "    category_features = [\n",
    "        'target_id_hash',\n",
    "        'syndicator_id_hash',\n",
    "        'campaign_id_hash',\n",
    "        'target_item_taxonomy',\n",
    "        'placement_id_hash',\n",
    "        'publisher_id_hash',\n",
    "        'source_id_hash',\n",
    "        'source_item_type',\n",
    "        'browser_platform',\n",
    "        'country_code',\n",
    "        'region',\n",
    "    ]\n",
    "    for feature in category_features:\n",
    "        train_data_unique_vals = pd.read_csv(f'./normalized_data/{feature}.csv')[feature]\n",
    "        f = pd.Series(df_test[feature].unique())\n",
    "        cold_count = (~f.isin(train_data_unique_vals)).sum()\n",
    "        print(f'new {feature}', f'{cold_count} / {len(f.index)}')\n",
    "report_cold()"
   ]
  },
  {
   "cell_type": "markdown",
   "metadata": {},
   "source": [
    "# EDA"
   ]
  },
  {
   "cell_type": "code",
   "execution_count": 2,
   "metadata": {},
   "outputs": [
    {
     "data": {
      "application/vnd.jupyter.widget-view+json": {
       "model_id": "a8a0f40c325e49289a56a8dcf476e691",
       "version_major": 2,
       "version_minor": 0
      },
      "text/plain": [
       "  0%|          | 0/69 [00:00<?, ?it/s]"
      ]
     },
     "metadata": {},
     "output_type": "display_data"
    }
   ],
   "source": [
    "from pprint import pprint\n",
    "def read_all_data():\n",
    "    paths = []\n",
    "    dirs = os.listdir('normalized_train_data')\n",
    "    for dir in dirs:\n",
    "        filenames = os.listdir(f'normalized_train_data/{dir}')\n",
    "        paths += [f'normalized_train_data/{dir}/{filename}' for filename in filenames]\n",
    "    paths = sorted(paths)\n",
    "    dfs = []\n",
    "    for filepath in tqdm(paths, desc='Loading data'):\n",
    "        df = pd.read_csv(filepath)\n",
    "        df.drop(columns=['Unnamed: 0'], inplace=True)\n",
    "        dfs.append(df)\n",
    "    dfs = pd.concat(dfs)\n",
    "    return dfs\n",
    "data = read_all_data()"
   ]
  },
  {
   "cell_type": "code",
   "execution_count": 8,
   "metadata": {},
   "outputs": [],
   "source": [
    "max_timestamp = data['page_view_start_time'].max()\n",
    "three_days_ago = (datetime.datetime.fromtimestamp(max_timestamp/1000) - datetime.timedelta(days=3)).replace(hour=0, minute=0, second=0, microsecond=0)\n",
    "three_days_ago = int(datetime.datetime.timestamp(three_days_ago) * 1000)"
   ]
  },
  {
   "cell_type": "code",
   "execution_count": 10,
   "metadata": {},
   "outputs": [],
   "source": [
    "last_three_days = data[data['page_view_start_time'] >= three_days_ago]\n",
    "train_set = data[data['page_view_start_time'] < three_days_ago]"
   ]
  },
  {
   "cell_type": "code",
   "execution_count": 11,
   "metadata": {},
   "outputs": [],
   "source": [
    "not_cold_users_mask = last_three_days['user_id_hash'].isin(train_set['user_id_hash'])"
   ]
  },
  {
   "cell_type": "code",
   "execution_count": 14,
   "metadata": {},
   "outputs": [],
   "source": [
    "last_three_days_hot_users = last_three_days[not_cold_users_mask]\n",
    "last_three_days_cold_users = last_three_days[~not_cold_users_mask]"
   ]
  },
  {
   "cell_type": "code",
   "execution_count": 19,
   "metadata": {},
   "outputs": [],
   "source": [
    "features = [\n",
    "    'page_view_start_time', 'user_id_hash', 'target_id_hash',\n",
    "    'syndicator_id_hash', 'campaign_id_hash', 'empiric_calibrated_recs',\n",
    "    'empiric_clicks', 'target_item_taxonomy', 'placement_id_hash',\n",
    "    'user_recs', 'user_clicks', 'user_target_recs', 'publisher_id_hash',\n",
    "    'source_id_hash', 'source_item_type', 'browser_platform', 'os_family',\n",
    "    'country_code', 'region', 'day_of_week', 'time_of_day', 'gmt_offset'\n",
    "]"
   ]
  },
  {
   "cell_type": "code",
   "execution_count": 20,
   "metadata": {},
   "outputs": [],
   "source": [
    "last_three_days_hot_users_features = last_three_days_hot_users[features]\n",
    "last_three_days_hot_users_ground_truth = last_three_days_hot_users['is_click']\n",
    "last_three_days_cold_users_features = last_three_days_cold_users[features]\n",
    "last_three_days_cold_users_ground_truth = last_three_days_cold_users['is_click']"
   ]
  },
  {
   "cell_type": "code",
   "execution_count": 21,
   "metadata": {},
   "outputs": [
    {
     "data": {
      "text/html": [
       "<div>\n",
       "<style scoped>\n",
       "    .dataframe tbody tr th:only-of-type {\n",
       "        vertical-align: middle;\n",
       "    }\n",
       "\n",
       "    .dataframe tbody tr th {\n",
       "        vertical-align: top;\n",
       "    }\n",
       "\n",
       "    .dataframe thead th {\n",
       "        text-align: right;\n",
       "    }\n",
       "</style>\n",
       "<table border=\"1\" class=\"dataframe\">\n",
       "  <thead>\n",
       "    <tr style=\"text-align: right;\">\n",
       "      <th></th>\n",
       "      <th>page_view_start_time</th>\n",
       "      <th>user_id_hash</th>\n",
       "      <th>target_id_hash</th>\n",
       "      <th>syndicator_id_hash</th>\n",
       "      <th>campaign_id_hash</th>\n",
       "      <th>empiric_calibrated_recs</th>\n",
       "      <th>empiric_clicks</th>\n",
       "      <th>target_item_taxonomy</th>\n",
       "      <th>placement_id_hash</th>\n",
       "      <th>user_recs</th>\n",
       "      <th>...</th>\n",
       "      <th>publisher_id_hash</th>\n",
       "      <th>source_id_hash</th>\n",
       "      <th>source_item_type</th>\n",
       "      <th>browser_platform</th>\n",
       "      <th>os_family</th>\n",
       "      <th>country_code</th>\n",
       "      <th>region</th>\n",
       "      <th>day_of_week</th>\n",
       "      <th>time_of_day</th>\n",
       "      <th>gmt_offset</th>\n",
       "    </tr>\n",
       "  </thead>\n",
       "  <tbody>\n",
       "    <tr>\n",
       "      <th>4</th>\n",
       "      <td>1587072791703</td>\n",
       "      <td>11463395</td>\n",
       "      <td>79556</td>\n",
       "      <td>527</td>\n",
       "      <td>14201</td>\n",
       "      <td>4976.14800</td>\n",
       "      <td>1974.0</td>\n",
       "      <td>1</td>\n",
       "      <td>616</td>\n",
       "      <td>825.0</td>\n",
       "      <td>...</td>\n",
       "      <td>0</td>\n",
       "      <td>97436</td>\n",
       "      <td>3</td>\n",
       "      <td>0</td>\n",
       "      <td>6</td>\n",
       "      <td>388</td>\n",
       "      <td>1008</td>\n",
       "      <td>4</td>\n",
       "      <td>15</td>\n",
       "      <td>-600</td>\n",
       "    </tr>\n",
       "    <tr>\n",
       "      <th>15</th>\n",
       "      <td>1587152706971</td>\n",
       "      <td>7290697</td>\n",
       "      <td>77904</td>\n",
       "      <td>694</td>\n",
       "      <td>3413</td>\n",
       "      <td>346.61606</td>\n",
       "      <td>1761.0</td>\n",
       "      <td>8</td>\n",
       "      <td>360</td>\n",
       "      <td>417.0</td>\n",
       "      <td>...</td>\n",
       "      <td>2</td>\n",
       "      <td>206755</td>\n",
       "      <td>1</td>\n",
       "      <td>0</td>\n",
       "      <td>6</td>\n",
       "      <td>388</td>\n",
       "      <td>1531</td>\n",
       "      <td>5</td>\n",
       "      <td>15</td>\n",
       "      <td>-400</td>\n",
       "    </tr>\n",
       "    <tr>\n",
       "      <th>19</th>\n",
       "      <td>1587136150512</td>\n",
       "      <td>176706</td>\n",
       "      <td>94933</td>\n",
       "      <td>81</td>\n",
       "      <td>15872</td>\n",
       "      <td>11604.18400</td>\n",
       "      <td>8411.0</td>\n",
       "      <td>29</td>\n",
       "      <td>387</td>\n",
       "      <td>161.0</td>\n",
       "      <td>...</td>\n",
       "      <td>0</td>\n",
       "      <td>158778</td>\n",
       "      <td>3</td>\n",
       "      <td>0</td>\n",
       "      <td>6</td>\n",
       "      <td>388</td>\n",
       "      <td>1553</td>\n",
       "      <td>5</td>\n",
       "      <td>11</td>\n",
       "      <td>-400</td>\n",
       "    </tr>\n",
       "    <tr>\n",
       "      <th>23</th>\n",
       "      <td>1587149454878</td>\n",
       "      <td>13089853</td>\n",
       "      <td>9127</td>\n",
       "      <td>2291</td>\n",
       "      <td>12917</td>\n",
       "      <td>5518.31250</td>\n",
       "      <td>7329.0</td>\n",
       "      <td>1</td>\n",
       "      <td>122</td>\n",
       "      <td>516.0</td>\n",
       "      <td>...</td>\n",
       "      <td>2</td>\n",
       "      <td>206755</td>\n",
       "      <td>1</td>\n",
       "      <td>0</td>\n",
       "      <td>6</td>\n",
       "      <td>388</td>\n",
       "      <td>1177</td>\n",
       "      <td>5</td>\n",
       "      <td>8</td>\n",
       "      <td>-1000</td>\n",
       "    </tr>\n",
       "    <tr>\n",
       "      <th>31</th>\n",
       "      <td>1587257696247</td>\n",
       "      <td>9961237</td>\n",
       "      <td>4971</td>\n",
       "      <td>1131</td>\n",
       "      <td>22051</td>\n",
       "      <td>974.82690</td>\n",
       "      <td>3868.0</td>\n",
       "      <td>12</td>\n",
       "      <td>814</td>\n",
       "      <td>549.0</td>\n",
       "      <td>...</td>\n",
       "      <td>1</td>\n",
       "      <td>78840</td>\n",
       "      <td>1</td>\n",
       "      <td>0</td>\n",
       "      <td>6</td>\n",
       "      <td>388</td>\n",
       "      <td>1229</td>\n",
       "      <td>6</td>\n",
       "      <td>19</td>\n",
       "      <td>-500</td>\n",
       "    </tr>\n",
       "  </tbody>\n",
       "</table>\n",
       "<p>5 rows × 22 columns</p>\n",
       "</div>"
      ],
      "text/plain": [
       "    page_view_start_time  user_id_hash  target_id_hash  syndicator_id_hash  \\\n",
       "4          1587072791703      11463395           79556                 527   \n",
       "15         1587152706971       7290697           77904                 694   \n",
       "19         1587136150512        176706           94933                  81   \n",
       "23         1587149454878      13089853            9127                2291   \n",
       "31         1587257696247       9961237            4971                1131   \n",
       "\n",
       "    campaign_id_hash  empiric_calibrated_recs  empiric_clicks  \\\n",
       "4              14201               4976.14800          1974.0   \n",
       "15              3413                346.61606          1761.0   \n",
       "19             15872              11604.18400          8411.0   \n",
       "23             12917               5518.31250          7329.0   \n",
       "31             22051                974.82690          3868.0   \n",
       "\n",
       "    target_item_taxonomy  placement_id_hash  user_recs  ...  \\\n",
       "4                      1                616      825.0  ...   \n",
       "15                     8                360      417.0  ...   \n",
       "19                    29                387      161.0  ...   \n",
       "23                     1                122      516.0  ...   \n",
       "31                    12                814      549.0  ...   \n",
       "\n",
       "    publisher_id_hash  source_id_hash  source_item_type  browser_platform  \\\n",
       "4                   0           97436                 3                 0   \n",
       "15                  2          206755                 1                 0   \n",
       "19                  0          158778                 3                 0   \n",
       "23                  2          206755                 1                 0   \n",
       "31                  1           78840                 1                 0   \n",
       "\n",
       "    os_family  country_code  region  day_of_week  time_of_day  gmt_offset  \n",
       "4           6           388    1008            4           15        -600  \n",
       "15          6           388    1531            5           15        -400  \n",
       "19          6           388    1553            5           11        -400  \n",
       "23          6           388    1177            5            8       -1000  \n",
       "31          6           388    1229            6           19        -500  \n",
       "\n",
       "[5 rows x 22 columns]"
      ]
     },
     "execution_count": 21,
     "metadata": {},
     "output_type": "execute_result"
    }
   ],
   "source": [
    "last_three_days_hot_users_features.head()"
   ]
  },
  {
   "cell_type": "code",
   "execution_count": 30,
   "metadata": {},
   "outputs": [
    {
     "data": {
      "text/plain": [
       "datetime.datetime(2020, 4, 17, 0, 33, 11, 703000)"
      ]
     },
     "execution_count": 30,
     "metadata": {},
     "output_type": "execute_result"
    }
   ],
   "source": [
    "datetime.datetime.fromtimestamp(1587072791703/1000)"
   ]
  },
  {
   "cell_type": "code",
   "execution_count": 37,
   "metadata": {},
   "outputs": [
    {
     "data": {
      "text/plain": [
       "[-11.0,\n",
       " -10.0,\n",
       " -9.0,\n",
       " -8.0,\n",
       " -7.0,\n",
       " -6.0,\n",
       " -5.0,\n",
       " -4.0,\n",
       " -3.0,\n",
       " -2.3,\n",
       " -2.0,\n",
       " -1.0,\n",
       " -0.01,\n",
       " 0.0,\n",
       " 1.0,\n",
       " 2.0,\n",
       " 3.0,\n",
       " 3.3,\n",
       " 4.0,\n",
       " 4.3,\n",
       " 5.0,\n",
       " 5.3,\n",
       " 5.45,\n",
       " 6.0,\n",
       " 6.3,\n",
       " 7.0,\n",
       " 8.0,\n",
       " 9.0,\n",
       " 9.3,\n",
       " 10.0,\n",
       " 10.3,\n",
       " 11.0,\n",
       " 12.0,\n",
       " 13.0,\n",
       " 14.0,\n",
       " 99.99]"
      ]
     },
     "execution_count": 37,
     "metadata": {},
     "output_type": "execute_result"
    }
   ],
   "source": [
    "sorted(gmt / 100)"
   ]
  },
  {
   "cell_type": "code",
   "execution_count": 48,
   "metadata": {},
   "outputs": [
    {
     "data": {
      "text/plain": [
       "(1587340800179, 1587443159283)"
      ]
     },
     "execution_count": 48,
     "metadata": {},
     "output_type": "execute_result"
    }
   ],
   "source": [
    "df_test['page_view_start_time'].min(), df_test['page_view_start_time'].max()"
   ]
  },
  {
   "cell_type": "code",
   "execution_count": 49,
   "metadata": {},
   "outputs": [
    {
     "data": {
      "text/plain": [
       "('2020-04-20 03:00:00', '2020-04-21 07:25:59')"
      ]
     },
     "execution_count": 49,
     "metadata": {},
     "output_type": "execute_result"
    }
   ],
   "source": [
    "datetime.datetime.fromtimestamp(1587340800179/1000).strftime('%Y-%m-%d %H:%M:%S'), datetime.datetime.fromtimestamp(1587443159283/1000).strftime('%Y-%m-%d %H:%M:%S')"
   ]
  },
  {
   "cell_type": "code",
   "execution_count": 50,
   "metadata": {},
   "outputs": [
    {
     "data": {
      "text/plain": [
       "(1586131200051, 1587350802882)"
      ]
     },
     "execution_count": 50,
     "metadata": {},
     "output_type": "execute_result"
    }
   ],
   "source": [
    "data['page_view_start_time'].min(), data['page_view_start_time'].max()"
   ]
  },
  {
   "cell_type": "code",
   "execution_count": 51,
   "metadata": {},
   "outputs": [
    {
     "data": {
      "text/plain": [
       "('2020-04-06 03:00:00', '2020-04-20 05:46:42')"
      ]
     },
     "execution_count": 51,
     "metadata": {},
     "output_type": "execute_result"
    }
   ],
   "source": [
    "datetime.datetime.fromtimestamp(1586131200051/1000).strftime('%Y-%m-%d %H:%M:%S'), datetime.datetime.fromtimestamp(1587350802882/1000).strftime('%Y-%m-%d %H:%M:%S')"
   ]
  },
  {
   "cell_type": "code",
   "execution_count": null,
   "metadata": {},
   "outputs": [],
   "source": []
  }
 ],
 "metadata": {
  "kernelspec": {
   "display_name": "research",
   "language": "python",
   "name": "python3"
  },
  "language_info": {
   "codemirror_mode": {
    "name": "ipython",
    "version": 3
   },
   "file_extension": ".py",
   "mimetype": "text/x-python",
   "name": "python",
   "nbconvert_exporter": "python",
   "pygments_lexer": "ipython3",
   "version": "3.11.4"
  }
 },
 "nbformat": 4,
 "nbformat_minor": 2
}
